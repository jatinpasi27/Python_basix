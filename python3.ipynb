{
 "cells": [
  {
   "cell_type": "markdown",
   "id": "963701ce-b0ad-400d-b402-5aa780b444f3",
   "metadata": {},
   "source": [
    "# Strings"
   ]
  },
  {
   "cell_type": "code",
   "execution_count": 2,
   "id": "7a5cee3c-7783-4519-8c6f-339f64c87247",
   "metadata": {},
   "outputs": [
    {
     "name": "stdout",
     "output_type": "stream",
     "text": [
      "Hello hello hello\n"
     ]
    }
   ],
   "source": [
    "my_str = 'Hello'\n",
    "my_str2 = \"hello\"\n",
    "my_str3 = \"\"\"hello\"\"\"\n",
    "print(my_str,my_str2,my_str3)"
   ]
  },
  {
   "cell_type": "code",
   "execution_count": 3,
   "id": "26e6d752-b566-4113-81cd-2cc22e02daaa",
   "metadata": {},
   "outputs": [
    {
     "name": "stdin",
     "output_type": "stream",
     "text": [
      "Enter your name: jatin asip\n"
     ]
    },
    {
     "name": "stdout",
     "output_type": "stream",
     "text": [
      "jatin asip\n"
     ]
    }
   ],
   "source": [
    "my_str = input(\"Enter your name:\")\n",
    "print(my_str)"
   ]
  },
  {
   "cell_type": "markdown",
   "id": "4833edd8-70a7-4854-8318-a1a2ac0ab7f2",
   "metadata": {},
   "source": [
    "# string slicing"
   ]
  },
  {
   "cell_type": "code",
   "execution_count": 20,
   "id": "a838da1d-05f8-4e5d-8626-b4869dc46939",
   "metadata": {},
   "outputs": [
    {
     "name": "stdout",
     "output_type": "stream",
     "text": [
      "o ed o\n",
      " to explore python\n",
      "hello, rea\n",
      "!!nohtyp erolpxe ot ydaer ,olleh\n",
      "['hello,', 'ready', 'to', 'explore', 'python!!']\n",
      "['hell', ', ready t', ' expl', 're pyth', 'n!!']\n",
      "['he', '', 'o, ready to exp', 'ore python!!']\n"
     ]
    }
   ],
   "source": [
    "my_str = \"hello, ready to explore python!!\"\n",
    "#[starting pnt : ending : step]\n",
    "print(my_str[4:16:2])# o ed o\n",
    "print(my_str[12:30])# to explore python\n",
    "print(my_str[:10])#0-9 index will execute.\n",
    "print(my_str[::-1])\n",
    "print(my_str.split(' '))\n",
    "print(my_str.split('o'))\n",
    "\n",
    "print(my_str.split('l'))"
   ]
  },
  {
   "cell_type": "markdown",
   "id": "6aa74f24-9cb5-454b-bad4-d5c9638cb43b",
   "metadata": {},
   "source": [
    "WAP to count the number of words in a given string"
   ]
  },
  {
   "cell_type": "code",
   "execution_count": 36,
   "id": "24244f49-90b5-4b37-9e1e-77b44b6fd217",
   "metadata": {},
   "outputs": [
    {
     "name": "stdout",
     "output_type": "stream",
     "text": [
      "The number of words are:4\n"
     ]
    }
   ],
   "source": [
    "my_str = \"how are you jatin\"\n",
    "space_count = 1\n",
    "for i in my_str:\n",
    "    if (i== \" \"):\n",
    "     space_count +=1  \n",
    "print(f\"The number of words are:{space_count}\")\n"
   ]
  },
  {
   "cell_type": "code",
   "execution_count": 39,
   "id": "33fcbcc9-c39c-4d36-aeb5-96a5688cedd5",
   "metadata": {},
   "outputs": [
    {
     "name": "stdout",
     "output_type": "stream",
     "text": [
      "The number of words are:5\n"
     ]
    }
   ],
   "source": [
    "# my_str = \"how are you jatin\"\n",
    "# my_str2 = my_str.split(' ')\n",
    "# my_set = set(my_str2)\n",
    "# space_count = 1\n",
    "# for i in my_set:\n",
    "    \n",
    "#      space_count +=1  \n",
    "# print(f\"The number of words are:{space_count}\")\n"
   ]
  },
  {
   "cell_type": "markdown",
   "id": "85d2da3b-7dfa-4d27-9e29-1eceb07db5da",
   "metadata": {},
   "source": [
    "2. WAP to reverse a given string withoyut using slicing or inbuilt techniques.\n",
    "3. METHOD =1"
   ]
  },
  {
   "cell_type": "code",
   "execution_count": 55,
   "id": "5ee0ecb3-99a2-4113-8d9c-ef1fa5cac624",
   "metadata": {},
   "outputs": [
    {
     "name": "stdin",
     "output_type": "stream",
     "text": [
      "Enter the string: Jatin\n"
     ]
    },
    {
     "name": "stdout",
     "output_type": "stream",
     "text": [
      "<class 'str'>\n",
      "nitaJ\n",
      "<class 'str'>\n",
      "DONE\n"
     ]
    }
   ],
   "source": [
    "my_str = input(\"Enter the string:\")\n",
    "n = len(my_str)\n",
    "print(type(my_str))\n",
    "rev_str = \"\"\n",
    "for i in range(n-1,-1,-1):\n",
    "    rev_str += my_str[i]\n",
    "print(rev_str)   \n",
    "print(type(rev_str))   \n",
    "\n",
    "print(\"DONE\")\n",
    "    "
   ]
  },
  {
   "cell_type": "code",
   "execution_count": 1,
   "id": "3b053ace-526e-4dcc-8b37-db0bc72d5270",
   "metadata": {},
   "outputs": [
    {
     "name": "stdout",
     "output_type": "stream",
     "text": [
      "['n', 'o', 'h', 't', 'y', 'P']\n"
     ]
    }
   ],
   "source": [
    "my_str = \"Python\"\n",
    "my_list = list(my_str)\n",
    "i = 0\n",
    "j = len(my_str)-1\n",
    "while(i<=j):\n",
    "   my_list[i],my_list[j] = my_list[j],my_list[i]\n",
    "   i+=1\n",
    "   j-=1\n",
    "# rev_str = str(my_list)\n",
    "# print(rev_str)\n",
    "print(str(my_list))\n",
    "    "
   ]
  },
  {
   "cell_type": "markdown",
   "id": "531d3a2c-e888-40c4-870a-4036e9a34aab",
   "metadata": {},
   "source": [
    "WAP to count the number of duplicates in a given string.\n"
   ]
  },
  {
   "cell_type": "code",
   "execution_count": 72,
   "id": "3d997c26-0b89-4c37-b36f-8423bc193bfc",
   "metadata": {},
   "outputs": [
    {
     "name": "stdout",
     "output_type": "stream",
     "text": [
      "No. of duplicates:12\n"
     ]
    }
   ],
   "source": [
    "str1 = \"Python Programming\"\n",
    "count = 0\n",
    "for j in str1:\n",
    "    for i in str1:\n",
    "            if(j==i):\n",
    "              count+=1\n",
    "print(f\"No. of duplicates:{count-len(str1)}\")"
   ]
  },
  {
   "cell_type": "code",
   "execution_count": 74,
   "id": "c80c4928-91f4-4115-8a0c-9d746b3f05ef",
   "metadata": {},
   "outputs": [
    {
     "name": "stdout",
     "output_type": "stream",
     "text": [
      "The no. of duplicates are:12\n"
     ]
    }
   ],
   "source": [
    "str1 = \"Python Programming\"\n",
    "count = 0\n",
    "for i in range(0,len(str1)):\n",
    "    for j in range(0,len(str1)):\n",
    "        if(i==j):\n",
    "            continue\n",
    "        elif(str1[i]==str1[j]):\n",
    "            count +=1\n",
    "print(f\"The no. of duplicates are:{count}\")"
   ]
  },
  {
   "cell_type": "code",
   "execution_count": 75,
   "id": "7b8c3495-f760-4c64-9a9d-117dedcc2aff",
   "metadata": {},
   "outputs": [
    {
     "name": "stdout",
     "output_type": "stream",
     "text": [
      "6\n"
     ]
    }
   ],
   "source": [
    "str1 = \"python programming\"\n",
    "count = 0\n",
    "for i in range(0,len(str1)):\n",
    "    for j in range(i+1,len(str1)):\n",
    "        if (str1[i]==str1[j]):\n",
    "            count +=1\n",
    "print(count)"
   ]
  },
  {
   "cell_type": "markdown",
   "id": "865b75d6-339b-498b-b8ee-1a18644351f9",
   "metadata": {},
   "source": [
    "QUESTIONS:-\n",
    "1. WAP to check a string is palindrome or not\n",
    "2. WAP to check a string is anagram or not."
   ]
  },
  {
   "cell_type": "code",
   "execution_count": 76,
   "id": "2274f380-7ec1-470d-aed3-4ff35ab680eb",
   "metadata": {},
   "outputs": [
    {
     "name": "stdout",
     "output_type": "stream",
     "text": [
      "Variable      Type    Data/Info\n",
      "-------------------------------\n",
      "a             int     5\n",
      "count         int     6\n",
      "i             int     17\n",
      "j             int     17\n",
      "list1         list    n=8\n",
      "my_list       list    n=6\n",
      "my_set        set     {'you', 'jatin', 'how', 'are'}\n",
      "my_str        str     Python\n",
      "my_str2       list    n=4\n",
      "my_str3       str     hello\n",
      "n             int     5\n",
      "rev_str       str     ['n', 'o', 'h', 't', 'y', 'P']\n",
      "space_count   int     5\n",
      "str1          str     python programming\n"
     ]
    }
   ],
   "source": [
    "%whos"
   ]
  },
  {
   "cell_type": "markdown",
   "id": "74fff06c-f7cc-4342-b71b-cf164180e30f",
   "metadata": {},
   "source": [
    "* Palindrome number"
   ]
  },
  {
   "cell_type": "code",
   "execution_count": 2,
   "id": "9923edf7-5af1-4866-8a3d-01cce196d481",
   "metadata": {},
   "outputs": [
    {
     "name": "stdin",
     "output_type": "stream",
     "text": [
      "Enter the string: madam\n"
     ]
    },
    {
     "name": "stdout",
     "output_type": "stream",
     "text": [
      "The string is Palindrome.\n"
     ]
    }
   ],
   "source": [
    "str = input(\"Enter the string:\")\n",
    "rev_str = \"\"\n",
    "n = len(str)\n",
    "for i in range(n-1,-1,-1):\n",
    "    rev_str += str[i]\n",
    "if(rev_str == str):\n",
    "    print(f\"The string is Palindrome.\")\n",
    "else:\n",
    "    print(f\"The string is not Palindrome.\")"
   ]
  },
  {
   "cell_type": "markdown",
   "id": "33e47d6d-7dad-40dc-9a9a-8d667f66d23c",
   "metadata": {},
   "source": [
    "# Lists"
   ]
  },
  {
   "cell_type": "code",
   "execution_count": 4,
   "id": "4c03ac6c-568c-4c95-9e0f-d32772d1b79d",
   "metadata": {},
   "outputs": [
    {
     "name": "stdout",
     "output_type": "stream",
     "text": [
      "[19, 10.5, False, 'python', (4+3j), 45]\n",
      "<class 'list'>\n"
     ]
    }
   ],
   "source": [
    "x = [19,10.5,False,\"python\",(4+3j)]\n",
    "x.append(45)\n",
    "print(x)\n",
    "print(type(x))"
   ]
  },
  {
   "cell_type": "markdown",
   "id": "2adc116c-ff94-4ec6-84c4-0e603dbfef50",
   "metadata": {},
   "source": [
    "Functions in List."
   ]
  },
  {
   "cell_type": "code",
   "execution_count": 17,
   "id": "981df78a-be6f-4077-b6ed-11ab07d4e706",
   "metadata": {},
   "outputs": [
    {
     "name": "stdout",
     "output_type": "stream",
     "text": [
      "Before append function: [10, 20, 30]\n",
      "After append function. [10, 20, 30, 40, 50]\n",
      "After insert function. [10, 20, 60, 30, 40, 50]\n",
      "After using extend function. [10, 20, 60, 30, 40, 50, 70, 80, 90]\n"
     ]
    }
   ],
   "source": [
    "#ADDING ELEMENTS IN LIST USING THREE DIFFERENT FUNCTIONS.\n",
    "lst = [10,20,30]\n",
    "#using append function--> add the element at the end of list.\n",
    "print(\"Before append function:\",lst)\n",
    "lst.append(40)\n",
    "lst.append(50)\n",
    "print(\"After append function.\",lst) \n",
    "#using insert function--> add the element at the given position.\n",
    "lst.insert(2,60)\n",
    "print(\"After insert function.\",lst)\n",
    "#using extend function-->adds iterables\n",
    "lst1 = [70,80,90]\n",
    "lst.extend(lst1)\n",
    "print(\"After using extend function.\",lst)"
   ]
  },
  {
   "cell_type": "markdown",
   "id": "f75e5908-8cb1-4089-87dd-8ed496bf52fc",
   "metadata": {},
   "source": [
    "Functions to remove the data from list"
   ]
  },
  {
   "cell_type": "code",
   "execution_count": 27,
   "id": "bd94fe17-f2ec-4333-88ec-f2af2e944fc2",
   "metadata": {},
   "outputs": [
    {
     "name": "stdout",
     "output_type": "stream",
     "text": [
      "Before delete function: [10, 20, 30, 40, 50, 50, 60, 70]\n",
      "After remove function: [10, 20, 30, 40, 50, 60, 70]\n",
      "After pop function: [10, 20, 30, 40, 50, 60]\n",
      "List after clear function []\n"
     ]
    }
   ],
   "source": [
    "lst = [10,20,30,40,50,50,60,70]\n",
    "print(\"Before delete function:\",lst)\n",
    "#using remove function--> Delete the specific element.\n",
    "lst.remove(50)\n",
    "print(\"After remove function:\",lst)\n",
    "\n",
    "#using pop()--> deletes the data from the end.\n",
    "lst.pop()\n",
    "print(\"After pop function:\",lst)\n",
    "\n",
    "#using clear()--> delete all the data from list.\n",
    "lst.clear()\n",
    "print(\"List after clear function\",lst)"
   ]
  },
  {
   "cell_type": "markdown",
   "id": "501b9619-2581-401b-8750-162f2349a7fe",
   "metadata": {},
   "source": [
    "More important Functions for arranging the list."
   ]
  },
  {
   "cell_type": "code",
   "execution_count": 35,
   "id": "1b0a5ec0-a737-4ba4-acfa-6df330728731",
   "metadata": {},
   "outputs": [
    {
     "name": "stdout",
     "output_type": "stream",
     "text": [
      "Before sorting: [1, 4, 53, 6, 3, 9]\n",
      "After sorting: [1, 3, 4, 6, 9, 53]\n",
      "After reverse function [53, 9, 6, 4, 3, 1]\n"
     ]
    }
   ],
   "source": [
    "lst = [1,4,53,6,3,9]\n",
    "print(\"Before sorting:\",lst)\n",
    "\n",
    "#using sort()--> used to sort the list in increasing order.\n",
    "lst.sort()\n",
    "print(\"After sorting:\",lst)\n",
    "\n",
    "#using reverse ()--> used to reverse the list.\n",
    "lst.reverse()\n",
    "print(\"After reverse function\",lst)"
   ]
  },
  {
   "cell_type": "code",
   "execution_count": 38,
   "id": "d329edf4-4d1e-49e5-ab5d-16aa8e690fc9",
   "metadata": {},
   "outputs": [
    {
     "name": "stdout",
     "output_type": "stream",
     "text": [
      "7\n",
      "4\n",
      "1\n",
      "1\n",
      "1\n"
     ]
    }
   ],
   "source": [
    "lst = [1,1,1,1,1,1,2,2,2,3,4,5,6,1,2]\n",
    "print(lst.count(1)) # gives the freq of any specific number.\n",
    "print(lst.count(2))\n",
    "print(lst.count(3))\n",
    "print(lst.count(4))\n",
    "print(lst.count(5))"
   ]
  },
  {
   "cell_type": "markdown",
   "id": "5414559d-5113-4852-a2a7-4ba968ba1513",
   "metadata": {},
   "source": [
    "Taking list from user"
   ]
  },
  {
   "cell_type": "code",
   "execution_count": 44,
   "id": "a02f06a7-66f7-4882-b23a-510eece4271a",
   "metadata": {},
   "outputs": [
    {
     "name": "stdin",
     "output_type": "stream",
     "text": [
      "Enter the size of the list: 5\n",
      "Enter the element: 1\n",
      "Enter the element: 2\n",
      "Enter the element: 3\n",
      "Enter the element: 4\n",
      "Enter the element: 5\n"
     ]
    },
    {
     "name": "stdout",
     "output_type": "stream",
     "text": [
      "[1, 2, 3, 4, 5]\n"
     ]
    }
   ],
   "source": [
    "#WAP to create a list.\n",
    "size = int(input(\"Enter the size of the list:\"))\n",
    "lst = []\n",
    "for i in range(size):\n",
    "    elem = int(input(\"Enter the element:\"))\n",
    "    lst.append(elem)\n",
    "print(lst)"
   ]
  },
  {
   "cell_type": "code",
   "execution_count": 57,
   "id": "9c2399dc-8760-4e18-a9c1-f6823dc107e0",
   "metadata": {},
   "outputs": [
    {
     "name": "stdin",
     "output_type": "stream",
     "text": [
      "Enter the row size: 2\n",
      "Enter the column size: 3\n",
      "Enter the element: 1\n",
      "Enter the element: 2\n",
      "Enter the element: 3\n",
      "Enter the element: 4\n",
      "Enter the element: 5\n",
      "Enter the element: 6\n"
     ]
    },
    {
     "name": "stdout",
     "output_type": "stream",
     "text": [
      "[[0, 1, 2, 3, 4], 1, 2, 3, 4, 5, 6]\n"
     ]
    }
   ],
   "source": [
    "#WAP to create a 2D list.\n",
    "row = int(input(\"Enter the row size:\"))\n",
    "col = int(input(\"Enter the column size:\"))\n",
    "lst = [[i for i in range(5)]]\n",
    "for i in range(row):\n",
    "    for j in range(col):\n",
    "        ele = int(input(\"Enter the element:\"))\n",
    "        lst.append(ele)\n",
    "print(lst)"
   ]
  },
  {
   "cell_type": "markdown",
   "id": "b4b22f2f-ff0b-4691-bc7d-595cf1c9d536",
   "metadata": {},
   "source": [
    "1. WAP to FIND THE LENGTH OF THE GIVEN LIST."
   ]
  },
  {
   "cell_type": "code",
   "execution_count": 62,
   "id": "f0871af4-8567-442e-95bd-e5ae7f543f19",
   "metadata": {},
   "outputs": [
    {
     "name": "stdout",
     "output_type": "stream",
     "text": [
      "6\n"
     ]
    }
   ],
   "source": [
    "lst = [1,2,3,4,5,6]\n",
    "# n = len(lst)\n",
    "count = 0\n",
    "for i in lst:\n",
    "    count +=1\n",
    "print(count)"
   ]
  },
  {
   "cell_type": "markdown",
   "id": "73105f0e-faf5-4e8a-9e49-0ba5ca4cb994",
   "metadata": {},
   "source": [
    "2. WAP to calculate the sum of all the elements in the list.\n"
   ]
  },
  {
   "cell_type": "code",
   "execution_count": 64,
   "id": "47697f6e-564b-4aab-8f69-0f28b56fb11a",
   "metadata": {},
   "outputs": [
    {
     "name": "stdin",
     "output_type": "stream",
     "text": [
      "Enter the size of list: 5\n",
      "Enter the elements: 2\n",
      "Enter the elements: 3\n",
      "Enter the elements: 4\n",
      "Enter the elements: 1\n",
      "Enter the elements: 2\n"
     ]
    },
    {
     "name": "stdout",
     "output_type": "stream",
     "text": [
      "12\n"
     ]
    }
   ],
   "source": [
    "size = int(input(\"Enter the size of list:\"))\n",
    "lst =[]\n",
    "sum = 0\n",
    "for i in range(size):\n",
    "    ele = int(input(\"Enter the elements:\"))\n",
    "    lst.append(ele)\n",
    "#Approach 1:\n",
    "for j in lst:\n",
    "    sum = sum + j\n",
    "print(sum)"
   ]
  },
  {
   "cell_type": "markdown",
   "id": "fd2334c6-f92d-40c1-b068-a39301127d07",
   "metadata": {},
   "source": [
    "SETS IN PYTHON"
   ]
  },
  {
   "cell_type": "code",
   "execution_count": 74,
   "id": "13ce3af0-def1-4365-8ad4-1cb1205636b5",
   "metadata": {},
   "outputs": [
    {
     "name": "stdout",
     "output_type": "stream",
     "text": [
      "Before add method: {1, 2, 3, 4, 5, 6}\n",
      "After add method: {1, 2, 3, 4, 5, 6, 10}\n",
      "After update function: {1, 2, 3, 4, 5, 6, 10, 20, 21, 22}\n"
     ]
    }
   ],
   "source": [
    "#ADD AND UPDATE FUNCTION.\n",
    "set1 = {1,2,3,4,5,6}\n",
    "print(\"Before add method:\",set1)\n",
    "#using add method--> \n",
    "set1.add(10)\n",
    "print(\"After add method:\",set1)\n",
    "\n",
    "#Using update()--> adds iterable.\n",
    "set2 = {20,21,22}\n",
    "set1.update(set2)\n",
    "print(\"After update function:\",set1)"
   ]
  },
  {
   "cell_type": "code",
   "execution_count": 75,
   "id": "5bb89e91-9d04-4913-acb8-f4cd6eecde8c",
   "metadata": {},
   "outputs": [
    {
     "name": "stdout",
     "output_type": "stream",
     "text": [
      "{1, 2, 3, 4}\n"
     ]
    }
   ],
   "source": [
    "set1 = {1,1,2,2,3,4,3,1,1,2}\n",
    "print(set1)\n",
    "#there can be no duplicates."
   ]
  },
  {
   "cell_type": "code",
   "execution_count": 76,
   "id": "4ad28e20-826d-436d-bbd3-cb394cbe73ed",
   "metadata": {},
   "outputs": [
    {
     "name": "stdout",
     "output_type": "stream",
     "text": [
      "{1, 2, 4, 5, 7, 9}\n"
     ]
    }
   ],
   "source": [
    "set1 = {1,4,2,5,7,9}\n",
    "print(set1)\n",
    "#always gives data in sorted order."
   ]
  },
  {
   "cell_type": "code",
   "execution_count": 81,
   "id": "1e94a6f7-15e6-4fda-8fcc-2722ba0eb234",
   "metadata": {},
   "outputs": [
    {
     "name": "stdout",
     "output_type": "stream",
     "text": [
      "{1, 3, 4, 5, 9}\n",
      "{1, 4, 5, 9}\n",
      "set()\n"
     ]
    }
   ],
   "source": [
    "set1 = {1,5,8,9,3,4}\n",
    "\n",
    "set1.remove(8)\n",
    "print(set1)\n",
    "\n",
    "set1.discard(3)\n",
    "print(set1)\n",
    "\n",
    "set1.clear()\n",
    "print(set1)"
   ]
  },
  {
   "cell_type": "code",
   "execution_count": 92,
   "id": "a7f3350e-f869-4e5b-a5c0-7831b6b4c2a6",
   "metadata": {},
   "outputs": [
    {
     "data": {
      "text/plain": [
       "{1, 2, 3, 4, 5, 6, 7}"
      ]
     },
     "execution_count": 92,
     "metadata": {},
     "output_type": "execute_result"
    }
   ],
   "source": [
    "set1 = {1,2,3,4}\n",
    "set2 = {3,4,5,6,7}\n",
    "set1.union(set2)"
   ]
  },
  {
   "cell_type": "code",
   "execution_count": 93,
   "id": "05c890ce-1827-4a69-9637-81fc7099915a",
   "metadata": {},
   "outputs": [
    {
     "data": {
      "text/plain": [
       "{1, 2}"
      ]
     },
     "execution_count": 93,
     "metadata": {},
     "output_type": "execute_result"
    }
   ],
   "source": [
    "set1.difference(set2)"
   ]
  },
  {
   "cell_type": "code",
   "execution_count": 94,
   "id": "0588800a-daaa-4136-878e-f0cd647af3cf",
   "metadata": {},
   "outputs": [
    {
     "data": {
      "text/plain": [
       "{1, 2, 5, 6, 7}"
      ]
     },
     "execution_count": 94,
     "metadata": {},
     "output_type": "execute_result"
    }
   ],
   "source": [
    "set1.symmetric_difference(set2)"
   ]
  },
  {
   "cell_type": "code",
   "execution_count": 95,
   "id": "e33a9d54-27fc-4827-adc2-d749ced8fe22",
   "metadata": {},
   "outputs": [
    {
     "data": {
      "text/plain": [
       "{3, 4}"
      ]
     },
     "execution_count": 95,
     "metadata": {},
     "output_type": "execute_result"
    }
   ],
   "source": [
    "set1.intersection(set2)"
   ]
  },
  {
   "cell_type": "markdown",
   "id": "d16b9e6a-b04d-43f5-8e27-fb8195b9a078",
   "metadata": {},
   "source": [
    "1. [ ]--> list\n",
    "2. { }-->Dictionary\n",
    "3. ( )--> tuple"
   ]
  },
  {
   "cell_type": "code",
   "execution_count": 99,
   "id": "35ee78eb-7753-4df2-9c2a-3e15c513b7b9",
   "metadata": {},
   "outputs": [
    {
     "name": "stdin",
     "output_type": "stream",
     "text": [
      "Enter the size: 5\n",
      "Enter the elements : 2\n",
      "Enter the elements : 3\n",
      "Enter the elements : 1\n",
      "Enter the elements : 6\n",
      "Enter the elements : 3\n"
     ]
    },
    {
     "name": "stdout",
     "output_type": "stream",
     "text": [
      "{1, 2, 3, 6}\n"
     ]
    }
   ],
   "source": [
    "size = int(input(\"Enter the size:\"))\n",
    "my_set = set()\n",
    "for i in range(size):\n",
    "    ele = int(input(\"Enter the elements :\"))\n",
    "    my_set.add(ele)\n",
    "print(my_set)"
   ]
  },
  {
   "cell_type": "markdown",
   "id": "39ec8d49-371f-49c7-8a7a-68c16a0a19fb",
   "metadata": {},
   "source": [
    "3. WAP to remove all occurance of a specific elements."
   ]
  },
  {
   "cell_type": "code",
   "execution_count": 126,
   "id": "026e431e-e117-4038-b6c6-15e5fbe0b40b",
   "metadata": {},
   "outputs": [
    {
     "name": "stdin",
     "output_type": "stream",
     "text": [
      "Enter the size: 4\n",
      "Enter the element: 1\n",
      "Enter the element: 2\n",
      "Enter the element: 3\n",
      "Enter the element: 4\n",
      "Enter the element to be removed 3\n"
     ]
    },
    {
     "name": "stdout",
     "output_type": "stream",
     "text": [
      "[1, 2, 4]\n"
     ]
    }
   ],
   "source": [
    "size = int(input(\"Enter the size:\")) \n",
    "\n",
    "lst=[]\n",
    "new_lst=[]\n",
    "for i in range(size):\n",
    "    ele = int(input(\"Enter the element:\"))\n",
    "    lst.append(ele)\n",
    "    \n",
    "key = int(input(\"Enter the element to be removed\"))\n",
    "for i in lst:\n",
    "    if (key!=i):\n",
    "        new_lst.append(i)\n",
    "print(new_lst)"
   ]
  },
  {
   "cell_type": "markdown",
   "id": "7972e572-2589-4511-a20a-7ac619b426d7",
   "metadata": {},
   "source": [
    "4. WAP when given 2 lists find the common elements in btw."
   ]
  },
  {
   "cell_type": "code",
   "execution_count": 127,
   "id": "60e63439-bb2b-48bb-9e25-bdc8c9efbbd3",
   "metadata": {},
   "outputs": [
    {
     "name": "stdout",
     "output_type": "stream",
     "text": [
      "[2, 3, 4, 6]\n"
     ]
    }
   ],
   "source": [
    "lst1 = [2,3,4,5,6,1]\n",
    "lst2 = [3,4,6,7,9,8,2,10]\n",
    "newlst = []\n",
    "for i in lst1:\n",
    "    for j in lst2:\n",
    "        if(i==j):\n",
    "          newlst.append(j)\n",
    "print(newlst)"
   ]
  },
  {
   "cell_type": "markdown",
   "id": "ba2b4950-18b3-4c29-93d1-d88ae7177f62",
   "metadata": {},
   "source": [
    "5. WAP where you have given a list of words count the freq of each word"
   ]
  },
  {
   "cell_type": "code",
   "execution_count": 26,
   "id": "93ef458c-d94e-4313-8cc3-033c0827e472",
   "metadata": {},
   "outputs": [
    {
     "name": "stdout",
     "output_type": "stream",
     "text": [
      "is   1\n",
      "red   1\n",
      "an   1\n",
      "apple   1\n",
      "a   1\n",
      "day   1\n",
      "keeps   1\n",
      "doctor   1\n",
      "away   1\n"
     ]
    }
   ],
   "source": [
    "lst = [\"apple\",\"is\",\"red\",\"an\",\"apple\",\"a\",\"day\",\"keeps\",\"doctor\",\"away\"]\n",
    "j=1\n",
    "while(j<len(lst)):\n",
    "    count = 1\n",
    "   \n",
    "    for i in range(j+1,len(lst)):\n",
    "      if(lst[j]==lst[i]):\n",
    "         count += 1\n",
    "    print(lst[j],\" \",count)\n",
    "    j+=1\n"
   ]
  },
  {
   "cell_type": "markdown",
   "id": "d429c2b0-9815-4d7e-933b-ebd1ae228fb8",
   "metadata": {},
   "source": [
    "* ANAGRAM PROBLEM"
   ]
  },
  {
   "cell_type": "code",
   "execution_count": 25,
   "id": "0398e108-a52c-40e3-999a-505e9b56972c",
   "metadata": {},
   "outputs": [
    {
     "name": "stdin",
     "output_type": "stream",
     "text": [
      "Enter the first word:  ujra\n",
      "Enter the second word:  uajr\n"
     ]
    },
    {
     "name": "stdout",
     "output_type": "stream",
     "text": [
      "The words ujra and uajr are anagrams.\n"
     ]
    }
   ],
   "source": [
    "#USING LIST METHOD.\n",
    "word1 = input(\"Enter the first word: \")\n",
    "word2 = input(\"Enter the second word: \")\n",
    "\n",
    "\n",
    "new1 = list(word1)\n",
    "new2 = list(word2)\n",
    "new1.sort()\n",
    "new2.sort()\n",
    "\n",
    "# print(new1)\n",
    "# print(new2)\n",
    "if new1 == new2:\n",
    "\n",
    "    print(f\"The words {word1} and {word2} are anagrams.\")\n",
    "else:\n",
    "     print(f\"The words {word1} and {word2} are not anagrams.\")\n"
   ]
  },
  {
   "cell_type": "code",
   "execution_count": 16,
   "id": "e5a76a1e-8d6e-4980-a954-8de7fb8e68cc",
   "metadata": {},
   "outputs": [
    {
     "name": "stdin",
     "output_type": "stream",
     "text": [
      "Enter the first word: urja\n",
      "Enter the second word: raju\n"
     ]
    },
    {
     "name": "stdout",
     "output_type": "stream",
     "text": [
      "The words urja and raju are anagrams.\n"
     ]
    }
   ],
   "source": [
    "word1 = input(\"Enter the first word:\")\n",
    "word2 = input(\"Enter the second word:\")\n",
    "newWord1 = sorted(word1)\n",
    "newWord2 = sorted(word2)\n",
    "if newWord1 == newWord2:\n",
    "    print(f\"The words {word1} and {word2} are anagrams.\")\n",
    "else:\n",
    "    \n",
    "    print(f\"The words {word1} and {word2} are not anagrams.\")"
   ]
  },
  {
   "cell_type": "markdown",
   "id": "67d9e6a3-0e12-47ea-9568-cbf5d2623b18",
   "metadata": {},
   "source": [
    "# OOP's in Python"
   ]
  },
  {
   "cell_type": "code",
   "execution_count": 2,
   "id": "d6691de4-625f-4e74-8349-a6ccab78bec4",
   "metadata": {},
   "outputs": [],
   "source": [
    "#Rule for defining a class.\n",
    "#class ClassName:\n",
    "class Student:\n",
    "     clg = \"Global\"\n",
    "     "
   ]
  },
  {
   "cell_type": "code",
   "execution_count": 3,
   "id": "fe7767dd-e7da-4518-9284-f61afd9a7293",
   "metadata": {},
   "outputs": [
    {
     "name": "stdout",
     "output_type": "stream",
     "text": [
      "The address from self: <__main__.Car object at 0x0000022D3D76F950>\n",
      "Address from object <__main__.Car object at 0x0000022D3D76F950>\n",
      "The address from self: <__main__.Car object at 0x0000022D3D76FDD0>\n",
      "Address from <__main__.Car object at 0x0000022D3D76FDD0>\n",
      "4\n",
      "black\n",
      "4\n",
      "Chocolate\n"
     ]
    }
   ],
   "source": [
    "class Car:\n",
    "    wheels = 4\n",
    "    \n",
    "    def __init__(self,color):\n",
    "      print(\"The address from self:\",self)\n",
    "      self.color = color\n",
    "    def disp(self):\n",
    "        print(self.color)\n",
    "\n",
    "c1 = Car(\"black\")\n",
    "print(\"Address from object\",c1)\n",
    "c2 = Car(\"Chocolate\")\n",
    "print(\"Address from\",c2)\n",
    "print(c1.wheels)\n",
    "c1.disp()\n",
    "print(c2.wheels)\n",
    "c2.disp()"
   ]
  },
  {
   "cell_type": "markdown",
   "id": "e472bfa0-0c12-47ac-82cd-5de38dc794d8",
   "metadata": {},
   "source": [
    "* WAP to create a class student with attributes id,name,college and display all the attributes of the particular student details."
   ]
  },
  {
   "cell_type": "code",
   "execution_count": 35,
   "id": "c6fa9032-6196-46a7-b48d-c7a864dda109",
   "metadata": {},
   "outputs": [
    {
     "name": "stdout",
     "output_type": "stream",
     "text": [
      "The name of student is: Raju\n",
      "The id of student is: 2\n",
      "The college of student is: global\n",
      "The name of student is: shubhi\n",
      "The id of student is: 3\n",
      "The college of student is: global\n",
      "The name of student is: vedant\n",
      "The id of student is: 4\n",
      "The college of student is: global\n",
      "The name of student is: cheenu\n",
      "The id of student is: 5\n",
      "The college of student is: global\n",
      "The name of student is: jatin\n",
      "The id of student is: 6\n",
      "The college of student is: global\n"
     ]
    }
   ],
   "source": [
    "class Student:\n",
    "    def __init__(self,name,id,clg):\n",
    "        self.name = name\n",
    "        self.id = id\n",
    "        self.clg = clg\n",
    "        \n",
    "    def disp(self):\n",
    "            print(\"The name of student is:\",self.name)\n",
    "            print(\"The id of student is:\",self.id)\n",
    "            print(\"The college of student is:\",self.clg)\n",
    "s1 = Student(\"Raju\",2,\"global\")\n",
    "s2 = Student(\"shubhi\",3,\"global\")\n",
    "s3 = Student(\"vedant\",4,\"global\")\n",
    "s4 = Student(\"cheenu\",5,\"global\")\n",
    "s5 = Student(\"jatin\",6,\"global\")\n",
    "s1.disp()\n",
    "s2.disp()\n",
    "s3.disp()\n",
    "s4.disp()\n",
    "s5.disp()"
   ]
  },
  {
   "cell_type": "markdown",
   "id": "be44640f-e109-404c-ac35-a744b0aa1428",
   "metadata": {},
   "source": [
    "WAP to create a class Animal with properties type,color,num of legs,to disp its behaviour eats,walk,sleep"
   ]
  },
  {
   "cell_type": "code",
   "execution_count": 37,
   "id": "5bd7927a-e760-40a1-a242-b0d721d0f3a2",
   "metadata": {},
   "outputs": [
    {
     "name": "stdout",
     "output_type": "stream",
     "text": [
      "The type is: Omnivores\n",
      "The color is: white\n",
      "The type is: Carnivore\n",
      "The color is: yellow\n"
     ]
    }
   ],
   "source": [
    "class Animal:\n",
    "    def __init__(self,type,color):\n",
    "        self.type = type\n",
    "        self.color = color\n",
    "\n",
    "    def disp(self):\n",
    "        print(\"The type is:\",self.type)\n",
    "        print(\"The color is:\",self.color)\n",
    "        \n",
    "tiger = Animal(\"Carnivore\",\"yellow\")\n",
    "dog = Animal(\"Omnivores\",\"white\")\n",
    "dog.disp()\n",
    "tiger.disp()"
   ]
  },
  {
   "cell_type": "markdown",
   "id": "7284f8a1-cf6f-4c12-8bfa-9641b6d57d3b",
   "metadata": {},
   "source": [
    "Inheritence in python"
   ]
  },
  {
   "cell_type": "code",
   "execution_count": 40,
   "id": "2baa3571-04ac-42f0-8615-4d6c9c36e759",
   "metadata": {},
   "outputs": [
    {
     "name": "stdout",
     "output_type": "stream",
     "text": [
      "Display A\n",
      "Display A\n"
     ]
    }
   ],
   "source": [
    "class A:  \n",
    "    def disp(self):\n",
    "        print(\"Display A\")\n",
    "\n",
    "class B(A):\n",
    "\n",
    "    pass\n",
    "\n",
    "objB = B()\n",
    "objB.disp()\n",
    "objA = A()\n",
    "objA.disp()"
   ]
  },
  {
   "cell_type": "code",
   "execution_count": 44,
   "id": "7bd8aa3f-cd10-483b-ab5d-736ee9a85246",
   "metadata": {},
   "outputs": [
    {
     "name": "stdout",
     "output_type": "stream",
     "text": [
      "cash+land+gold\n",
      "cash+land+gold\n",
      "cash+land+gold\n"
     ]
    }
   ],
   "source": [
    "class GrandFather:\n",
    "    def property(self):\n",
    "        print(\"cash+land+gold\")\n",
    "\n",
    "class Father(GrandFather):\n",
    "    pass\n",
    "\n",
    "\n",
    "class Son(Father):\n",
    "    pass\n",
    "\n",
    "\n",
    "class GrandSon():\n",
    "    pass\n",
    "    \n",
    "s = Son()\n",
    "s.property()\n",
    "f = Father()\n",
    "f.property()\n",
    "gf = GrandFather()\n",
    "gf.property()\n",
    "gs = GrandSon()\n",
    "gs.property()"
   ]
  },
  {
   "cell_type": "markdown",
   "id": "31d6219b-a521-4377-88fa-55577a40c394",
   "metadata": {},
   "source": [
    "* Multilevel Inheritence"
   ]
  },
  {
   "cell_type": "code",
   "execution_count": 53,
   "id": "61498245-e333-4825-acbe-cc344df3aaee",
   "metadata": {},
   "outputs": [
    {
     "name": "stdout",
     "output_type": "stream",
     "text": [
      "Eating\n",
      "Cow is walking\n"
     ]
    }
   ],
   "source": [
    "class Animal:\n",
    "    def eat(self):\n",
    "        print(\"Eating\")\n",
    "class Cow(Animal):\n",
    "    def walk(self):\n",
    "        print(\"Cow is walking\")\n",
    "class Tiger(Animal):\n",
    "    def run(self):\n",
    "        print(\"Tiger Running\")\n",
    "\n",
    "class Bear(Animal):\n",
    "    def sleep(self):\n",
    "        print(\"Bear sleeping\")\n",
    "c = Cow()\n",
    "c.eat()\n",
    "c.walk()"
   ]
  },
  {
   "cell_type": "markdown",
   "id": "0890823f-35d4-4679-af7f-091199f0a26f",
   "metadata": {},
   "source": [
    "* Multiple Inheritence"
   ]
  },
  {
   "cell_type": "code",
   "execution_count": 56,
   "id": "ed42e813-30bc-4760-b99a-69dca5c167f8",
   "metadata": {},
   "outputs": [
    {
     "name": "stdout",
     "output_type": "stream",
     "text": [
      "Flying\n",
      "Eating\n"
     ]
    }
   ],
   "source": [
    "class Animal:\n",
    "    def eat(self):\n",
    "        print(\"Eating\")\n",
    "\n",
    "class Bird:\n",
    "    def fly(self):\n",
    "        print(\"Flying\")\n",
    "\n",
    "class X(Animal,Bird):\n",
    "    pass\n",
    "\n",
    "x1 = X()\n",
    "x1.fly()\n",
    "x1.eat()\n"
   ]
  },
  {
   "cell_type": "markdown",
   "id": "bda7dbe7-b6d4-4ff3-ab75-7477826fbbf5",
   "metadata": {},
   "source": [
    "* Method OverRiding"
   ]
  },
  {
   "cell_type": "code",
   "execution_count": 58,
   "id": "d6223e76-5b81-45ca-aa85-a48f80017450",
   "metadata": {},
   "outputs": [
    {
     "name": "stdout",
     "output_type": "stream",
     "text": [
      "cash+land+gold\n",
      "Sam\n"
     ]
    }
   ],
   "source": [
    "class Parent:\n",
    "    def property(self):\n",
    "        print(\"cash+land+gold\")\n",
    "    def marry(self):\n",
    "        print(\"Trisha\")\n",
    "\n",
    "class Child(Parent):\n",
    "    def marry(self):\n",
    "        print(\"Sam\")\n",
    "\n",
    "c = Child()\n",
    "c.property()\n",
    "c.marry()"
   ]
  },
  {
   "cell_type": "markdown",
   "id": "d2672d2f-ee66-40d5-a8e9-18b3a1e74f5a",
   "metadata": {},
   "source": [
    "* Encapsulation"
   ]
  },
  {
   "cell_type": "code",
   "execution_count": 63,
   "id": "0cc35f24-6006-4b83-b5be-117f90b6c5b6",
   "metadata": {},
   "outputs": [
    {
     "ename": "AttributeError",
     "evalue": "'Bank' object has no attribute 'balance'",
     "output_type": "error",
     "traceback": [
      "\u001b[1;31m---------------------------------------------------------------------------\u001b[0m",
      "\u001b[1;31mAttributeError\u001b[0m                            Traceback (most recent call last)",
      "Cell \u001b[1;32mIn[63], line 7\u001b[0m\n\u001b[0;32m      4\u001b[0m         \u001b[38;5;66;03m#__ defines private.\u001b[39;00m\n\u001b[0;32m      6\u001b[0m objBank \u001b[38;5;241m=\u001b[39m Bank(\u001b[38;5;241m1000\u001b[39m)\n\u001b[1;32m----> 7\u001b[0m \u001b[38;5;28mprint\u001b[39m(objBank\u001b[38;5;241m.\u001b[39mbalance)\n",
      "\u001b[1;31mAttributeError\u001b[0m: 'Bank' object has no attribute 'balance'"
     ]
    }
   ],
   "source": [
    "class Bank:\n",
    "    def __init__(self,balance):\n",
    "        self.__balance = balance  #_ using this it became protected.\n",
    "        #__ defines private.\n",
    "\n",
    "objBank = Bank(1000)\n",
    "print(objBank.balance)"
   ]
  },
  {
   "cell_type": "code",
   "execution_count": null,
   "id": "f93f084d-11b6-40f1-80d3-ded9b604c3ed",
   "metadata": {},
   "outputs": [],
   "source": [
    "def disp(x):\n",
    "    for i in range(x):\n",
    "        return i\n",
    "\n",
    "print(disp(5))"
   ]
  },
  {
   "cell_type": "code",
   "execution_count": 67,
   "id": "51ba91ad-205b-4e76-b701-206220af93a1",
   "metadata": {},
   "outputs": [
    {
     "name": "stdout",
     "output_type": "stream",
     "text": [
      "11\n",
      "12\n",
      "13\n",
      "14\n",
      "15\n",
      "16\n"
     ]
    }
   ],
   "source": [
    "def disp(start,end):\n",
    "    for i in range(start,end+1):\n",
    "        print(i)\n",
    "    pass\n",
    "disp(11,16)"
   ]
  },
  {
   "cell_type": "code",
   "execution_count": 1,
   "id": "f61c0742-f671-4a66-beac-f1f490d05763",
   "metadata": {},
   "outputs": [],
   "source": [
    "# def disp(*args) \n",
    "#taking multiple args as input.\n",
    "#def __del__() destructor"
   ]
  },
  {
   "cell_type": "markdown",
   "id": "9f550410-433f-4639-9501-333c3b0c27aa",
   "metadata": {},
   "source": [
    "WAP to create a class Animal with properties type,color,num of legs,to disp its behaviour eats,walk,sleep"
   ]
  },
  {
   "cell_type": "code",
   "execution_count": 8,
   "id": "c6d69e71-6b76-4c5d-9a74-2b6a2146acb5",
   "metadata": {},
   "outputs": [
    {
     "name": "stdout",
     "output_type": "stream",
     "text": [
      "The type is: <class '__main__.Animal'>\n",
      "The color is: Yellow\n",
      "the tiger Is eating Flesh.\n",
      "The tiger is running\n",
      "The type is: <class '__main__.Animal'>\n",
      "The color is: White\n",
      "the dog Is eating Biscuit.\n",
      "The dog is walking.\n"
     ]
    }
   ],
   "source": [
    "class Animal:\n",
    "    def __init__(self,type,color):\n",
    "        self.type = type\n",
    "        self.color = color\n",
    "\n",
    "    def disp(self):\n",
    "        print(\"The type is:\",self.type)\n",
    "        print(\"The color is:\",self.color)\n",
    "    \n",
    "class Dog(Animal):\n",
    "    def eat(self):\n",
    "     print(\"the dog Is eating Biscuit.\")\n",
    "    def walk(self):\n",
    "        print(\"The dog is walking.\")\n",
    "\n",
    "class tiger(Animal):\n",
    "    def eat(self):\n",
    "     print(\"the tiger Is eating Flesh.\")\n",
    "    def run(self):\n",
    "        print(\"The tiger is running\")\n",
    "\n",
    "t = tiger(Animal,'Yellow')\n",
    "t.disp()\n",
    "t.eat()\n",
    "t.run()\n",
    "d = Dog(Animal,'White')\n",
    "d.disp()\n",
    "d.eat()\n",
    "d.walk()\n"
   ]
  },
  {
   "cell_type": "markdown",
   "id": "14e25f8f-52ed-40bf-98ae-1d4451a45884",
   "metadata": {},
   "source": [
    "1. Bank Account System - You are designing a bank account management system. Each account has an account holder's name,balance, and account type (Savings/Current)\n",
    "2. Use inheritance to create a SavingsAccount and CurrentAccount class from a common BankAccount class.\n",
    "Implement polymorphism for a method calculate_interest() that computes interest differently for savings and current accounts.\n",
    "Ensure account numbers are unique for each object using a class attribute.\n",
    "Can you write a program to demonstrate this?"
   ]
  },
  {
   "cell_type": "code",
   "execution_count": 12,
   "id": "80d30bde-598d-4ff8-a79a-0ea5e891fe9b",
   "metadata": {},
   "outputs": [
    {
     "name": "stdout",
     "output_type": "stream",
     "text": [
      "The name of candidate is: Jatin\n",
      "The Balance of candidate is: 45700000\n",
      "The Account Type of candidate is: Savings\n"
     ]
    },
    {
     "ename": "UnboundLocalError",
     "evalue": "cannot access local variable 'Int' where it is not associated with a value",
     "output_type": "error",
     "traceback": [
      "\u001b[1;31m---------------------------------------------------------------------------\u001b[0m",
      "\u001b[1;31mUnboundLocalError\u001b[0m                         Traceback (most recent call last)",
      "Cell \u001b[1;32mIn[12], line 23\u001b[0m\n\u001b[0;32m     21\u001b[0m c1 \u001b[38;5;241m=\u001b[39m Bank(\u001b[38;5;124m\"\u001b[39m\u001b[38;5;124mJatin\u001b[39m\u001b[38;5;124m\"\u001b[39m,\u001b[38;5;241m45700000\u001b[39m,\u001b[38;5;124m\"\u001b[39m\u001b[38;5;124mSavings\u001b[39m\u001b[38;5;124m\"\u001b[39m)\n\u001b[0;32m     22\u001b[0m c1\u001b[38;5;241m.\u001b[39mdisp()\n\u001b[1;32m---> 23\u001b[0m c1\u001b[38;5;241m.\u001b[39mCalculate_Interest(\u001b[38;5;241m1000\u001b[39m,\u001b[38;5;241m5\u001b[39m,\u001b[38;5;241m4\u001b[39m)\n",
      "Cell \u001b[1;32mIn[12], line 18\u001b[0m, in \u001b[0;36mBank.Calculate_Interest\u001b[1;34m(self, prin, time, rate)\u001b[0m\n\u001b[0;32m     16\u001b[0m \u001b[38;5;28mself\u001b[39m\u001b[38;5;241m.\u001b[39mtime \u001b[38;5;241m=\u001b[39m time\n\u001b[0;32m     17\u001b[0m \u001b[38;5;28mself\u001b[39m\u001b[38;5;241m.\u001b[39mrate \u001b[38;5;241m=\u001b[39m rate\n\u001b[1;32m---> 18\u001b[0m \u001b[38;5;28mself\u001b[39m\u001b[38;5;241m.\u001b[39mInt \u001b[38;5;241m=\u001b[39m Int\n\u001b[0;32m     19\u001b[0m Int \u001b[38;5;241m=\u001b[39m \u001b[38;5;241m5\u001b[39m\n\u001b[0;32m     20\u001b[0m \u001b[38;5;28mprint\u001b[39m(\u001b[38;5;124mf\u001b[39m\u001b[38;5;124m\"\u001b[39m\u001b[38;5;124mThe Interest calculated is:\u001b[39m\u001b[38;5;132;01m{\u001b[39;00mInt\u001b[38;5;132;01m}\u001b[39;00m\u001b[38;5;124m\"\u001b[39m)\n",
      "\u001b[1;31mUnboundLocalError\u001b[0m: cannot access local variable 'Int' where it is not associated with a value"
     ]
    }
   ],
   "source": [
    "class Bank:\n",
    "   \n",
    "    def __init__(self,name,bal,accType):\n",
    "        self.name = name\n",
    "        self.bal = bal\n",
    "        self.accType = accType\n",
    "        \n",
    "    def disp(self):\n",
    "        print(f\"The name of candidate is:\",self.name)\n",
    "        print(f\"The Balance of candidate is:\",self.bal)\n",
    "        print(f\"The Account Type of candidate is:\",self.accType)\n",
    "    \n",
    "    def Calculate_Interest(self,prin,time,rate):\n",
    "           # Interest = P * R * T, \n",
    "            self.prin = prin\n",
    "            self.time = time\n",
    "            self.rate = rate\n",
    "            self.Int = Int\n",
    "            Int = prin*rate*time\n",
    "            print(f\"The Interest calculated is:{Int}\")\n",
    "c1 = Bank(\"Jatin\",45700000,\"Savings\")\n",
    "c1.disp()\n",
    "c1.Calculate_Interest(1000,5,4)"
   ]
  },
  {
   "cell_type": "code",
   "execution_count": 15,
   "id": "3e7211a6-521d-4268-91ea-24bb24d81a4c",
   "metadata": {},
   "outputs": [
    {
     "name": "stdout",
     "output_type": "stream",
     "text": [
      "12\n"
     ]
    }
   ],
   "source": [
    "def add(x,y):\n",
    "    return x+y\n",
    "def add(x,y,z):\n",
    "    return x+y+z\n",
    "res = add(5,6,1)\n",
    "print(res)"
   ]
  },
  {
   "cell_type": "code",
   "execution_count": 17,
   "id": "b86f3830-82bc-4cc1-bd73-847ecd541cb6",
   "metadata": {},
   "outputs": [
    {
     "name": "stdout",
     "output_type": "stream",
     "text": [
      "19\n"
     ]
    }
   ],
   "source": [
    "def add(*args):\n",
    "    res = 0\n",
    "    for i in args:\n",
    "        res += i\n",
    "    return res\n",
    "\n",
    "finalValue = add(3,4,5,6,1)\n",
    "print(finalValue)"
   ]
  },
  {
   "cell_type": "code",
   "execution_count": 19,
   "id": "ad909e9c-08cc-434c-917d-26072cf1ab57",
   "metadata": {},
   "outputs": [
    {
     "name": "stdout",
     "output_type": "stream",
     "text": [
      "19\n"
     ]
    }
   ],
   "source": [
    "def add(*args):\n",
    "    res = 0\n",
    "    for i in args:\n",
    "        res += i\n",
    "    return res\n",
    "\n",
    "finalValue = add(3,4,5,6,1)\n",
    "print(finalValue)"
   ]
  },
  {
   "cell_type": "code",
   "execution_count": 24,
   "id": "81f01702-7304-4770-9544-feda0e4761dc",
   "metadata": {},
   "outputs": [
    {
     "name": "stdout",
     "output_type": "stream",
     "text": [
      "name:Ramu\n",
      "id:4\n",
      "id:5\n",
      "name:Raj\n"
     ]
    }
   ],
   "source": [
    "def Student(**kwargs):\n",
    "    for name,id in kwargs.items():\n",
    "      print(f\"{name}:{id}\")\n",
    "\n",
    "s1 = Student(name = \"Ramu\",id = 4)\n",
    "s2 = Student(id = 5,name = \"Raj\")\n",
    "# s3 = Student(\"uvaish\",8)"
   ]
  },
  {
   "cell_type": "markdown",
   "id": "19ed5387-a66d-4f0d-9ab4-1d817b656583",
   "metadata": {},
   "source": [
    "# Lambda Function"
   ]
  },
  {
   "cell_type": "code",
   "execution_count": 31,
   "id": "c1906b10-cfb6-4b75-b322-48e86e4b712a",
   "metadata": {},
   "outputs": [
    {
     "name": "stdout",
     "output_type": "stream",
     "text": [
      "12\n"
     ]
    }
   ],
   "source": [
    "res = lambda x,y:x*y\n",
    "print(res(3,4))"
   ]
  },
  {
   "cell_type": "code",
   "execution_count": 32,
   "id": "709025bc-aa78-4c3c-a606-7b4b268c487f",
   "metadata": {},
   "outputs": [
    {
     "name": "stdout",
     "output_type": "stream",
     "text": [
      "False\n"
     ]
    }
   ],
   "source": [
    "even = lambda num:num%2 == 0\n",
    "print(even(23))"
   ]
  },
  {
   "cell_type": "markdown",
   "id": "c9a4b125-e027-42c8-9c8d-78edb2768372",
   "metadata": {},
   "source": [
    "WAP to find product of 4 numbers and check whether the result is multiple of 5 or not."
   ]
  },
  {
   "cell_type": "code",
   "execution_count": 37,
   "id": "c73a2272-15c6-4ed9-abdb-861f4e5c31f5",
   "metadata": {},
   "outputs": [
    {
     "name": "stdout",
     "output_type": "stream",
     "text": [
      "10\n",
      "True\n"
     ]
    }
   ],
   "source": [
    "pro = lambda a,b,c,d:a*b*c*d\n",
    "d = pro(1,5,2,1)\n",
    "chk = lambda d:d%5==0\n",
    "print(d)\n",
    "print(chk(d))"
   ]
  },
  {
   "cell_type": "code",
   "execution_count": 39,
   "id": "51bb580e-5a2a-413d-966e-6b4fd86c2fb7",
   "metadata": {},
   "outputs": [
    {
     "name": "stdout",
     "output_type": "stream",
     "text": [
      "11\n"
     ]
    }
   ],
   "source": [
    "def add(x,y,operation):\n",
    "    return operation(x,y)\n",
    "\n",
    "res = add(5,6,lambda x,y:x+y)\n",
    "print(res)\n",
    "    "
   ]
  },
  {
   "cell_type": "code",
   "execution_count": 40,
   "id": "a66011e8-fcb8-4154-8763-8d50f0d736a6",
   "metadata": {},
   "outputs": [
    {
     "name": "stdout",
     "output_type": "stream",
     "text": [
      "(11, 30)\n"
     ]
    }
   ],
   "source": [
    "def add(x,y,operation1,operation2):\n",
    "    return operation1(x,y),operation2(x,y)\n",
    "\n",
    "res = add(5,6,lambda x,y:x+y,lambda x,y:x*y)\n",
    "print(res)\n",
    "    "
   ]
  },
  {
   "cell_type": "markdown",
   "id": "806676d1-b10e-423f-83af-faa1cf67d210",
   "metadata": {},
   "source": [
    "create a function that has 2 function in it even and odd return the o/p for a number in form of tuples."
   ]
  },
  {
   "cell_type": "code",
   "execution_count": 43,
   "id": "12e0400b-c4ca-440c-8f9a-507e1492de3d",
   "metadata": {},
   "outputs": [
    {
     "name": "stdout",
     "output_type": "stream",
     "text": [
      "(True, False)\n"
     ]
    }
   ],
   "source": [
    "def Number(x,even,odd):\n",
    "    return even(x),odd(x)\n",
    "\n",
    "res = Number(24,lambda x:x%2==0,lambda x:x%2!=0)\n",
    "print(res)"
   ]
  },
  {
   "cell_type": "code",
   "execution_count": 45,
   "id": "600785fb-d997-4290-96ff-ea41e3e11ad7",
   "metadata": {},
   "outputs": [
    {
     "name": "stdout",
     "output_type": "stream",
     "text": [
      "[1, 4, 9, 16]\n"
     ]
    }
   ],
   "source": [
    "my_lst = [1,2,3,4]\n",
    "my_lst2 = list(map(lambda x:x**2,my_lst))\n",
    "print(my_lst2)"
   ]
  },
  {
   "cell_type": "markdown",
   "id": "3157a790-251e-42fe-be77-b0d4c3758f70",
   "metadata": {},
   "source": [
    "WAP a program to create a list of 5 numbers and return their remainders after dividing it by 2 in form of list."
   ]
  },
  {
   "cell_type": "code",
   "execution_count": 56,
   "id": "2e3439b6-a746-4620-9173-2b4870fad2d8",
   "metadata": {},
   "outputs": [
    {
     "name": "stdin",
     "output_type": "stream",
     "text": [
      "Enter the size of list: 2\n",
      "Enter the 0th elements of list: 23\n",
      "Enter the 1th elements of list: 45\n"
     ]
    },
    {
     "name": "stdout",
     "output_type": "stream",
     "text": [
      "[1, 1]\n"
     ]
    }
   ],
   "source": [
    "size = int(input(\"Enter the size of list:\"))\n",
    "lst = []\n",
    "for i in range(size):\n",
    "    ele = int(input(f\"Enter the {i}th elements of list:\"))\n",
    "    lst.append(ele)\n",
    "\n",
    "lst2 = list(map(lambda x:x%2,lst))\n",
    "print(lst2)"
   ]
  },
  {
   "cell_type": "code",
   "execution_count": 54,
   "id": "aa1c9cfb-c72c-479b-87d4-6b6888638cc1",
   "metadata": {},
   "outputs": [
    {
     "data": {
      "text/plain": [
       "[2, 4]"
      ]
     },
     "execution_count": 54,
     "metadata": {},
     "output_type": "execute_result"
    }
   ],
   "source": [
    "lst = [1,2,3,4]\n",
    "lst2 = list(filter(lambda x:x%2==0,lst))\n",
    "lst2"
   ]
  },
  {
   "cell_type": "code",
   "execution_count": 55,
   "id": "ba7dbc13-5490-4e4e-a630-0cfb3a0255bb",
   "metadata": {},
   "outputs": [
    {
     "name": "stdin",
     "output_type": "stream",
     "text": [
      "Enter the size of list: 5\n",
      "Enter the 0th elements of list: 12\n",
      "Enter the 1th elements of list: 23\n",
      "Enter the 2th elements of list: 33\n",
      "Enter the 3th elements of list: 42\n",
      "Enter the 4th elements of list: 66\n"
     ]
    },
    {
     "data": {
      "text/plain": [
       "[12, 33, 42, 66]"
      ]
     },
     "execution_count": 55,
     "metadata": {},
     "output_type": "execute_result"
    }
   ],
   "source": [
    "size = int(input(\"Enter the size of list:\"))\n",
    "lst = []\n",
    "for i in range(size):\n",
    "    ele = int(input(f\"Enter the {i}th elements of list:\"))\n",
    "    lst.append(ele)\n",
    "\n",
    "lst2 = list(filter(lambda x:x%3==0,lst))\n",
    "lst2"
   ]
  },
  {
   "cell_type": "code",
   "execution_count": 58,
   "id": "1f82fa20-06ef-494b-b377-9607ee176353",
   "metadata": {},
   "outputs": [
    {
     "data": {
      "text/plain": [
       "120"
      ]
     },
     "execution_count": 58,
     "metadata": {},
     "output_type": "execute_result"
    }
   ],
   "source": [
    "from functools import reduce\n",
    "lst = [1,2,3,4,5]\n",
    "lst2 = reduce(lambda x,y:x*y,lst)\n",
    "lst2"
   ]
  },
  {
   "cell_type": "markdown",
   "id": "03bea6f5-6458-40bc-8123-0fad45803125",
   "metadata": {},
   "source": [
    "# Generator in python\n"
   ]
  },
  {
   "cell_type": "code",
   "execution_count": 61,
   "id": "588159f1-fe22-4b1c-b3b8-cf5530d6f1cc",
   "metadata": {},
   "outputs": [
    {
     "name": "stdout",
     "output_type": "stream",
     "text": [
      "1\n",
      "2\n",
      "3\n",
      "4\n"
     ]
    }
   ],
   "source": [
    "def disp(x):\n",
    "    for i in range(1,x+1):\n",
    "        yield i\n",
    "\n",
    "res = disp(5)\n",
    "print(next(res))\n",
    "print(next(res))\n",
    "print(next(res))\n",
    "print(next(res))"
   ]
  },
  {
   "cell_type": "code",
   "execution_count": 66,
   "id": "95acfc1e-7f95-4ae1-a6a3-46710cfe6ac5",
   "metadata": {},
   "outputs": [
    {
     "name": "stdout",
     "output_type": "stream",
     "text": [
      "2\n",
      "4\n",
      "6\n",
      "8\n",
      "10\n"
     ]
    }
   ],
   "source": [
    "def even(n):\n",
    "    for i in range(1,n+1):\n",
    "        if(i%2==0):\n",
    "            yield i\n",
    "res = even(10)\n",
    "\n",
    "for i in even(10):\n",
    "    print(i)"
   ]
  },
  {
   "cell_type": "markdown",
   "id": "13532e67-f938-4d5c-8361-79dfe99a7871",
   "metadata": {},
   "source": [
    "# Most important concept of python Regular Expression Regex"
   ]
  },
  {
   "cell_type": "markdown",
   "id": "04228b77-552d-4577-8b8a-9d90b1a7056e",
   "metadata": {},
   "source": [
    "* wap to check characters starting from a ending with b."
   ]
  },
  {
   "cell_type": "code",
   "execution_count": 73,
   "id": "3e754275-5f2d-4da2-8e2d-55a25c996b4e",
   "metadata": {},
   "outputs": [
    {
     "name": "stdout",
     "output_type": "stream",
     "text": [
      "['adb', 'aeb']\n"
     ]
    }
   ],
   "source": [
    "# . used to ignore the btw characters.\n",
    "import re\n",
    "res = re.findall(r'a.b','abc adb cvb aeb abcdefb')\n",
    "print(res)"
   ]
  },
  {
   "cell_type": "code",
   "execution_count": 78,
   "id": "0b8ce1a9-f765-4f98-a4f0-3e9c3d015c2c",
   "metadata": {},
   "outputs": [
    {
     "name": "stdout",
     "output_type": "stream",
     "text": [
      "['Hello']\n"
     ]
    }
   ],
   "source": [
    "\"^ checks whether the str contains the starting word as given in function.\"\n",
    "import re\n",
    "res = re.findall(r'^Hello','Hello worldHello hi hiworld Hello World')\n",
    "print(res)"
   ]
  },
  {
   "cell_type": "code",
   "execution_count": 81,
   "id": "dc10d35d-96f7-4583-81d6-21aa4d98f2be",
   "metadata": {},
   "outputs": [
    {
     "name": "stdout",
     "output_type": "stream",
     "text": [
      "['Hello']\n"
     ]
    }
   ],
   "source": [
    "\"$ checks whether the str contains the starting word as given in function.\"\n",
    "import re\n",
    "res = re.findall(r'Hello$','Hello worldHello hi hiworld Hello')\n",
    "print(res)"
   ]
  },
  {
   "cell_type": "code",
   "execution_count": 82,
   "id": "968f6d9f-d2f9-43ad-8aff-016776d6434b",
   "metadata": {},
   "outputs": [
    {
     "name": "stdout",
     "output_type": "stream",
     "text": [
      "['cat', 'caaat', 'caat', 'ct']\n"
     ]
    }
   ],
   "source": [
    "'*'\n",
    "import re\n",
    "res = re.findall(r'ca*t','cat caaat caat cbt taac,ct')\n",
    "print(res)"
   ]
  },
  {
   "cell_type": "code",
   "execution_count": 1,
   "id": "f56e6848-f1fc-4cce-8daa-fe320947ef83",
   "metadata": {},
   "outputs": [
    {
     "name": "stdout",
     "output_type": "stream",
     "text": [
      "['cat']\n"
     ]
    }
   ],
   "source": [
    "'+'\n",
    "import re\n",
    "res = re.findall(r'cat','cat caaat caat cbt taac,ct')\n",
    "print(res)"
   ]
  },
  {
   "cell_type": "code",
   "execution_count": 84,
   "id": "0a1ee415-72e3-487d-b1e8-90a16c4a0cca",
   "metadata": {},
   "outputs": [
    {
     "name": "stdout",
     "output_type": "stream",
     "text": [
      "['cat', 'ct']\n"
     ]
    }
   ],
   "source": [
    "'?'\n",
    "import re\n",
    "res = re.findall(r'ca?t','cat caaat caat cbt taac,ct')\n",
    "print(res)"
   ]
  },
  {
   "cell_type": "code",
   "execution_count": 86,
   "id": "e2a077ab-28f3-4edf-b45d-8cb203d20120",
   "metadata": {},
   "outputs": [
    {
     "name": "stdout",
     "output_type": "stream",
     "text": [
      "['a', 'a', 'a', 'a', 'a', 'a', 'a', 'a']\n"
     ]
    }
   ],
   "source": [
    "'{n}'\n",
    "import re\n",
    "res = re.findall(r'a{1}','cat caaat caat cbt taac,ct')\n",
    "print(res)"
   ]
  },
  {
   "cell_type": "code",
   "execution_count": 87,
   "id": "3fbacebb-ac69-45f0-8964-13debff7c72e",
   "metadata": {},
   "outputs": [
    {
     "name": "stdout",
     "output_type": "stream",
     "text": [
      "['aaa', 'aa', 'aa']\n"
     ]
    }
   ],
   "source": [
    "'{n,}'\n",
    "import re\n",
    "res = re.findall(r'a{2,}','cat caaat caat cbt taac,ct')\n",
    "print(res)"
   ]
  },
  {
   "cell_type": "code",
   "execution_count": 90,
   "id": "329ae936-5bf3-444e-b567-aeab2aff7ff7",
   "metadata": {},
   "outputs": [
    {
     "name": "stdout",
     "output_type": "stream",
     "text": [
      "['a', 'aaa', 'aa', 'aa']\n"
     ]
    }
   ],
   "source": [
    "'{n,m}'\n",
    "import re\n",
    "res = re.findall(r'a{1,3}','cat caaat caat cbt taac,ct')\n",
    "print(res)"
   ]
  },
  {
   "cell_type": "code",
   "execution_count": 93,
   "id": "a640dd64-1a13-4260-878c-c27bbd60d8a8",
   "metadata": {},
   "outputs": [
    {
     "name": "stdout",
     "output_type": "stream",
     "text": [
      "['c', 'a', 'c', 'a', 'a', 'a', 'c', 'a', 'a', 'c', 'a', 'a', 'c', 'c']\n"
     ]
    }
   ],
   "source": [
    "'[]'\n",
    "import re\n",
    "res = re.findall(r'[caa]','cat caaat caat cbt taac,ct')\n",
    "print(res)"
   ]
  },
  {
   "cell_type": "code",
   "execution_count": 96,
   "id": "adb909ff-ec31-4dfe-b064-4f253a5a7221",
   "metadata": {},
   "outputs": [
    {
     "name": "stdout",
     "output_type": "stream",
     "text": [
      "['124', '45']\n"
     ]
    }
   ],
   "source": [
    "'\\d'\n",
    "import re\n",
    "res = re.findall(r'\\d+','124 cat caaat caat cbt 45 taac,ct')\n",
    "print(res)"
   ]
  },
  {
   "cell_type": "markdown",
   "id": "bf21a9b6-0d9a-4668-802d-aefde7a49a49",
   "metadata": {},
   "source": [
    "# Dictionary\n"
   ]
  },
  {
   "cell_type": "code",
   "execution_count": 2,
   "id": "b20bdfea-d7f4-4006-b01d-19addad78086",
   "metadata": {},
   "outputs": [],
   "source": [
    "#syntax\n",
    "#dict = {key1:value1,key2:value2:key3:value3......,keyN:valueN}\n"
   ]
  },
  {
   "cell_type": "code",
   "execution_count": 4,
   "id": "54a4f9be-7280-4fd5-a9dd-6f2268a4b2cc",
   "metadata": {},
   "outputs": [
    {
     "name": "stdout",
     "output_type": "stream",
     "text": [
      "{'name': 'aman', 'age': 16, 'course': 'AI/ML'}\n",
      "aman\n",
      "aman\n",
      "None\n",
      "not\n",
      "aman\n"
     ]
    }
   ],
   "source": [
    "student = {\n",
    "    \"name\":\"aman\",\n",
    "    \"age\":21,\n",
    "    \"course\":\"AI/ML\"\n",
    "}\n",
    "# student[\"address\"]=\"Jabalpur\"\n",
    "student[\"age\"]=16\n",
    "print(student)\n",
    "print(student[\"name\"])\n",
    "print(student.get(\"name\"))\n",
    "#print(student[\"address\"])\n",
    "print(student.get(\"address\"))\n",
    "print(student.get(\"address\",\"not\")) #most Preferable.\n",
    "print(student.get(\"name\",\"Not Available\")) #most Preferable."
   ]
  },
  {
   "cell_type": "code",
   "execution_count": 32,
   "id": "a28f026a-0dd9-42b2-b879-0ce594a4d0dd",
   "metadata": {},
   "outputs": [
    {
     "data": {
      "text/plain": [
       "'AI/ML'"
      ]
     },
     "execution_count": 32,
     "metadata": {},
     "output_type": "execute_result"
    }
   ],
   "source": [
    "student.pop(\"course\")"
   ]
  },
  {
   "cell_type": "code",
   "execution_count": 33,
   "id": "9ac42a1b-3a71-490e-aafc-ec0da0feeb90",
   "metadata": {},
   "outputs": [
    {
     "name": "stdout",
     "output_type": "stream",
     "text": [
      "{'name': 'aman', 'age': 16, 'address': 'Jabalpur'}\n"
     ]
    }
   ],
   "source": [
    "print(student)"
   ]
  },
  {
   "cell_type": "code",
   "execution_count": 34,
   "id": "3ed3d5d0-a9ee-4101-af6b-91d64eda318b",
   "metadata": {},
   "outputs": [
    {
     "name": "stdout",
     "output_type": "stream",
     "text": [
      "{'name': 'aman', 'address': 'Jabalpur'}\n"
     ]
    }
   ],
   "source": [
    "del student[\"age\"]\n",
    "print(student)"
   ]
  },
  {
   "cell_type": "code",
   "execution_count": 36,
   "id": "23275f15-4c81-4aa0-bf33-e3459f231c52",
   "metadata": {},
   "outputs": [
    {
     "name": "stdout",
     "output_type": "stream",
     "text": [
      "{}\n"
     ]
    }
   ],
   "source": [
    "student.popitem()\n",
    "student.clear()\n",
    "print(student)"
   ]
  },
  {
   "cell_type": "code",
   "execution_count": 46,
   "id": "11e4a583-ba7c-40c4-9b2f-8dcd381538e7",
   "metadata": {},
   "outputs": [
    {
     "name": "stdout",
     "output_type": "stream",
     "text": [
      "a\n",
      "b\n",
      "c\n",
      "d\n",
      "e\n",
      "1\n",
      "6\n",
      "3\n",
      "4\n",
      "5\n",
      "a:1\n",
      "b:6\n",
      "c:3\n",
      "d:4\n",
      "e:5\n"
     ]
    }
   ],
   "source": [
    "dict = {'a':1,'b':2,'a':1,'c':3,'d':4,'e':5,'b':6}\n",
    "for key in dict:\n",
    "    print(key)\n",
    "\n",
    "for value in dict.values():\n",
    "    print(value)\n",
    "\n",
    "for key,value in dict.items():\n",
    "    print(f\"{key}:{value}\")"
   ]
  },
  {
   "cell_type": "markdown",
   "id": "a2286311-7f8e-40f5-973c-dddd09a338d8",
   "metadata": {},
   "source": [
    "* WAP to count te frequency of word?"
   ]
  },
  {
   "cell_type": "code",
   "execution_count": 1,
   "id": "20ffc34f-213b-4805-98e5-a85d1615b9dc",
   "metadata": {},
   "outputs": [
    {
     "name": "stdout",
     "output_type": "stream",
     "text": [
      "{'Hello': 2, 'Java': 1, 'Python': 1}\n"
     ]
    }
   ],
   "source": [
    "word = \"Hello Java Hello Python\"\n",
    "word_count ={}\n",
    "\n",
    "for words in word.split():\n",
    "    word_count[words] = word_count.get(words,0)+1\n",
    "\n",
    "print(word_count)"
   ]
  },
  {
   "cell_type": "code",
   "execution_count": 17,
   "id": "febf12f0-5a91-4c05-b2a7-51c07405a0d2",
   "metadata": {},
   "outputs": [
    {
     "name": "stdout",
     "output_type": "stream",
     "text": [
      "{'a': 3, 'b': 2, 'c': 1, 'd': 1}\n",
      "3\n"
     ]
    }
   ],
   "source": [
    "str = \"a,b,a,c,b,d,a\"\n",
    "dict = {}\n",
    "for i in str.split(\",\"):\n",
    "    dict[i] = dict.get(i,0)+1\n",
    "\n",
    "print(dict)\n",
    "print(dict['a'])"
   ]
  },
  {
   "cell_type": "markdown",
   "id": "6a031d91-d70d-4b9e-98f9-4b99951e1822",
   "metadata": {},
   "source": [
    "* WAP to print the majority element in the list."
   ]
  },
  {
   "cell_type": "code",
   "execution_count": 21,
   "id": "a1caa151-368f-4ac0-8717-bf7ef7ef80a8",
   "metadata": {},
   "outputs": [
    {
     "name": "stdout",
     "output_type": "stream",
     "text": [
      "2\n"
     ]
    }
   ],
   "source": [
    "lst = [1,2,3,2,2,2,2,1,3,4,1,2,2,2,2,2,2]\n",
    "n = len(lst)\n",
    "dict = {}\n",
    "\n",
    "for i in lst:\n",
    "    dict[i]=dict.get(i,0)+1\n",
    "for key,value in dict.items():\n",
    "    if(value>n//2):\n",
    "        print(key)\n",
    "        break"
   ]
  },
  {
   "cell_type": "markdown",
   "id": "c1310f13-7954-496d-96c7-043274253798",
   "metadata": {},
   "source": [
    "* majority 2 = WAP to find the majority element."
   ]
  },
  {
   "cell_type": "code",
   "execution_count": 29,
   "id": "f168c8ba-bfcb-4ec2-bc54-a445e516e956",
   "metadata": {},
   "outputs": [
    {
     "name": "stdout",
     "output_type": "stream",
     "text": [
      "[2, 4]\n"
     ]
    }
   ],
   "source": [
    "lst = [1,2,3,2,2,2,2,2,2,2,2,2,2,1,3,4,1,2,2,2,2,2,2,4,4,4,4,4,4,4,4,4,4,4,4,4,4,44,4,4,4,4]\n",
    "n = len(lst)\n",
    "dict = {}\n",
    "lst1 =[]\n",
    "\n",
    "for i in lst:\n",
    "    dict[i] = dict.get(i,0)+1\n",
    "    \n",
    "for key,value in dict.items():\n",
    "    if(value>n//3):\n",
    "        lst1.append(key)\n",
    "        \n",
    "\n",
    "print(lst1)        \n",
    "        "
   ]
  },
  {
   "cell_type": "markdown",
   "id": "3243b425-fee9-499f-9f0a-69bfcebeebdd",
   "metadata": {},
   "source": [
    "* WAP to count the frequency of characters in a given string"
   ]
  },
  {
   "cell_type": "code",
   "execution_count": 33,
   "id": "772f99bc-5235-4ac6-8759-02ce11bcdd15",
   "metadata": {},
   "outputs": [
    {
     "name": "stdout",
     "output_type": "stream",
     "text": [
      "{'r': 2, 'e': 3, 'm': 3, 'b': 1}\n"
     ]
    }
   ],
   "source": [
    "word = \"remmember\"\n",
    "word_count ={}\n",
    "\n",
    "for words in word:\n",
    "    word_count[words] = word_count.get(words,0)+1\n",
    "\n",
    "print(word_count)"
   ]
  },
  {
   "cell_type": "markdown",
   "id": "11fdb878-a8b6-4f59-988b-d82180334a8c",
   "metadata": {},
   "source": [
    "# Dictionary Comprehension"
   ]
  },
  {
   "cell_type": "code",
   "execution_count": 34,
   "id": "52fe3474-1fe1-4c83-9153-ad825854e088",
   "metadata": {},
   "outputs": [
    {
     "name": "stdout",
     "output_type": "stream",
     "text": [
      "1:1\n",
      "2:4\n",
      "3:9\n",
      "4:16\n"
     ]
    }
   ],
   "source": [
    "dict = {1:1,2:2,3:3,4:4}\n",
    "for key,value in dict.items():\n",
    "    dict[key] = value**2\n",
    "\n",
    "for key,value in dict.items():\n",
    "    print(f\"{key}:{value}\")"
   ]
  },
  {
   "cell_type": "code",
   "execution_count": 36,
   "id": "8c0651b0-e2cc-46a1-a418-7e23fda7b37b",
   "metadata": {},
   "outputs": [
    {
     "name": "stdout",
     "output_type": "stream",
     "text": [
      "{1: 1, 2: 4, 3: 9, 4: 16}\n"
     ]
    }
   ],
   "source": [
    "dict = {x:x**2 for x in range(1,5)}\n",
    "print(dict)"
   ]
  },
  {
   "cell_type": "markdown",
   "id": "5ffb7dfe-687d-4f3a-858a-62de8832a4b6",
   "metadata": {},
   "source": [
    "* WAP to swap key and values "
   ]
  },
  {
   "cell_type": "code",
   "execution_count": 43,
   "id": "2e9f7868-8d19-48e6-b9c5-d0d65eb17348",
   "metadata": {},
   "outputs": [
    {
     "name": "stdout",
     "output_type": "stream",
     "text": [
      "1:a\n",
      "2:b\n",
      "3:c\n",
      "4:d\n",
      "{'a': 1, 'b': 2, 'c': 3, 'd': 4}\n"
     ]
    }
   ],
   "source": [
    "dict = {'a':1,'b':2,'c':3,'d':4}\n",
    "dict1 ={}\n",
    "for key,value in dict.items():\n",
    "     print(f\"{value}:{key}\")\n",
    "print(dict)"
   ]
  },
  {
   "cell_type": "code",
   "execution_count": 45,
   "id": "3fd2132c-ff92-40bd-80d3-f576c2ca5a98",
   "metadata": {},
   "outputs": [
    {
     "name": "stdout",
     "output_type": "stream",
     "text": [
      "{1: 'a', 2: 'b', 3: 'c', 4: 'd'}\n"
     ]
    }
   ],
   "source": [
    "dict = {'a':1,'b':2,'c':3,'d':4}\n",
    "dict1 ={}\n",
    "\n",
    "for key,value in dict.items():\n",
    "    dict1[value]=key\n",
    "\n",
    "print(dict1)"
   ]
  },
  {
   "cell_type": "markdown",
   "id": "e3a303b2-0d53-4d52-afb2-1a88786ca6ea",
   "metadata": {},
   "source": [
    "* WAP to find common keys into two dictionaries"
   ]
  },
  {
   "cell_type": "code",
   "execution_count": 49,
   "id": "3cf320de-c7ce-47b6-84c7-dacb9ac6ba5a",
   "metadata": {},
   "outputs": [
    {
     "name": "stdout",
     "output_type": "stream",
     "text": [
      "['b', 'd', 'e']\n"
     ]
    }
   ],
   "source": [
    "a = {'a':1,'b':2,'c':3,'d':4,'e':5,'f':6}\n",
    "b = {'abc':454,'b':343,'cds':342,'d':454,'ewe':523,'fhg':611,'e':21}\n",
    "lst = []\n",
    "for keys,value in a.items():\n",
    "    for i,j in b.items():\n",
    "        if(keys==i):\n",
    "         lst.append(keys)\n",
    "print(lst)"
   ]
  },
  {
   "cell_type": "markdown",
   "id": "c25b45e3-83c4-4f64-86af-d14b3da56536",
   "metadata": {},
   "source": [
    "# List Comprehension"
   ]
  },
  {
   "cell_type": "code",
   "execution_count": 51,
   "id": "b9046d86-ae87-43e7-9b03-91db6d5730d3",
   "metadata": {},
   "outputs": [
    {
     "name": "stdin",
     "output_type": "stream",
     "text": [
      "Enter the size of list: 4\n",
      "Enter the element: 12\n",
      "Enter the element: 32\n",
      "Enter the element: 22\n",
      "Enter the element: 1\n"
     ]
    },
    {
     "name": "stdout",
     "output_type": "stream",
     "text": [
      "[12, 32, 22, 1]\n"
     ]
    }
   ],
   "source": [
    "n = int(input(\"Enter the size of list:\"))\n",
    "lst = [int(input(\"Enter the element:\")) for i in range(n)]\n",
    "print(lst)"
   ]
  },
  {
   "cell_type": "code",
   "execution_count": 52,
   "id": "9bbe8528-f6e0-42e9-a51e-cc4bad9efd86",
   "metadata": {},
   "outputs": [
    {
     "name": "stdin",
     "output_type": "stream",
     "text": [
      "Enter the number of rows: 2\n",
      "Enter the number of columns: 2\n",
      "Enter the element: 1\n",
      "Enter the element: 3\n",
      "Enter the element: 4\n",
      "Enter the element: 5\n"
     ]
    },
    {
     "name": "stdout",
     "output_type": "stream",
     "text": [
      "[[1, 3], [4, 5]]\n"
     ]
    }
   ],
   "source": [
    "row = int(input(\"Enter the number of rows:\"))\n",
    "col = int(input(\"Enter the number of columns:\"))\n",
    "lst = [[int(input(\"Enter the element:\")) for i in range(col)]for j in range(row)]\n",
    "print(lst)"
   ]
  },
  {
   "cell_type": "markdown",
   "id": "b792a50a-3b58-44b1-a4c4-e925646ee3ec",
   "metadata": {},
   "source": [
    "* WAP to create two matrix and find the addition of the matrix."
   ]
  },
  {
   "cell_type": "code",
   "execution_count": 61,
   "id": "653eba1d-dd65-476b-af11-5a014dc3ded3",
   "metadata": {},
   "outputs": [
    {
     "name": "stdin",
     "output_type": "stream",
     "text": [
      "Enter the number of rows1: 2\n",
      "Enter the number of columns1: 2\n",
      "Enter the element: 1\n",
      "Enter the element: 2\n",
      "Enter the element: 3\n",
      "Enter the element: 4\n"
     ]
    },
    {
     "name": "stdout",
     "output_type": "stream",
     "text": [
      "[[1, 2], [3, 4]]\n"
     ]
    },
    {
     "name": "stdin",
     "output_type": "stream",
     "text": [
      "Enter the number of rows2: 2\n",
      "Enter the number of columns2: 2\n",
      "Enter the element: 6\n",
      "Enter the element: 6\n",
      "Enter the element: 5\n",
      "Enter the element: 6\n"
     ]
    },
    {
     "name": "stdout",
     "output_type": "stream",
     "text": [
      "[[6, 6], [5, 6]]\n",
      "The sum of two lists are: [[7, 8], [8, 10]]\n"
     ]
    }
   ],
   "source": [
    "row1 = int(input(\"Enter the number of rows1:\"))\n",
    "col1 = int(input(\"Enter the number of columns1:\"))\n",
    "lst1 = [[int(input(\"Enter the element:\")) for i in range(col1)]for j in range(row1)]\n",
    "print(lst1)\n",
    "row2 = int(input(\"Enter the number of rows2:\"))\n",
    "col2 = int(input(\"Enter the number of columns2:\"))\n",
    "lst2= [[int(input(\"Enter the element:\")) for i in range(col2)]for j in range(row2)]\n",
    "print(lst2)\n",
    "lst = [[lst1[i][j] + lst2[i][j] for j in range(len(lst1[0]))]for i in range(len(lst1))]\n",
    "print(\"The sum of two lists are:\",lst)\n"
   ]
  },
  {
   "cell_type": "markdown",
   "id": "8801b9a1-29c1-4dfc-8efd-f5b2d88caa28",
   "metadata": {},
   "source": [
    "# Join Function\n",
    "->To convert the list into the string."
   ]
  },
  {
   "cell_type": "code",
   "execution_count": 72,
   "id": "f667b07f-2f16-4a39-9e61-fc49a2628a01",
   "metadata": {},
   "outputs": [
    {
     "name": "stdout",
     "output_type": "stream",
     "text": [
      "['classes', 'python', 'the', 'to', 'welcome', 'Hi,']\n",
      "classes python the to welcome Hi,\n"
     ]
    }
   ],
   "source": [
    "str = \"Hi, welcome to the python classes\"\n",
    "lst = str.split()\n",
    "lst.reverse()\n",
    "str2= \" \".join(lst)\n",
    "print(lst)\n",
    "print(str2)"
   ]
  },
  {
   "cell_type": "markdown",
   "id": "1b4bf85d-6608-4a45-b927-4ebfb24bcdc6",
   "metadata": {},
   "source": [
    "# *Introduction to Pandas and Numpy*"
   ]
  },
  {
   "cell_type": "code",
   "execution_count": 75,
   "id": "876f9780-9035-46bc-aa59-da1bf778e276",
   "metadata": {},
   "outputs": [
    {
     "name": "stdout",
     "output_type": "stream",
     "text": [
      "1.26.4\n",
      "2.1.4\n"
     ]
    }
   ],
   "source": [
    "import numpy as np\n",
    "import pandas as pd\n",
    "print(numpy.__version__)\n",
    "print(pandas.__version__)\n"
   ]
  },
  {
   "cell_type": "code",
   "execution_count": 83,
   "id": "24280b4d-7ee9-471a-96cd-899313687525",
   "metadata": {},
   "outputs": [
    {
     "name": "stdout",
     "output_type": "stream",
     "text": [
      "[1 2 3 4 5]\n"
     ]
    }
   ],
   "source": [
    "import numpy as np\n",
    "lst = np.array([1,2,3,4,5])\n",
    "print(lst)"
   ]
  },
  {
   "cell_type": "code",
   "execution_count": 84,
   "id": "d714be63-287a-4533-bd72-6d9530283484",
   "metadata": {},
   "outputs": [
    {
     "name": "stdin",
     "output_type": "stream",
     "text": [
      "Enter the number of rows: 3\n",
      "Enter the number of columns: 3\n",
      "Enter the element: 1\n",
      "Enter the element: 2\n",
      "Enter the element: 3\n",
      "Enter the element: 4\n",
      "Enter the element: 5\n",
      "Enter the element: 6\n",
      "Enter the element: 7\n",
      "Enter the element: 8\n",
      "Enter the element: 9\n"
     ]
    },
    {
     "name": "stdout",
     "output_type": "stream",
     "text": [
      "[[1 2 3]\n",
      " [4 5 6]\n",
      " [7 8 9]]\n"
     ]
    }
   ],
   "source": [
    "row = int(input(\"Enter the number of rows:\"))\n",
    "col = int(input(\"Enter the number of columns:\"))\n",
    "lst = [[int(input(\"Enter the element:\")) for i in range(col)]for j in range(row)]\n",
    "arr = np.array(lst)\n",
    "print(arr)"
   ]
  },
  {
   "cell_type": "code",
   "execution_count": 91,
   "id": "af9f5099-1bc1-4c42-ac60-8ae26647ffa1",
   "metadata": {},
   "outputs": [
    {
     "name": "stdout",
     "output_type": "stream",
     "text": [
      "[[0. 0.]\n",
      " [0. 0.]]\n",
      "[[1. 1.]\n",
      " [1. 1.]]\n",
      "[[0.27918113 0.75124792]\n",
      " [0.56296558 0.83629147]]\n"
     ]
    }
   ],
   "source": [
    "import random \n",
    "arr = np.zeros((2,2))\n",
    "print(arr)\n",
    "arr2 = np.ones((2,2))\n",
    "print(arr2)\n",
    "\n",
    "arr3 = np.random.rand(2,2)\n",
    "print(arr3)"
   ]
  },
  {
   "cell_type": "code",
   "execution_count": 94,
   "id": "b1239880-83c3-4043-a0cc-528a4081256c",
   "metadata": {},
   "outputs": [
    {
     "name": "stdout",
     "output_type": "stream",
     "text": [
      "[ 1  3  5  7  9 11 13 15]\n"
     ]
    }
   ],
   "source": [
    "arr = np.arange(1,16,2)\n",
    "print(arr)"
   ]
  },
  {
   "cell_type": "code",
   "execution_count": 96,
   "id": "560ea2b5-6883-48a5-8825-bef9ef1b2bbe",
   "metadata": {},
   "outputs": [
    {
     "name": "stdout",
     "output_type": "stream",
     "text": [
      "[1.  1.2 1.4 1.6 1.8 2. ]\n"
     ]
    }
   ],
   "source": [
    "arr = np.linspace(1,2,6) #Takes in 6 equal fragments.\n",
    "print(arr)"
   ]
  },
  {
   "cell_type": "code",
   "execution_count": 100,
   "id": "94848e55-9721-4d1d-94d9-007cc701f62d",
   "metadata": {},
   "outputs": [
    {
     "name": "stdout",
     "output_type": "stream",
     "text": [
      "[1.  1.5 2. ]\n"
     ]
    }
   ],
   "source": [
    "arr = np.linspace(1,2,3) #Takes in 6 equal fragments.\n",
    "print(arr)"
   ]
  },
  {
   "cell_type": "code",
   "execution_count": 105,
   "id": "a63675ab-90cd-44d6-8c32-4a7e126a936f",
   "metadata": {},
   "outputs": [
    {
     "name": "stdout",
     "output_type": "stream",
     "text": [
      "[ 6  7  8  9 10]\n",
      "[ 2  4  6  8 10]\n"
     ]
    }
   ],
   "source": [
    "arr = np.array([1,2,3,4,5])\n",
    "print(arr+5)\n",
    "print(arr*2)"
   ]
  },
  {
   "cell_type": "code",
   "execution_count": 109,
   "id": "03fa149a-a3fc-4bff-bab7-0d885cbd4bbc",
   "metadata": {},
   "outputs": [
    {
     "name": "stdout",
     "output_type": "stream",
     "text": [
      "The sum of two arrays: [ 7  8 10 12]\n",
      "The product of two arrays: [ 6 12 21 32]\n"
     ]
    }
   ],
   "source": [
    "arr = np.array([1,2,3,4])\n",
    "arr1 = np.array([6,6,7,8])\n",
    "print(\"The sum of two arrays:\",arr+arr1)\n",
    "print(\"The product of two arrays:\",arr*arr1)"
   ]
  },
  {
   "cell_type": "code",
   "execution_count": 173,
   "id": "aed31204-272c-45c0-b36a-0c943cc4c631",
   "metadata": {},
   "outputs": [
    {
     "name": "stdin",
     "output_type": "stream",
     "text": [
      "Enter the number of columns1: 1\n",
      "Enter the element: 1\n",
      "Enter the element: 1\n"
     ]
    },
    {
     "name": "stdout",
     "output_type": "stream",
     "text": [
      "[[1], [1]]\n"
     ]
    },
    {
     "name": "stdin",
     "output_type": "stream",
     "text": [
      "Enter the number of rows2: 1\n",
      "Enter the number of columns2: 1\n",
      "Enter the element: 1\n"
     ]
    },
    {
     "name": "stdout",
     "output_type": "stream",
     "text": [
      "[[1]]\n",
      "The sum of 2 arrays are: [[2]\n",
      " [2]]\n",
      "The sum of 2 arrays are: [[1]\n",
      " [1]]\n"
     ]
    }
   ],
   "source": [
    "# row1 = int(input(\"Enter the number of rows1:\"))\n",
    "col1 = int(input(\"Enter the number of columns1:\"))\n",
    "lst1 = [[int(input(\"Enter the element:\")) for i in range(col1)]for j in range(row1)]\n",
    "print(lst1)\n",
    "row2 = int(input(\"Enter the number of rows2:\"))\n",
    "col2 = int(input(\"Enter the number of columns2:\"))\n",
    "lst2= [[int(input(\"Enter the element:\")) for i in range(col2)]for j in range(row2)]\n",
    "arr = np.array(lst1)\n",
    "arr1 = np.array(lst2)\n",
    "print(lst2)\n",
    "print(\"The sum of 2 arrays are:\",arr+arr1)\n",
    "print(\"The sum of 2 arrays are:\",arr*arr1)"
   ]
  },
  {
   "cell_type": "code",
   "execution_count": 120,
   "id": "7a969875-fbeb-4838-913b-369fba2ed46c",
   "metadata": {},
   "outputs": [
    {
     "name": "stdout",
     "output_type": "stream",
     "text": [
      "[ 3.16227766 10.         31.6227766 ]\n",
      "[-0.54402111 -0.50636564  0.82687954]\n",
      "[2.30258509 4.60517019 6.90775528]\n"
     ]
    }
   ],
   "source": [
    "arr = np.array([10,100,1000])\n",
    "print(np.sqrt(arr))\n",
    "print(np.sin(arr))\n",
    "print(np.log(arr)) #Base 2(natura log)"
   ]
  },
  {
   "cell_type": "code",
   "execution_count": 124,
   "id": "de0eab08-b822-433a-98f7-0866aac67e7b",
   "metadata": {},
   "outputs": [
    {
     "name": "stdout",
     "output_type": "stream",
     "text": [
      "4.0\n",
      "2.0\n",
      "28\n",
      "[4 5 6 7]\n"
     ]
    }
   ],
   "source": [
    "arr = np.array([1,2,3,4,5,6,7])\n",
    "print(np.mean(arr))\n",
    "print(np.std(arr)) #mean/2. \n",
    "print(np.sum(arr))\n",
    "print(arr[arr>3])"
   ]
  },
  {
   "cell_type": "markdown",
   "id": "29c08062-ef30-4020-864b-94c27d359d29",
   "metadata": {},
   "source": [
    "* WAP to create a numpy array of numbers from 1-9 and reshape it into a 3X3 matrix"
   ]
  },
  {
   "cell_type": "code",
   "execution_count": 125,
   "id": "06d3546b-499a-40f9-a196-e550f435768e",
   "metadata": {},
   "outputs": [
    {
     "name": "stdout",
     "output_type": "stream",
     "text": [
      "[1 2 3 4 5 6 7 8 9]\n"
     ]
    }
   ],
   "source": [
    "# col1 = int(input(\"Enter the number of columns1:\"))\n",
    "# lst1 = [[int(input(\"Enter the element:\")) for i in range(col1)]for j in range(row1)]\n",
    "# print(lst1)\n",
    "# row2 = int(input(\"Enter the number of rows2:\"))\n",
    "# col2 = int(input(\"Enter the number of columns2:\"))\n",
    "# lst2= [[int(input(\"Enter the element:\")) for i in range(col2)]for j in range(row2)]"
   ]
  },
  {
   "cell_type": "code",
   "execution_count": 128,
   "id": "a1962638-f06c-4f3f-82b3-9115e9105600",
   "metadata": {},
   "outputs": [
    {
     "name": "stdout",
     "output_type": "stream",
     "text": [
      "[[1 2 3]\n",
      " [4 5 6]\n",
      " [7 8 9]]\n"
     ]
    }
   ],
   "source": [
    "#1st Approach.\n",
    "# lst = [x for x in range(1,10)]\n",
    "arr = np.arange(1,10).reshape(3,3)\n",
    "print(arr)\n"
   ]
  },
  {
   "cell_type": "code",
   "execution_count": 129,
   "id": "b466f50b-e657-4363-98b6-b19f47223e2f",
   "metadata": {},
   "outputs": [
    {
     "name": "stdout",
     "output_type": "stream",
     "text": [
      "[[1 2 3]\n",
      " [4 5 6]\n",
      " [7 8 9]]\n"
     ]
    }
   ],
   "source": [
    "#2nd approach.\n",
    "lst = [x for x in range(1,10)]\n",
    "arr = np.array(lst).reshape(3,3)\n",
    "print(arr)\n"
   ]
  },
  {
   "cell_type": "markdown",
   "id": "b830a0b0-492c-42e9-87d5-14716f917366",
   "metadata": {},
   "source": [
    "* WAP to find the max and min value in an array.\n",
    "  "
   ]
  },
  {
   "cell_type": "code",
   "execution_count": 135,
   "id": "e6569661-b698-4563-82dc-c0ec19c70edc",
   "metadata": {},
   "outputs": [
    {
     "name": "stdout",
     "output_type": "stream",
     "text": [
      "The minimum element is: 1\n",
      "The maximum array is 9\n"
     ]
    }
   ],
   "source": [
    "lst = [x for x in range(1,10)]\n",
    "# arr = np.min(lst)\n",
    "# arr1 = np.max(lst)\n",
    "print(\"The minimum element is:\",np.min(lst))\n",
    "print(\"The maximum array is\",np.max(lst))"
   ]
  },
  {
   "cell_type": "markdown",
   "id": "c233fde3-4fae-4b17-96b1-6146990cee38",
   "metadata": {},
   "source": [
    "* WAP to find the transpose of the matrix and inverse."
   ]
  },
  {
   "cell_type": "code",
   "execution_count": 178,
   "id": "1896e7cf-0b76-46a2-b550-0d829d9a15d9",
   "metadata": {},
   "outputs": [
    {
     "name": "stdout",
     "output_type": "stream",
     "text": [
      "[[1 3]\n",
      " [2 4]]\n",
      "-2.0000000000000004\n",
      "[[-2.   1. ]\n",
      " [ 1.5 -0.5]]\n"
     ]
    }
   ],
   "source": [
    "arr = np.array([[1,2],[3,4]])\n",
    "print(np.transpose(arr))\n",
    "det = np.linalg.det(arr)\n",
    "print(det)\n",
    "if(det!=0):\n",
    "    inv = np.linalg.inv(arr)\n",
    "    print(inv)\n",
    "else:\n",
    "    print(\"Inverse is not possible\")\n",
    "# print(np.linalg.inv(arr))"
   ]
  },
  {
   "cell_type": "markdown",
   "id": "a9419621-f39e-4a97-aa11-5865b9b38588",
   "metadata": {},
   "source": [
    "* WAP to convert 2X2 matrix into 1d)"
   ]
  },
  {
   "cell_type": "code",
   "execution_count": 179,
   "id": "db3fdf23-7f7d-4c4e-ba2a-eb7cdb42152b",
   "metadata": {},
   "outputs": [
    {
     "name": "stdout",
     "output_type": "stream",
     "text": [
      "[1 2 3 4]\n"
     ]
    }
   ],
   "source": [
    "arr = np.array([[1,2],[3,4]])\n",
    "arr1 = np.array(arr).flatten()\n",
    "print(arr1)"
   ]
  },
  {
   "cell_type": "markdown",
   "id": "e06b823c-23ca-442e-b9f7-964947a9c969",
   "metadata": {},
   "source": [
    "* Split a 1D array in 3 parts."
   ]
  },
  {
   "cell_type": "code",
   "execution_count": 180,
   "id": "67367a3a-0cea-450e-82e9-7af61e89ac83",
   "metadata": {},
   "outputs": [
    {
     "name": "stdout",
     "output_type": "stream",
     "text": [
      "[array([1, 2, 3, 4]), array([5, 6, 7, 8]), array([ 9, 10, 11])]\n",
      "part 1: [1 2 3 4]\n",
      "part 2: [5 6 7 8]\n",
      "part 3: [ 9 10 11]\n"
     ]
    }
   ],
   "source": [
    "arr = [i for i in range(1,12)]\n",
    "parts = np.array_split(arr,3)\n",
    "print(parts)\n",
    "for i,j in enumerate(parts,1):\n",
    "    print(f\"part {i}:\",j)"
   ]
  },
  {
   "cell_type": "code",
   "execution_count": 39,
   "id": "bfe92e82-591b-409c-bd22-ffff0e2e0279",
   "metadata": {},
   "outputs": [
    {
     "name": "stdout",
     "output_type": "stream",
     "text": [
      "0    1\n",
      "1    2\n",
      "2    3\n",
      "3    4\n",
      "4    5\n",
      "5    6\n",
      "6    7\n",
      "dtype: int64\n"
     ]
    }
   ],
   "source": [
    "import pandas as pd\n",
    "data = pd.Series([1,2,3,4,5,6,7])\n",
    "print(data)\n"
   ]
  },
  {
   "cell_type": "code",
   "execution_count": 40,
   "id": "f6fe1d54-1437-4682-830a-dd4fa5d93290",
   "metadata": {},
   "outputs": [
    {
     "name": "stdout",
     "output_type": "stream",
     "text": [
      "       Name  Age  Salary\n",
      "0      Aman   25   30000\n",
      "1    Prince   24   50000\n",
      "2  Priyanka   25   25000\n",
      "3     Rohit   26   40000\n"
     ]
    }
   ],
   "source": [
    "data = pd.DataFrame({\n",
    "    \"Name\":[\"Aman\",\"Prince\",\"Priyanka\",\"Rohit\"],\n",
    "     \"Age\":[25,24,25,26],\n",
    "     \"Salary\" :[30000,50000,25000,40000]\n",
    "})\n",
    "print(data)"
   ]
  },
  {
   "cell_type": "code",
   "execution_count": 41,
   "id": "7d8eb3ae-9331-4f81-8ef2-43f3d7c6ff9f",
   "metadata": {},
   "outputs": [
    {
     "name": "stdout",
     "output_type": "stream",
     "text": [
      "       Name   Age Branch  SGPA  CGPA      Address\n",
      "0     Vedant   20  AI/ML  7.77  7.75      Tilheri\n",
      "1      Jatin   20  AI/ML  7.10  7.20  Madan Mahal\n",
      "2  Shambhavi   21  AI/ML  7.75  7.45         RDVV\n",
      "3       Urja   21  AI/ML  7.58  7.68        Ukhri\n",
      "4       Yash   20    IOT  7.50  7.46   Aaga chowk\n"
     ]
    }
   ],
   "source": [
    "data = pd.read_csv(r'C:\\Users\\DELL\\Downloads\\Student_details.csv - Sheet1.csv')\n",
    "print(data)"
   ]
  },
  {
   "cell_type": "code",
   "execution_count": 42,
   "id": "cd7f1025-a3ef-4519-908a-d7c68360f3d2",
   "metadata": {},
   "outputs": [
    {
     "name": "stdout",
     "output_type": "stream",
     "text": [
      "       Name   Age Branch  SGPA  CGPA      Address\n",
      "0     Vedant   20  AI/ML  7.77  7.75      Tilheri\n",
      "1      Jatin   20  AI/ML  7.10  7.20  Madan Mahal\n",
      "2  Shambhavi   21  AI/ML  7.75  7.45         RDVV\n",
      "3       Urja   21  AI/ML  7.58  7.68        Ukhri\n",
      "4       Yash   20    IOT  7.50  7.46   Aaga chowk\n"
     ]
    }
   ],
   "source": [
    "print(data.head())"
   ]
  },
  {
   "cell_type": "code",
   "execution_count": 43,
   "id": "98485cca-b396-429a-8d0c-8e44eb97496b",
   "metadata": {},
   "outputs": [
    {
     "name": "stdout",
     "output_type": "stream",
     "text": [
      "       Name   Age Branch  SGPA  CGPA      Address\n",
      "0     Vedant   20  AI/ML  7.77  7.75      Tilheri\n",
      "1      Jatin   20  AI/ML  7.10  7.20  Madan Mahal\n",
      "2  Shambhavi   21  AI/ML  7.75  7.45         RDVV\n",
      "3       Urja   21  AI/ML  7.58  7.68        Ukhri\n",
      "4       Yash   20    IOT  7.50  7.46   Aaga chowk\n"
     ]
    }
   ],
   "source": [
    "print(data.tail())"
   ]
  },
  {
   "cell_type": "code",
   "execution_count": 44,
   "id": "2ce15532-73a0-4e02-83f8-60e6b64f2159",
   "metadata": {},
   "outputs": [
    {
     "name": "stdout",
     "output_type": "stream",
     "text": [
      "       Name   Age Branch  SGPA  CGPA Address\n",
      "2  Shambhavi   21  AI/ML  7.75  7.45    RDVV\n",
      "3       Urja   21  AI/ML  7.58  7.68   Ukhri\n"
     ]
    }
   ],
   "source": [
    "print(data[data[\"Age\"]>20])"
   ]
  },
  {
   "cell_type": "code",
   "execution_count": 45,
   "id": "bf93d90f-666f-4fc7-aa75-9959b6cefefa",
   "metadata": {},
   "outputs": [
    {
     "name": "stdout",
     "output_type": "stream",
     "text": [
      "       Name   Age Branch  CGPA      Address\n",
      "0     Vedant   20  AI/ML  7.75      Tilheri\n",
      "1      Jatin   20  AI/ML  7.20  Madan Mahal\n",
      "2  Shambhavi   21  AI/ML  7.45         RDVV\n",
      "3       Urja   21  AI/ML  7.68        Ukhri\n",
      "4       Yash   20    IOT  7.46   Aaga chowk\n"
     ]
    }
   ],
   "source": [
    "data.drop(\"SGPA\",axis=1,inplace=True)\n",
    "print(data)"
   ]
  },
  {
   "cell_type": "code",
   "execution_count": 46,
   "id": "966b8c61-4de5-40dd-acbd-f87e0e8f6200",
   "metadata": {},
   "outputs": [
    {
     "name": "stdout",
     "output_type": "stream",
     "text": [
      "             Age      CGPA\n",
      "count   5.000000  5.000000\n",
      "mean   20.400000  7.508000\n",
      "std     0.547723  0.217187\n",
      "min    20.000000  7.200000\n",
      "25%    20.000000  7.450000\n",
      "50%    20.000000  7.460000\n",
      "75%    21.000000  7.680000\n",
      "max    21.000000  7.750000\n"
     ]
    }
   ],
   "source": [
    "print(data.describe())"
   ]
  },
  {
   "cell_type": "code",
   "execution_count": 47,
   "id": "9627f0aa-2fd8-40c1-b476-d54d769561fb",
   "metadata": {},
   "outputs": [
    {
     "name": "stdout",
     "output_type": "stream",
     "text": [
      "<class 'pandas.core.frame.DataFrame'>\n",
      "RangeIndex: 5 entries, 0 to 4\n",
      "Data columns (total 5 columns):\n",
      " #   Column   Non-Null Count  Dtype  \n",
      "---  ------   --------------  -----  \n",
      " 0   Name     5 non-null      object \n",
      " 1   Age      5 non-null      int64  \n",
      " 2   Branch   5 non-null      object \n",
      " 3   CGPA     5 non-null      float64\n",
      " 4   Address  5 non-null      object \n",
      "dtypes: float64(1), int64(1), object(3)\n",
      "memory usage: 332.0+ bytes\n",
      "None\n"
     ]
    }
   ],
   "source": [
    "print(data.info())"
   ]
  },
  {
   "cell_type": "code",
   "execution_count": 48,
   "id": "56d73ee2-dbf6-4a46-99b9-88d35b9ff254",
   "metadata": {},
   "outputs": [
    {
     "name": "stdout",
     "output_type": "stream",
     "text": [
      "Index(['Name ', 'Age', 'Branch', 'CGPA', 'Address'], dtype='object')\n"
     ]
    }
   ],
   "source": [
    "print(data.columns)"
   ]
  },
  {
   "cell_type": "code",
   "execution_count": 49,
   "id": "502ee85a-7008-4142-9a3a-fa0742e0ff23",
   "metadata": {},
   "outputs": [
    {
     "name": "stdout",
     "output_type": "stream",
     "text": [
      "      CGPA\n",
      "Age       \n",
      "20   7.470\n",
      "21   7.565\n"
     ]
    }
   ],
   "source": [
    "x=data.groupby(\"Age\").mean(\"Age\")\n",
    "print(x)"
   ]
  },
  {
   "cell_type": "code",
   "execution_count": 50,
   "id": "7a17786a-c121-4a0a-bcbc-0f4779a43646",
   "metadata": {},
   "outputs": [],
   "source": [
    "# merge = pd.merge(data1,data2,on = 'key_column')\n",
    "# concat = pd.concat([data1,data2],axis=0)"
   ]
  },
  {
   "cell_type": "code",
   "execution_count": 4,
   "id": "233b9982-3024-49a3-ad72-177681663ad3",
   "metadata": {},
   "outputs": [
    {
     "ename": "NameError",
     "evalue": "name 'pd' is not defined",
     "output_type": "error",
     "traceback": [
      "\u001b[1;31m---------------------------------------------------------------------------\u001b[0m",
      "\u001b[1;31mNameError\u001b[0m                                 Traceback (most recent call last)",
      "Cell \u001b[1;32mIn[4], line 1\u001b[0m\n\u001b[1;32m----> 1\u001b[0m df \u001b[38;5;241m=\u001b[39m pd\u001b[38;5;241m.\u001b[39mread_csv(\u001b[38;5;124mr\u001b[39m\u001b[38;5;124m'\u001b[39m\u001b[38;5;124mC:\u001b[39m\u001b[38;5;124m\\\u001b[39m\u001b[38;5;124mUsers\u001b[39m\u001b[38;5;124m\\\u001b[39m\u001b[38;5;124mDELL\u001b[39m\u001b[38;5;124m\\\u001b[39m\u001b[38;5;124mDownloads\u001b[39m\u001b[38;5;124m\\\u001b[39m\u001b[38;5;124mBook(Sheet1).csv\u001b[39m\u001b[38;5;124m'\u001b[39m)\n\u001b[0;32m      2\u001b[0m \u001b[38;5;28mprint\u001b[39m(df)\n",
      "\u001b[1;31mNameError\u001b[0m: name 'pd' is not defined"
     ]
    }
   ],
   "source": [
    "df = pd.read_csv(r'C:\\Users\\DELL\\Downloads\\Book(Sheet1).csv')\n",
    "print(df)"
   ]
  },
  {
   "cell_type": "code",
   "execution_count": 1,
   "id": "1babdb43-f913-43a4-8115-233853f6192b",
   "metadata": {},
   "outputs": [
    {
     "ename": "NameError",
     "evalue": "name 'df' is not defined",
     "output_type": "error",
     "traceback": [
      "\u001b[1;31m---------------------------------------------------------------------------\u001b[0m",
      "\u001b[1;31mNameError\u001b[0m                                 Traceback (most recent call last)",
      "Cell \u001b[1;32mIn[1], line 1\u001b[0m\n\u001b[1;32m----> 1\u001b[0m df\u001b[38;5;241m.\u001b[39mcolumns\n",
      "\u001b[1;31mNameError\u001b[0m: name 'df' is not defined"
     ]
    }
   ],
   "source": [
    "df.columns"
   ]
  },
  {
   "cell_type": "code",
   "execution_count": 53,
   "id": "b7cc44c4-bcd3-4a5c-95e0-d7e20ac7bb60",
   "metadata": {},
   "outputs": [
    {
     "name": "stdout",
     "output_type": "stream",
     "text": [
      "<class 'pandas.core.frame.DataFrame'>\n",
      "RangeIndex: 9 entries, 0 to 8\n",
      "Data columns (total 6 columns):\n",
      " #   Column    Non-Null Count  Dtype  \n",
      "---  ------    --------------  -----  \n",
      " 0   Name      9 non-null      object \n",
      " 1   Age       9 non-null      int64  \n",
      " 2   Roll no.  9 non-null      int64  \n",
      " 3   CGPA      9 non-null      float64\n",
      " 4   Address   9 non-null      object \n",
      " 5   Branch    9 non-null      object \n",
      "dtypes: float64(1), int64(2), object(3)\n",
      "memory usage: 564.0+ bytes\n"
     ]
    }
   ],
   "source": [
    "df.info()"
   ]
  },
  {
   "cell_type": "code",
   "execution_count": 54,
   "id": "79b2c2af-8d15-4c27-8c6b-0a25e6400c8c",
   "metadata": {},
   "outputs": [
    {
     "data": {
      "text/html": [
       "<div>\n",
       "<style scoped>\n",
       "    .dataframe tbody tr th:only-of-type {\n",
       "        vertical-align: middle;\n",
       "    }\n",
       "\n",
       "    .dataframe tbody tr th {\n",
       "        vertical-align: top;\n",
       "    }\n",
       "\n",
       "    .dataframe thead th {\n",
       "        text-align: right;\n",
       "    }\n",
       "</style>\n",
       "<table border=\"1\" class=\"dataframe\">\n",
       "  <thead>\n",
       "    <tr style=\"text-align: right;\">\n",
       "      <th></th>\n",
       "      <th>Age</th>\n",
       "      <th>Roll no.</th>\n",
       "      <th>CGPA</th>\n",
       "    </tr>\n",
       "  </thead>\n",
       "  <tbody>\n",
       "    <tr>\n",
       "      <th>count</th>\n",
       "      <td>9.000000</td>\n",
       "      <td>9.000000</td>\n",
       "      <td>9.000000</td>\n",
       "    </tr>\n",
       "    <tr>\n",
       "      <th>mean</th>\n",
       "      <td>20.555556</td>\n",
       "      <td>51.444444</td>\n",
       "      <td>7.227778</td>\n",
       "    </tr>\n",
       "    <tr>\n",
       "      <th>std</th>\n",
       "      <td>0.726483</td>\n",
       "      <td>20.952990</td>\n",
       "      <td>0.383333</td>\n",
       "    </tr>\n",
       "    <tr>\n",
       "      <th>min</th>\n",
       "      <td>20.000000</td>\n",
       "      <td>20.000000</td>\n",
       "      <td>6.700000</td>\n",
       "    </tr>\n",
       "    <tr>\n",
       "      <th>25%</th>\n",
       "      <td>20.000000</td>\n",
       "      <td>33.000000</td>\n",
       "      <td>6.900000</td>\n",
       "    </tr>\n",
       "    <tr>\n",
       "      <th>50%</th>\n",
       "      <td>20.000000</td>\n",
       "      <td>60.000000</td>\n",
       "      <td>7.200000</td>\n",
       "    </tr>\n",
       "    <tr>\n",
       "      <th>75%</th>\n",
       "      <td>21.000000</td>\n",
       "      <td>70.000000</td>\n",
       "      <td>7.500000</td>\n",
       "    </tr>\n",
       "    <tr>\n",
       "      <th>max</th>\n",
       "      <td>22.000000</td>\n",
       "      <td>72.000000</td>\n",
       "      <td>7.800000</td>\n",
       "    </tr>\n",
       "  </tbody>\n",
       "</table>\n",
       "</div>"
      ],
      "text/plain": [
       "             Age   Roll no.      CGPA\n",
       "count   9.000000   9.000000  9.000000\n",
       "mean   20.555556  51.444444  7.227778\n",
       "std     0.726483  20.952990  0.383333\n",
       "min    20.000000  20.000000  6.700000\n",
       "25%    20.000000  33.000000  6.900000\n",
       "50%    20.000000  60.000000  7.200000\n",
       "75%    21.000000  70.000000  7.500000\n",
       "max    22.000000  72.000000  7.800000"
      ]
     },
     "execution_count": 54,
     "metadata": {},
     "output_type": "execute_result"
    }
   ],
   "source": [
    "df.describe()"
   ]
  },
  {
   "cell_type": "code",
   "execution_count": 55,
   "id": "cd1acf10-8c8a-486d-8c9a-46b8d27a7bb7",
   "metadata": {},
   "outputs": [
    {
     "data": {
      "text/html": [
       "<div>\n",
       "<style scoped>\n",
       "    .dataframe tbody tr th:only-of-type {\n",
       "        vertical-align: middle;\n",
       "    }\n",
       "\n",
       "    .dataframe tbody tr th {\n",
       "        vertical-align: top;\n",
       "    }\n",
       "\n",
       "    .dataframe thead th {\n",
       "        text-align: right;\n",
       "    }\n",
       "</style>\n",
       "<table border=\"1\" class=\"dataframe\">\n",
       "  <thead>\n",
       "    <tr style=\"text-align: right;\">\n",
       "      <th></th>\n",
       "      <th>Name</th>\n",
       "      <th>Age</th>\n",
       "      <th>Roll no.</th>\n",
       "      <th>CGPA</th>\n",
       "      <th>Address</th>\n",
       "      <th>Branch</th>\n",
       "    </tr>\n",
       "  </thead>\n",
       "  <tbody>\n",
       "    <tr>\n",
       "      <th>0</th>\n",
       "      <td>Jatin</td>\n",
       "      <td>20</td>\n",
       "      <td>27</td>\n",
       "      <td>7.20</td>\n",
       "      <td>Madan Mahal</td>\n",
       "      <td>AIML</td>\n",
       "    </tr>\n",
       "    <tr>\n",
       "      <th>1</th>\n",
       "      <td>Shambhavi</td>\n",
       "      <td>21</td>\n",
       "      <td>60</td>\n",
       "      <td>7.45</td>\n",
       "      <td>RDVV</td>\n",
       "      <td>AIML</td>\n",
       "    </tr>\n",
       "    <tr>\n",
       "      <th>2</th>\n",
       "      <td>Vedant</td>\n",
       "      <td>20</td>\n",
       "      <td>70</td>\n",
       "      <td>7.60</td>\n",
       "      <td>Tilheri</td>\n",
       "      <td>AIML</td>\n",
       "    </tr>\n",
       "    <tr>\n",
       "      <th>3</th>\n",
       "      <td>Urja</td>\n",
       "      <td>21</td>\n",
       "      <td>68</td>\n",
       "      <td>7.50</td>\n",
       "      <td>Ukhri</td>\n",
       "      <td>AIML</td>\n",
       "    </tr>\n",
       "    <tr>\n",
       "      <th>4</th>\n",
       "      <td>Yash</td>\n",
       "      <td>20</td>\n",
       "      <td>72</td>\n",
       "      <td>7.10</td>\n",
       "      <td>Aaga Chowk</td>\n",
       "      <td>IOT</td>\n",
       "    </tr>\n",
       "  </tbody>\n",
       "</table>\n",
       "</div>"
      ],
      "text/plain": [
       "        Name  Age  Roll no.  CGPA      Address Branch\n",
       "0     Jatin    20        27  7.20  Madan Mahal   AIML\n",
       "1  Shambhavi   21        60  7.45         RDVV   AIML\n",
       "2     Vedant   20        70  7.60      Tilheri   AIML\n",
       "3       Urja   21        68  7.50        Ukhri   AIML\n",
       "4       Yash   20        72  7.10   Aaga Chowk    IOT"
      ]
     },
     "execution_count": 55,
     "metadata": {},
     "output_type": "execute_result"
    }
   ],
   "source": [
    "df.head()"
   ]
  },
  {
   "cell_type": "code",
   "execution_count": 56,
   "id": "71e7027c-3c9f-4ec2-bb6a-c7a3ddb5a169",
   "metadata": {},
   "outputs": [
    {
     "data": {
      "text/html": [
       "<div>\n",
       "<style scoped>\n",
       "    .dataframe tbody tr th:only-of-type {\n",
       "        vertical-align: middle;\n",
       "    }\n",
       "\n",
       "    .dataframe tbody tr th {\n",
       "        vertical-align: top;\n",
       "    }\n",
       "\n",
       "    .dataframe thead th {\n",
       "        text-align: right;\n",
       "    }\n",
       "</style>\n",
       "<table border=\"1\" class=\"dataframe\">\n",
       "  <thead>\n",
       "    <tr style=\"text-align: right;\">\n",
       "      <th></th>\n",
       "      <th>Name</th>\n",
       "      <th>Age</th>\n",
       "      <th>Branch</th>\n",
       "      <th>CGPA</th>\n",
       "      <th>Address</th>\n",
       "    </tr>\n",
       "  </thead>\n",
       "  <tbody>\n",
       "    <tr>\n",
       "      <th>2</th>\n",
       "      <td>Shambhavi</td>\n",
       "      <td>21</td>\n",
       "      <td>AI/ML</td>\n",
       "      <td>7.45</td>\n",
       "      <td>RDVV</td>\n",
       "    </tr>\n",
       "    <tr>\n",
       "      <th>3</th>\n",
       "      <td>Urja</td>\n",
       "      <td>21</td>\n",
       "      <td>AI/ML</td>\n",
       "      <td>7.68</td>\n",
       "      <td>Ukhri</td>\n",
       "    </tr>\n",
       "  </tbody>\n",
       "</table>\n",
       "</div>"
      ],
      "text/plain": [
       "       Name   Age Branch  CGPA Address\n",
       "2  Shambhavi   21  AI/ML  7.45    RDVV\n",
       "3       Urja   21  AI/ML  7.68   Ukhri"
      ]
     },
     "execution_count": 56,
     "metadata": {},
     "output_type": "execute_result"
    }
   ],
   "source": [
    "data[data['Age']>20]"
   ]
  },
  {
   "cell_type": "code",
   "execution_count": 58,
   "id": "4e089d8d-2473-4c6c-a9dc-53409e32ad05",
   "metadata": {},
   "outputs": [
    {
     "data": {
      "text/html": [
       "<div>\n",
       "<style scoped>\n",
       "    .dataframe tbody tr th:only-of-type {\n",
       "        vertical-align: middle;\n",
       "    }\n",
       "\n",
       "    .dataframe tbody tr th {\n",
       "        vertical-align: top;\n",
       "    }\n",
       "\n",
       "    .dataframe thead th {\n",
       "        text-align: right;\n",
       "    }\n",
       "</style>\n",
       "<table border=\"1\" class=\"dataframe\">\n",
       "  <thead>\n",
       "    <tr style=\"text-align: right;\">\n",
       "      <th></th>\n",
       "      <th>Name</th>\n",
       "      <th>Age</th>\n",
       "      <th>Branch</th>\n",
       "      <th>CGPA</th>\n",
       "      <th>Address</th>\n",
       "    </tr>\n",
       "  </thead>\n",
       "  <tbody>\n",
       "    <tr>\n",
       "      <th>4</th>\n",
       "      <td>Yash</td>\n",
       "      <td>20</td>\n",
       "      <td>IOT</td>\n",
       "      <td>7.46</td>\n",
       "      <td>Aaga chowk</td>\n",
       "    </tr>\n",
       "  </tbody>\n",
       "</table>\n",
       "</div>"
      ],
      "text/plain": [
       "  Name   Age Branch  CGPA     Address\n",
       "4  Yash   20    IOT  7.46  Aaga chowk"
      ]
     },
     "execution_count": 58,
     "metadata": {},
     "output_type": "execute_result"
    }
   ],
   "source": [
    "data[data['Branch']!='AI/ML']"
   ]
  }
 ],
 "metadata": {
  "kernelspec": {
   "display_name": "Python 3 (ipykernel)",
   "language": "python",
   "name": "python3"
  },
  "language_info": {
   "codemirror_mode": {
    "name": "ipython",
    "version": 3
   },
   "file_extension": ".py",
   "mimetype": "text/x-python",
   "name": "python",
   "nbconvert_exporter": "python",
   "pygments_lexer": "ipython3",
   "version": "3.11.7"
  }
 },
 "nbformat": 4,
 "nbformat_minor": 5
}
