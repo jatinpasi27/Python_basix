{
  "cells": [
    {
      "cell_type": "markdown",
      "metadata": {
        "id": "view-in-github",
        "colab_type": "text"
      },
      "source": [
        "<a href=\"https://colab.research.google.com/github/jatinpasi27/Python_basix/blob/main/Python_Introduction.ipynb\" target=\"_parent\"><img src=\"https://colab.research.google.com/assets/colab-badge.svg\" alt=\"Open In Colab\"/></a>"
      ]
    },
    {
      "cell_type": "markdown",
      "metadata": {
        "id": "zrtp_j0s-CNr"
      },
      "source": [
        "#**Print Statement.**#"
      ]
    },
    {
      "cell_type": "code",
      "execution_count": null,
      "metadata": {
        "colab": {
          "base_uri": "https://localhost:8080/"
        },
        "id": "RuWzkEEr-BLw",
        "outputId": "2f4cf4b3-ecc6-489f-8834-326c489ca686"
      },
      "outputs": [
        {
          "name": "stdout",
          "output_type": "stream",
          "text": [
            "Here we are starting with python.\n",
            "Hello World!\n",
            "Python~is~an~interpreted Language"
          ]
        }
      ],
      "source": [
        "print(\"Here we are starting with python.\")\n",
        "\n",
        "print(\"Hello World!\")\n",
        "print(\"Python\",\"is\",\"an\",\"interpreted\",sep = \"~\",end = \" Language\")#sep is used to add a sign to seperate the words.\n"
      ]
    },
    {
      "cell_type": "markdown",
      "metadata": {
        "id": "j7x_8nOoZ-6T"
      },
      "source": [
        "#**Variables**#"
      ]
    },
    {
      "cell_type": "code",
      "execution_count": null,
      "metadata": {
        "colab": {
          "base_uri": "https://localhost:8080/"
        },
        "id": "aelTtBD_HN9v",
        "outputId": "1f1d1ca7-e213-4f27-fb7f-bd351066e5f7"
      },
      "outputs": [
        {
          "name": "stdout",
          "output_type": "stream",
          "text": [
            "21\n",
            "2.43\n"
          ]
        }
      ],
      "source": [
        "a = 21 # here a & b are variables which store some type of values in it.\n",
        "print(a)\n",
        "b = 2.43\n",
        "print(b)"
      ]
    },
    {
      "cell_type": "markdown",
      "metadata": {
        "id": "Frcj2b76aTWb"
      },
      "source": [
        "#**Data types**#"
      ]
    },
    {
      "cell_type": "markdown",
      "metadata": {
        "id": "dea12yjcabTs"
      },
      "source": [
        "Data types can be refered to as varibles which store different types of values in it."
      ]
    },
    {
      "cell_type": "code",
      "execution_count": null,
      "metadata": {
        "colab": {
          "base_uri": "https://localhost:8080/"
        },
        "id": "_T8wGPYRaMh3",
        "outputId": "3cc8a8be-9dbe-437c-ff50-45e5e5831072"
      },
      "outputs": [
        {
          "name": "stdout",
          "output_type": "stream",
          "text": [
            "<class 'int'>\n",
            "<class 'float'>\n",
            "<class 'str'>\n",
            "<class 'bool'>\n",
            "<class 'float'>\n",
            "<class 'list'>\n",
            "<class 'tuple'>\n",
            "<class 'set'>\n"
          ]
        }
      ],
      "source": [
        "from os import get_blocking\n",
        "#Typecheck\n",
        "a = 23\n",
        "b = 34.54\n",
        "c = \"Machine learning\"\n",
        "d = True\n",
        "e = 4.5454545454545545454\n",
        "f = [5,64,3,6,26,2]\n",
        "g = (\"jatin\",\"gaurav\",\"nanu\",\"bhoomi\",\"shanvi\",\"pihu\")\n",
        "h = {23,43,5,6,55,98}\n",
        "print(type(a))\n",
        "print(type(b))\n",
        "print(type(c))\n",
        "print(type(d))\n",
        "print(type(e))\n",
        "print(type(f))\n",
        "print(type(g))\n",
        "print(type(h))\n"
      ]
    },
    {
      "cell_type": "markdown",
      "metadata": {
        "id": "02ZMDYKP0hqH"
      },
      "source": [
        "#**Calculator**#"
      ]
    },
    {
      "cell_type": "code",
      "execution_count": null,
      "metadata": {
        "colab": {
          "base_uri": "https://localhost:8080/"
        },
        "id": "GprHlOrk0kkW",
        "outputId": "6d7c2cfd-faa1-4c79-c651-c0080c8587f0"
      },
      "outputs": [
        {
          "name": "stdout",
          "output_type": "stream",
          "text": [
            "The addition of a & b are: 15\n",
            "The subtraction of a & b are: 9\n",
            "The multiplication of a & b are: 36\n",
            "The division of a & b are: 4.0\n",
            "The modulus of a & b are: 0\n",
            "The Floor division of a & b are: 4\n"
          ]
        }
      ],
      "source": [
        "a = 12\n",
        "b = 3\n",
        "print(\"The addition of a & b are:\",a+b)\n",
        "print(\"The subtraction of a & b are:\",a-b)\n",
        "print(\"The multiplication of a & b are:\",a*b)\n",
        "print(\"The division of a & b are:\",a/b)\n",
        "print(\"The modulus of a & b are:\",a%b)\n",
        "print(\"The Floor division of a & b are:\",a//b)"
      ]
    },
    {
      "cell_type": "markdown",
      "metadata": {
        "id": "Uhj24xO5YRJ_"
      },
      "source": [
        "##**Type Conversion**##"
      ]
    },
    {
      "cell_type": "code",
      "execution_count": null,
      "metadata": {
        "colab": {
          "base_uri": "https://localhost:8080/"
        },
        "id": "4kw6tDj1YU_m",
        "outputId": "70eac3b5-62f3-4f62-d7f6-e34b6210199a"
      },
      "outputs": [
        {
          "name": "stdout",
          "output_type": "stream",
          "text": [
            "18\n",
            "18.0\n"
          ]
        }
      ],
      "source": [
        "a = 18\n",
        "print(a)\n",
        "print(float(a))\n"
      ]
    },
    {
      "cell_type": "markdown",
      "metadata": {
        "id": "R3UbyumvaoFi"
      },
      "source": [
        "#**Escape Sequence**#"
      ]
    },
    {
      "cell_type": "code",
      "execution_count": null,
      "metadata": {
        "colab": {
          "base_uri": "https://localhost:8080/"
        },
        "id": "-YCSRO-2ah3u",
        "outputId": "a8af6ab8-a407-49ff-81b0-621b6c661ad4"
      },
      "outputs": [
        {
          "name": "stdout",
          "output_type": "stream",
          "text": [
            "This is google colab\n",
            "This is google \n",
            "colab\n",
            "This is google \tcolab\n",
            "This is google \bcolab\n",
            "This is google \\colab\n",
            "This is google \"colab\"\n"
          ]
        }
      ],
      "source": [
        "print(\"This is google colab\") #here we are printing this sentence in one line.\n",
        "\n",
        "print(\"This is google \\ncolab\") #here we are printing similar sentence in two diff lines using escape sequence.\n",
        "\n",
        "print(\"This is google \\tcolab\") #here we are printing similar sentence by providing space using \\t seq.\n",
        "\n",
        "print(\"This is google \\bcolab\") #here we are printing similar sentence by del the space btw google and colab using \\b sequence.\n",
        "\n",
        "print(\"This is google \\\\colab\") #here we are printing similar sentence by del the space btw google and colab using \\b sequence.\n",
        "\n",
        "print(\"This is google \\\"colab\\\"\") #here we are printing similar sentence by del the space btw google and colab using \\b sequence.\n"
      ]
    },
    {
      "cell_type": "markdown",
      "metadata": {
        "id": "ErrIKrYj6D0_"
      },
      "source": [
        "#**Control Statements**#"
      ]
    },
    {
      "cell_type": "markdown",
      "metadata": {
        "id": "OEOnYojia5m4"
      },
      "source": [
        "#**If else statement(Even odd)**#"
      ]
    },
    {
      "cell_type": "code",
      "execution_count": null,
      "metadata": {
        "colab": {
          "base_uri": "https://localhost:8080/"
        },
        "id": "XbRgPjXpa27E",
        "outputId": "bb034564-3444-41c5-c39f-bc15272ee274"
      },
      "outputs": [
        {
          "name": "stdout",
          "output_type": "stream",
          "text": [
            "a is an Even number.\n"
          ]
        }
      ],
      "source": [
        "a =24\n",
        "if(a%2==0):#Intendation should be kept in mind.\n",
        "  print(\"a is an Even number.\")\n",
        "else:\n",
        "  print(\"a is an Odd number.\")"
      ]
    },
    {
      "cell_type": "markdown",
      "metadata": {
        "id": "R6DIviuP6JYi"
      },
      "source": [
        "**Wap to check whether the number is greater than 50 or not and if greater then check whether it is even or not also check the same for odd number too.**"
      ]
    },
    {
      "cell_type": "code",
      "execution_count": null,
      "metadata": {
        "colab": {
          "base_uri": "https://localhost:8080/"
        },
        "id": "PYZ_oZWj6XWP",
        "outputId": "44a41b94-4eae-4cba-82ec-21e0f32d2ff2"
      },
      "outputs": [
        {
          "name": "stdout",
          "output_type": "stream",
          "text": [
            "The number is greater but not even.\n"
          ]
        }
      ],
      "source": [
        "# num = 55\n",
        "# if num > 50 :\n",
        "#   print(\"The number is greater than 50.\")\n",
        "# else:\n",
        "#   print(\"The number is smaller than 50\")\n",
        "num = 55\n",
        "if num>50:\n",
        "   if num %2==0:\n",
        "    print(\"The number is greater than 50 and is even.\")\n",
        "   else:\n",
        "    print(\"The number is greater but not even.\")\n",
        "else:\n",
        "   if num %2!=0:\n",
        "    print(\"The number is less than 50 and is odd.\")\n",
        "   else:\n",
        "    print(\"The number is less than 50 but not odd.\")"
      ]
    },
    {
      "cell_type": "code",
      "execution_count": null,
      "metadata": {
        "colab": {
          "base_uri": "https://localhost:8080/"
        },
        "id": "X3MudklQa-pR",
        "outputId": "8f0b8064-2b1d-4bb4-994a-eeaa1912d71e"
      },
      "outputs": [
        {
          "name": "stdout",
          "output_type": "stream",
          "text": [
            "Candidate is eligible to vote.\n"
          ]
        }
      ],
      "source": [
        "age = 34\n",
        "if(age>=18):\n",
        "  print(\"Candidate is eligible to vote.\")\n",
        "else:\n",
        "  print(\"Candidate is not eligible to vote.\")"
      ]
    },
    {
      "cell_type": "markdown",
      "metadata": {
        "id": "NO7Tf3VabHAO"
      },
      "source": [
        "**Adding elif statement in this.**\n",
        "\n",
        "\n",
        "\n"
      ]
    },
    {
      "cell_type": "code",
      "execution_count": null,
      "metadata": {
        "colab": {
          "base_uri": "https://localhost:8080/"
        },
        "id": "z31DZy8rbDEm",
        "outputId": "a2fd0bff-2888-4b21-daac-fce5466038c4"
      },
      "outputs": [
        {
          "name": "stdout",
          "output_type": "stream",
          "text": [
            "Both are equal to each other.\n"
          ]
        }
      ],
      "source": [
        "a = 34\n",
        "b = 34\n",
        "if(a > b):\n",
        "  print(\"A is greater than B.\")\n",
        "\n",
        "elif(b>a):\n",
        "  print(\"B is greater than A.\") #This is used to create a ladder of if-else statement.\n",
        "\n",
        "else:\n",
        "  print(\"Both are equal to each other.\")"
      ]
    },
    {
      "cell_type": "markdown",
      "metadata": {
        "id": "Mol9Ali5bMi-"
      },
      "source": [
        "#**Area of a cube**"
      ]
    },
    {
      "cell_type": "code",
      "execution_count": null,
      "metadata": {
        "colab": {
          "base_uri": "https://localhost:8080/"
        },
        "id": "y-UVGHMsn5l9",
        "outputId": "4b3999cb-e5e5-43ee-b4ea-db15f3924cdf"
      },
      "outputs": [
        {
          "name": "stdout",
          "output_type": "stream",
          "text": [
            "The area of cube is: 625\n"
          ]
        }
      ],
      "source": [
        "side = 25\n",
        "area = side**2\n",
        "print(\"The area of cube is:\",area)"
      ]
    },
    {
      "cell_type": "markdown",
      "metadata": {
        "id": "IJ6HEmNgbmWT"
      },
      "source": [
        "#**Taking input from user**#"
      ]
    },
    {
      "cell_type": "code",
      "execution_count": null,
      "metadata": {
        "colab": {
          "base_uri": "https://localhost:8080/"
        },
        "id": "Gk80XCbIbUKK",
        "outputId": "2dd8c6b5-e8a3-4626-b153-91cfb5aa8095"
      },
      "outputs": [
        {
          "name": "stdout",
          "output_type": "stream",
          "text": [
            "Enter the number:34\n",
            "34\n",
            "344\n"
          ]
        }
      ],
      "source": [
        "a = input(\"Enter the number:\") #here,its considering input as string by default, to avoid this we have to\n",
        "print(a) #typecast it by int datatype so as to make it int input.\n",
        "\n",
        "b = a+'4'#Here,Concatenation is helding to this o/p.\n",
        "print(b)"
      ]
    },
    {
      "cell_type": "markdown",
      "metadata": {
        "id": "FPVPRFhDRwAt"
      },
      "source": [
        "##**Project 1**##"
      ]
    },
    {
      "cell_type": "code",
      "execution_count": null,
      "metadata": {
        "colab": {
          "base_uri": "https://localhost:8080/"
        },
        "id": "H1WHFQmcLwP2",
        "outputId": "247ea240-4b5b-4ed5-c60e-6b16ec5bbcd5"
      },
      "outputs": [
        {
          "name": "stdout",
          "output_type": "stream",
          "text": [
            "14:04:55\n"
          ]
        }
      ],
      "source": [
        "import time\n",
        "time = time.strftime('%H:%M:%S')\n",
        "print(time)\n"
      ]
    },
    {
      "cell_type": "code",
      "execution_count": null,
      "metadata": {
        "colab": {
          "base_uri": "https://localhost:8080/"
        },
        "id": "ZlnlB4sIbtVV",
        "outputId": "367b2152-1587-4fce-eefa-d7fda1a30485"
      },
      "outputs": [
        {
          "name": "stdout",
          "output_type": "stream",
          "text": [
            "Enter the number:5\n",
            "5\n",
            "9\n"
          ]
        }
      ],
      "source": [
        "a = int(input(\"Enter the number:\")) #here,its considering input as string by default, to avoid this we have to\n",
        "print(a) #typecast it by int datatype so as to make it int input.\n",
        "b = a+4\n",
        "print(b)"
      ]
    },
    {
      "cell_type": "code",
      "execution_count": null,
      "metadata": {
        "colab": {
          "base_uri": "https://localhost:8080/"
        },
        "id": "Mym_ag1tbtxU",
        "outputId": "c4d45960-3893-455c-fce5-f0c5c0e5e591"
      },
      "outputs": [
        {
          "name": "stdout",
          "output_type": "stream",
          "text": [
            "Enter the num:56\n",
            "56.0\n"
          ]
        }
      ],
      "source": [
        "a = int(input(\"Enter the num:\"))\n",
        "print(float(a)) #TYPE-CASTING"
      ]
    },
    {
      "cell_type": "markdown",
      "metadata": {
        "id": "knDlMtXyb30A"
      },
      "source": [
        "#**Swapping 2 numbers**#"
      ]
    },
    {
      "cell_type": "code",
      "execution_count": null,
      "metadata": {
        "colab": {
          "base_uri": "https://localhost:8080/"
        },
        "id": "CDQyhFZYbzhO",
        "outputId": "771b1c78-1eee-4fc3-ff0a-10078f76e56c"
      },
      "outputs": [
        {
          "name": "stdout",
          "output_type": "stream",
          "text": [
            "Enter First number:43\n",
            "Enter second number:66\n",
            "The value of num1 is : 66\n",
            "The value of num2 is : 43\n"
          ]
        }
      ],
      "source": [
        "num1 = int(input(\"Enter First number:\"))\n",
        "num2 = int(input(\"Enter second number:\"))\n",
        "temp = num1\n",
        "num1 = num2\n",
        "num2 = temp\n",
        "print(\"The value of num1 is :\",num1)\n",
        "print(\"The value of num2 is :\",num2)\n"
      ]
    },
    {
      "cell_type": "markdown",
      "metadata": {
        "id": "PFUpSp02cBrz"
      },
      "source": [
        "#**Now, we'll learn about Strings.**#"
      ]
    },
    {
      "cell_type": "code",
      "execution_count": null,
      "metadata": {
        "colab": {
          "base_uri": "https://localhost:8080/"
        },
        "id": "UdPcg8ORb7gq",
        "outputId": "8cc71960-de1e-460c-e5ed-6c30ab540c56"
      },
      "outputs": [
        {
          "output_type": "stream",
          "name": "stdout",
          "text": [
            "Hello\n",
            "hello,Hello\n"
          ]
        }
      ],
      "source": [
        "n = \"Hello\"\n",
        "print(n)\n",
        "print(\"hello,\"+n) #This is known as Concatenation.Where 2 strings are combined together.\n"
      ]
    },
    {
      "cell_type": "code",
      "execution_count": null,
      "metadata": {
        "colab": {
          "base_uri": "https://localhost:8080/"
        },
        "id": "MEsVyqVmcEt3",
        "outputId": "48f2ed8d-80ff-4c2b-b4b3-a36dea90f7a2"
      },
      "outputs": [
        {
          "name": "stdout",
          "output_type": "stream",
          "text": [
            "c\n",
            "p\n",
            "p\n",
            " \n",
            "i\n",
            "s\n",
            " \n",
            "a\n",
            "n\n",
            " \n",
            "e\n",
            "s\n",
            "s\n",
            "e\n",
            "n\n",
            "t\n",
            "i\n",
            "a\n",
            "l\n",
            " \n",
            "l\n",
            "a\n",
            "n\n",
            "g\n",
            "u\n",
            "a\n",
            "g\n",
            "e\n",
            " \n",
            "f\n",
            "o\n",
            "r\n",
            " \n",
            "D\n",
            "S\n",
            "A\n",
            ".\n"
          ]
        }
      ],
      "source": [
        "lang = \"cpp is an essential language for DSA.\"\n",
        "for i in lang:\n",
        "  print(i)"
      ]
    },
    {
      "cell_type": "markdown",
      "metadata": {
        "id": "0aVBp8cacL4L"
      },
      "source": [
        "#**Some Operations on strings!**#"
      ]
    },
    {
      "cell_type": "code",
      "execution_count": null,
      "metadata": {
        "colab": {
          "base_uri": "https://localhost:8080/"
        },
        "id": "3LHa0PsVcHii",
        "outputId": "d0cf825d-073f-450e-d620-12af3e256bb6"
      },
      "outputs": [
        {
          "name": "stdout",
          "output_type": "stream",
          "text": [
            "7\n",
            "False\n",
            "False\n",
            "MACHINE\n",
            "machine\n",
            "C++ is an easy language!!!\n",
            "Learning\n",
            "['python', 'is', 'an', 'easy', 'language!!!']\n",
            "easy\n",
            "4\n",
            "python is an easy language\n",
            "True\n",
            "False\n",
            "True\n",
            "True\n",
            "False\n",
            "7\n",
            "13\n",
            "True\n",
            "False\n",
            "True\n",
            "True\n",
            "False\n",
            "True\n",
            "False\n",
            "True\n",
            "Pandas Is A Library\n",
            "mACHINE\n",
            "LEARNING\n"
          ]
        }
      ],
      "source": [
        "a = \"Machine\"\n",
        "b = \"learning\"\n",
        "c = \"python is an easy language!!!\"\n",
        "d = \"Dsa Is The Foundational Subject\\n\"\n",
        "e = \"pandas is a library\"\n",
        "f = \" \"\n",
        "\n",
        "print(len(a))\n",
        "print(a.islower())#checks whether the string is in lower-case.\n",
        "print(a.isupper())\n",
        "print(a.upper()) #converts string into upper case\n",
        "print(a.lower())\n",
        "\n",
        "print(c.replace(\"python\",\"C++\")) #used to replace the string by the new one(modification).\n",
        "\n",
        "print(b.capitalize()) #used to capitalize the first letter of the string.\n",
        "\n",
        "print(c.split()) #Creates a list of the given string if spaces are available.\n",
        "print(c.split()[-2]) #Creates a list of the given string if spaces are available.\n",
        "\n",
        "print(c.count(\"a\")) #counts the freq of the given args in a string.\n",
        "\n",
        "print(c.rstrip(\"!\")) #removes the character present at the end of string.(post only)\n",
        "\n",
        "print(c.endswith(\"!\")) #checks whether the sentence or string ends with the same input.\n",
        "\n",
        "print(c.endswith(\"is\",4,29)) #same function but checks using slicing.\n",
        "\n",
        "print(c.endswith(\"!\",4,29)) #same function but checks using slicing.\n",
        "\n",
        "print(c.startswith(\"python\"))#case-sensative (checks the starting string comparing to input value.)\n",
        "\n",
        "print(c.startswith(\"C++\"))\n",
        "\n",
        "print(c.find(\"is\"))#calculates the first occurance of the string and returns the index value where it is stored.\n",
        "\n",
        "print(c.find(\"easy\"))\n",
        "\n",
        "print(b.isalnum())#checks whether the string is alphanumeric or not.\n",
        "\n",
        "print(c.isalnum())#c is not alphanumeric as it contains spaces btw it.\n",
        "\n",
        "print(b.isalpha()) #determines only alphabets(a-z) [Non case-sensative].\n",
        "\n",
        "print(c.isprintable())#determines whether the string can be printed or not.\n",
        "#i.e if any specifier would be present it'll be considered as non-printable.\n",
        "\n",
        "print(d.isprintable())#is non printable due to the presence of specifier in it.\n",
        "\n",
        "print(f.isspace()) #checks only n only the space, seems useless.\n",
        "\n",
        "print(e.istitle())#determines whether the first letter of every word is capital or not.\n",
        "\n",
        "print(d.istitle())# since d has each n every word has first letter capital it is considered to be True.\n",
        "\n",
        "print(e.title()) #capitalize first letter of each word.\n",
        "\n",
        "print(a.swapcase())\n",
        "print(b.swapcase()) #these both is used to swap the case.If upper then its converted into lower nd vice-versa.\n",
        "\n"
      ]
    },
    {
      "cell_type": "markdown",
      "metadata": {
        "id": "o7YE-LFZBUhh"
      },
      "source": [
        "##**Project 2: Building a Marksheet of 12th class Student.**##"
      ]
    },
    {
      "cell_type": "code",
      "execution_count": null,
      "metadata": {
        "colab": {
          "base_uri": "https://localhost:8080/"
        },
        "id": "dhgIiGYxBn5E",
        "outputId": "609f934c-d7ad-449c-f31d-c5f4165c8e93"
      },
      "outputs": [
        {
          "name": "stdout",
          "output_type": "stream",
          "text": [
            "Enter the name of the student:Chamarkant\n",
            "Enter the marks in Maths:80\n",
            "Enter the marks in Physics:67\n",
            "Enter the marks in Chemistry:98\n",
            "Enter the marks in English:56\n",
            "Enter the marks in Physical Education:77\n",
            "Chamarkant scored 75.6  Grade and secured 1st Division.\n"
          ]
        }
      ],
      "source": [
        "name = input(\"Enter the name of the student:\")\n",
        "mat = int(input(\"Enter the marks in Maths:\"))\n",
        "phy = int(input(\"Enter the marks in Physics:\"))\n",
        "chem = int(input(\"Enter the marks in Chemistry:\"))\n",
        "eng = int(input(\"Enter the marks in English:\"))\n",
        "PE = int(input(\"Enter the marks in Physical Education:\"))\n",
        "total = mat+phy+chem+eng+PE\n",
        "percentage = total/5\n",
        "if(percentage<=100 and percentage>=90):\n",
        " print(name, \"scored\",percentage,\" Grade and secured 1st Division.\")\n",
        "elif(percentage>=60 and percentage<=89):\n",
        "   print(name, \"scored\",percentage,\" Grade and secured 1st Division.\")\n",
        "elif(percentage>=50 and percentage<=59):\n",
        "   print(name, \"scored\",percentage,\" Grade and secured 2nd Division.\")\n",
        "else:\n",
        "   print(name, \"Failed in examination.\")\n"
      ]
    },
    {
      "cell_type": "markdown",
      "metadata": {
        "id": "zv_I9bcapneC"
      },
      "source": [
        "#**String Slicing**#"
      ]
    },
    {
      "cell_type": "code",
      "execution_count": null,
      "metadata": {
        "colab": {
          "base_uri": "https://localhost:8080/"
        },
        "id": "kDovxRpZzxzz",
        "outputId": "14d7e057-056a-4252-8939-b1906d2e5314"
      },
      "outputs": [
        {
          "name": "stdout",
          "output_type": "stream",
          "text": [
            "Artific\n",
            "The length of the string is: 10\n",
            "The length of b is: 12\n",
            "Intell\n",
            "ligenc\n",
            "Intellige\n",
            "Intellige\n",
            "en \n",
            "\n",
            "\n",
            "Intelligence\n",
            "\n",
            "e\n"
          ]
        }
      ],
      "source": [
        "a = \"Artificial\"\n",
        "print(a[0:7])\n",
        "print(\"The length of the string is:\",len(a))\n",
        "\n",
        "b = \"Intelligence\"\n",
        "\n",
        "print(\"The length of b is:\",len(b))\n",
        "\n",
        "print(b[0:6])\n",
        "\n",
        "print(b[5:11])\n",
        "\n",
        "print(b[0:len(b)-3])\n",
        "\n",
        "print(b[0:-3]) #same as abv (KNOWN AS NEGATIVE SLICING)\n",
        "\n",
        "print(b[-4:-2],\"\\n\\n\") #11-4 = 7\n",
        "\n",
        "print(b)\n",
        "print(b[-4:-5]) #this will not print due to wrogn assignment of slicing\n",
        "\n",
        "print(b[-4:-3]) #The 2nd no should always be smaller than the firstone.\n"
      ]
    },
    {
      "cell_type": "markdown",
      "metadata": {
        "id": "YI0Uzl4Uci4U"
      },
      "source": [
        "#**Control Statements**#"
      ]
    },
    {
      "cell_type": "markdown",
      "metadata": {
        "id": "24K3IUq5cnKe"
      },
      "source": [
        "There are 3 types of control statements\n",
        "* Looping = These statements allow a program to execute a block of code repeatedly.\n",
        "->For loop=This comprises of initialization,condition and then termination(increment/decrement).\n",
        "->While loop=This comprises of the initialization beforehand and then condition termination at the last of loop.\n",
        "->Do-While loop=This is used to execute the loop at least once.\n",
        "\n",
        "\n",
        "* Switch Case\n",
        "\n"
      ]
    },
    {
      "cell_type": "markdown",
      "metadata": {
        "id": "yo2ahNSm1QKd"
      },
      "source": [
        "#**FOR LOOP.**#"
      ]
    },
    {
      "cell_type": "code",
      "execution_count": null,
      "metadata": {
        "id": "b41bplX2cRWv"
      },
      "outputs": [],
      "source": [
        "#FOR LOOP.\n",
        "a = 5\n",
        "for i in range(1,a+1):\n",
        "  print(i)\n"
      ]
    },
    {
      "cell_type": "code",
      "execution_count": null,
      "metadata": {
        "colab": {
          "base_uri": "https://localhost:8080/"
        },
        "collapsed": true,
        "id": "RIeE5R2Acr6k",
        "outputId": "f4944b09-5c2c-4825-8747-12a10040cbc3"
      },
      "outputs": [
        {
          "name": "stdout",
          "output_type": "stream",
          "text": [
            "Enter the number:5\n",
            "2\n",
            "4\n"
          ]
        }
      ],
      "source": [
        "#Printing even num.\n",
        "a = int(input(\"Enter the number:\"))\n",
        "for i in range(1,a+1):\n",
        "  if(i%2==0):\n",
        "    print(i)  #Intendation.\n"
      ]
    },
    {
      "cell_type": "code",
      "execution_count": null,
      "metadata": {
        "colab": {
          "base_uri": "https://localhost:8080/"
        },
        "collapsed": true,
        "id": "BtE_crcrcu9L",
        "outputId": "59d8ff74-bd30-44a3-ccfe-92de8e9cba00"
      },
      "outputs": [
        {
          "name": "stdout",
          "output_type": "stream",
          "text": [
            "Enter the num:4\n",
            "1\n",
            "3\n"
          ]
        }
      ],
      "source": [
        "#For odd numbers:\n",
        "a = int(input(\"Enter the num:\"))\n",
        "for i in range(1,a+1):\n",
        "  if(i%2==1):\n",
        "   print(i)  #Intendation.\n"
      ]
    },
    {
      "cell_type": "code",
      "execution_count": null,
      "metadata": {
        "colab": {
          "base_uri": "https://localhost:8080/"
        },
        "id": "rggSXZlocz_n",
        "outputId": "25efd232-90e3-4f6f-d965-10212abee301"
      },
      "outputs": [
        {
          "name": "stdout",
          "output_type": "stream",
          "text": [
            "1\n",
            "2\n",
            "3\n",
            "4\n",
            "5\n",
            "6\n",
            "7\n",
            "8\n",
            "9\n",
            "10\n",
            "11\n",
            "12\n",
            "13\n",
            "14\n",
            "15\n",
            "16\n",
            "17\n",
            "18\n",
            "19\n",
            "20\n"
          ]
        }
      ],
      "source": [
        "#Printing numbers by jumping through addition of some specific number using third block of loop.\n",
        "for i in range(1,20+1):\n",
        "  print(i)\n",
        "\n"
      ]
    },
    {
      "cell_type": "markdown",
      "metadata": {
        "id": "dsERTW7b1XXl"
      },
      "source": [
        "#**Table of any number.**#"
      ]
    },
    {
      "cell_type": "code",
      "execution_count": null,
      "metadata": {
        "colab": {
          "base_uri": "https://localhost:8080/"
        },
        "id": "gljdHVMjc3ip",
        "outputId": "698c44ec-8b2c-4a6c-fde3-aaa02b67ac96"
      },
      "outputs": [
        {
          "name": "stdout",
          "output_type": "stream",
          "text": [
            "Enter the number:5\n",
            "5 x 1 = 5\n",
            "5 x 2 = 10\n",
            "5 x 3 = 15\n",
            "5 x 4 = 20\n",
            "5 x 5 = 25\n",
            "5 x 6 = 30\n",
            "5 x 7 = 35\n",
            "5 x 8 = 40\n",
            "5 x 9 = 45\n",
            "5 x 10 = 50\n"
          ]
        }
      ],
      "source": [
        "#printing table of any number.\n",
        "n = int(input(\"Enter the number:\"))\n",
        "for i in range(1,11):\n",
        "  print(n,\"x\",i,\"=\",n*i)"
      ]
    },
    {
      "cell_type": "markdown",
      "metadata": {
        "id": "pRsS06oodaU_"
      },
      "source": [
        "#**WAP to swap two numbers if the first number is greater than the second number.**#"
      ]
    },
    {
      "cell_type": "code",
      "execution_count": null,
      "metadata": {
        "colab": {
          "base_uri": "https://localhost:8080/"
        },
        "id": "UnjQt-ZUc_pU",
        "outputId": "6461f63b-26f9-47e6-a594-0f9303e7cf27"
      },
      "outputs": [
        {
          "name": "stdout",
          "output_type": "stream",
          "text": [
            "Enter 1st number:98\n",
            "Enter 1st number:78\n",
            "The value of a is: 78\n",
            "The value of b is: 98\n"
          ]
        }
      ],
      "source": [
        "a = int (input ('Enter 1st number:'))\n",
        "b = int (input ('Enter 1st number:'))\n",
        "if(a>b):\n",
        "  temp = a\n",
        "  a = b\n",
        "  b = temp\n",
        "  print(\"The value of a is:\",a)\n",
        "  print(\"The value of b is:\",b)\n",
        "\n",
        "else:\n",
        "  print(\"The value of a is:\",a)\n",
        "  print(\"The value of b is:\",b)"
      ]
    },
    {
      "cell_type": "markdown",
      "metadata": {
        "id": "bbNPP_UBs7bM"
      },
      "source": [
        "#**Same values will have same memory location**#"
      ]
    },
    {
      "cell_type": "code",
      "execution_count": null,
      "metadata": {
        "colab": {
          "base_uri": "https://localhost:8080/"
        },
        "id": "XvKPJ4qqtC2O",
        "outputId": "3aa9a33c-8b43-43b6-e00f-cc1a372793b6"
      },
      "outputs": [
        {
          "name": "stdout",
          "output_type": "stream",
          "text": [
            "True\n",
            "True\n",
            "True\n",
            "False\n"
          ]
        }
      ],
      "source": [
        "a = 2\n",
        "b = 4\n",
        "c = 343\n",
        "d = 343\n",
        "print(c==d)\n",
        "print(a is not b)  #Need to ask about it later onn...\n",
        "print(c is not d)\n",
        "print(c is  d)"
      ]
    },
    {
      "cell_type": "code",
      "execution_count": null,
      "metadata": {
        "colab": {
          "base_uri": "https://localhost:8080/"
        },
        "id": "f0mdHEZUtGTM",
        "outputId": "028753b7-499d-4b7a-f64a-8f1335cc1ef8"
      },
      "outputs": [
        {
          "name": "stdout",
          "output_type": "stream",
          "text": [
            "True\n",
            "True\n",
            "0x7d2b85060510\n",
            "0x7d2b85060510\n"
          ]
        }
      ],
      "source": [
        "a = 34\n",
        "b = 33+1\n",
        "print(a==b)\n",
        "print(a is b)\n",
        "print(hex(id(a)))  #Used for knowing memory location.\n",
        "print(hex(id(b)))  #hexadecimal address"
      ]
    },
    {
      "cell_type": "markdown",
      "metadata": {
        "id": "1GWZL9HE26zn"
      },
      "source": [
        "# Loop in strings"
      ]
    },
    {
      "cell_type": "code",
      "execution_count": null,
      "metadata": {
        "id": "SWg6JY3u3EfW"
      },
      "outputs": [],
      "source": [
        "a = \"Python\"\n",
        "for i in a:\n",
        "  print(i)\n",
        "  if(i=='t'):\n",
        "    continue\n",
        "\n"
      ]
    },
    {
      "cell_type": "markdown",
      "metadata": {
        "id": "h7Ew8s9OuYhn"
      },
      "source": [
        "#**Prime number**#"
      ]
    },
    {
      "cell_type": "code",
      "execution_count": null,
      "metadata": {
        "colab": {
          "base_uri": "https://localhost:8080/"
        },
        "id": "ZNncHQqntut8",
        "outputId": "ab415aee-5b53-4146-f735-72099bb4f848"
      },
      "outputs": [
        {
          "name": "stdout",
          "output_type": "stream",
          "text": [
            "Enter the number:4\n",
            "Not a Prime number\n"
          ]
        }
      ],
      "source": [
        "a = int(input(\"Enter the number:\"))\n",
        "for i in range(2,a):\n",
        "  if(a%i==0):\n",
        "    print(\"Not a Prime number\")\n",
        "    break\n",
        "else:\n",
        "  print(\"Prime Number\")"
      ]
    },
    {
      "cell_type": "markdown",
      "metadata": {
        "id": "uAZtQOFSvIRS"
      },
      "source": [
        "#**Factorial**#"
      ]
    },
    {
      "cell_type": "code",
      "execution_count": null,
      "metadata": {
        "colab": {
          "base_uri": "https://localhost:8080/"
        },
        "id": "19tWMy4DuxVE",
        "outputId": "a7904a7e-9f1f-44bd-8ef8-bf123486b033"
      },
      "outputs": [
        {
          "name": "stdout",
          "output_type": "stream",
          "text": [
            "Enter the number:5\n",
            "The factorial of 5 is 120\n"
          ]
        }
      ],
      "source": [
        "a = int(input(\"Enter the number:\"))\n",
        "fact = 1\n",
        "for i in range(1,a+1):\n",
        "  fact = fact*i\n",
        "print(\"The factorial of\",a,\"is\",fact)"
      ]
    },
    {
      "cell_type": "markdown",
      "metadata": {
        "id": "v-WQcvN6FVql"
      },
      "source": [
        "**While Factorial**"
      ]
    },
    {
      "cell_type": "code",
      "execution_count": null,
      "metadata": {
        "colab": {
          "base_uri": "https://localhost:8080/"
        },
        "id": "z_Y4QftMGBfU",
        "outputId": "5dcd719f-6f0d-4384-a4d9-7dfeecf85006"
      },
      "outputs": [
        {
          "name": "stdout",
          "output_type": "stream",
          "text": [
            "Enter the number:5\n",
            "The value of factorial 5 is 120\n"
          ]
        }
      ],
      "source": [
        "n = int(input(\"Enter the number:\"))\n",
        "fact = 1\n",
        "i = 1\n",
        "while(i<=n):\n",
        "  fact = fact*i\n",
        "  i=i+1\n",
        "print(\"The value of factorial\",n,\"is\",fact)\n"
      ]
    },
    {
      "cell_type": "markdown",
      "metadata": {
        "id": "Ij_kWuu3wK-5"
      },
      "source": [
        "#**Sum of Natural numbers.**#"
      ]
    },
    {
      "cell_type": "code",
      "execution_count": null,
      "metadata": {
        "colab": {
          "base_uri": "https://localhost:8080/"
        },
        "id": "hzMQeNh4vZqb",
        "outputId": "df350d8e-ec27-4f96-d8dd-e5fa8477e519"
      },
      "outputs": [
        {
          "name": "stdout",
          "output_type": "stream",
          "text": [
            "Enter the number till where you want the sum of natural no's:10\n",
            "The sum of 10 natural numbers are: 55\n"
          ]
        }
      ],
      "source": [
        "from re import I\n",
        "n= int(input(\"Enter the number till where you want the sum of natural no's:\"))\n",
        "sum = 0\n",
        "for i in range(1,n+1):\n",
        "  sum = sum+i\n",
        "print(\"The sum of\",n,\"natural numbers are:\",sum)\n"
      ]
    },
    {
      "cell_type": "markdown",
      "metadata": {
        "id": "msUfffoew5yN"
      },
      "source": [
        "#**Multiplying 2 no's nd decrementing them untill 0 arises.**#"
      ]
    },
    {
      "cell_type": "code",
      "execution_count": null,
      "metadata": {
        "colab": {
          "base_uri": "https://localhost:8080/"
        },
        "id": "zNM3UisgwXDO",
        "outputId": "ff0239c9-2252-4c02-a637-64b0dccdc95d"
      },
      "outputs": [
        {
          "name": "stdout",
          "output_type": "stream",
          "text": [
            "Enter the number:10\n",
            "Enter the number:9\n",
            "10 x 9 = 90\n",
            "9 x 8 = 72\n",
            "8 x 7 = 56\n",
            "7 x 6 = 42\n",
            "6 x 5 = 30\n",
            "5 x 4 = 20\n",
            "4 x 3 = 12\n",
            "3 x 2 = 6\n",
            "2 x 1 = 2\n"
          ]
        }
      ],
      "source": [
        "a = int(input(\"Enter the number:\"))\n",
        "b = int(input(\"Enter the number:\"))\n",
        "for i in range(a,1,-1):\n",
        "  c = a*b\n",
        "  print(a,'x',b,'=',c)\n",
        "  a = a-1\n",
        "  b = b-1"
      ]
    },
    {
      "cell_type": "code",
      "execution_count": null,
      "metadata": {
        "colab": {
          "base_uri": "https://localhost:8080/"
        },
        "id": "UqBcGH67vx6H",
        "outputId": "2150206c-5b5f-49c3-e87a-2f63a70f4489"
      },
      "outputs": [
        {
          "name": "stdout",
          "output_type": "stream",
          "text": [
            "1\n",
            "2\n",
            "3\n",
            "4\n",
            "5\n",
            "6\n",
            "7\n",
            "8\n",
            "9\n",
            "10\n",
            "11\n",
            "12\n",
            "13\n",
            "14\n",
            "15\n",
            "16\n",
            "17\n",
            "18\n",
            "19\n",
            "20\n",
            "21\n",
            "22\n",
            "23\n",
            "24\n",
            "25\n",
            "26\n",
            "27\n",
            "28\n",
            "29\n",
            "30\n",
            "31\n",
            "32\n",
            "33\n",
            "34\n",
            "35\n",
            "36\n",
            "37\n",
            "38\n",
            "39\n",
            "40\n",
            "41\n",
            "42\n",
            "43\n",
            "44\n",
            "45\n",
            "46\n",
            "47\n",
            "48\n",
            "49\n"
          ]
        }
      ],
      "source": [
        "i= 1\n",
        "while True:\n",
        "  print(i)\n",
        "  i +=1\n",
        "  if(i%50==0):\n",
        "    break"
      ]
    },
    {
      "cell_type": "code",
      "execution_count": null,
      "metadata": {
        "colab": {
          "base_uri": "https://localhost:8080/"
        },
        "id": "5EKXV5daxyFk",
        "outputId": "c5c955e2-58bd-49b1-f68f-e08b709ff5fa"
      },
      "outputs": [
        {
          "name": "stdout",
          "output_type": "stream",
          "text": [
            "Enter the number:6\n",
            "Enter the number:4\n",
            "6 x 4 = 24\n",
            "5 x 3 = 15\n",
            "4 x 2 = 8\n",
            "3 x 1 = 3\n"
          ]
        }
      ],
      "source": [
        "a = int(input(\"Enter the number:\"))\n",
        "b = int(input(\"Enter the number:\"))\n",
        "while(a and b>0):\n",
        "  c = a*b\n",
        "  print(a,'x',b,'=',c)\n",
        "  a = a-1\n",
        "  b = b-1"
      ]
    },
    {
      "cell_type": "markdown",
      "metadata": {
        "id": "0O6WWaAH0pBX"
      },
      "source": [
        "#**Prime number using while loop**#"
      ]
    },
    {
      "cell_type": "code",
      "execution_count": null,
      "metadata": {
        "colab": {
          "base_uri": "https://localhost:8080/"
        },
        "id": "KEMLocog2Yv7",
        "outputId": "523075da-5082-4e07-b5e3-6b114df45273"
      },
      "outputs": [
        {
          "name": "stdout",
          "output_type": "stream",
          "text": [
            "Enter the number:4\n",
            "Not a prime number..\n"
          ]
        }
      ],
      "source": [
        "a = int(input(\"Enter the number:\"))\n",
        "i=2\n",
        "while(i!=a):\n",
        "  if(a%i==0):\n",
        "    print(\"Not a prime number..\")\n",
        "    break\n",
        "  else:\n",
        "    print(\"Is a prime number.\")\n",
        "    break\n"
      ]
    },
    {
      "cell_type": "markdown",
      "metadata": {
        "id": "qSia42Qs2wmm"
      },
      "source": [
        "#**Sum of natural numbers using while loop**#"
      ]
    },
    {
      "cell_type": "code",
      "execution_count": null,
      "metadata": {
        "id": "CZ7W7eFE2miT"
      },
      "outputs": [],
      "source": [
        "a = int(input(\"Enter the number:\"))\n",
        "i = 0\n",
        "sum = 0\n",
        "while(i!=a+1):\n",
        "  sum = sum+i\n",
        "  i += 1\n",
        "print(\"The sum of\",a,\"natural no.s are\",sum)"
      ]
    },
    {
      "cell_type": "markdown",
      "metadata": {
        "id": "_Ud_AE6m4gPs"
      },
      "source": [
        "#**Factorial using while loop**#"
      ]
    },
    {
      "cell_type": "code",
      "execution_count": null,
      "metadata": {
        "id": "CjEJN2du3RLh"
      },
      "outputs": [],
      "source": [
        "a = int(input(\"Enter the number:\"))\n",
        "fact = 1\n",
        "i = 1\n",
        "while(i<=a):\n",
        "  fact = fact*i\n",
        "  i+=1\n",
        "print(\"The factorial of\",a,\"is\",fact)"
      ]
    },
    {
      "cell_type": "markdown",
      "metadata": {
        "id": "Y2zLRsi3ent2"
      },
      "source": [
        "#**WAP to check which number is greater**#"
      ]
    },
    {
      "cell_type": "code",
      "execution_count": null,
      "metadata": {
        "id": "xcFmxoE-42UE"
      },
      "outputs": [],
      "source": [
        "a = int(input(\"Enter the number a:\"))\n",
        "b = int(input(\"Enter the number b:\"))\n",
        "c = int(input(\"Enter the number c:\"))\n",
        "\n",
        "if(a > (b and c)):\n",
        "  print(\"a is greatest number of all\")\n",
        "elif(b > (a and c)):\n",
        "  print(\"b is greatest number of all\")\n",
        "else:\n",
        "  print(\"c is greatest number of all\")\n"
      ]
    },
    {
      "cell_type": "markdown",
      "metadata": {
        "id": "1bnHpSgCg7Rm"
      },
      "source": [
        "##**Functions in Python**##"
      ]
    },
    {
      "cell_type": "markdown",
      "metadata": {
        "id": "7MwdltZpHu4h"
      },
      "source": [
        "**using libraries**"
      ]
    },
    {
      "cell_type": "code",
      "execution_count": null,
      "metadata": {
        "colab": {
          "base_uri": "https://localhost:8080/"
        },
        "id": "97vJ4lCkHytp",
        "outputId": "7142bac8-a3c7-4eac-902b-187fc044ce99"
      },
      "outputs": [
        {
          "name": "stdout",
          "output_type": "stream",
          "text": [
            "<class 'list'>\n",
            "10\n",
            "55\n",
            "1\n"
          ]
        }
      ],
      "source": [
        "import pandas as pd\n",
        "import numpy as np\n",
        "a = [1,2,3,4,5,6,7,8,9,10]\n",
        "print(type(a))\n",
        "print(np.max(a))\n",
        "print(np.sum(a))\n",
        "print(np.min(a))"
      ]
    },
    {
      "cell_type": "code",
      "execution_count": null,
      "metadata": {
        "colab": {
          "base_uri": "https://localhost:8080/"
        },
        "id": "jz0gHwSwIUqm",
        "outputId": "cd8904e1-b92e-4870-ccf9-ddae5c554b0b"
      },
      "outputs": [
        {
          "name": "stdout",
          "output_type": "stream",
          "text": [
            "4\n"
          ]
        }
      ],
      "source": [
        "def square(a):\n",
        "  sq = a*a\n",
        "  return sq\n",
        "b = square(2)\n",
        "print(b)"
      ]
    },
    {
      "cell_type": "code",
      "execution_count": null,
      "metadata": {
        "id": "tgYR_25oguwO"
      },
      "outputs": [],
      "source": [
        "def add(a,b): #function prototype!\n",
        "  c = a + b\n",
        "  print(c)     #function defination!\n",
        "\n",
        "add(5,3)   #function call.\n"
      ]
    },
    {
      "cell_type": "code",
      "execution_count": null,
      "metadata": {
        "colab": {
          "base_uri": "https://localhost:8080/"
        },
        "id": "ioZOz-a5hDAo",
        "outputId": "fc3536c9-726f-4521-c242-47365bfa5bd9"
      },
      "outputs": [
        {
          "name": "stdout",
          "output_type": "stream",
          "text": [
            "4 a is lesser.\n"
          ]
        }
      ],
      "source": [
        "def islesser(a,b):\n",
        "  if(a<b):\n",
        "    print(a,\"a is lesser.\")\n",
        "  else:\n",
        "    print(b,\"b is lesser.\")\n",
        "islesser(4,45)\n"
      ]
    },
    {
      "cell_type": "code",
      "execution_count": null,
      "metadata": {
        "colab": {
          "base_uri": "https://localhost:8080/"
        },
        "id": "QU2sHr5ZiX-4",
        "outputId": "5fe6e3c9-0f09-4e6d-b349-6117595d9c99"
      },
      "outputs": [
        {
          "name": "stdout",
          "output_type": "stream",
          "text": [
            "45654 j is greater.\n"
          ]
        }
      ],
      "source": [
        "def isgreater(j,k):\n",
        "  pass\n",
        "\n",
        "def isgreater(j,k):\n",
        "  if(j>k):\n",
        "   print(j,\"j is greater.\")\n",
        "  else:\n",
        "   print(k,\"k is greater.\")\n",
        "isgreater(45654,4343)"
      ]
    },
    {
      "cell_type": "code",
      "execution_count": null,
      "metadata": {
        "colab": {
          "base_uri": "https://localhost:8080/"
        },
        "id": "pija-6MgioJd",
        "outputId": "b8c22759-76d4-43ca-dc87-ed123e34a94f"
      },
      "outputs": [
        {
          "name": "stdout",
          "output_type": "stream",
          "text": [
            "The avg is: 26.0\n",
            "The avg is: 7.5\n"
          ]
        }
      ],
      "source": [
        "def avg(a,b):   #Here, we are taking only 2 args.\n",
        "  print(\"The avg is:\",(a+b)/2)\n",
        "avg(49,3)\n",
        "\n",
        "def average(a =2 , b =4 ):    #These are required args.\n",
        "  print(\"The avg is:\",(a+b)/2)\n",
        "average(5,10)   #ALSO CALLED DEFAULT ARGS.\n",
        "#The output here is of 15 as the modified value is considered.\n"
      ]
    },
    {
      "cell_type": "code",
      "execution_count": null,
      "metadata": {
        "colab": {
          "base_uri": "https://localhost:8080/"
        },
        "id": "KchzLHwcj5H2",
        "outputId": "cb44834d-f9c0-4bc9-b075-f61061ac817d"
      },
      "outputs": [
        {
          "name": "stdout",
          "output_type": "stream",
          "text": [
            "The avg is: 1.0\n",
            "The avg is: 1.75\n",
            "The avg is: 4.75\n",
            "The avg is: 5.0\n"
          ]
        }
      ],
      "source": [
        "def avg(*num):#Here we can take multiple args nd accordingly it will ans the correct average of the given nums.\n",
        "  sum = 0\n",
        "  for i in num:\n",
        "    sum = sum + i\n",
        "    print(\"The avg is:\",sum/len(num))\n",
        "avg(4,3,12,1)\n"
      ]
    },
    {
      "cell_type": "code",
      "execution_count": null,
      "metadata": {
        "colab": {
          "base_uri": "https://localhost:8080/"
        },
        "id": "OYohoyqElhL-",
        "outputId": "661cf6ef-3812-4d0d-ce55-b4bafc4db73f"
      },
      "outputs": [
        {
          "name": "stdout",
          "output_type": "stream",
          "text": [
            "<class 'function'>\n",
            "HELLO! Chattrapati shivaji Maharaj\n"
          ]
        }
      ],
      "source": [
        "#Keyword args\n",
        "def name(fname,mname,lname):\n",
        " print(type(name))\n",
        " print(\"HELLO!\",fname,mname,lname)\n",
        "name(mname = \"shivaji\", lname = \"Maharaj\",fname=\"Chattrapati\")"
      ]
    },
    {
      "cell_type": "code",
      "execution_count": null,
      "metadata": {
        "colab": {
          "base_uri": "https://localhost:8080/"
        },
        "id": "6yv10iKQnypR",
        "outputId": "3d7d96ef-462b-4e53-8e5e-5df174793d71"
      },
      "outputs": [
        {
          "name": "stdout",
          "output_type": "stream",
          "text": [
            "<class 'tuple'>\n",
            "Hello! Subhash Chandra Bose\n"
          ]
        }
      ],
      "source": [
        "def name(*name):\n",
        "  print(type(name))\n",
        "  print(\"Hello!\",name[0],name[1],name[2])\n",
        "name(\"Subhash\",\"Chandra\",\"Bose\")"
      ]
    },
    {
      "cell_type": "markdown",
      "metadata": {
        "id": "2OzHcWnEoO_h"
      },
      "source": [
        "Keyword arbitrary arguments."
      ]
    },
    {
      "cell_type": "code",
      "execution_count": null,
      "metadata": {
        "colab": {
          "base_uri": "https://localhost:8080/"
        },
        "id": "BvaBwpVwoSnQ",
        "outputId": "090f5a3e-1061-4c18-83b7-c537abd5a8bd"
      },
      "outputs": [
        {
          "name": "stdout",
          "output_type": "stream",
          "text": [
            "<class 'dict'>\n",
            "Hello! APJ Abdul Kalam\n"
          ]
        }
      ],
      "source": [
        "def name(**name):\n",
        "  print(type(name))\n",
        "  print(\"Hello!\",name[\"fname\"],name[\"mname\"],name[\"lname\"])\n",
        "name(mname = \"Abdul\",fname = \"APJ\",lname = \"Kalam\")"
      ]
    },
    {
      "cell_type": "code",
      "execution_count": null,
      "metadata": {
        "colab": {
          "base_uri": "https://localhost:8080/"
        },
        "id": "VdE3RyiWo6o9",
        "outputId": "3db85cca-a46a-457d-bbc7-468287831ca4"
      },
      "outputs": [
        {
          "name": "stdout",
          "output_type": "stream",
          "text": [
            "0\n",
            "1\n",
            "2\n",
            "3\n",
            "4\n",
            "5\n",
            "6\n",
            "7\n",
            "8\n",
            "9\n",
            "10\n",
            "11\n",
            "12\n",
            "13\n",
            "14\n",
            "15\n",
            "16\n",
            "17\n",
            "18\n",
            "19\n",
            "20\n",
            "21\n",
            "22\n",
            "23\n",
            "24\n",
            "25\n",
            "26\n",
            "27\n",
            "28\n",
            "29\n",
            "30\n",
            "31\n",
            "32\n",
            "33\n",
            "34\n",
            "35\n",
            "36\n",
            "37\n",
            "38\n",
            "39\n",
            "40\n",
            "41\n",
            "42\n",
            "43\n",
            "44\n",
            "45\n",
            "46\n",
            "47\n",
            "48\n",
            "49\n"
          ]
        }
      ],
      "source": [
        "i = 0\n",
        "while True:\n",
        "  print(i)\n",
        "  i = i+1\n",
        "  if(i%50==0):\n",
        "    break\n",
        "  if(i==45):\n",
        "    continue"
      ]
    },
    {
      "cell_type": "markdown",
      "metadata": {
        "id": "gGn6-fbODS1K"
      },
      "source": [
        "#**Questions**#"
      ]
    },
    {
      "cell_type": "markdown",
      "metadata": {
        "id": "s7lJn8YQE8YS"
      },
      "source": []
    },
    {
      "cell_type": "code",
      "execution_count": null,
      "metadata": {
        "colab": {
          "base_uri": "https://localhost:8080/"
        },
        "id": "IAJfg4Uz2kwT",
        "outputId": "ccc41631-2ed6-4ddd-c3fb-0047487f378c"
      },
      "outputs": [
        {
          "name": "stdout",
          "output_type": "stream",
          "text": [
            "[0, 1]\n"
          ]
        }
      ],
      "source": [
        "def fun(n,l=[]):\n",
        "  for i in range(n):\n",
        "    l.append(i*i)\n",
        "  print(l)\n",
        "fun(2)"
      ]
    },
    {
      "cell_type": "code",
      "execution_count": null,
      "metadata": {
        "id": "Juvw5Q2jllHp"
      },
      "outputs": [],
      "source": [
        "from google.colab import drive\n",
        "drive.mount('/content/drive')"
      ]
    },
    {
      "cell_type": "code",
      "execution_count": null,
      "metadata": {
        "colab": {
          "base_uri": "https://localhost:8080/"
        },
        "id": "i7VrYjTuDZhF",
        "outputId": "5be8b065-3bfc-425b-b4d0-91f5d2ee9c9e"
      },
      "outputs": [
        {
          "name": "stdout",
          "output_type": "stream",
          "text": [
            "5\n",
            "7\n",
            "9\n",
            "11\n"
          ]
        }
      ],
      "source": [
        "i =1\n",
        "while True:\n",
        "  if i%9==0:\n",
        "    break\n",
        "  print(i+4)\n",
        "  i +=2"
      ]
    },
    {
      "cell_type": "code",
      "execution_count": null,
      "metadata": {
        "colab": {
          "base_uri": "https://localhost:8080/"
        },
        "id": "q_nqXLNoFMZl",
        "outputId": "0bc4fda5-a405-4def-e387-67e709c8de9f"
      },
      "outputs": [
        {
          "name": "stdout",
          "output_type": "stream",
          "text": [
            "11\n",
            "internshala\n",
            "internshala\n",
            "internshala\n",
            "internshala\n",
            "internshala\n",
            "internshala\n",
            "internshala\n",
            "internshala\n",
            "internshala\n",
            "internshala\n",
            "internshala\n"
          ]
        }
      ],
      "source": [
        "a = 'internshala'\n",
        "print(len(a))\n",
        "for i in range(len(a)):\n",
        "  print(a)\n",
        "  # a = 'z'"
      ]
    },
    {
      "cell_type": "markdown",
      "metadata": {
        "id": "5z99jNVrG84Q"
      },
      "source": [
        "#**Wap to check whether the number is greater than 50 or not and if greater then check whether it is even or not also check the same for odd number too.**#"
      ]
    },
    {
      "cell_type": "code",
      "execution_count": null,
      "metadata": {
        "colab": {
          "base_uri": "https://localhost:8080/"
        },
        "id": "u0hwwaurF_69",
        "outputId": "86fa4a03-4273-4398-f822-c451d69f65c7"
      },
      "outputs": [
        {
          "name": "stdout",
          "output_type": "stream",
          "text": [
            "The number is greater but not even.\n"
          ]
        }
      ],
      "source": [
        "# num = 55\n",
        "# if num > 50 :\n",
        "#   print(\"The number is greater than 50.\")\n",
        "# else:\n",
        "#   print(\"The number is smaller than 50\")\n",
        "num = 55\n",
        "if num>50:\n",
        "   if num %2==0:\n",
        "    print(\"The number is greater than 50 and is even.\")\n",
        "   else:\n",
        "    print(\"The number is greater but not even.\")\n",
        "else:\n",
        "   if num %2!=0:\n",
        "    print(\"The number is less than 50 and is odd.\")\n",
        "   else:\n",
        "    print(\"The number is less than 50 but not odd.\")"
      ]
    },
    {
      "cell_type": "code",
      "execution_count": null,
      "metadata": {
        "colab": {
          "base_uri": "https://localhost:8080/"
        },
        "id": "6tt1uRt7HK-8",
        "outputId": "5a82b3e3-a4cb-47d6-de6e-2310e81b2d12"
      },
      "outputs": [
        {
          "name": "stdout",
          "output_type": "stream",
          "text": [
            "30\n"
          ]
        }
      ],
      "source": [
        "def fun(x,y):\n",
        "  if x>y:\n",
        "    return x\n",
        "  elif x==y:\n",
        "    return x,y\n",
        "  else:\n",
        "    return y\n",
        "print(fun(20,30))"
      ]
    },
    {
      "cell_type": "markdown",
      "metadata": {
        "id": "ais5dWBLIjI6"
      },
      "source": [
        "#**Finding out number of combination using simple method and then using functions**#"
      ]
    },
    {
      "cell_type": "code",
      "execution_count": null,
      "metadata": {
        "colab": {
          "base_uri": "https://localhost:8080/"
        },
        "id": "UKdQFU6zHat7",
        "outputId": "5fbac476-604d-448b-eaa8-99d7066ded13"
      },
      "outputs": [
        {
          "name": "stdout",
          "output_type": "stream",
          "text": [
            "Number of combination: 210.0\n"
          ]
        }
      ],
      "source": [
        "n =10\n",
        "r =6\n",
        "\n",
        "fact_n =1\n",
        "for i in range(1,n+1):\n",
        "  fact_n = fact_n*i\n",
        "\n",
        "fact_r =1\n",
        "for i in range(1,r+1):\n",
        "  fact_r = fact_r*i\n",
        "\n",
        "fact_n_r =1\n",
        "for i in range(1,(n-r)+1):\n",
        "  fact_n_r = fact_n_r*i\n",
        "\n",
        "result = fact_n/(fact_r * (fact_n_r))\n",
        "print(\"Number of combination:\",result)\n"
      ]
    },
    {
      "cell_type": "markdown",
      "metadata": {
        "id": "hB7WZDdn-k4P"
      },
      "source": [
        "*Using function*"
      ]
    },
    {
      "cell_type": "code",
      "execution_count": null,
      "metadata": {
        "colab": {
          "base_uri": "https://localhost:8080/"
        },
        "id": "JFb1DwSYJn3D",
        "outputId": "9cb298f8-97e7-4dbb-cc40-6c4a5b81ed5f"
      },
      "outputs": [
        {
          "name": "stdout",
          "output_type": "stream",
          "text": [
            "Number of combination 210.0\n"
          ]
        }
      ],
      "source": [
        "#NOW USING FUNCTION\n",
        "def factorial(para):\n",
        "  fact = 1\n",
        "  for i in range(1,para + 1):\n",
        "    fact = fact * i\n",
        "  return fact #Intendation should be followed to get the desired output.\n",
        "n = 10\n",
        "r = 6\n",
        "result = factorial(n)/(factorial(r)*(factorial(n-r)))\n",
        "print(\"Number of combination\",result)"
      ]
    },
    {
      "cell_type": "markdown",
      "metadata": {
        "id": "nO0huk4U1cOl"
      },
      "source": [
        "#**List in Python**#"
      ]
    },
    {
      "cell_type": "code",
      "execution_count": null,
      "metadata": {
        "colab": {
          "base_uri": "https://localhost:8080/"
        },
        "id": "PAHNknxQ4YU8",
        "outputId": "0c3b670b-03e6-43ba-b2f4-b24ec5fb1f56"
      },
      "outputs": [
        {
          "name": "stdout",
          "output_type": "stream",
          "text": [
            "[2, 3, 4, 45, 34, 'college', 'school', 'industry', 34]\n",
            "[2, 3, 4, 45, 34, 'college', 'school', 'industry', 34]\n",
            "[2, 3, 4, 45, 34, 'college', 'school', 'industry', 34]\n",
            "9\n",
            "<class 'list'>\n",
            "[2, 3, 4, 45, 34, 'college', 'school', 'industry', 34, 23]\n"
          ]
        }
      ],
      "source": [
        "l = [2,3,4,45,34,'college','school','industry',34]\n",
        "\n",
        "print(l) #1st method of printing list.\n",
        "\n",
        "print(l[:]) #consider index 0 on the left side of the colon. And prints the whole list.\n",
        "\n",
        "print(l[0:9]) #slicing.\n",
        "\n",
        "print(len(l)) #Finds out the size of list.\n",
        "\n",
        "print(type(l))\n",
        "#SINCE LISTS ARE MUTABLE IN NATURE WHICH MEANS WE CAN MODIFY IT.\n",
        "\n",
        "l.append(23) #Modification.\n",
        "print(l)"
      ]
    },
    {
      "cell_type": "markdown",
      "metadata": {
        "id": "a4f2Dgp96Qow"
      },
      "source": [
        "*Negative Indexing.*"
      ]
    },
    {
      "cell_type": "code",
      "execution_count": null,
      "metadata": {
        "colab": {
          "base_uri": "https://localhost:8080/"
        },
        "id": "bogRWgfW6ccQ",
        "outputId": "e5879c10-d5dc-485d-b614-6a128bf6f592"
      },
      "outputs": [
        {
          "name": "stdout",
          "output_type": "stream",
          "text": [
            "[2, 3, 4, 45, 34, 'college', 'school', 'industry', 34, 23]\n",
            "10\n",
            "[2, 3, 4, 45, 34, 'college', 'school']\n",
            "[3, 4, 45, 34, 'college', 'school']\n",
            "[34, 'college', 'school']\n",
            "[34, 'college', 'school']\n",
            "[34, 'college', 'school']\n"
          ]
        }
      ],
      "source": [
        "print(l[:])\n",
        "print(len(l))\n",
        "print(l[0:-3])\n",
        "print(l[1:-3])\n",
        "print(l[-6:-3]) #Negative Indexing.\n",
        "\n",
        "print(l[len(l)-6:len(l)-3]) #Easier representation.\n",
        "\n",
        "print(l[4:7])  #Conversion into Positive Indexing."
      ]
    },
    {
      "cell_type": "markdown",
      "metadata": {
        "id": "m9OKi3zI7mdi"
      },
      "source": [
        "*CHECKING ELEMENTS IN A LIST.*"
      ]
    },
    {
      "cell_type": "code",
      "execution_count": null,
      "metadata": {
        "colab": {
          "base_uri": "https://localhost:8080/"
        },
        "id": "2E3QBwpT7t0n",
        "outputId": "2fdf4646-b324-4862-b9d6-8942f6793872"
      },
      "outputs": [
        {
          "name": "stdout",
          "output_type": "stream",
          "text": [
            "Yes\n",
            "No\n",
            "Yes\n",
            "yes\n",
            "No\n"
          ]
        }
      ],
      "source": [
        "#CONSIDERING THE SAME LIST GIVEN AVB.\n",
        "if 3 in l:      #This is how we can easily check whether the element is present in the list or  not.\n",
        "  print(\"Yes\")\n",
        "else:\n",
        "  print(\"No\")\n",
        "\n",
        "\n",
        "if 7 in l:\n",
        "  print('Yes')\n",
        "else:\n",
        "  print('No')\n",
        "\n",
        "if 'school' in l:  #Same appraoch is used in string element as well.\n",
        "  print('Yes')\n",
        "else:\n",
        "  print('No')\n",
        "\n",
        "if 'chool' in 'school':\n",
        "  print('yes')\n",
        "else:\n",
        "  print('No')\n",
        "\n",
        "if 'chol' in 'school':\n",
        "  print('yes')\n",
        "else:\n",
        "  print('No')"
      ]
    },
    {
      "cell_type": "markdown",
      "metadata": {
        "id": "DfxkHFvO8xW9"
      },
      "source": [
        "**JumpIndexing in list**"
      ]
    },
    {
      "cell_type": "code",
      "execution_count": null,
      "metadata": {
        "colab": {
          "base_uri": "https://localhost:8080/"
        },
        "id": "KfJaGAkt84KH",
        "outputId": "1810aa47-591e-4a89-9559-eb0c712af427"
      },
      "outputs": [
        {
          "name": "stdout",
          "output_type": "stream",
          "text": [
            "[23, 54, 'DataScience', 'MachineLearning', 34, 56, 77, 88, 44, 98]\n",
            "10\n",
            "[23, 'DataScience', 34, 77, 44]\n",
            "[23, 56]\n"
          ]
        }
      ],
      "source": [
        "list = [23,54,'DataScience','MachineLearning',34,56,77,88,44,98]\n",
        "print(list)\n",
        "print(len(list))\n",
        "print(list[0:9:2])\n",
        "print(list[0:10:5]) #Using the 3rd block of slicing brackets we can jumpover the certain numbers through which we wish to."
      ]
    },
    {
      "cell_type": "markdown",
      "metadata": {
        "id": "x2EO2yXB4Sbx"
      },
      "source": [
        "#**List Comprehension**#"
      ]
    },
    {
      "cell_type": "code",
      "execution_count": null,
      "metadata": {
        "colab": {
          "base_uri": "https://localhost:8080/"
        },
        "id": "tqT7qCp11jZr",
        "outputId": "d0508001-af42-4f03-f7e5-404ee016ab63"
      },
      "outputs": [
        {
          "name": "stdout",
          "output_type": "stream",
          "text": [
            "[0, 1, 2, 3]\n",
            "[1, 4, 9, 16, 25, 36, 49, 64, 81]\n",
            "[0, 4, 16, 36, 64]\n",
            "[4, 16, 36, 64]\n"
          ]
        }
      ],
      "source": [
        "#LIST COMPREHENSION\n",
        "lst = [i for i in range(4)]\n",
        "print(lst)\n",
        "\n",
        "list = [i*i for i in range(10)] #Here the seq is till 10 excluding 10. and the squares of the numbers are printed.\n",
        "print(list[1:])\n",
        "\n",
        "list1 = [i*i for i in range(10) if i%2==0 ]\n",
        "print(list1)\n",
        "print(list1[1:]) #list slicing is used to initiate from the 1st index.\n"
      ]
    },
    {
      "cell_type": "markdown",
      "metadata": {
        "id": "lKIgUWJDEAUH"
      },
      "source": [
        "**List Manipulation Methods**"
      ]
    },
    {
      "cell_type": "code",
      "execution_count": null,
      "metadata": {
        "colab": {
          "base_uri": "https://localhost:8080/"
        },
        "id": "xUvmtJoOEEvC",
        "outputId": "64bbf3a8-38a0-4b7f-d84c-71f89d5a19f9"
      },
      "outputs": [
        {
          "name": "stdout",
          "output_type": "stream",
          "text": [
            "7\n",
            "[1, 332, 443, 34, 23, 1, 8]\n",
            "[1, 332, 443, 34, 23, 1, 8, 65]\n",
            "[1, 1, 8, 23, 34, 65, 332, 443]\n",
            "[443, 332, 65, 34, 23, 8, 1, 1]\n",
            "[1, 1, 8, 23, 34, 65, 332, 443]\n",
            "6\n",
            "2\n",
            "2\n",
            "[1, 1, 8, 23, 34, 65, 332, 443]\n",
            "[1, 1, 8, 23, 34, 566, 65, 332, 443]\n",
            "[1, 1, 8, 23, 34, 566, 65, 332, 443, 400, 5000, 6500]\n"
          ]
        }
      ],
      "source": [
        "a = [1,332,443,34,23,1,8]\n",
        "print(len(a))\n",
        "print(a)\n",
        "\n",
        "a.append(65)  #Adds an element in the list.\n",
        "\n",
        "print(a)\n",
        "\n",
        "a.sort()  #Used to sort the elements in a list.\n",
        "\n",
        "print(a)\n",
        "\n",
        "a.sort(reverse= True ) #Sort the list in descending order.\n",
        "\n",
        "print(a)\n",
        "\n",
        "a.reverse()  #reverses the elements of the list\n",
        "\n",
        "print(a)\n",
        "\n",
        "#As the operations are held in a list the updation takes place on each operation.\n",
        "\n",
        "\n",
        "print(a.index(332)) #Tells about the index no of the particular value.\n",
        "\n",
        "print(a.index(8))\n",
        "\n",
        "print(a.count(1)) #calculates the freq of the element in a list.\n",
        "#SUPPOSE A NEW LIST.\n",
        "\n",
        "# m = a\n",
        "# m[0] = 0  #This changes the element of list a too.\n",
        "# print(a)\n",
        "\n",
        "m = a.copy() #generated a copy of the list.\n",
        "\n",
        "print(m)\n",
        "\n",
        "a.insert(5,566) #inserts 566 to the 5th index and shifts the other towards right side.\n",
        "\n",
        "print(a)\n",
        "\n",
        "list1 = [400,5000,6500]\n",
        "\n",
        "a.extend(list1)  #This adds the elements of new list in the earlier list.\n",
        "\n",
        "print(a)\n"
      ]
    },
    {
      "cell_type": "markdown",
      "metadata": {
        "id": "G_OAAEG0H8Nn"
      },
      "source": [
        "**List Concatenation**"
      ]
    },
    {
      "cell_type": "code",
      "execution_count": null,
      "metadata": {
        "colab": {
          "base_uri": "https://localhost:8080/"
        },
        "id": "2C_ObiRoIA-y",
        "outputId": "7002e763-dd53-4f8b-84e1-6d385eadc235"
      },
      "outputs": [
        {
          "name": "stdout",
          "output_type": "stream",
          "text": [
            "[1, 1, 8, 23, 34, 566, 65, 332, 443, 400, 5000, 6500, 400, 5000, 6500]\n"
          ]
        }
      ],
      "source": [
        "m = a + list1\n",
        "print(m)\n",
        "#THIS IS HOW LIST CONCATENATION IS DONE."
      ]
    },
    {
      "cell_type": "markdown",
      "metadata": {
        "id": "mQQjrVlFSrWV"
      },
      "source": [
        "#**Tuples**#\n",
        "**Tuples are similar to list.The only difference is that tuples are non-mutable.**"
      ]
    },
    {
      "cell_type": "code",
      "execution_count": null,
      "metadata": {
        "colab": {
          "base_uri": "https://localhost:8080/"
        },
        "id": "GKVHHhcBSwP9",
        "outputId": "7ebe4561-aa2e-4195-c8c4-526011209399"
      },
      "outputs": [
        {
          "name": "stdout",
          "output_type": "stream",
          "text": [
            "<class 'int'>\n",
            "<class 'tuple'>\n",
            "(1, 2, 43, 54, 655, 66, 'orange', 'mango')\n",
            "8\n",
            "(1, 2, 43, 54, 655, 66, 'orange', 'mango')\n",
            "(1, 2, 43, 54, 655)\n",
            "(66, 'orange')\n",
            "(66, 'orange')\n",
            "yes\n",
            "no\n"
          ]
        }
      ],
      "source": [
        "t = (1,2,43,54,655,66,'orange','mango')\n",
        "tup = (2)\n",
        "print(type(tup))\n",
        "print(type(t))\n",
        "print(t)\n",
        "print(len(t))\n",
        "\n",
        "#Slicing in tuple\n",
        "print(t[:])\n",
        "print(t[0:5])\n",
        "\n",
        "print(t[len(t)-3:len(t)-1])\n",
        "print(t[-3:-1])\n",
        "\n",
        "#Checking\n",
        "if 655 in t:\n",
        "  print(\"yes\")\n",
        "else:\n",
        "  print(\"no\")\n",
        "\n",
        "if 55 in t:\n",
        "  print(\"yes\")\n",
        "else:\n",
        "  print(\"no\")"
      ]
    },
    {
      "cell_type": "markdown",
      "metadata": {
        "id": "uY6GHJxH6fV9"
      },
      "source": [
        "**Methods in tuple**\n",
        "\n",
        "->Tuple are immutable in nature.So, if we want to modify them there is only one way (i.e indirect) to do so and that is copying the elements of tuple in the list and then modify it."
      ]
    },
    {
      "cell_type": "code",
      "execution_count": null,
      "metadata": {
        "colab": {
          "base_uri": "https://localhost:8080/"
        },
        "collapsed": true,
        "id": "PoWhlS1K6e34",
        "outputId": "a30a329e-b37c-404b-d101-78dfa7dff090"
      },
      "outputs": [
        {
          "name": "stdout",
          "output_type": "stream",
          "text": [
            "['Mango', 'Banana', 'Litchi', 'Guava']\n",
            "['Mango', 'Banana', 'Litchi', 'Guava', 34, 'Grapes']\n",
            "['Mango', 'Banana', 'Litchi', 34, 'Grapes']\n",
            "['Mango', 'Banana', 'Dolphin', 34, 'Grapes']\n"
          ]
        }
      ],
      "source": [
        "fruits = ('Mango','Banana','Litchi','Guava')\n",
        "temp = list(fruits)\n",
        "#Since, the tuple is converted into list.Hence, all the operations of the list can be performed here.\n",
        "print(temp)\n",
        "temp.append(34)\n",
        "temp.append('Grapes')\n",
        "print(temp)\n",
        "temp.pop(3) #The element in index number 3 is removed from the list.\n",
        "print(temp)\n",
        "temp[2] = 'Dolphin'\n",
        "print(temp)\n"
      ]
    },
    {
      "cell_type": "markdown",
      "metadata": {
        "id": "ahqMOAsIKj6h"
      },
      "source": [
        "**Sorting list using loops**"
      ]
    },
    {
      "cell_type": "markdown",
      "metadata": {
        "id": "44f9e654-fcfc-447e-82be-fb3d9c3ce9db"
      },
      "source": [
        "###### Today we will start learing python and further we'll look into data analytics."
      ]
    },
    {
      "cell_type": "code",
      "execution_count": null,
      "metadata": {
        "id": "f730b1b9-5ae6-41a6-b5b7-9611a1c42fe5"
      },
      "outputs": [],
      "source": [
        "print(\"Hello World!\")"
      ]
    },
    {
      "cell_type": "code",
      "execution_count": null,
      "metadata": {
        "id": "dea0a018-35c7-45e9-aa86-6901af9d2be9"
      },
      "outputs": [],
      "source": [
        "#This is how we can easily write any equation in jupyter notebook $a = b + c$"
      ]
    },
    {
      "cell_type": "code",
      "execution_count": null,
      "metadata": {
        "id": "b00e2de9-2366-4cab-b4c2-2eb07b0615ce"
      },
      "outputs": [],
      "source": [
        "$a=b+c$"
      ]
    },
    {
      "cell_type": "code",
      "execution_count": null,
      "metadata": {
        "id": "fa04ff35-a5bb-4c30-bcc7-cec74c530493",
        "outputId": "75ff74d3-9058-41b7-defb-426cf9007ba2"
      },
      "outputs": [
        {
          "name": "stdout",
          "output_type": "stream",
          "text": [
            "Lets start Python\n"
          ]
        }
      ],
      "source": [
        "print(\"Lets start Python\")"
      ]
    },
    {
      "cell_type": "markdown",
      "metadata": {
        "id": "123553ce-abe4-4173-9a86-a093ec4f205e"
      },
      "source": [
        "# Variables\n",
        "A Variable can be understood as a container which can store different kind of data such as integer number,decimal number or string.\n",
        "Conventions:-\n",
        "\n",
        "1. Cannot start with any special character or numeric value except underscore.\n",
        "2. Always should be bit descriptive so as to be used as indication for what kind of data is stored in it.\n",
        "3. Ex-- a,b,c shouldn't be used to store any kind of data during project building.\n",
        "4. Camel Notation-> This is the best way of naming a variable. This means the first letter of the second word should be Capital.\n",
        "ex-> MinValue"
      ]
    },
    {
      "cell_type": "code",
      "execution_count": null,
      "metadata": {
        "id": "8d541d1b-f28c-4c79-8025-63fae58b65b4"
      },
      "outputs": [],
      "source": [
        "a =4\n"
      ]
    },
    {
      "cell_type": "code",
      "execution_count": null,
      "metadata": {
        "id": "5f38b19a-6e5e-4e95-a67d-2ebb1dbb3ea8",
        "outputId": "f90a956a-3390-4a9f-c618-075ab5ebea5b"
      },
      "outputs": [
        {
          "name": "stdout",
          "output_type": "stream",
          "text": [
            "Variable   Type    Data/Info\n",
            "----------------------------\n",
            "a          int     4\n"
          ]
        }
      ],
      "source": [
        "%whos"
      ]
    },
    {
      "cell_type": "code",
      "execution_count": null,
      "metadata": {
        "id": "8a193be8-8629-489e-878a-cb33ca5c79cc"
      },
      "outputs": [],
      "source": [
        "x = 45\n",
        "y = 77\n",
        "x = 3\n"
      ]
    },
    {
      "cell_type": "code",
      "execution_count": null,
      "metadata": {
        "id": "bc60b1ca-b605-4f92-8b41-6ae7e87f73d5",
        "outputId": "73c73597-9476-43af-847d-93b320d329d6"
      },
      "outputs": [
        {
          "name": "stdout",
          "output_type": "stream",
          "text": [
            "Variable   Type    Data/Info\n",
            "----------------------------\n",
            "a          int     4\n",
            "x          int     3\n",
            "y          int     77\n"
          ]
        }
      ],
      "source": [
        "%whos"
      ]
    },
    {
      "cell_type": "code",
      "execution_count": null,
      "metadata": {
        "id": "d576c3a1-859d-4f98-838c-407721cae384"
      },
      "outputs": [],
      "source": [
        "a,b,c,d,e = 23,43,55,7.9,44\n"
      ]
    },
    {
      "cell_type": "code",
      "execution_count": null,
      "metadata": {
        "id": "7e407446-34c2-47ec-a452-32f0804b0ce8",
        "outputId": "e1577b54-ce62-47b1-8370-945eb9f0b956"
      },
      "outputs": [
        {
          "name": "stdout",
          "output_type": "stream",
          "text": [
            "Variable   Type     Data/Info\n",
            "-----------------------------\n",
            "b          int      43\n",
            "c          int      55\n",
            "d          float    7.9\n",
            "e          int      44\n",
            "x          int      3\n",
            "y          int      77\n"
          ]
        }
      ],
      "source": [
        "%whos"
      ]
    },
    {
      "cell_type": "code",
      "execution_count": null,
      "metadata": {
        "id": "4d98a2b2-4a6a-443f-a5da-de0e3d7ac3c4"
      },
      "outputs": [],
      "source": [
        "del c\n",
        "del d"
      ]
    },
    {
      "cell_type": "code",
      "execution_count": null,
      "metadata": {
        "id": "4d539bd1-5b6a-4f19-876a-8b65be09d674",
        "outputId": "c14dc283-b0a7-413a-c90f-6164b8e14d6d"
      },
      "outputs": [
        {
          "name": "stdout",
          "output_type": "stream",
          "text": [
            "Variable   Type    Data/Info\n",
            "----------------------------\n",
            "b          int     43\n",
            "e          int     44\n",
            "x          int     3\n",
            "y          int     77\n"
          ]
        }
      ],
      "source": [
        "%whos"
      ]
    },
    {
      "cell_type": "code",
      "execution_count": null,
      "metadata": {
        "id": "d5fd3468-2c9c-4adb-90b3-97e217650d00"
      },
      "outputs": [],
      "source": [
        "#print d will throw an error as the variable c and d has been deleted above"
      ]
    },
    {
      "cell_type": "code",
      "execution_count": null,
      "metadata": {
        "id": "1fcccf4b-1eef-45c1-a1ff-06cf056a6064",
        "outputId": "f18a6de6-ba18-4dcf-b5eb-15ef37bb8976"
      },
      "outputs": [
        {
          "name": "stdout",
          "output_type": "stream",
          "text": [
            "<class 'complex'>\n"
          ]
        }
      ],
      "source": [
        "com = 5 + 8j\n",
        "print(type(com))"
      ]
    },
    {
      "cell_type": "code",
      "execution_count": null,
      "metadata": {
        "id": "ecc6f9f8-c091-48db-a9fb-8d8b67b5950a",
        "outputId": "23615413-d08f-4014-ddaa-fc63fc61615f"
      },
      "outputs": [
        {
          "name": "stdout",
          "output_type": "stream",
          "text": [
            "Variable   Type       Data/Info\n",
            "-------------------------------\n",
            "b          int        43\n",
            "com        complex    (5+8j)\n",
            "e          int        44\n",
            "x          int        3\n",
            "y          int        77\n"
          ]
        }
      ],
      "source": [
        "%whos"
      ]
    },
    {
      "cell_type": "markdown",
      "metadata": {
        "id": "a22021be-7655-4f43-80b2-1bbcd1504f51"
      },
      "source": [
        "# string variable"
      ]
    },
    {
      "cell_type": "code",
      "execution_count": null,
      "metadata": {
        "id": "dc58d0d6-f31c-4b32-a458-4ad39cb88589",
        "outputId": "674cc4ed-3e79-4ca3-e3fb-a68d19215adc"
      },
      "outputs": [
        {
          "name": "stdout",
          "output_type": "stream",
          "text": [
            "Hello World\n",
            "<class 'str'>\n"
          ]
        }
      ],
      "source": [
        "s  = \"Hello World\"\n",
        "print(s)\n",
        "print(type(s))"
      ]
    },
    {
      "cell_type": "code",
      "execution_count": null,
      "metadata": {
        "id": "91a83c21-2c5e-4d55-b2d1-5e61ba71e11c",
        "outputId": "da805220-e2e9-4852-8728-b315e02ff211"
      },
      "outputs": [
        {
          "name": "stdout",
          "output_type": "stream",
          "text": [
            "Variable   Type       Data/Info\n",
            "-------------------------------\n",
            "b          int        43\n",
            "com        complex    (5+8j)\n",
            "e          int        44\n",
            "s          str        Hello World\n",
            "x          int        3\n",
            "y          int        77\n"
          ]
        }
      ],
      "source": [
        "%whos"
      ]
    },
    {
      "cell_type": "markdown",
      "metadata": {
        "id": "40721dd7-e633-45fc-bdb3-4d59dd2178a3"
      },
      "source": [
        "# Variable and Operators"
      ]
    },
    {
      "cell_type": "code",
      "execution_count": null,
      "metadata": {
        "id": "3d368001-4e43-4c00-af90-0845758b5792",
        "outputId": "38ee3e50-9aa2-4de0-d6ed-2bdd38b807c6"
      },
      "outputs": [
        {
          "name": "stdout",
          "output_type": "stream",
          "text": [
            "The addition of 5 and 20 is 25\n",
            "The subtraction of 5 and 20 is -15\n",
            "The multiplication of 5 and 20 is 100\n",
            "The division of 5 and 20 is 0.25\n",
            "The Floor Division of 5 and 20 is 0\n",
            "The Modulus of 5 and 20 is 5\n",
            "The Power of 5 and 20 is 95367431640625\n"
          ]
        }
      ],
      "source": [
        "a = 5\n",
        "b = 20\n",
        "print(\"The addition of\",a,\"and\",b,\"is\",(a+b))\n",
        "print(\"The subtraction of\",a,\"and\",b,\"is\",(a-b))\n",
        "print(\"The multiplication of\",a,\"and\",b,\"is\",(a*b))\n",
        "print(\"The division of\",a,\"and\",b,\"is\",(a/b))\n",
        "print(\"The Floor Division of\",a,\"and\",b,\"is\",(a//b))\n",
        "print(\"The Modulus of\",a,\"and\",b,\"is\",(a%b))\n",
        "print(\"The Power of\",a,\"and\",b,\"is\",(a**b))"
      ]
    },
    {
      "cell_type": "code",
      "execution_count": null,
      "metadata": {
        "id": "c4eb82a9-c05d-45c5-abf1-8f1a6a016c19",
        "outputId": "75aec065-5820-4d0e-f954-bde629b91d05"
      },
      "outputs": [
        {
          "name": "stdout",
          "output_type": "stream",
          "text": [
            "Variable   Type       Data/Info\n",
            "-------------------------------\n",
            "a          int        5\n",
            "b          int        20\n",
            "com        complex    (5+8j)\n",
            "e          int        44\n",
            "s          str        Hello World\n",
            "x          int        3\n",
            "y          int        77\n"
          ]
        }
      ],
      "source": [
        "%whos"
      ]
    },
    {
      "cell_type": "code",
      "execution_count": null,
      "metadata": {
        "id": "be5e19ee-a821-4a93-ac28-998344453b0a",
        "outputId": "eabd1330-4d7b-4835-c02c-f24be3cd3b09"
      },
      "outputs": [
        {
          "name": "stdout",
          "output_type": "stream",
          "text": [
            "79.75999999999999\n",
            "<class 'float'>\n"
          ]
        }
      ],
      "source": [
        "n1 = 34\n",
        "n2 = 45.76\n",
        "print(n1+n2)\n",
        "print(type(n1+n2))"
      ]
    },
    {
      "cell_type": "code",
      "execution_count": null,
      "metadata": {
        "id": "407f7941-a92c-4689-ab17-42fdda91cd8f",
        "outputId": "20e04e90-fbec-4d48-b2f1-817256d7e38e"
      },
      "outputs": [
        {
          "name": "stdout",
          "output_type": "stream",
          "text": [
            "126851.0\n"
          ]
        }
      ],
      "source": [
        "v = ((n1+n2)**3)//4\n",
        "print(v)"
      ]
    },
    {
      "cell_type": "code",
      "execution_count": null,
      "metadata": {
        "id": "7f9d24c0-67fd-46c2-9aa5-3d3eee452d14",
        "outputId": "94977bef-8bf5-4054-b610-9ea5dc406ce5"
      },
      "outputs": [
        {
          "name": "stdout",
          "output_type": "stream",
          "text": [
            "Hello World\n"
          ]
        }
      ],
      "source": [
        "s1 = \"Hello\"\n",
        "s2 = \" World\"\n",
        "sum = s1+s2\n",
        "print(sum)"
      ]
    },
    {
      "cell_type": "code",
      "execution_count": null,
      "metadata": {
        "id": "e359e7d3-63cc-43a1-a7ea-ea3e6fdf4104",
        "outputId": "7ca857f2-c74b-4dd4-d96b-109a7f293aac"
      },
      "outputs": [
        {
          "data": {
            "text/plain": [
              "3"
            ]
          },
          "execution_count": 38,
          "metadata": {},
          "output_type": "execute_result"
        }
      ],
      "source": [
        "10//3 #Floor Division"
      ]
    },
    {
      "cell_type": "code",
      "execution_count": null,
      "metadata": {
        "id": "38878343-2514-4f67-83fb-3056b954c9cd",
        "outputId": "0334b7f2-9100-48fb-b1aa-3a4ffc2fa22b"
      },
      "outputs": [
        {
          "data": {
            "text/plain": [
              "3.3333333333333335"
            ]
          },
          "execution_count": 39,
          "metadata": {},
          "output_type": "execute_result"
        }
      ],
      "source": [
        "10/3"
      ]
    },
    {
      "cell_type": "code",
      "execution_count": null,
      "metadata": {
        "id": "ab78d186-d3dd-4743-a3f9-b2434961d483",
        "outputId": "cb5cc467-88a6-49d9-b349-d28dfc62f496"
      },
      "outputs": [
        {
          "name": "stdout",
          "output_type": "stream",
          "text": [
            "76.4\n"
          ]
        }
      ],
      "source": [
        "_e = 76.4\n",
        "print(_e)"
      ]
    },
    {
      "cell_type": "code",
      "execution_count": null,
      "metadata": {
        "id": "26d7b6d2-907e-4e9a-9cf1-75f28a7b8bd9"
      },
      "outputs": [],
      "source": [
        "minValue = 27"
      ]
    },
    {
      "cell_type": "code",
      "execution_count": null,
      "metadata": {
        "id": "5ae802a5-aed5-4161-9c98-32210d39e483",
        "outputId": "ab1d51b0-1541-4d7c-8f67-2bf437a54aa0"
      },
      "outputs": [
        {
          "name": "stdout",
          "output_type": "stream",
          "text": [
            "Variable   Type    Data/Info\n",
            "----------------------------\n",
            "minValue   int     27\n",
            "s1         str     Hello\n",
            "s2         str      World\n",
            "sum        str     Hello World\n"
          ]
        }
      ],
      "source": [
        "%whos"
      ]
    },
    {
      "cell_type": "markdown",
      "metadata": {
        "id": "b4b30e00-7cec-4f9d-960c-cf660fda93ee"
      },
      "source": [
        "# Type bool and Comparision of the variables"
      ]
    },
    {
      "cell_type": "code",
      "execution_count": null,
      "metadata": {
        "id": "f199672c-87ce-41dc-be85-2c9be024d70b"
      },
      "outputs": [],
      "source": [
        "a = True\n",
        "b = True\n",
        "c = False\n"
      ]
    },
    {
      "cell_type": "code",
      "execution_count": null,
      "metadata": {
        "id": "d5e83b77-4338-4de0-9ca3-318313ff199a",
        "outputId": "1eeef6d0-da59-4b2d-ed5a-6206d0d86417"
      },
      "outputs": [
        {
          "name": "stdout",
          "output_type": "stream",
          "text": [
            "Variable   Type    Data/Info\n",
            "----------------------------\n",
            "a          bool    True\n",
            "b          bool    True\n",
            "c          bool    False\n"
          ]
        }
      ],
      "source": [
        "%whos"
      ]
    },
    {
      "cell_type": "code",
      "execution_count": null,
      "metadata": {
        "id": "863777eb-a1ae-435d-ab98-46b4be8da412",
        "outputId": "5f97acd2-a998-4508-9661-c266d13587be"
      },
      "outputs": [
        {
          "name": "stdout",
          "output_type": "stream",
          "text": [
            "True\n"
          ]
        }
      ],
      "source": [
        "print(a and b)"
      ]
    },
    {
      "cell_type": "code",
      "execution_count": null,
      "metadata": {
        "id": "1df513fb-2c63-4406-b401-c09d92503180",
        "outputId": "a5fef5c8-32b2-4410-c9d2-ce144b623ff7"
      },
      "outputs": [
        {
          "name": "stdout",
          "output_type": "stream",
          "text": [
            "False\n",
            "False\n"
          ]
        }
      ],
      "source": [
        "print(a and c)\n",
        "print(c and a)"
      ]
    },
    {
      "cell_type": "code",
      "execution_count": null,
      "metadata": {
        "id": "a4802076-1e3d-4255-a478-e4ab5a6893f9",
        "outputId": "29079fd0-46d1-42bf-c122-462f63e5ff99"
      },
      "outputs": [
        {
          "name": "stdout",
          "output_type": "stream",
          "text": [
            "True\n",
            "True\n",
            "True\n",
            "True\n",
            "False\n"
          ]
        }
      ],
      "source": [
        "d = (a or b)\n",
        "print(d)\n",
        "print(a or c)\n",
        "print(c or a)\n",
        "print(a and d)\n",
        "print(c and d)"
      ]
    },
    {
      "cell_type": "markdown",
      "metadata": {
        "id": "781ed748-dea0-4368-ac23-b984786b2c6e"
      },
      "source": [
        "Bool which consist not as prefix(not opposes the bool)"
      ]
    },
    {
      "cell_type": "code",
      "execution_count": null,
      "metadata": {
        "id": "59bfa06f-cfd6-46ed-979f-737deca78009",
        "outputId": "0c21903b-13c2-421d-e5d9-118e4f4a0f0a"
      },
      "outputs": [
        {
          "data": {
            "text/plain": [
              "False"
            ]
          },
          "execution_count": 7,
          "metadata": {},
          "output_type": "execute_result"
        }
      ],
      "source": [
        "not(a)"
      ]
    },
    {
      "cell_type": "code",
      "execution_count": null,
      "metadata": {
        "id": "e05c5137-cf62-4e4b-b407-21a3aa954def",
        "outputId": "0d574f89-9fbe-499d-ba43-14df40c013a2"
      },
      "outputs": [
        {
          "data": {
            "text/plain": [
              "False"
            ]
          },
          "execution_count": 8,
          "metadata": {},
          "output_type": "execute_result"
        }
      ],
      "source": [
        "not(b)"
      ]
    },
    {
      "cell_type": "code",
      "execution_count": null,
      "metadata": {
        "id": "e75cd8ff-62d4-4c71-b387-6d16c16e294c",
        "outputId": "c7330bcf-677a-4b19-9b82-5dfac071d673"
      },
      "outputs": [
        {
          "data": {
            "text/plain": [
              "True"
            ]
          },
          "execution_count": 9,
          "metadata": {},
          "output_type": "execute_result"
        }
      ],
      "source": [
        "not(c)"
      ]
    },
    {
      "cell_type": "code",
      "execution_count": null,
      "metadata": {
        "id": "ebc93f56-249e-4473-944b-c063ea6baaaa",
        "outputId": "d88dbf30-acdf-4de4-e912-73864b0c201b"
      },
      "outputs": [
        {
          "name": "stdout",
          "output_type": "stream",
          "text": [
            "False\n",
            "<class 'bool'>\n"
          ]
        }
      ],
      "source": [
        "t = not(d)\n",
        "print(t)\n",
        "print(type(d))"
      ]
    },
    {
      "cell_type": "code",
      "execution_count": null,
      "metadata": {
        "id": "3513cfc4-b7b2-486e-880a-0f1a03e78bc1",
        "outputId": "c6f49aa7-e47f-4665-e64e-cc75bb3b7409"
      },
      "outputs": [
        {
          "data": {
            "text/plain": [
              "True"
            ]
          },
          "execution_count": 12,
          "metadata": {},
          "output_type": "execute_result"
        }
      ],
      "source": [
        "not(a and b) or (c or d)"
      ]
    },
    {
      "cell_type": "markdown",
      "metadata": {
        "id": "d3af1fe2-265b-47a4-8231-dc381a02a71d"
      },
      "source": [
        "Combine the boolean data\n"
      ]
    },
    {
      "cell_type": "markdown",
      "metadata": {
        "id": "827fce2c-72ea-452b-adf9-6923bbf723d4"
      },
      "source": [
        "# Comparisions"
      ]
    },
    {
      "cell_type": "code",
      "execution_count": null,
      "metadata": {
        "id": "7c840d76-bebd-4820-bcf2-f5faa112ee6f",
        "outputId": "b3f8e6ed-2b66-4fb1-e211-016de603fd5c"
      },
      "outputs": [
        {
          "name": "stdout",
          "output_type": "stream",
          "text": [
            "True\n"
          ]
        }
      ],
      "source": [
        "print(2<3)\n"
      ]
    },
    {
      "cell_type": "code",
      "execution_count": null,
      "metadata": {
        "id": "5762df7b-bea4-42f8-b595-7f1cfd41f7d5",
        "outputId": "1e48a39d-7416-4dea-bba9-40bb74c1b2ad"
      },
      "outputs": [
        {
          "name": "stdout",
          "output_type": "stream",
          "text": [
            "<class 'bool'>\n",
            "True\n"
          ]
        }
      ],
      "source": [
        "c = 2<3\n",
        "print(type(c))\n",
        "print(c)"
      ]
    },
    {
      "cell_type": "code",
      "execution_count": null,
      "metadata": {
        "id": "d2de6ab4-d6e7-49ff-a8dd-480296ca9a3d",
        "outputId": "d18e51f4-22d0-43ff-93ba-e62e6b4e39fc"
      },
      "outputs": [
        {
          "name": "stdout",
          "output_type": "stream",
          "text": [
            "False\n",
            "<class 'bool'>\n"
          ]
        }
      ],
      "source": [
        "d = 3 ==4\n",
        "print(d)\n",
        "print(type(d))"
      ]
    },
    {
      "cell_type": "code",
      "execution_count": null,
      "metadata": {
        "id": "11c4ac75-7c17-44b6-aeb6-74fb253b4f34"
      },
      "outputs": [],
      "source": [
        "x = 4\n",
        "y = 9\n",
        "z = 8.7\n",
        "r =-3"
      ]
    },
    {
      "cell_type": "code",
      "execution_count": null,
      "metadata": {
        "id": "fd0fcba9-f8ea-4bba-bd03-6767fdbbd742",
        "outputId": "d3e52b15-0d24-4f4e-d8ed-d244403bcffa"
      },
      "outputs": [
        {
          "data": {
            "text/plain": [
              "True"
            ]
          },
          "execution_count": 20,
          "metadata": {},
          "output_type": "execute_result"
        }
      ],
      "source": [
        "(x<y) and (z<y) or (r == x)\n"
      ]
    },
    {
      "cell_type": "code",
      "execution_count": null,
      "metadata": {
        "id": "06a86ca0-05d4-478d-99df-e190d3fd7e0a",
        "outputId": "15f88712-8ad3-4ac3-8ff4-a588e721a563"
      },
      "outputs": [
        {
          "data": {
            "text/plain": [
              "True"
            ]
          },
          "execution_count": 21,
          "metadata": {},
          "output_type": "execute_result"
        }
      ],
      "source": [
        "False and False or True"
      ]
    },
    {
      "cell_type": "code",
      "execution_count": null,
      "metadata": {
        "id": "2a5836c3-f032-4adb-a59a-b88f565eac73",
        "outputId": "99dda35f-e0d8-4e81-d8e7-77d34256275a"
      },
      "outputs": [
        {
          "data": {
            "text/plain": [
              "False"
            ]
          },
          "execution_count": 22,
          "metadata": {},
          "output_type": "execute_result"
        }
      ],
      "source": [
        "(True or False) and False"
      ]
    },
    {
      "cell_type": "code",
      "execution_count": null,
      "metadata": {
        "id": "cc6264bb-98f0-4833-9f5a-e7150c643491",
        "outputId": "847f08b9-80d8-49b3-f524-f0382a960235"
      },
      "outputs": [
        {
          "name": "stdout",
          "output_type": "stream",
          "text": [
            "False\n"
          ]
        }
      ],
      "source": [
        "print((not(2!=3) and True) or (False and True))"
      ]
    },
    {
      "cell_type": "markdown",
      "metadata": {
        "id": "336a21a6-6457-42e9-bf62-6609f7a3de84"
      },
      "source": [
        "# Important Functions\n",
        "Its a built in function from the language that is supplied to the users to achieve particular task.\n",
        "\n",
        "Round Function--> Used to round the input value to a specified number of places or to the nearest integer."
      ]
    },
    {
      "cell_type": "code",
      "execution_count": null,
      "metadata": {
        "id": "2f337d31-3f77-4ec0-9344-cab786587e8a",
        "outputId": "e6a2aa94-1c06-4e9d-baf4-3faf76d34a3d"
      },
      "outputs": [
        {
          "data": {
            "text/plain": [
              "46"
            ]
          },
          "execution_count": 24,
          "metadata": {},
          "output_type": "execute_result"
        }
      ],
      "source": [
        "round(45.64)"
      ]
    },
    {
      "cell_type": "code",
      "execution_count": null,
      "metadata": {
        "id": "c062b778-2167-458a-8137-cfa91c21c7d6",
        "outputId": "476cf70d-68b3-4f14-d405-827d567731ef"
      },
      "outputs": [
        {
          "data": {
            "text/plain": [
              "45"
            ]
          },
          "execution_count": 25,
          "metadata": {},
          "output_type": "execute_result"
        }
      ],
      "source": [
        "round(45.4)"
      ]
    },
    {
      "cell_type": "code",
      "execution_count": null,
      "metadata": {
        "id": "a35f6e52-1d39-44a1-9ac3-f2f674e90bad",
        "outputId": "257aefeb-dfbb-42d9-926d-a4c26adf69cd"
      },
      "outputs": [
        {
          "data": {
            "text/plain": [
              "46"
            ]
          },
          "execution_count": 26,
          "metadata": {},
          "output_type": "execute_result"
        }
      ],
      "source": [
        "round(45.5)"
      ]
    },
    {
      "cell_type": "code",
      "execution_count": null,
      "metadata": {
        "id": "f4bc5679-7de5-42f0-827f-bb64bd86d74e",
        "outputId": "413f9f98-bbc7-4332-bf26-35e19215504c"
      },
      "outputs": [
        {
          "data": {
            "text/plain": [
              "4.55"
            ]
          },
          "execution_count": 33,
          "metadata": {},
          "output_type": "execute_result"
        }
      ],
      "source": [
        "round(4.546,2) #This makes the second place after decimal number."
      ]
    },
    {
      "cell_type": "code",
      "execution_count": null,
      "metadata": {
        "id": "21f2b943-37ac-4db6-9619-b98417aad1ef",
        "outputId": "6061a4e4-8567-4adc-cb3b-9706f9cb58ae"
      },
      "outputs": [
        {
          "data": {
            "text/plain": [
              "7"
            ]
          },
          "execution_count": 1,
          "metadata": {},
          "output_type": "execute_result"
        }
      ],
      "source": [
        "round(6.8)"
      ]
    },
    {
      "cell_type": "markdown",
      "metadata": {
        "id": "8417da58-5b2f-45d3-89e5-aa71dd10b813"
      },
      "source": [
        "Divmod Function-->This function outputs the quotient and the remainder in a tuple()."
      ]
    },
    {
      "cell_type": "code",
      "execution_count": null,
      "metadata": {
        "id": "a4d4f1ed-9bca-44e0-b39a-fe26f4c1ad21",
        "outputId": "ee8c7cbe-09ce-427d-c4c2-c9afb78e184c"
      },
      "outputs": [
        {
          "data": {
            "text/plain": [
              "(6, 3)"
            ]
          },
          "execution_count": 2,
          "metadata": {},
          "output_type": "execute_result"
        }
      ],
      "source": [
        "divmod(27,4)"
      ]
    },
    {
      "cell_type": "code",
      "execution_count": null,
      "metadata": {
        "id": "a435ccd3-a3d5-4058-91bd-e37f33822b8b",
        "outputId": "f5c7a2d7-af80-4db5-8a40-8450537ff698"
      },
      "outputs": [
        {
          "data": {
            "text/plain": [
              "(2, 0)"
            ]
          },
          "execution_count": 3,
          "metadata": {},
          "output_type": "execute_result"
        }
      ],
      "source": [
        "divmod(22,11)"
      ]
    },
    {
      "cell_type": "code",
      "execution_count": null,
      "metadata": {
        "id": "698aa4d6-fd07-48b2-b69b-57a9ae1da964",
        "outputId": "cacd1ec0-18bb-4ffe-dad2-7e53e438be07"
      },
      "outputs": [
        {
          "data": {
            "text/plain": [
              "(17, 2)"
            ]
          },
          "execution_count": 4,
          "metadata": {},
          "output_type": "execute_result"
        }
      ],
      "source": [
        "divmod(87,5)"
      ]
    },
    {
      "cell_type": "code",
      "execution_count": null,
      "metadata": {
        "id": "82a6b6a4-6d8a-4e32-842c-58a68d50d74c",
        "outputId": "11624fec-8faa-4dbf-cb0b-cf2dd5484ca7"
      },
      "outputs": [
        {
          "name": "stdout",
          "output_type": "stream",
          "text": [
            "<class 'tuple'>\n",
            "(4, 3)\n"
          ]
        }
      ],
      "source": [
        "a = divmod(23,5)\n",
        "print(type(a))\n",
        "print(a)"
      ]
    },
    {
      "cell_type": "code",
      "execution_count": null,
      "metadata": {
        "id": "a972d912-2708-4d75-9a08-d0b72b734747",
        "outputId": "518b750b-e17e-410a-a838-897b35afa242"
      },
      "outputs": [
        {
          "name": "stdout",
          "output_type": "stream",
          "text": [
            "4\n",
            "3\n"
          ]
        }
      ],
      "source": [
        "print(a[0])\n",
        "print(a[1])"
      ]
    },
    {
      "cell_type": "code",
      "execution_count": null,
      "metadata": {
        "id": "19079695-346a-4e20-a20b-f4f839f6d40e",
        "outputId": "a6c23ea5-d6d3-4e90-868b-6a10ee826795"
      },
      "outputs": [
        {
          "name": "stdout",
          "output_type": "stream",
          "text": [
            "Variable   Type     Data/Info\n",
            "-----------------------------\n",
            "a          tuple    n=2\n"
          ]
        }
      ],
      "source": [
        "%whos"
      ]
    },
    {
      "cell_type": "markdown",
      "metadata": {
        "id": "7b3547e8-f20d-4383-bd2a-05a2ceb31404"
      },
      "source": [
        "IsInstance function--> Returns true, if the first arguement of the class. Multiple classes can also be checked at once."
      ]
    },
    {
      "cell_type": "code",
      "execution_count": null,
      "metadata": {
        "id": "5c07e6f2-0af2-4954-a189-7c8a857fec7e",
        "outputId": "76104439-a4b9-4701-edd8-ce23e67c0df9"
      },
      "outputs": [
        {
          "data": {
            "text/plain": [
              "True"
            ]
          },
          "execution_count": 9,
          "metadata": {},
          "output_type": "execute_result"
        }
      ],
      "source": [
        "isinstance(2,int)"
      ]
    },
    {
      "cell_type": "code",
      "execution_count": null,
      "metadata": {
        "id": "8ebd8508-be5b-495a-81df-6a1b52625467",
        "outputId": "fb8aeb98-bcdc-4b7e-89dd-d93ad39d0248"
      },
      "outputs": [
        {
          "data": {
            "text/plain": [
              "True"
            ]
          },
          "execution_count": 10,
          "metadata": {},
          "output_type": "execute_result"
        }
      ],
      "source": [
        "isinstance(23.4,float)"
      ]
    },
    {
      "cell_type": "code",
      "execution_count": null,
      "metadata": {
        "id": "5c667529-b77c-4170-84f4-e5e7492fed05",
        "outputId": "3911141a-7cd0-44d1-abbe-5bbf3661fae5"
      },
      "outputs": [
        {
          "data": {
            "text/plain": [
              "False"
            ]
          },
          "execution_count": 14,
          "metadata": {},
          "output_type": "execute_result"
        }
      ],
      "source": [
        "isinstance(23+8j,(int,float ,str))\n",
        "#Since we didnt check complex number in this particular tuple.Therefore the result is false"
      ]
    },
    {
      "cell_type": "code",
      "execution_count": null,
      "metadata": {
        "id": "81b69d7a-f52b-4acf-b19a-8ef3cde668ae",
        "outputId": "dba1aeec-6700-4f90-fd78-6f33707cb650"
      },
      "outputs": [
        {
          "data": {
            "text/plain": [
              "True"
            ]
          },
          "execution_count": 15,
          "metadata": {},
          "output_type": "execute_result"
        }
      ],
      "source": [
        "isinstance(23+8j,(int,float ,str,complex))"
      ]
    },
    {
      "cell_type": "markdown",
      "metadata": {
        "id": "7f48d64d-1a6e-4994-a126-6173adaec517"
      },
      "source": [
        "Power Function\n",
        "\n",
        "Here the third arguement calculates the modulus with the result of first two arguements."
      ]
    },
    {
      "cell_type": "code",
      "execution_count": null,
      "metadata": {
        "id": "f2858659-20e4-4aee-9268-759ea1e8a7cf",
        "outputId": "ce5ff4cc-bc95-4598-b00e-d45cf3d990c9"
      },
      "outputs": [
        {
          "data": {
            "text/plain": [
              "8"
            ]
          },
          "execution_count": 21,
          "metadata": {},
          "output_type": "execute_result"
        }
      ],
      "source": [
        "pow(2,3)"
      ]
    },
    {
      "cell_type": "code",
      "execution_count": null,
      "metadata": {
        "id": "58c7dbb0-34f4-4fe5-a54b-672a98d994a5",
        "outputId": "94e1b56f-b942-4933-8a0a-8b8c1b1d29fd"
      },
      "outputs": [
        {
          "data": {
            "text/plain": [
              "16"
            ]
          },
          "execution_count": 22,
          "metadata": {},
          "output_type": "execute_result"
        }
      ],
      "source": [
        "pow(2,4)"
      ]
    },
    {
      "cell_type": "code",
      "execution_count": null,
      "metadata": {
        "id": "9f522d87-dd8c-4457-b6cc-2818b08f4f3f",
        "outputId": "7e5958d4-58ec-4f44-c9bd-80cc9177ce97"
      },
      "outputs": [
        {
          "data": {
            "text/plain": [
              "16"
            ]
          },
          "execution_count": 23,
          "metadata": {},
          "output_type": "execute_result"
        }
      ],
      "source": [
        "2**4"
      ]
    },
    {
      "cell_type": "code",
      "execution_count": null,
      "metadata": {
        "id": "8f7ca0aa-652f-4d0a-b14e-eae8d67c2739",
        "outputId": "c5fb1b81-b539-46fa-a966-020ebf2c0877"
      },
      "outputs": [
        {
          "data": {
            "text/plain": [
              "2"
            ]
          },
          "execution_count": 24,
          "metadata": {},
          "output_type": "execute_result"
        }
      ],
      "source": [
        "pow(2,4,7)"
      ]
    },
    {
      "cell_type": "code",
      "execution_count": null,
      "metadata": {
        "id": "108a920e-c115-4fe0-8b40-268143cf6b30",
        "outputId": "c45c0e67-1c21-4df8-db00-69996684f6ea"
      },
      "outputs": [
        {
          "data": {
            "text/plain": [
              "0"
            ]
          },
          "execution_count": 25,
          "metadata": {},
          "output_type": "execute_result"
        }
      ],
      "source": [
        "pow(5,3,5)"
      ]
    },
    {
      "cell_type": "markdown",
      "metadata": {
        "id": "f62ac331-a814-4881-a867-051c8fff0038"
      },
      "source": [
        "Input Function"
      ]
    },
    {
      "cell_type": "code",
      "execution_count": null,
      "metadata": {
        "id": "fcc5d491-4600-44ed-9bc6-768adc66d8ce",
        "outputId": "0b8ca10c-fbfd-4879-f4aa-33935f79b277"
      },
      "outputs": [
        {
          "name": "stdin",
          "output_type": "stream",
          "text": [
            "Enter the number: 45\n"
          ]
        },
        {
          "name": "stdout",
          "output_type": "stream",
          "text": [
            "45\n",
            "<class 'str'>\n"
          ]
        }
      ],
      "source": [
        "a = input(\"Enter the number:\")\n",
        "print(a)\n",
        "print(type(a))\n",
        "#Here the variable a stores 45 as string."
      ]
    },
    {
      "cell_type": "code",
      "execution_count": null,
      "metadata": {
        "id": "91eb6d82-6dbe-477f-9fd0-ac066685b780",
        "outputId": "595fafa0-30b2-4529-8ccd-d48abec59cd9"
      },
      "outputs": [
        {
          "name": "stdin",
          "output_type": "stream",
          "text": [
            "Enter the number: 45454\n"
          ]
        },
        {
          "name": "stdout",
          "output_type": "stream",
          "text": [
            "45454\n",
            "<class 'int'>\n"
          ]
        }
      ],
      "source": [
        "num = int(input(\"Enter the number:\"))\n",
        "print(num)\n",
        "print(type(num))"
      ]
    },
    {
      "cell_type": "markdown",
      "metadata": {
        "id": "e6c13397-93ca-4019-afa9-5ea79609a7ee"
      },
      "source": [
        "# Here are some ways by which you can easily know about any function in python.\n"
      ]
    },
    {
      "cell_type": "code",
      "execution_count": null,
      "metadata": {
        "id": "684d7130-bc4a-45d8-bfaa-1e9e555202e8",
        "outputId": "cde8c99f-e382-4920-a907-505c07be4de8"
      },
      "outputs": [
        {
          "name": "stdout",
          "output_type": "stream",
          "text": [
            "Help on built-in function pow in module builtins:\n",
            "\n",
            "pow(base, exp, mod=None)\n",
            "    Equivalent to base**exp with 2 arguments or base**exp % mod with 3 arguments\n",
            "    \n",
            "    Some types, such as ints, are able to use a more efficient algorithm when\n",
            "    invoked using the three argument form.\n",
            "\n"
          ]
        }
      ],
      "source": [
        "help(pow)"
      ]
    },
    {
      "cell_type": "code",
      "execution_count": null,
      "metadata": {
        "id": "87c8fb08-7251-40d0-878b-3728ba32ee84",
        "outputId": "078fa256-a514-4908-9545-d061e022d1f9"
      },
      "outputs": [
        {
          "data": {
            "text/plain": [
              "\u001b[1;31mSignature:\u001b[0m \u001b[0mpow\u001b[0m\u001b[1;33m(\u001b[0m\u001b[0mbase\u001b[0m\u001b[1;33m,\u001b[0m \u001b[0mexp\u001b[0m\u001b[1;33m,\u001b[0m \u001b[0mmod\u001b[0m\u001b[1;33m=\u001b[0m\u001b[1;32mNone\u001b[0m\u001b[1;33m)\u001b[0m\u001b[1;33m\u001b[0m\u001b[1;33m\u001b[0m\u001b[0m\n",
              "\u001b[1;31mDocstring:\u001b[0m\n",
              "Equivalent to base**exp with 2 arguments or base**exp % mod with 3 arguments\n",
              "\n",
              "Some types, such as ints, are able to use a more efficient algorithm when\n",
              "invoked using the three argument form.\n",
              "\u001b[1;31mType:\u001b[0m      builtin_function_or_method"
            ]
          },
          "metadata": {},
          "output_type": "display_data"
        }
      ],
      "source": [
        "pow??"
      ]
    },
    {
      "cell_type": "code",
      "execution_count": null,
      "metadata": {
        "id": "4c9aa54d-e6ed-478b-aed6-7835036e90ad",
        "outputId": "b18968c2-3348-45d7-9805-958da06f065f"
      },
      "outputs": [
        {
          "name": "stdout",
          "output_type": "stream",
          "text": [
            "Help on built-in function isinstance in module builtins:\n",
            "\n",
            "isinstance(obj, class_or_tuple, /)\n",
            "    Return whether an object is an instance of a class or of a subclass thereof.\n",
            "    \n",
            "    A tuple, as in ``isinstance(x, (A, B, ...))``, may be given as the target to\n",
            "    check against. This is equivalent to ``isinstance(x, A) or isinstance(x, B)\n",
            "    or ...`` etc.\n",
            "\n"
          ]
        }
      ],
      "source": [
        "help(isinstance)"
      ]
    },
    {
      "cell_type": "markdown",
      "metadata": {
        "id": "0fdf8605-0fa7-4187-896f-548cefd69f88"
      },
      "source": [
        "# Control Flow in Python"
      ]
    },
    {
      "cell_type": "code",
      "execution_count": null,
      "metadata": {
        "id": "c6ed2092-6435-48f8-ace9-e82fddb1aef3",
        "outputId": "92d7b8e9-58e2-4b3c-a499-ac4bc13deab4"
      },
      "outputs": [
        {
          "name": "stdin",
          "output_type": "stream",
          "text": [
            "Enter the number 1: 45\n",
            "Enter the number 2: 33\n"
          ]
        },
        {
          "name": "stdout",
          "output_type": "stream",
          "text": [
            "45\n"
          ]
        }
      ],
      "source": [
        "a = int(input(\"Enter the number 1:\"))\n",
        "b = int(input(\"Enter the number 2:\"))\n",
        "if(a>b):\n",
        "    print(a)\n",
        "if(b>a):\n",
        "    print(b)"
      ]
    },
    {
      "cell_type": "code",
      "execution_count": null,
      "metadata": {
        "id": "3d38db3a-22dc-4b5f-9fee-20b5592c4425",
        "outputId": "c2adfa7f-cc6b-4f7a-e1d2-d619b685dfdc"
      },
      "outputs": [
        {
          "name": "stdin",
          "output_type": "stream",
          "text": [
            "Enter the number 1: 88\n",
            "Enter the number 2: 090\n"
          ]
        },
        {
          "name": "stdout",
          "output_type": "stream",
          "text": [
            "b is greater than a\n"
          ]
        }
      ],
      "source": [
        "a = int(input(\"Enter the number 1:\"))\n",
        "b = int(input(\"Enter the number 2:\"))\n",
        "if(a>b):\n",
        "    # print(a)\n",
        "    print(\"a is greater than b\")\n",
        "else:\n",
        "    print(\"b is greater than a\")"
      ]
    },
    {
      "cell_type": "code",
      "execution_count": null,
      "metadata": {
        "id": "2fbe4d5c-e5bf-4c8a-a0a8-55c06b90dff1",
        "outputId": "00940646-f000-49f9-f41f-152ee78d5f3c"
      },
      "outputs": [
        {
          "name": "stdin",
          "output_type": "stream",
          "text": [
            "Enter the 1st number: 48\n",
            "Enter the 2nd number: 55\n"
          ]
        },
        {
          "name": "stdout",
          "output_type": "stream",
          "text": [
            "b is greater than a.\n"
          ]
        }
      ],
      "source": [
        "a = float(input(\"Enter the 1st number:\"))\n",
        "a = float(input(\"Enter the 2nd number:\"))\n",
        "if b>a:\n",
        "    print(\"b is greater than a.\")\n",
        "elif a==b:\n",
        "    print(\"Both a and b are equal.\")\n",
        "else:\n",
        "    print(\"a is greater than b\")"
      ]
    },
    {
      "cell_type": "markdown",
      "metadata": {
        "id": "344fa2c8-7839-41ce-8216-509f98cafafb"
      },
      "source": [
        "Example:\n"
      ]
    },
    {
      "cell_type": "code",
      "execution_count": null,
      "metadata": {
        "id": "35e1de4d-57d7-40a2-9741-6dc70008f650",
        "outputId": "ef95d68b-174d-47b4-98db-dcbb912d0119"
      },
      "outputs": [
        {
          "name": "stdin",
          "output_type": "stream",
          "text": [
            "Enter the marks: 90\n"
          ]
        },
        {
          "name": "stdout",
          "output_type": "stream",
          "text": [
            "A Grade\n"
          ]
        }
      ],
      "source": [
        "a = int(input(\"Enter the marks:\"))\n",
        "if a>=85:\n",
        "    print(\"A Grade\")\n",
        "elif (a < 85) and (a >= 80):\n",
        "    print(\"A- Grade\")\n",
        "elif (a<80 ) and (a>=75):\n",
        "    print(\"B Grade\")\n",
        "elif a<75 and a >= 70:\n",
        "    print(\"B- Grade\")\n",
        "else:\n",
        "    print(\"Below Average\")"
      ]
    },
    {
      "cell_type": "markdown",
      "metadata": {
        "id": "d63dc604-b1aa-48aa-9e09-2b45803c95e3"
      },
      "source": [
        "Implementation of else part using elif keyword."
      ]
    },
    {
      "cell_type": "code",
      "execution_count": null,
      "metadata": {
        "id": "eb01d929-0545-4e53-81e4-577f8921231e",
        "outputId": "c9294b61-ec78-4f51-ced6-7bcd44aa728c"
      },
      "outputs": [
        {
          "name": "stdout",
          "output_type": "stream",
          "text": [
            "Else Part\n"
          ]
        }
      ],
      "source": [
        "a = 3\n",
        "if a > 10:\n",
        "    print(\">10\")\n",
        "elif not(a>10):\n",
        "    print(\"Else Part\")"
      ]
    },
    {
      "cell_type": "markdown",
      "metadata": {
        "id": "e3a87c38-fbc6-410e-9b29-db1e29916163"
      },
      "source": [
        "Nested If"
      ]
    },
    {
      "cell_type": "code",
      "execution_count": null,
      "metadata": {
        "id": "c68d9821-1889-493b-875a-481e3a5f8ca6",
        "outputId": "5b917158-a019-42a2-e0c3-b7de07406992"
      },
      "outputs": [
        {
          "name": "stdin",
          "output_type": "stream",
          "text": [
            "Enter the number: 45\n"
          ]
        },
        {
          "name": "stdout",
          "output_type": "stream",
          "text": [
            "The number is greater than 10\n",
            "The number is greater than 10 and 15 both\n"
          ]
        }
      ],
      "source": [
        "a = int(input(\"Enter the number:\"))\n",
        "if a>10:\n",
        "    print(\"The number is greater than 10\")\n",
        "    if a<15:\n",
        "        print(\"The number is greater than 10 but smaller than 15\")\n",
        "    else:\n",
        "        print(\"The number is greater than 10 and 15 both\")"
      ]
    },
    {
      "cell_type": "markdown",
      "metadata": {
        "id": "988e49a6-95ce-4703-bb2b-ea7d13e229a1"
      },
      "source": [
        "# Very important code to understand nested if and else conditions."
      ]
    },
    {
      "cell_type": "code",
      "execution_count": null,
      "metadata": {
        "id": "152ca064-2283-49a6-a7c8-fcd7092e2e13",
        "outputId": "d5349154-7948-4d92-dbf2-c9a2905c4b22"
      },
      "outputs": [
        {
          "name": "stdin",
          "output_type": "stream",
          "text": [
            "Enter the number: 30\n"
          ]
        },
        {
          "name": "stdout",
          "output_type": "stream",
          "text": [
            ">10\n",
            "Inside the top if.\n",
            ">20\n",
            "Inside the nested if.\n",
            "<=30\n",
            "Inside the else part of nested if of nested if.\n",
            "Outside all ifs\n"
          ]
        }
      ],
      "source": [
        "a = int(input(\"Enter the number:\"))\n",
        "if a>10:\n",
        "    print(\">10\")\n",
        "    print(\"Inside the top if.\")\n",
        "    if a>20:\n",
        "        print(\">20\")\n",
        "        print(\"Inside the nested if.\")\n",
        "        if a>30:\n",
        "            print(\"inside the nested if of nested if.\")\n",
        "        else:\n",
        "            print(\"<=30\")\n",
        "            print(\"Inside the else part of nested if of nested if.\")\n",
        "    else:\n",
        "        print(\"<=20\")\n",
        "        print(\"Inside the else part of nested if.\")\n",
        "\n",
        "print(\"Outside all ifs\")\n"
      ]
    },
    {
      "cell_type": "markdown",
      "metadata": {
        "id": "c215b7da-9183-4734-9a67-c1b8fc4dab04"
      },
      "source": [
        "Comments"
      ]
    },
    {
      "cell_type": "code",
      "execution_count": null,
      "metadata": {
        "id": "7fd2f4c9-5d39-4305-a228-a7d1244e54b4",
        "outputId": "a2dd659f-cf39-499f-9d52-6f470a60c816"
      },
      "outputs": [
        {
          "name": "stdin",
          "output_type": "stream",
          "text": [
            "Enter a real number: 45.655\n"
          ]
        },
        {
          "name": "stdout",
          "output_type": "stream",
          "text": [
            "45\n"
          ]
        }
      ],
      "source": [
        "#single line comment\n",
        "\"\"\"\n",
        " User will enter a floating point number lets say 238.95.Your task\n",
        "is to find out the integer portion before the point\n",
        "(in this case 238) and then check if that integer portion is an even number or not?\n",
        "\n",
        "\"\"\"\n",
        "x = float(input(\"Enter a real number:\"))\n",
        "y = round(x) # helps??\n",
        "if y>x:\n",
        "    intPortion = y-1 # 29.6\n",
        "\n",
        "else:\n",
        "     intPortion = y\n",
        "print(intPortion)"
      ]
    },
    {
      "cell_type": "code",
      "execution_count": null,
      "metadata": {
        "id": "8e79ebc0-3317-4060-8fba-e9c2eb82cef8",
        "outputId": "9fe86bac-d082-4af4-e126-436abe9bde06"
      },
      "outputs": [
        {
          "name": "stdin",
          "output_type": "stream",
          "text": [
            "Enter a real number: 35.6\n"
          ]
        },
        {
          "name": "stdout",
          "output_type": "stream",
          "text": [
            "35\n"
          ]
        }
      ],
      "source": [
        "#This is second approach of the above code.\n",
        "x = float(input(\"Enter a real number:\"))\n",
        "# y = round(x) # helps??\n",
        "if x>0:\n",
        "    print(int(x))\n",
        "\n",
        "else:\n",
        "    print(x)\n",
        "# print(intPortion)"
      ]
    },
    {
      "cell_type": "markdown",
      "metadata": {
        "id": "6db665be-0772-4770-95f5-be74ce59ee6d"
      },
      "source": [
        "# Small project which is build using input func if-elif and else condition"
      ]
    },
    {
      "cell_type": "code",
      "execution_count": null,
      "metadata": {
        "id": "24556274-5483-4031-ad14-c1693587062b",
        "outputId": "429267b7-43ad-4b4b-e731-42878bfd4396"
      },
      "outputs": [
        {
          "name": "stdin",
          "output_type": "stream",
          "text": [
            "Enter the marks of maths: 78\n",
            "Enter the marks of chemistry: 76\n",
            "Enter the marks of physics: 88\n",
            "Enter the marks of english: 99\n",
            "Enter the marks of Physical Education: 98\n"
          ]
        },
        {
          "name": "stdout",
          "output_type": "stream",
          "text": [
            "The Percentage of the candidate is: 87.8\n",
            "Student passed aquiring A Grade.\n",
            "\n",
            "\n",
            "DONE\n"
          ]
        }
      ],
      "source": [
        "mat = int(input(\"Enter the marks of maths:\"))\n",
        "chem = int(input(\"Enter the marks of chemistry:\"))\n",
        "phy = int(input(\"Enter the marks of physics:\"))\n",
        "eng = int(input(\"Enter the marks of english:\"))\n",
        "PE = int(input(\"Enter the marks of Physical Education:\"))\n",
        "totalMarks = mat+eng+phy+chem+PE\n",
        "percentage = (totalMarks)/500*100\n",
        "print(\"The Percentage of the candidate is:\",percentage)\n",
        "if (percentage<50):\n",
        "    print(\"Student passed aquiring C Grade.\")\n",
        "elif(percentage > 50 and percentage <= 60):\n",
        "    print(\"Student passed aquiring C+ Grade.\")\n",
        "elif(percentage > 60 and percentage <= 70):\n",
        "    print(\"Student passed aquiring B Grade.\")\n",
        "elif(percentage > 70 and percentage <= 80):\n",
        "    print(\"Student passed aquiring B+ Grade.\")\n",
        "elif(percentage > 80 and percentage <= 90):\n",
        "    print(\"Student passed aquiring A Grade.\")\n",
        "elif(percentage > 90 and percentage <= 100):\n",
        "    print(\"Student passed aquiring A+ Grade.\")\n",
        "else:\n",
        "    print(\"Student failed in the examination.\")\n",
        "print(\"\\n\")\n",
        "print(\"DONE\")"
      ]
    },
    {
      "cell_type": "markdown",
      "metadata": {
        "id": "ba9070a7-45f9-4836-b72b-5ebc55932fd6"
      },
      "source": [
        "# Loops\n",
        "\n",
        "While Loop."
      ]
    },
    {
      "cell_type": "code",
      "execution_count": null,
      "metadata": {
        "id": "92bcf950-9d75-4ed6-bc97-74c93a9cc2ad",
        "outputId": "bfca31c6-9bd3-4acf-d189-7ddd190d69db"
      },
      "outputs": [
        {
          "name": "stdin",
          "output_type": "stream",
          "text": [
            "Enter the number: 5\n"
          ]
        },
        {
          "name": "stdout",
          "output_type": "stream",
          "text": [
            "1\n",
            "2\n",
            "3\n",
            "4\n",
            "Done\n"
          ]
        }
      ],
      "source": [
        "n = int(input(\"Enter the number:\"))\n",
        "i = 1\n",
        "while(i<n):\n",
        "    print(i)\n",
        "    # i = i+1\n",
        "    i += 1\n",
        "\n",
        "print(\"Done\")"
      ]
    },
    {
      "cell_type": "markdown",
      "metadata": {
        "id": "c3110165-7928-4889-8237-e4af61af2011"
      },
      "source": [
        "* Printing Even numbers"
      ]
    },
    {
      "cell_type": "code",
      "execution_count": null,
      "metadata": {
        "id": "234e220e-d3ea-4ab0-9e35-476010a6fe08",
        "outputId": "64828553-f602-4c00-8fe6-ae26780b8545"
      },
      "outputs": [
        {
          "name": "stdin",
          "output_type": "stream",
          "text": [
            "Enter the number: 50\n"
          ]
        },
        {
          "name": "stdout",
          "output_type": "stream",
          "text": [
            "2\n",
            "4\n",
            "6\n",
            "8\n",
            "10\n",
            "12\n",
            "14\n",
            "16\n",
            "18\n",
            "20\n",
            "22\n",
            "24\n",
            "26\n",
            "28\n",
            "30\n",
            "32\n",
            "34\n",
            "36\n",
            "38\n",
            "40\n",
            "42\n",
            "44\n",
            "46\n",
            "48\n",
            "50\n",
            "Done\n"
          ]
        }
      ],
      "source": [
        "n = int(input(\"Enter the number:\"))\n",
        "i = 1\n",
        "while(i<=n):\n",
        "    if(i%2==0):\n",
        "        print(i)\n",
        "    i += 1\n",
        "print(\"Done\")"
      ]
    },
    {
      "cell_type": "markdown",
      "metadata": {
        "id": "f200ffc5-0c1d-48c5-8f58-42f641f2cd97"
      },
      "source": [
        "* Printing the odd numbers"
      ]
    },
    {
      "cell_type": "code",
      "execution_count": null,
      "metadata": {
        "id": "09fde705-fbf6-47b0-ac54-da6e1bd523b8",
        "outputId": "55a42064-874d-4d98-befb-4b316468e33f"
      },
      "outputs": [
        {
          "name": "stdin",
          "output_type": "stream",
          "text": [
            "Enter the number: 45\n"
          ]
        },
        {
          "name": "stdout",
          "output_type": "stream",
          "text": [
            "1\n",
            "3\n",
            "5\n",
            "7\n",
            "9\n",
            "11\n",
            "13\n",
            "15\n",
            "17\n",
            "19\n",
            "21\n",
            "23\n",
            "25\n",
            "27\n",
            "29\n",
            "31\n",
            "33\n",
            "35\n",
            "37\n",
            "39\n",
            "41\n",
            "43\n",
            "45\n",
            "Done\n"
          ]
        }
      ],
      "source": [
        "n = int(input(\"Enter the number:\"))\n",
        "i = 1\n",
        "while(i<=n):\n",
        "    if(i%2==1):\n",
        "        print(i)\n",
        "    i += 1\n",
        "print(\"Done\")"
      ]
    },
    {
      "cell_type": "markdown",
      "metadata": {
        "id": "55f21844-f4f8-49fb-9b1c-76714d91ada8"
      },
      "source": [
        "* Printing numbers which are divisible by 3 and 5 both."
      ]
    },
    {
      "cell_type": "code",
      "execution_count": null,
      "metadata": {
        "id": "2858d80d-139a-4e11-b52d-d84e36aadcb5",
        "outputId": "58a22c7c-1527-401d-def2-0a650ce4143f"
      },
      "outputs": [
        {
          "name": "stdin",
          "output_type": "stream",
          "text": [
            "Enter the number: 5\n"
          ]
        },
        {
          "name": "stdout",
          "output_type": "stream",
          "text": [
            "Done\n"
          ]
        }
      ],
      "source": [
        "a =  int(input(\"Enter the number:\"))\n",
        "i  = 1\n",
        "while(i<=a):\n",
        "    if(i%3==0 and i%5==0):\n",
        "        print(f\"The number\",i,\"is divisible by both 3 and 5\")\n",
        "    i += 1\n",
        "print(\"Done\")"
      ]
    },
    {
      "cell_type": "markdown",
      "metadata": {
        "id": "693a26ad-232f-451c-b356-f6cf931ee6d4"
      },
      "source": [
        "* Print Tables"
      ]
    },
    {
      "cell_type": "code",
      "execution_count": null,
      "metadata": {
        "id": "283c738f-e7bf-4cb2-930c-82846ec430b4",
        "outputId": "c10d9fad-e4cf-4e02-8a3f-484300ac1485"
      },
      "outputs": [
        {
          "name": "stdin",
          "output_type": "stream",
          "text": [
            "Enter the number whose table is to be printed: 5\n"
          ]
        },
        {
          "name": "stdout",
          "output_type": "stream",
          "text": [
            "5 X 1 = 5\n",
            "5 X 2 = 10\n",
            "5 X 3 = 15\n",
            "5 X 4 = 20\n",
            "5 X 5 = 25\n",
            "5 X 6 = 30\n",
            "5 X 7 = 35\n",
            "5 X 8 = 40\n",
            "5 X 9 = 45\n",
            "5 X 10 = 50\n",
            "Done\n"
          ]
        }
      ],
      "source": [
        "a = int(input(\"Enter the number whose table is to be printed:\"))\n",
        "i = 1\n",
        "while(i<=10):\n",
        "    print(a,\"X\",i,\"=\",a*i)\n",
        "    i += 1\n",
        "print(\"Done\")"
      ]
    },
    {
      "cell_type": "markdown",
      "metadata": {
        "id": "238542bc-ebd6-4b82-b460-4c960cd63f1a"
      },
      "source": [
        "* Printing the sum of the product of full table."
      ]
    },
    {
      "cell_type": "code",
      "execution_count": null,
      "metadata": {
        "id": "7c599c48-f0b1-4140-9007-92bd5cf72b1c",
        "outputId": "3dbb9ae7-68a1-4cdb-a352-5fb6a01bc549"
      },
      "outputs": [
        {
          "name": "stdin",
          "output_type": "stream",
          "text": [
            "Enter the number whose table's sum is to be printed: 5\n"
          ]
        },
        {
          "name": "stdout",
          "output_type": "stream",
          "text": [
            "275\n"
          ]
        }
      ],
      "source": [
        "a = int(input(\"Enter the number whose table's sum is to be printed:\"))\n",
        "i = 1\n",
        "sum = 0\n",
        "while(i<=10):\n",
        "    pro = a*i\n",
        "    sum = sum + pro\n",
        "    i += 1\n",
        "print(sum)"
      ]
    },
    {
      "cell_type": "code",
      "execution_count": null,
      "metadata": {
        "id": "07e3ec3d-c967-413e-aee5-1ce563caa77e",
        "outputId": "8619db76-8af1-4f9c-a951-2239e61e1f7a"
      },
      "outputs": [
        {
          "name": "stdin",
          "output_type": "stream",
          "text": [
            "Enter the number from where you have to start the range: 20\n",
            "Enter the number from where you have to end the range: 33\n"
          ]
        },
        {
          "name": "stdout",
          "output_type": "stream",
          "text": [
            "20\n",
            "21\n",
            "22\n",
            "23\n",
            "24\n",
            "25\n",
            "26\n",
            "27\n",
            "28\n",
            "29\n",
            "30\n",
            "31\n",
            "32\n",
            "33\n",
            "DONE\n"
          ]
        }
      ],
      "source": [
        "a = int(input(\"Enter the number from where you have to start the range:\"))\n",
        "b = int(input(\"Enter the number from where you have to end the range:\"))\n",
        "i = a\n",
        "while(i<=b):\n",
        "    print(i)\n",
        "    i+=1\n",
        "print(\"DONE\")"
      ]
    },
    {
      "cell_type": "code",
      "execution_count": null,
      "metadata": {
        "id": "3c88586a-64bc-4926-82d3-5bc33a0ddb56",
        "outputId": "5bf71324-7e95-43bb-dd69-3a4213db96a4"
      },
      "outputs": [
        {
          "name": "stdin",
          "output_type": "stream",
          "text": [
            "Enter the number from where you have to start the range: 2\n",
            "Enter the number from where you have to end the range: 20\n"
          ]
        },
        {
          "name": "stdout",
          "output_type": "stream",
          "text": [
            "2\n",
            "4\n",
            "6\n",
            "8\n",
            "10\n",
            "12\n",
            "14\n",
            "16\n",
            "18\n",
            "20\n",
            "DONE\n"
          ]
        }
      ],
      "source": [
        "#PRINTING EVEN NUMBERS WHICH LIE BTW THE DEFINITE RANGE.\n",
        "a = int(input(\"Enter the number from where you have to start the range:\"))\n",
        "b = int(input(\"Enter the number from where you have to end the range:\"))\n",
        "i = a\n",
        "while(i<=b):\n",
        "    if i%2==0:\n",
        "     print(i)\n",
        "    i+=1\n",
        "print(\"DONE\")"
      ]
    },
    {
      "cell_type": "markdown",
      "metadata": {
        "id": "5b032f61-a401-4b41-ac03-ed603598dd9a"
      },
      "source": [
        "Printing Factorial of a given number using while loop."
      ]
    },
    {
      "cell_type": "code",
      "execution_count": null,
      "metadata": {
        "id": "fdace42b-abd8-41be-acf5-7565bb727f89",
        "outputId": "684a515f-1585-4312-9dae-a53dc0b9dd9e"
      },
      "outputs": [
        {
          "name": "stdin",
          "output_type": "stream",
          "text": [
            "Enter the number: 6\n"
          ]
        },
        {
          "name": "stdout",
          "output_type": "stream",
          "text": [
            "The factorial of the given 6 is:720\n",
            "DONE\n"
          ]
        }
      ],
      "source": [
        "n = int(input(\"Enter the number:\"))\n",
        "i = 1\n",
        "fact = 1\n",
        "while(i<=n):\n",
        "    fact = fact * i\n",
        "    i +=1\n",
        "print(f\"The factorial of the given {n} is:{fact}\")\n",
        "print(\"DONE\")"
      ]
    },
    {
      "cell_type": "markdown",
      "metadata": {
        "id": "7b53a1f1-a267-49f7-bf3c-c63f3d075431"
      },
      "source": [
        "# For Loop\n"
      ]
    },
    {
      "cell_type": "code",
      "execution_count": null,
      "metadata": {
        "id": "c3ca2831-73af-4c4f-82dd-4ac05cc0eb1b",
        "outputId": "218b419c-264b-422c-edc7-f94ba9ba2253"
      },
      "outputs": [
        {
          "name": "stdin",
          "output_type": "stream",
          "text": [
            "Enter the number: 5\n"
          ]
        },
        {
          "name": "stdout",
          "output_type": "stream",
          "text": [
            "1\n",
            "2\n",
            "3\n",
            "4\n",
            "5\n",
            "DONE\n"
          ]
        }
      ],
      "source": [
        "n = int(input(\"Enter the number:\"))\n",
        "for i in range(1,n+1):\n",
        "    print(i)\n",
        "print(\"DONE\")"
      ]
    },
    {
      "cell_type": "code",
      "execution_count": null,
      "metadata": {
        "id": "6270aaac-dfeb-4a54-b433-4393de2b6337",
        "outputId": "5841b513-3e1a-4162-f4b3-bd6018ad56e7"
      },
      "outputs": [
        {
          "name": "stdin",
          "output_type": "stream",
          "text": [
            "Enter the number: 5\n"
          ]
        },
        {
          "name": "stdout",
          "output_type": "stream",
          "text": [
            "2\n",
            "4\n",
            "DONE\n"
          ]
        }
      ],
      "source": [
        "n = int(input(\"Enter the number:\"))\n",
        "for i in range(1,n+1):\n",
        "    #printing even number\n",
        "    if(i%2==0):\n",
        "        print(i)\n",
        "print(\"DONE\")"
      ]
    },
    {
      "cell_type": "markdown",
      "metadata": {
        "id": "31766f22-6afd-47c6-bb58-2e3b488c74f4"
      },
      "source": [
        "Printing tables using for loop\n"
      ]
    },
    {
      "cell_type": "code",
      "execution_count": null,
      "metadata": {
        "id": "ecb40e51-8dc9-432f-8126-f3d7f4744a86",
        "outputId": "9f146a75-8ca3-4249-928f-0ae75cdbc8de"
      },
      "outputs": [
        {
          "name": "stdin",
          "output_type": "stream",
          "text": [
            "Enter the number whose table is to be printed: 6\n"
          ]
        },
        {
          "name": "stdout",
          "output_type": "stream",
          "text": [
            "6X1=6\n",
            "6X2=12\n",
            "6X3=18\n",
            "6X4=24\n",
            "6X5=30\n",
            "6X6=36\n",
            "6X7=42\n",
            "6X8=48\n",
            "6X9=54\n",
            "6X10=60\n",
            "DONE\n"
          ]
        }
      ],
      "source": [
        "n = int(input(\"Enter the number whose table is to be printed:\"))\n",
        "for i in range(1,11):\n",
        "    pro = i*n\n",
        "    print(f\"{n}X{i}={pro}\")\n",
        "print(\"DONE\")"
      ]
    },
    {
      "cell_type": "markdown",
      "metadata": {
        "id": "cb1a3205-6241-4769-b651-bee9a4e2c3aa"
      },
      "source": [
        "Printing products which are Even in nature."
      ]
    },
    {
      "cell_type": "code",
      "execution_count": null,
      "metadata": {
        "id": "8f968eee-2530-4226-b9cc-f584866c3574",
        "outputId": "5ee55bfd-d40b-4250-a6a0-2e1dd606a9db"
      },
      "outputs": [
        {
          "name": "stdin",
          "output_type": "stream",
          "text": [
            "Enter the number whose table is to be printed: 5\n"
          ]
        },
        {
          "name": "stdout",
          "output_type": "stream",
          "text": [
            "5X2=10\n",
            "5X4=20\n",
            "5X6=30\n",
            "5X8=40\n",
            "5X10=50\n",
            "DONE\n"
          ]
        }
      ],
      "source": [
        "n = int(input(\"Enter the number whose table is to be printed:\"))\n",
        "for i in range(1,11):\n",
        "    pro = i*n\n",
        "    if(pro%2==0):\n",
        "     print(f\"{n}X{i}={pro}\")\n",
        "print(\"DONE\")"
      ]
    },
    {
      "cell_type": "markdown",
      "metadata": {
        "id": "b154ab88-9699-4785-b62e-0c26f021a3bd"
      },
      "source": [
        "Printing Factorial of any number."
      ]
    },
    {
      "cell_type": "code",
      "execution_count": null,
      "metadata": {
        "id": "7f4fbfae-a337-45b2-8b59-5bd64d1086bc",
        "outputId": "c2999862-97b1-4523-c961-cdca35e1c823"
      },
      "outputs": [
        {
          "name": "stdin",
          "output_type": "stream",
          "text": [
            "Enter the number whose factorial is to be found: 5\n"
          ]
        },
        {
          "name": "stdout",
          "output_type": "stream",
          "text": [
            "The factorial of given number is 120\n",
            "DONE\n"
          ]
        }
      ],
      "source": [
        "n = int(input(\"Enter the number whose factorial is to be found:\"))\n",
        "fact = 1\n",
        "for i in range(1,n+1):\n",
        "    fact = fact*i\n",
        "print(f\"The factorial of given number is {fact}\")\n",
        "print(\"DONE\")"
      ]
    },
    {
      "cell_type": "markdown",
      "metadata": {
        "id": "a661b30d-525e-4be7-bf22-fe8221bfc96e"
      },
      "source": [
        "# Printing numbers using loop in reverse order."
      ]
    },
    {
      "cell_type": "code",
      "execution_count": null,
      "metadata": {
        "id": "e3270a9e-fa29-4f6b-90e0-1849bf89b8d5",
        "outputId": "c370d97b-072a-43bd-868d-9ac2c0c6b842"
      },
      "outputs": [
        {
          "name": "stdin",
          "output_type": "stream",
          "text": [
            "Enter the number: 9\n"
          ]
        },
        {
          "name": "stdout",
          "output_type": "stream",
          "text": [
            "The number is:9\n",
            "The number is:8\n",
            "The number is:7\n",
            "The number is:6\n",
            "The number is:5\n",
            "The number is:4\n",
            "The number is:3\n",
            "The number is:2\n",
            "The number is:1\n",
            "DONE\n"
          ]
        }
      ],
      "source": [
        "n = int(input(\"Enter the number:\"))\n",
        "i = n\n",
        "while(i>0):\n",
        "    print(f\"The number is:{i}\")\n",
        "    i-=1\n",
        "print(\"DONE\")"
      ]
    },
    {
      "cell_type": "markdown",
      "metadata": {
        "id": "5510d18f-dff3-422d-aecf-af8cbdb7959c"
      },
      "source": [
        "Printing even number is reverse order."
      ]
    },
    {
      "cell_type": "code",
      "execution_count": null,
      "metadata": {
        "id": "a057dfb9-1cbc-4c35-b2c5-5c39631cf00d",
        "outputId": "a9bc0074-3bf8-4337-8b91-4f97ce0c8e3d"
      },
      "outputs": [
        {
          "name": "stdin",
          "output_type": "stream",
          "text": [
            "Enter the number: 9\n"
          ]
        },
        {
          "name": "stdout",
          "output_type": "stream",
          "text": [
            "The number is:8\n",
            "The number is:6\n",
            "The number is:4\n",
            "The number is:2\n",
            "DONE\n"
          ]
        }
      ],
      "source": [
        "n = int(input(\"Enter the number:\"))\n",
        "i = n\n",
        "while(i>0):\n",
        "    if(i%2==0):\n",
        "     print(f\"The number is:{i}\")\n",
        "    i-=1\n",
        "print(\"DONE\")"
      ]
    },
    {
      "cell_type": "markdown",
      "metadata": {
        "id": "7c6742b9-47f3-4a25-bd7c-ff72112af84d"
      },
      "source": [
        "Printing odd numbers in reverse order."
      ]
    },
    {
      "cell_type": "code",
      "execution_count": null,
      "metadata": {
        "id": "1f733cda-f32e-478b-86bf-faeb8a2dbf12",
        "outputId": "52b1b869-6f11-4a01-c1a0-73dda7fd86c0"
      },
      "outputs": [
        {
          "name": "stdin",
          "output_type": "stream",
          "text": [
            "Enter the number: 8\n"
          ]
        },
        {
          "name": "stdout",
          "output_type": "stream",
          "text": [
            "The number is:7\n",
            "The number is:5\n",
            "The number is:3\n",
            "The number is:1\n",
            "DONE\n"
          ]
        }
      ],
      "source": [
        "n = int(input(\"Enter the number:\"))\n",
        "i = n\n",
        "while(i>0):\n",
        "    if(i%2==1):\n",
        "     print(f\"The number is:{i}\")\n",
        "    i-=1\n",
        "print(\"DONE\")"
      ]
    },
    {
      "cell_type": "markdown",
      "metadata": {
        "id": "7b51c535-57cb-40c9-8694-8f48e1285708"
      },
      "source": [
        "# Break and Continue Statement"
      ]
    },
    {
      "cell_type": "markdown",
      "metadata": {
        "id": "faf2f9ed-1182-4d2a-b623-339c5d1bdd96"
      },
      "source": [
        "n = int(input(\"Enter the number:\"))\n",
        "i = 1\n",
        "while(i<n):\n",
        "    if i%2==0:\n",
        "        print(i)\n",
        "    else:\n",
        "        pass  #THIS MEANS TO DO NOTHING OR SKIP IF THE ELSE STATEMENT TRIGGERS.\n",
        "    i += 1\n",
        "print(\"DONE\")"
      ]
    },
    {
      "cell_type": "code",
      "execution_count": null,
      "metadata": {
        "id": "f6cd6eb3-da88-4b83-a924-4d2f2bfb2937"
      },
      "outputs": [],
      "source": []
    },
    {
      "cell_type": "code",
      "execution_count": null,
      "metadata": {
        "id": "ff123355-ebe4-484e-8f97-b7b7c1655948",
        "outputId": "3cb14d6b-aba4-4754-a463-2f4a14128586"
      },
      "outputs": [
        {
          "name": "stdin",
          "output_type": "stream",
          "text": [
            "Enter the number: 6\n"
          ]
        },
        {
          "name": "stdout",
          "output_type": "stream",
          "text": [
            "inside else\n",
            "inside else\n",
            "inside else\n",
            "inside else\n",
            "inside else\n",
            "inside else\n",
            "inside else\n",
            "inside else\n",
            "inside if\n",
            "DONE\n"
          ]
        }
      ],
      "source": [
        "n = int(input(\"Enter the number:\"))\n",
        "i =1\n",
        "while True:\n",
        "    # print(i)\n",
        "    if i % 9 == 0:\n",
        "       print(\"inside if\")\n",
        "       break\n",
        "    else:\n",
        "        print(\"inside else\")\n",
        "        i = i+1\n",
        "print(\"DONE\")"
      ]
    },
    {
      "cell_type": "code",
      "execution_count": null,
      "metadata": {
        "id": "17a3b6e0-1049-40ca-8229-dc6149da0a40",
        "outputId": "79431428-9dee-4c16-93ee-47a813914624"
      },
      "outputs": [
        {
          "name": "stdout",
          "output_type": "stream",
          "text": [
            "Inside if\n",
            "Inside if\n",
            "Inside if\n",
            "Inside if\n",
            "Inside if\n",
            "Inside if\n",
            "Inside if\n",
            "Inside if\n",
            "Something\n",
            "SomethingElse\n",
            "DONE\n"
          ]
        }
      ],
      "source": [
        "n = 10\n",
        "i = 1\n",
        "while(True):\n",
        "    if i%9 != 0:\n",
        "        print(\"Inside if\")\n",
        "        i += 1\n",
        "        continue\n",
        "    print(\"Something\")\n",
        "    print(\"SomethingElse\")\n",
        "    break\n",
        "print(\"DONE\")"
      ]
    },
    {
      "cell_type": "markdown",
      "metadata": {
        "id": "40d1d24f-03e9-4542-ae1d-7df995878ac6"
      },
      "source": [
        "Control Flow For Loop"
      ]
    },
    {
      "cell_type": "code",
      "execution_count": null,
      "metadata": {
        "id": "13146b46-62f3-4aff-afea-ee0ec8af9ddd",
        "outputId": "9701d211-320a-402a-c15e-4e247cfa3532"
      },
      "outputs": [
        {
          "name": "stdout",
          "output_type": "stream",
          "text": [
            "0\n",
            "2\n",
            "4\n",
            "6\n",
            "8\n",
            "[0, 4, 16, 36, 64]\n"
          ]
        }
      ],
      "source": [
        "l = []\n",
        "for i in range(0,10,2):\n",
        "    print(i)\n",
        "    l.append(i**2)\n",
        "print(l)"
      ]
    },
    {
      "cell_type": "markdown",
      "metadata": {
        "id": "5c7f4da6-956a-4f5e-bb01-07b7e71b1684"
      },
      "source": [
        "Else in For Loop."
      ]
    },
    {
      "cell_type": "code",
      "execution_count": null,
      "metadata": {
        "id": "68bd4442-47b0-4eb6-a21c-2e333be979de",
        "outputId": "c7da2550-4c45-4958-cfbb-f16fdab284f1"
      },
      "outputs": [
        {
          "name": "stdout",
          "output_type": "stream",
          "text": [
            "orange\n",
            "5.6\n",
            "OUtside the loop\n",
            "3\n",
            "<class 'set'>\n"
          ]
        }
      ],
      "source": [
        "s = {\"orange\",5.6,\"mango\"}\n",
        "x = 1\n",
        "for i in s:\n",
        "    print(i)\n",
        "    x+=1\n",
        "    if x == 3:\n",
        "        break\n",
        "    else:\n",
        "        pass\n",
        "else:\n",
        "    print(\"Loop conpletes its iterations\")\n",
        "\n",
        "print(\"OUtside the loop\")\n",
        "print(x)\n",
        "print(type(s))"
      ]
    },
    {
      "cell_type": "code",
      "execution_count": null,
      "metadata": {
        "id": "2389507c-f4cc-46ef-87aa-1cae28dccc00",
        "outputId": "301f8f38-9da5-4abe-aec9-532c3798f970"
      },
      "outputs": [
        {
          "name": "stdout",
          "output_type": "stream",
          "text": [
            "mango 44\n",
            "orange -19\n",
            "c abc\n",
            "44\n"
          ]
        }
      ],
      "source": [
        "d = {\"mango\":44,\"orange\":-19,\"c\":\"abc\"}\n",
        "for x in d:\n",
        "    print(x,d[x])\n",
        "print(d[\"mango\"])"
      ]
    },
    {
      "cell_type": "markdown",
      "metadata": {
        "id": "758d7e76-33dd-4593-ab18-5253b1546127"
      },
      "source": [
        "* Given a list of numbers i.e [1,2,4,-5,7,9,3,2] ,make another list that contains all the items in sorted order from min to max. i.e your result will be another list like [-5,1,2,2,3,3,7,9]"
      ]
    },
    {
      "cell_type": "code",
      "execution_count": null,
      "metadata": {
        "id": "2fee10e7-7150-4739-b451-011a52cae8c1",
        "outputId": "ad7ca5ec-f61e-4661-914b-68da46d56568"
      },
      "outputs": [
        {
          "name": "stdout",
          "output_type": "stream",
          "text": [
            "[-5, 1, 2, 2, 3, 4, 7, 9]\n"
          ]
        }
      ],
      "source": [
        "lst =  [1,2,4,-5,7,9,3,2]\n",
        "# lst1 = []\n",
        "for j in range(len(lst)): #7\n",
        "    m = lst[j]\n",
        "    idx = j\n",
        "    c = j\n",
        "    for i in range(j,len(lst)):\n",
        "        if lst[i]<m:\n",
        "            m = lst[i]\n",
        "            idx = c\n",
        "        c += 1\n",
        "    temp = lst[j]\n",
        "    lst[j]= m\n",
        "    lst[idx]=temp\n",
        "print(lst)"
      ]
    },
    {
      "cell_type": "markdown",
      "metadata": {
        "id": "e24018dd-5e65-4e7d-afb9-a5447a85998a"
      },
      "source": [
        "# Functions in Python"
      ]
    },
    {
      "cell_type": "code",
      "execution_count": null,
      "metadata": {
        "id": "95f4bdb9-f246-4925-a9ce-3447aa679cb0",
        "outputId": "6aed6fb8-fc0a-4b82-b110-50578be9a25a"
      },
      "outputs": [
        {
          "name": "stdout",
          "output_type": "stream",
          "text": [
            "I am Done.\n",
            "Send me another task.\n"
          ]
        }
      ],
      "source": [
        "def PrintSuccess():\n",
        "    print(\"I am Done.\")\n",
        "    print(\"Send me another task.\")\n",
        "\n",
        "PrintSuccess() #this is how we call any function."
      ]
    },
    {
      "cell_type": "markdown",
      "metadata": {
        "id": "28ca04f1-4c70-4acf-9102-004f1a82a665"
      },
      "source": [
        "* The docstring allows us to write the description of the function but will never be executed. But it will always be available whenever uh need it."
      ]
    },
    {
      "cell_type": "code",
      "execution_count": null,
      "metadata": {
        "id": "d86eae31-e284-4f9b-8191-12eb9cc77a16"
      },
      "outputs": [],
      "source": [
        "def printSuccess2():\n",
        "    \"\"\" This function is doing nothing except printing a message.\n",
        "    That message is \"hello and this is my first time to use doc string in functions.\"\n",
        "    \"\"\"\n",
        "    print(\"hello\")"
      ]
    },
    {
      "cell_type": "code",
      "execution_count": null,
      "metadata": {
        "id": "eb74b087-f2f4-44ec-aba5-af997b0ad174",
        "outputId": "87e1c89b-9bb7-4356-9e4e-2377f0b9228d"
      },
      "outputs": [
        {
          "data": {
            "text/plain": [
              "\u001b[1;31mSignature:\u001b[0m \u001b[0mprintSuccess2\u001b[0m\u001b[1;33m(\u001b[0m\u001b[1;33m)\u001b[0m\u001b[1;33m\u001b[0m\u001b[1;33m\u001b[0m\u001b[0m\n",
              "\u001b[1;31mSource:\u001b[0m   \n",
              "\u001b[1;32mdef\u001b[0m \u001b[0mprintSuccess2\u001b[0m\u001b[1;33m(\u001b[0m\u001b[1;33m)\u001b[0m\u001b[1;33m:\u001b[0m\u001b[1;33m\n",
              "\u001b[0m    \u001b[1;34m\"\"\" This function is doing nothing except printing a message.\n",
              "    That message is \"hello and this is my first time to use doc string in functions.\"\n",
              "    \"\"\"\u001b[0m\u001b[1;33m\n",
              "\u001b[0m    \u001b[0mprint\u001b[0m\u001b[1;33m(\u001b[0m\u001b[1;34m\"hello\"\u001b[0m\u001b[1;33m)\u001b[0m\u001b[1;33m\u001b[0m\u001b[1;33m\u001b[0m\u001b[0m\n",
              "\u001b[1;31mFile:\u001b[0m      c:\\users\\dell\\appdata\\local\\temp\\ipykernel_8360\\2383231161.py\n",
              "\u001b[1;31mType:\u001b[0m      function"
            ]
          },
          "metadata": {},
          "output_type": "display_data"
        }
      ],
      "source": [
        "printSuccess2??"
      ]
    },
    {
      "cell_type": "code",
      "execution_count": null,
      "metadata": {
        "id": "54aafaae-d822-469b-87aa-2f34bccf029d",
        "outputId": "4eac62e5-cc3c-49ed-ca5f-08e9c987abc3"
      },
      "outputs": [
        {
          "data": {
            "text/plain": [
              "\u001b[1;31mSignature:\u001b[0m \u001b[0mlen\u001b[0m\u001b[1;33m(\u001b[0m\u001b[0mobj\u001b[0m\u001b[1;33m,\u001b[0m \u001b[1;33m/\u001b[0m\u001b[1;33m)\u001b[0m\u001b[1;33m\u001b[0m\u001b[1;33m\u001b[0m\u001b[0m\n",
              "\u001b[1;31mDocstring:\u001b[0m Return the number of items in a container.\n",
              "\u001b[1;31mType:\u001b[0m      builtin_function_or_method"
            ]
          },
          "metadata": {},
          "output_type": "display_data"
        }
      ],
      "source": [
        "len??"
      ]
    },
    {
      "cell_type": "code",
      "execution_count": null,
      "metadata": {
        "id": "a5aab41e-b2fb-411b-8f84-10867c4525d0",
        "outputId": "23253a12-af50-4c3a-e114-14fb1f05ab01"
      },
      "outputs": [
        {
          "name": "stdout",
          "output_type": "stream",
          "text": [
            "Help on function printSuccess2 in module __main__:\n",
            "\n",
            "printSuccess2()\n",
            "    This function is doing nothing except printing a message.\n",
            "    That message is \"hello and this is my first time to use doc string in functions.\"\n",
            "\n"
          ]
        }
      ],
      "source": [
        "help(printSuccess2)"
      ]
    },
    {
      "cell_type": "code",
      "execution_count": null,
      "metadata": {
        "id": "a234f9d1-11de-4f8d-97b4-5213289f5404",
        "outputId": "8e443947-e32a-418b-b338-654d448281af"
      },
      "outputs": [
        {
          "name": "stdout",
          "output_type": "stream",
          "text": [
            "hello\n"
          ]
        }
      ],
      "source": [
        "printSuccess2()"
      ]
    },
    {
      "cell_type": "markdown",
      "metadata": {
        "id": "8d59cf9d-5adb-4a5a-8280-aa0dd5dafe3c"
      },
      "source": [
        "* Functions Input Arguements."
      ]
    },
    {
      "cell_type": "code",
      "execution_count": null,
      "metadata": {
        "id": "3beb2663-993e-4833-bfb2-344a8b71f979",
        "outputId": "cc72d5a8-dca8-49c2-d3a8-5d1de2a8feb4"
      },
      "outputs": [
        {
          "name": "stdout",
          "output_type": "stream",
          "text": [
            "Integrity\n"
          ]
        }
      ],
      "source": [
        "def printMessage(msg):\n",
        "    print(msg)\n",
        "printMessage(\"Integrity\")"
      ]
    },
    {
      "cell_type": "code",
      "execution_count": null,
      "metadata": {
        "id": "e37ddaf1-57d3-40de-b3cf-72964e6f60a9",
        "outputId": "5408bc66-4d82-40b3-d93a-1b28ac94ad88"
      },
      "outputs": [
        {
          "name": "stdout",
          "output_type": "stream",
          "text": [
            "The addition of 4 and 56 are 60.\n"
          ]
        }
      ],
      "source": [
        "def add(a,b):\n",
        "    res = a+b\n",
        "    print(f\"The addition of {a} and {b} are {res}.\")\n",
        "\n",
        "add(b=56,a=4)"
      ]
    },
    {
      "cell_type": "code",
      "execution_count": null,
      "metadata": {
        "id": "18b4c5d6-14d5-4316-b925-e20a31299560",
        "outputId": "0de4e610-7ded-4dec-ea6e-e3afb3e60a94"
      },
      "outputs": [
        {
          "name": "stdout",
          "output_type": "stream",
          "text": [
            "resilient\n",
            "your input argument is not a string\n",
            "Here is the type what you have given as an argument<class 'int'>.\n"
          ]
        }
      ],
      "source": [
        "def printMsg(msg):\n",
        "    \"\"\"The function prints the message supplied by the user or prints that msg\n",
        "    is not in the form of string.\"\"\"\n",
        "    if isinstance(msg, str):\n",
        "        print(msg)\n",
        "    else:\n",
        "        print(F\"your input argument is not a string\")\n",
        "        print(f\"Here is the type what you have given as an argument{type(msg)}.\")\n",
        "\n",
        "printMsg(\"resilient\")\n",
        "printMsg(56)"
      ]
    },
    {
      "cell_type": "code",
      "execution_count": null,
      "metadata": {
        "id": "b97efb24-c68d-414a-af5b-5e1f0cdf0515",
        "outputId": "b1a28094-a919-451d-d738-9b6527e8ff0d"
      },
      "outputs": [
        {
          "name": "stdout",
          "output_type": "stream",
          "text": [
            "Help on function printMsg in module __main__:\n",
            "\n",
            "printMsg(msg)\n",
            "    The function prints the message supplied by the user or prints that msg \n",
            "    is not in the form of string.\n",
            "\n"
          ]
        }
      ],
      "source": [
        "help(printMsg)"
      ]
    },
    {
      "cell_type": "code",
      "execution_count": null,
      "metadata": {
        "id": "51005235-34d7-4564-9ac7-c977944a6b49",
        "outputId": "2d3c006f-557c-40d6-b127-80c98d0fb876"
      },
      "outputs": [
        {
          "data": {
            "text/plain": [
              "\u001b[1;31mSignature:\u001b[0m \u001b[0mprintMsg\u001b[0m\u001b[1;33m(\u001b[0m\u001b[0mmsg\u001b[0m\u001b[1;33m)\u001b[0m\u001b[1;33m\u001b[0m\u001b[1;33m\u001b[0m\u001b[0m\n",
              "\u001b[1;31mSource:\u001b[0m   \n",
              "\u001b[1;32mdef\u001b[0m \u001b[0mprintMsg\u001b[0m\u001b[1;33m(\u001b[0m\u001b[0mmsg\u001b[0m\u001b[1;33m)\u001b[0m\u001b[1;33m:\u001b[0m\u001b[1;33m\n",
              "\u001b[0m    \u001b[1;34m\"\"\"The function prints the message supplied by the user or prints that msg \n",
              "    is not in the form of string.\"\"\"\u001b[0m\u001b[1;33m\n",
              "\u001b[0m    \u001b[1;32mif\u001b[0m \u001b[0misinstance\u001b[0m\u001b[1;33m(\u001b[0m\u001b[0mmsg\u001b[0m\u001b[1;33m,\u001b[0m \u001b[0mstr\u001b[0m\u001b[1;33m)\u001b[0m\u001b[1;33m:\u001b[0m\u001b[1;33m\n",
              "\u001b[0m        \u001b[0mprint\u001b[0m\u001b[1;33m(\u001b[0m\u001b[0mmsg\u001b[0m\u001b[1;33m)\u001b[0m\u001b[1;33m\n",
              "\u001b[0m    \u001b[1;32melse\u001b[0m\u001b[1;33m:\u001b[0m\u001b[1;33m\n",
              "\u001b[0m        \u001b[0mprint\u001b[0m\u001b[1;33m(\u001b[0m\u001b[1;34mF\"your input argument is not a string\"\u001b[0m\u001b[1;33m)\u001b[0m\u001b[1;33m\n",
              "\u001b[0m        \u001b[0mprint\u001b[0m\u001b[1;33m(\u001b[0m\u001b[1;34mf\"Here is the type what you have given as an argument{type(msg)}.\"\u001b[0m\u001b[1;33m)\u001b[0m\u001b[1;33m\u001b[0m\u001b[1;33m\u001b[0m\u001b[0m\n",
              "\u001b[1;31mFile:\u001b[0m      c:\\users\\dell\\appdata\\local\\temp\\ipykernel_8360\\2737676970.py\n",
              "\u001b[1;31mType:\u001b[0m      function"
            ]
          },
          "metadata": {},
          "output_type": "display_data"
        }
      ],
      "source": [
        "printMsg??"
      ]
    },
    {
      "cell_type": "code",
      "execution_count": null,
      "metadata": {
        "id": "61163eda-af98-43d5-9857-2d660f481e36",
        "outputId": "c1797f58-4e4c-48d1-96d2-464c04835218"
      },
      "outputs": [
        {
          "name": "stdout",
          "output_type": "stream",
          "text": [
            "your input argument is not a string\n",
            "Here is the type what you have given as an argument<class 'int'>.\n",
            "MachineLearning\n"
          ]
        }
      ],
      "source": [
        "y = 55656\n",
        "x=\"MachineLearning\"\n",
        "printMsg(y)\n",
        "printMsg(x)"
      ]
    },
    {
      "cell_type": "markdown",
      "metadata": {
        "id": "6ccf7dfb-d156-4e1d-8ad7-13c5187e63a8"
      },
      "source": [
        "* Multiple input arguements in python.(Functions)"
      ]
    },
    {
      "cell_type": "code",
      "execution_count": null,
      "metadata": {
        "id": "0418a6a5-9e71-449e-b9ab-899866bedf1b"
      },
      "outputs": [],
      "source": [
        "def mypow(a,b):\n",
        "    \"\"\"This function computes the power just like the built in function.\"\"\"\n",
        "    c = a**b\n",
        "    print(c)\n"
      ]
    },
    {
      "cell_type": "code",
      "execution_count": null,
      "metadata": {
        "id": "60758ba9-b7c2-48df-9dcb-bb63b4fb3858",
        "outputId": "4cbc948d-b46d-4a13-8504-037d3340f40f"
      },
      "outputs": [
        {
          "data": {
            "text/plain": [
              "\u001b[1;31mSignature:\u001b[0m \u001b[0mmypow\u001b[0m\u001b[1;33m(\u001b[0m\u001b[0ma\u001b[0m\u001b[1;33m,\u001b[0m \u001b[0mb\u001b[0m\u001b[1;33m)\u001b[0m\u001b[1;33m\u001b[0m\u001b[1;33m\u001b[0m\u001b[0m\n",
              "\u001b[1;31mSource:\u001b[0m   \n",
              "\u001b[1;32mdef\u001b[0m \u001b[0mmypow\u001b[0m\u001b[1;33m(\u001b[0m\u001b[0ma\u001b[0m\u001b[1;33m,\u001b[0m\u001b[0mb\u001b[0m\u001b[1;33m)\u001b[0m\u001b[1;33m:\u001b[0m\u001b[1;33m\n",
              "\u001b[0m    \u001b[1;34m\"\"\"This function computes the power just like the built in function.\"\"\"\u001b[0m\u001b[1;33m\n",
              "\u001b[0m    \u001b[0mc\u001b[0m \u001b[1;33m=\u001b[0m \u001b[0ma\u001b[0m\u001b[1;33m**\u001b[0m\u001b[0mb\u001b[0m\u001b[1;33m\n",
              "\u001b[0m    \u001b[0mprint\u001b[0m\u001b[1;33m(\u001b[0m\u001b[0mc\u001b[0m\u001b[1;33m)\u001b[0m\u001b[1;33m\u001b[0m\u001b[1;33m\u001b[0m\u001b[0m\n",
              "\u001b[1;31mFile:\u001b[0m      c:\\users\\dell\\appdata\\local\\temp\\ipykernel_8360\\425091463.py\n",
              "\u001b[1;31mType:\u001b[0m      function"
            ]
          },
          "metadata": {},
          "output_type": "display_data"
        }
      ],
      "source": [
        "mypow??"
      ]
    },
    {
      "cell_type": "code",
      "execution_count": null,
      "metadata": {
        "id": "d6ef14fb-43ca-484f-8cdd-10231fa63dc0",
        "outputId": "386de609-d68b-489f-b476-cd438c981892"
      },
      "outputs": [
        {
          "name": "stdout",
          "output_type": "stream",
          "text": [
            "Help on function mypow in module __main__:\n",
            "\n",
            "mypow(a, b)\n",
            "    This function computes the power just like the built in function.\n",
            "\n"
          ]
        }
      ],
      "source": [
        "help(mypow)"
      ]
    },
    {
      "cell_type": "code",
      "execution_count": null,
      "metadata": {
        "id": "a3f0e2b1-fbc7-4e20-8c8b-68d818d878ae",
        "outputId": "d98db8ed-2415-475a-fbc6-1030fb3bb759"
      },
      "outputs": [
        {
          "name": "stdout",
          "output_type": "stream",
          "text": [
            "9\n"
          ]
        }
      ],
      "source": [
        "mypow(3,2)"
      ]
    },
    {
      "cell_type": "markdown",
      "metadata": {
        "id": "dfb99577-0258-43be-b8e8-5f3733c73a15"
      },
      "source": [
        "Multiple args more than 2 args in a function or method."
      ]
    },
    {
      "cell_type": "code",
      "execution_count": null,
      "metadata": {
        "id": "905b9a45-a8e7-4e30-b179-35df9deb04f8"
      },
      "outputs": [],
      "source": [
        "def chkTypes(a,b,c):\n",
        "    \"\"\"The function checks the datatypes of the inputs whether its giving the expected o/p or not.\n",
        "    \"\"\"\n",
        "    if isinstance(a,(int,float)) and isinstance(b,(int,float)) and isinstance(c,(int,float)):\n",
        "        print((a+b+c)**2)\n",
        "    else:\n",
        "        print(\"Error: the input argss are not of the expected types.\")"
      ]
    },
    {
      "cell_type": "code",
      "execution_count": null,
      "metadata": {
        "id": "a1d1cfce-6e82-449f-b4dc-724aa0d3d15d",
        "outputId": "ad2b1811-3e8a-49a7-9bb2-68c4097ddd87"
      },
      "outputs": [
        {
          "name": "stdout",
          "output_type": "stream",
          "text": [
            "81\n"
          ]
        }
      ],
      "source": [
        "chkTypes(4,2,3)"
      ]
    },
    {
      "cell_type": "code",
      "execution_count": null,
      "metadata": {
        "id": "524f3b51-0e38-4838-b1d7-8d0ffcdab371",
        "outputId": "6d4d389f-d3aa-42ba-88cb-7487be593827"
      },
      "outputs": [
        {
          "name": "stdout",
          "output_type": "stream",
          "text": [
            "Error: the input argss are not of the expected types.\n"
          ]
        }
      ],
      "source": [
        "chkTypes(4,65,'association')"
      ]
    },
    {
      "cell_type": "code",
      "execution_count": null,
      "metadata": {
        "id": "ef5ddf93-0703-4d8e-a860-6694bdb68d87",
        "outputId": "96d80363-5e6f-450f-9373-611b8538de03"
      },
      "outputs": [
        {
          "ename": "TypeError",
          "evalue": "chkTypes() missing 1 required positional argument: 'c'",
          "output_type": "error",
          "traceback": [
            "\u001b[1;31m---------------------------------------------------------------------------\u001b[0m",
            "\u001b[1;31mTypeError\u001b[0m                                 Traceback (most recent call last)",
            "Cell \u001b[1;32mIn[33], line 1\u001b[0m\n\u001b[1;32m----> 1\u001b[0m chkTypes(\u001b[38;5;241m4\u001b[39m,\u001b[38;5;241m65\u001b[39m)\n",
            "\u001b[1;31mTypeError\u001b[0m: chkTypes() missing 1 required positional argument: 'c'"
          ]
        }
      ],
      "source": [
        "chkTypes(4,65)"
      ]
    },
    {
      "cell_type": "code",
      "execution_count": null,
      "metadata": {
        "id": "6a7bec2c-61b6-4f9c-93f9-e88ddb2ddbd2",
        "outputId": "33d4aa0b-972d-4f94-8218-c6d23f6f8c74"
      },
      "outputs": [
        {
          "ename": "TypeError",
          "evalue": "chkTypes() takes 3 positional arguments but 4 were given",
          "output_type": "error",
          "traceback": [
            "\u001b[1;31m---------------------------------------------------------------------------\u001b[0m",
            "\u001b[1;31mTypeError\u001b[0m                                 Traceback (most recent call last)",
            "Cell \u001b[1;32mIn[35], line 1\u001b[0m\n\u001b[1;32m----> 1\u001b[0m chkTypes(\u001b[38;5;241m4\u001b[39m,\u001b[38;5;241m65\u001b[39m,\u001b[38;5;241m3\u001b[39m,\u001b[38;5;241m54\u001b[39m)\n",
            "\u001b[1;31mTypeError\u001b[0m: chkTypes() takes 3 positional arguments but 4 were given"
          ]
        }
      ],
      "source": [
        "chkTypes(4,65,3,54)"
      ]
    },
    {
      "cell_type": "markdown",
      "metadata": {
        "id": "1e2785b2-574f-4826-a01d-26758575ee27"
      },
      "source": [
        "* Ordering Multiple args in the function input."
      ]
    },
    {
      "cell_type": "code",
      "execution_count": null,
      "metadata": {
        "id": "cf978473-bf79-4676-8761-dae12154c16f",
        "outputId": "187a817c-e54a-4ced-ce94-fa945cab4206"
      },
      "outputs": [
        {
          "name": "stdout",
          "output_type": "stream",
          "text": [
            "A is: 2\n",
            "B is: 3\n",
            "C is: xbox\n"
          ]
        }
      ],
      "source": [
        "def f(a,b,c):\n",
        "    print(\"A is:\",a)\n",
        "    print(\"B is:\",b)\n",
        "    print(\"C is:\",c)\n",
        "f(2,3,\"xbox\")"
      ]
    },
    {
      "cell_type": "code",
      "execution_count": null,
      "metadata": {
        "id": "19256816-269f-4671-90c5-13fff2f01079",
        "outputId": "7cfec45e-1279-499a-af94-a2efc1374b21"
      },
      "outputs": [
        {
          "name": "stdout",
          "output_type": "stream",
          "text": [
            "A is: box\n",
            "B is: 3\n",
            "C is: 4\n"
          ]
        }
      ],
      "source": [
        "#Changing order.\n",
        "f(\"box\",3,4)"
      ]
    },
    {
      "cell_type": "code",
      "execution_count": null,
      "metadata": {
        "id": "3f8603e4-ddc8-4115-9ccb-a9672b4b69c1",
        "outputId": "a4c4dc40-9d5d-4878-fa09-abc1a2c2194a"
      },
      "outputs": [
        {
          "name": "stdout",
          "output_type": "stream",
          "text": [
            "A is: 2\n",
            "B is: 3\n",
            "C is: game\n"
          ]
        }
      ],
      "source": [
        "f(c = \"game\",a=2,b=3)"
      ]
    },
    {
      "cell_type": "markdown",
      "metadata": {
        "id": "e8462755-85d3-4b39-8238-f963c65e4bff"
      },
      "source": [
        "* Output args and return type in Functions."
      ]
    },
    {
      "cell_type": "code",
      "execution_count": null,
      "metadata": {
        "id": "57f0b5ad-498f-45b8-bdc7-de6fc0bd623e",
        "outputId": "c4aab349-6fb7-4d9c-c6e9-fbd54871e384"
      },
      "outputs": [
        {
          "ename": "NameError",
          "evalue": "name 'sumVal' is not defined",
          "output_type": "error",
          "traceback": [
            "\u001b[1;31m---------------------------------------------------------------------------\u001b[0m",
            "\u001b[1;31mNameError\u001b[0m                                 Traceback (most recent call last)",
            "Cell \u001b[1;32mIn[48], line 5\u001b[0m\n\u001b[0;32m      3\u001b[0m  \u001b[38;5;66;03m# print(sum)\u001b[39;00m\n\u001b[0;32m      4\u001b[0m add(\u001b[38;5;241m3\u001b[39m,\u001b[38;5;241m8\u001b[39m)\n\u001b[1;32m----> 5\u001b[0m \u001b[38;5;28mprint\u001b[39m(sumVal)\n",
            "\u001b[1;31mNameError\u001b[0m: name 'sumVal' is not defined"
          ]
        }
      ],
      "source": [
        "# def add(x,y):\n",
        "#  sumVal = x + y\n",
        "#  # print(sum)\n",
        "# add(3,8)\n",
        "# print(sumVal)"
      ]
    },
    {
      "cell_type": "code",
      "execution_count": null,
      "metadata": {
        "id": "fb0caf45-cf65-42f9-9369-f50bf6c0ceb5",
        "outputId": "83f735a5-7131-423e-f1ca-9b6e8b6bc192"
      },
      "outputs": [
        {
          "name": "stdout",
          "output_type": "stream",
          "text": [
            "The sum is:11\n"
          ]
        }
      ],
      "source": [
        "def add(x,y):\n",
        "  sumVal = x + y\n",
        "  # print(sum)\n",
        "  return sumVal\n",
        "d = add(3,8)\n",
        "print(f\"The sum is:{d}\")"
      ]
    },
    {
      "cell_type": "markdown",
      "metadata": {
        "id": "96873b53-85ae-457d-82a0-86560cdb0ef7"
      },
      "source": [
        "* Local variable is given much more priority for being accessed rather than Global variable.\n",
        "* Function in python always return something if not the specified return then it will return None."
      ]
    },
    {
      "cell_type": "code",
      "execution_count": null,
      "metadata": {
        "id": "c8497305-fd0c-4171-9e95-d6a1c2af5398"
      },
      "outputs": [],
      "source": [
        "varOutside = 2"
      ]
    },
    {
      "cell_type": "code",
      "execution_count": null,
      "metadata": {
        "id": "e60bde28-9b9d-4bda-862c-0e322a069236"
      },
      "outputs": [],
      "source": [
        "def g():\n",
        "    varOutside = 5\n",
        "    # print(varOutside)\n",
        "    # return varOutside"
      ]
    },
    {
      "cell_type": "code",
      "execution_count": null,
      "metadata": {
        "id": "7905da69-6d46-4372-ab2b-ce9abc4f6020",
        "outputId": "4677827b-afe8-4540-ac82-b2088ad1944f"
      },
      "outputs": [
        {
          "name": "stdout",
          "output_type": "stream",
          "text": [
            "<class 'NoneType'>\n"
          ]
        }
      ],
      "source": [
        "print(type(g()))"
      ]
    },
    {
      "cell_type": "code",
      "execution_count": null,
      "metadata": {
        "id": "bdcf8fa2-ebde-4ef4-b1c6-7cba40456302",
        "outputId": "03cf5922-46a9-447e-af8e-7919c127367c"
      },
      "outputs": [
        {
          "name": "stdout",
          "output_type": "stream",
          "text": [
            "2\n"
          ]
        }
      ],
      "source": [
        "print(varOutside)"
      ]
    },
    {
      "cell_type": "code",
      "execution_count": null,
      "metadata": {
        "id": "d14a6ada-8074-43f3-9c59-3c50befdfc38"
      },
      "outputs": [],
      "source": [
        "def h():\n",
        "    print('A')\n",
        "    a = 3\n",
        "    b = 4\n",
        "    c = a+b\n",
        "    print(\"something\")\n",
        "    print(c)\n",
        "    return  c  # WORKS AS A BREAK STATEMENT WHICH IS USED TO RETURN VALUE INTO THE FUNCTION.\n",
        "    print(\"B\")\n",
        "    print(\"C\")\n",
        "\n",
        "\n"
      ]
    },
    {
      "cell_type": "code",
      "execution_count": null,
      "metadata": {
        "id": "fd985e32-0e89-4a06-bdd2-9c484a64de85",
        "outputId": "189f0b63-70df-4d61-95ea-d82e73f95ec4"
      },
      "outputs": [
        {
          "name": "stdout",
          "output_type": "stream",
          "text": [
            "A\n",
            "something\n",
            "7\n",
            "<class 'int'>\n",
            "A\n",
            "something\n",
            "7\n",
            "7\n"
          ]
        }
      ],
      "source": [
        "print(type(h()))\n",
        "print(h())  #Return the value of addition performed on the function."
      ]
    },
    {
      "cell_type": "code",
      "execution_count": null,
      "metadata": {
        "id": "5535c77d-9463-4a3e-8e50-5752b0c631c5"
      },
      "outputs": [],
      "source": [
        "def res():\n",
        "    a =4\n",
        "    b = 7\n",
        "    c = \"Done\"\n",
        "    return  a,b,c"
      ]
    },
    {
      "cell_type": "code",
      "execution_count": null,
      "metadata": {
        "id": "50b73fb0-4942-46a7-a34e-791997c85811",
        "outputId": "ac497953-e577-42df-bc24-85b49f7f99d7"
      },
      "outputs": [
        {
          "name": "stdout",
          "output_type": "stream",
          "text": [
            "4 7 Done\n"
          ]
        }
      ],
      "source": [
        "x,y,z  = res()\n",
        "print(x,y,z)"
      ]
    },
    {
      "cell_type": "markdown",
      "metadata": {
        "id": "a13a29d7-05e8-402c-a8d5-68ef329b8f3f"
      },
      "source": [
        "* Taking n number of inputs in a function as a parameter."
      ]
    },
    {
      "cell_type": "code",
      "execution_count": null,
      "metadata": {
        "id": "72e287f0-acb7-44b4-b1bb-bc24a51d74f9"
      },
      "outputs": [],
      "source": [
        "def add(*args):\n",
        "    sum = 0\n",
        "    for i in range(len(args)):\n",
        "        sum += args[i]\n",
        "    return sum"
      ]
    },
    {
      "cell_type": "code",
      "execution_count": null,
      "metadata": {
        "id": "04cf5c0a-4510-43ec-b198-bfba999a1729",
        "outputId": "abfe6a36-08c5-4931-ab86-81f8019c5763"
      },
      "outputs": [
        {
          "name": "stdout",
          "output_type": "stream",
          "text": [
            "369\n"
          ]
        }
      ],
      "source": [
        "print(add(3,4,5,2,12,343))"
      ]
    },
    {
      "cell_type": "code",
      "execution_count": null,
      "metadata": {
        "id": "3c1f61b8-e377-48e8-8b7c-0cc56ce8502d",
        "outputId": "0a2bbc1f-bca4-4678-97d7-918c73796969"
      },
      "outputs": [
        {
          "name": "stdout",
          "output_type": "stream",
          "text": [
            "jatin\n",
            "gaurav\n",
            "nanu\n",
            "pihu\n"
          ]
        }
      ],
      "source": [
        "def names(*args):\n",
        "    for i in args:\n",
        "        print(i)\n",
        "names(\"jatin\",\"gaurav\",\"nanu\",\"pihu\")"
      ]
    },
    {
      "cell_type": "markdown",
      "metadata": {
        "id": "ba9fe07c-eefb-4831-9cea-1c7e57a1c075"
      },
      "source": [
        "* Variable number of input args using ** as the parameter."
      ]
    },
    {
      "cell_type": "code",
      "execution_count": null,
      "metadata": {
        "id": "fae8f5ca-a646-4264-b535-da74b170aafd"
      },
      "outputs": [],
      "source": [
        "def printAllVariableNames(**args):\n",
        "    for i in args:\n",
        "        print(\"Variable name is:\",i,\"and value is:\",args[i])"
      ]
    },
    {
      "cell_type": "code",
      "execution_count": null,
      "metadata": {
        "id": "0a1e5b9d-1324-4fa9-b069-8fb3f59ce08a",
        "outputId": "8acaaf87-a829-435b-8ade-0b48d2b074c9"
      },
      "outputs": [
        {
          "name": "stdout",
          "output_type": "stream",
          "text": [
            "Variable name is: a and value is: 2\n",
            "Variable name is: b and value is: B\n",
            "Variable name is: c and value is: ccc\n",
            "Variable name is: y and value is: 6.5\n"
          ]
        }
      ],
      "source": [
        "printAllVariableNames(a = 2,b = 'B',c = \"ccc\",y= 6.5)"
      ]
    },
    {
      "cell_type": "code",
      "execution_count": null,
      "metadata": {
        "id": "a17e10ac-94ed-4bb4-8730-a13e35895c0e",
        "outputId": "a4a54465-eb50-4c3c-c4bc-4001f9d323ea"
      },
      "outputs": [
        {
          "name": "stdout",
          "output_type": "stream",
          "text": [
            "name:Ramu\n",
            "id:4\n",
            "id:5\n",
            "name:Raj\n"
          ]
        }
      ],
      "source": [
        "def Student(**kwargs):\n",
        "    for name,id in kwargs.items():\n",
        "      print(f\"{name}:{id}\")\n",
        "\n",
        "s1 = Student(name = \"Ramu\",id = 4)\n",
        "s2 = Student(id = 5,name = \"Raj\")\n",
        "# s3 = Student(\"uvaish\",8)"
      ]
    },
    {
      "cell_type": "markdown",
      "metadata": {
        "id": "77212fbe-9be2-4b9b-9f3c-2381dd0abbcc"
      },
      "source": [
        "* Default Values in Functions."
      ]
    },
    {
      "cell_type": "code",
      "execution_count": null,
      "metadata": {
        "id": "2b256048-0a68-4d0d-ab4b-86135779c768"
      },
      "outputs": [],
      "source": [
        "#default values are the values which are given to a input when defining a function."
      ]
    },
    {
      "cell_type": "code",
      "execution_count": null,
      "metadata": {
        "id": "04ae1257-3391-4e7f-ad97-9fd423689d08"
      },
      "outputs": [],
      "source": [
        "def gg(s=4):\n",
        "    print(s)"
      ]
    },
    {
      "cell_type": "code",
      "execution_count": null,
      "metadata": {
        "id": "cd4fb62c-2841-43de-be0f-fec7b43e9118",
        "outputId": "e58ed1ce-c1ff-4ac8-c3e4-980a492fe075"
      },
      "outputs": [
        {
          "name": "stdout",
          "output_type": "stream",
          "text": [
            "4\n"
          ]
        }
      ],
      "source": [
        "gg()"
      ]
    },
    {
      "cell_type": "code",
      "execution_count": null,
      "metadata": {
        "id": "3e0bd26e-efae-4857-911b-5cf29ef2ff2d",
        "outputId": "f1773e5d-40d9-4d86-a4cc-53f478360acd"
      },
      "outputs": [
        {
          "name": "stdout",
          "output_type": "stream",
          "text": [
            "34\n"
          ]
        }
      ],
      "source": [
        "gg(34)"
      ]
    },
    {
      "cell_type": "code",
      "execution_count": null,
      "metadata": {
        "id": "aa25a549-521a-48d2-bdad-782ba994caf4",
        "outputId": "5eb0df56-d4fd-471a-819d-8b4a17471e46"
      },
      "outputs": [
        {
          "name": "stdout",
          "output_type": "stream",
          "text": [
            "[-9, 2, 3, 4]\n"
          ]
        }
      ],
      "source": [
        "l = [1,2,3,4]\n",
        "l1 = l\n",
        "l1[0] = -9\n",
        "print(l)"
      ]
    },
    {
      "cell_type": "code",
      "execution_count": null,
      "metadata": {
        "id": "12337f91-079b-41db-9590-49796de09e1b"
      },
      "outputs": [],
      "source": [
        "def ff(l=[1,2]):\n",
        "    for i in l:\n",
        "        print(i)"
      ]
    },
    {
      "cell_type": "code",
      "execution_count": null,
      "metadata": {
        "id": "63673978-08be-458e-b423-00e6b0610011",
        "outputId": "9e30a341-0043-440f-995f-d0dedc226c92"
      },
      "outputs": [
        {
          "name": "stdout",
          "output_type": "stream",
          "text": [
            "1\n",
            "2\n"
          ]
        }
      ],
      "source": [
        "l2 = [32,12,3]\n",
        "ff()"
      ]
    },
    {
      "cell_type": "code",
      "execution_count": null,
      "metadata": {
        "id": "9177222c-c12a-433c-812c-f338ada6d193",
        "outputId": "72530828-ed9c-42a7-9bbd-3ceb10268604"
      },
      "outputs": [
        {
          "name": "stdout",
          "output_type": "stream",
          "text": [
            "1\n",
            "2\n"
          ]
        }
      ],
      "source": [
        "ff()"
      ]
    },
    {
      "cell_type": "code",
      "execution_count": null,
      "metadata": {
        "id": "6071d4cf-ea69-4138-86eb-170a66b6a75f",
        "outputId": "db2289a3-f8e7-4ef2-9f7e-5804f3eb82ed"
      },
      "outputs": [
        {
          "name": "stdout",
          "output_type": "stream",
          "text": [
            "32\n",
            "12\n",
            "3\n"
          ]
        }
      ],
      "source": [
        "ff(l2)"
      ]
    },
    {
      "cell_type": "markdown",
      "metadata": {
        "id": "1779e7a3-53b0-4a17-a6ee-e7b0d096499c"
      },
      "source": [
        "* Making modules in Python."
      ]
    },
    {
      "cell_type": "code",
      "execution_count": null,
      "metadata": {
        "id": "addee836-ba49-491d-8af9-0cdfac765b25"
      },
      "outputs": [],
      "source": [
        "def add(x,y):\n",
        "  sumVal = x + y\n",
        "  # print(sum)\n",
        "  return sumVal\n",
        "d = add(3,8)\n",
        "print(f\"The sum is:{d}\")"
      ]
    },
    {
      "cell_type": "code",
      "execution_count": null,
      "metadata": {
        "id": "57959db1-652b-400b-ba0f-d2217e0dc1ba"
      },
      "outputs": [],
      "source": [
        "import sys\n",
        "sys.path.append('D:\\python files')"
      ]
    },
    {
      "cell_type": "code",
      "execution_count": null,
      "metadata": {
        "id": "805e7c6f-6bc8-432f-bede-111370a11047",
        "outputId": "158fc5c0-090d-464f-e762-0f500cdae7b1"
      },
      "outputs": [
        {
          "ename": "ModuleNotFoundError",
          "evalue": "No module named 'PYTHON_BAISCS2'",
          "output_type": "error",
          "traceback": [
            "\u001b[1;31m---------------------------------------------------------------------------\u001b[0m",
            "\u001b[1;31mModuleNotFoundError\u001b[0m                       Traceback (most recent call last)",
            "Cell \u001b[1;32mIn[2], line 1\u001b[0m\n\u001b[1;32m----> 1\u001b[0m \u001b[38;5;28;01mimport\u001b[39;00m \u001b[38;5;21;01mPYTHON_BAISCS2\u001b[39;00m \u001b[38;5;28;01mas\u001b[39;00m \u001b[38;5;21;01mmyfls\u001b[39;00m\n",
            "\u001b[1;31mModuleNotFoundError\u001b[0m: No module named 'PYTHON_BAISCS2'"
          ]
        }
      ],
      "source": [
        "import PYTHON_BAISCS2 as myfls"
      ]
    },
    {
      "cell_type": "markdown",
      "metadata": {
        "id": "08da487e-516a-4194-b19d-92678566a4d1"
      },
      "source": [
        "# Sorting list in Python\n"
      ]
    },
    {
      "cell_type": "markdown",
      "metadata": {
        "id": "05a316a4-62f0-40f2-ac22-9fb99a3e0135"
      },
      "source": [
        "* Given a list of numbers i.e [1,2,4,-5,7,9,3,2] ,make another list that contains all the items in sorted order from min to max. i.e your result will be another list like [-5,1,2,2,3,3,7,9]"
      ]
    },
    {
      "cell_type": "code",
      "execution_count": null,
      "metadata": {
        "id": "a26b6c41-8144-4694-984a-163cdf1e819c",
        "outputId": "05ad471a-fb4d-4249-8d1b-9b595a5795d7"
      },
      "outputs": [
        {
          "name": "stdout",
          "output_type": "stream",
          "text": [
            "[-8, 0, 5, 7, 23, 53, 76]\n"
          ]
        }
      ],
      "source": [
        "lst =  [0,-8,5,23,76,7,53]\n",
        "# lst1 = []\n",
        "for j in range(len(lst)): #7\n",
        "    m = lst[j]\n",
        "    idx = j\n",
        "    c = j\n",
        "    for i in range(j,len(lst)):\n",
        "        if lst[i]<m:\n",
        "            m = lst[i]\n",
        "            idx = c\n",
        "        c += 1\n",
        "    temp = lst[j]\n",
        "    lst[j]= m\n",
        "    lst[idx]=temp\n",
        "print(lst)"
      ]
    },
    {
      "cell_type": "code",
      "execution_count": null,
      "metadata": {
        "id": "c494a61f-ca6e-4f41-8fb7-505f1920f72f",
        "outputId": "4b4c78b8-da4e-4ef8-8c68-07b83107b7ce"
      },
      "outputs": [
        {
          "name": "stdout",
          "output_type": "stream",
          "text": [
            "333 0\n"
          ]
        }
      ],
      "source": [
        "def FindMin(L):\n",
        "    m = L[0]\n",
        "    idx = 0\n",
        "    i = 0\n",
        "    for x in L:\n",
        "        if x<m:\n",
        "            m = x\n",
        "            idx = i\n",
        "        else:\n",
        "            pass\n",
        "        i+=1\n",
        "        return m,idx\n",
        "a,b = FindMin([333,34,54,3,4,6,7])\n",
        "print(a,b)"
      ]
    },
    {
      "cell_type": "code",
      "execution_count": null,
      "metadata": {
        "id": "bec1edf1-25e5-4414-b775-389c311b7958",
        "outputId": "98663a87-2e7c-414e-99fa-9f371db8484c"
      },
      "outputs": [
        {
          "name": "stdout",
          "output_type": "stream",
          "text": [
            "[-2, 4, 34, 43, 54, 54]\n"
          ]
        }
      ],
      "source": [
        "lst = [4,34,54,-2,43,54]\n",
        "for i in range(len(lst)):\n",
        "    m = lst[i]\n",
        "    idx = i\n",
        "    c = i\n",
        "    for j in range(i,len(lst)):\n",
        "        if lst[j]<m:\n",
        "            m = lst[j]\n",
        "            idx = c\n",
        "        c += 1\n",
        "    temp = lst[i]\n",
        "    lst[i] = m\n",
        "    lst"
      ]
    },
    {
      "cell_type": "code",
      "execution_count": null,
      "metadata": {
        "id": "1c87c4a5-170a-402a-ba92-fd9c84092224",
        "outputId": "34bbf174-3f2b-43dd-d1ff-78d309d24f76"
      },
      "outputs": [
        {
          "name": "stdout",
          "output_type": "stream",
          "text": [
            "[1, 6, 45, 2, 78, 76]\n"
          ]
        }
      ],
      "source": [
        "def swapValues(lst,idx1,idx2):\n",
        "    temp = lst[idx1]\n",
        "    lst[idx1] = lst[idx2]\n",
        "    lst[idx2]= temp\n",
        "    return lst\n",
        "lst = [1,2,45,6,78,76]\n",
        "res = swapValues(lst,1,3)\n",
        "print(res)"
      ]
    },
    {
      "cell_type": "code",
      "execution_count": null,
      "metadata": {
        "id": "ee28174b-d742-4a63-88f9-925e1f331ea6",
        "outputId": "6433c363-c9e5-4920-cb12-bb2ac4db7fa6"
      },
      "outputs": [
        {
          "data": {
            "text/plain": [
              "'def sortList(L):\\n    c = 0\\n    for i in L:\\n        m,idx = findMIn(L)\\n        L  = swapValues(L,c,idx)\\n        c += 1\\n    return L\\n\\nprint(L)'"
            ]
          },
          "execution_count": 21,
          "metadata": {},
          "output_type": "execute_result"
        }
      ],
      "source": [
        "'''def sortList(L):\n",
        "    c = 0\n",
        "    for i in L:\n",
        "        m,idx = findMIn(L)\n",
        "        L  = swapValues(L,c,idx)\n",
        "        c += 1\n",
        "    return L\n",
        "\n",
        "print(L)'''"
      ]
    },
    {
      "cell_type": "markdown",
      "metadata": {
        "id": "e4c9c194-e7c4-4c31-9ebd-ec8bde987868"
      },
      "source": [
        "* This is a Module we made in another notebook and imported it here but due to some reasons its not working."
      ]
    },
    {
      "cell_type": "code",
      "execution_count": null,
      "metadata": {
        "id": "7197e7c1-835f-443f-b327-33b022fe76b1"
      },
      "outputs": [],
      "source": [
        "def checkIfNotNumeric(*args):\n",
        "    for i in args:\n",
        "        if not(isinstance(i,(int,float))):\n",
        "            return False\n",
        "    return True"
      ]
    },
    {
      "cell_type": "markdown",
      "metadata": {
        "id": "2449a11e-8347-437e-8674-b1aa9d5f9092"
      },
      "source": [
        "# Strings In Python"
      ]
    },
    {
      "cell_type": "code",
      "execution_count": null,
      "metadata": {
        "id": "457f0a22-df58-415b-9a63-49a8df2bfe02",
        "outputId": "1e2059e1-445c-4381-ed5d-62cdbd211140"
      },
      "outputs": [
        {
          "name": "stdout",
          "output_type": "stream",
          "text": [
            "Python is language and, We are going to learn its framework i.e Django\n"
          ]
        }
      ],
      "source": [
        "v = \"Python is language\"\n",
        "s = \"We are going to learn its framework i.e Django\"\n",
        "print(v+' and, '+s)"
      ]
    },
    {
      "cell_type": "code",
      "execution_count": null,
      "metadata": {
        "id": "343b0e3b-90b7-41cd-b340-828345f64167",
        "outputId": "d06d0ff8-62bc-452e-ce3e-2a9625ffefae"
      },
      "outputs": [
        {
          "name": "stdout",
          "output_type": "stream",
          "text": [
            "Python is languageOOPS CONCEPTWe are going to learn its framework i.e Django\n"
          ]
        }
      ],
      "source": [
        "res = v+'OOPS CONCEPT'+s\n",
        "print(res)"
      ]
    },
    {
      "cell_type": "code",
      "execution_count": null,
      "metadata": {
        "id": "44441144-c8ac-40c5-8d47-c0e1065e9470",
        "outputId": "9ae150a9-b2e7-40d6-8c84-7940847b4fe4"
      },
      "outputs": [
        {
          "ename": "TypeError",
          "evalue": "'str' object is not callable",
          "output_type": "error",
          "traceback": [
            "\u001b[1;31m---------------------------------------------------------------------------\u001b[0m",
            "\u001b[1;31mTypeError\u001b[0m                                 Traceback (most recent call last)",
            "Cell \u001b[1;32mIn[20], line 3\u001b[0m\n\u001b[0;32m      1\u001b[0m pri \u001b[38;5;241m=\u001b[39m \u001b[38;5;241m12\u001b[39m\n\u001b[0;32m      2\u001b[0m s \u001b[38;5;241m=\u001b[39m \u001b[38;5;124m\"\u001b[39m\u001b[38;5;124mThe price of this book\u001b[39m\u001b[38;5;124m\"\u001b[39m\n\u001b[1;32m----> 3\u001b[0m v \u001b[38;5;241m=\u001b[39m s\u001b[38;5;241m+\u001b[39m \u001b[38;5;124m'\u001b[39m\u001b[38;5;124mis: \u001b[39m\u001b[38;5;124m'\u001b[39m\u001b[38;5;241m+\u001b[39m \u001b[38;5;28mstr\u001b[39m(pri)\n\u001b[0;32m      4\u001b[0m \u001b[38;5;28mprint\u001b[39m(v)\n",
            "\u001b[1;31mTypeError\u001b[0m: 'str' object is not callable"
          ]
        }
      ],
      "source": [
        "'''pri = 12\n",
        "s = \"The price of this book\"\n",
        "v = s+ 'is: '+ str(pri)\n",
        "print(v)'''"
      ]
    },
    {
      "cell_type": "markdown",
      "metadata": {
        "id": "6955d8e2-6120-4c89-950c-07cae6534e43"
      },
      "source": [
        "* STRING SLICING"
      ]
    },
    {
      "cell_type": "code",
      "execution_count": null,
      "metadata": {
        "id": "a5967ad9-df07-447b-862b-b7d12d0de6a6",
        "outputId": "b5d33b13-eced-4ff1-d16f-5402fce342b4"
      },
      "outputs": [
        {
          "name": "stdout",
          "output_type": "stream",
          "text": [
            "(0, 'P')\n",
            "(1, 'r')\n",
            "(2, 'o')\n",
            "(3, 'g')\n",
            "(4, 'r')\n",
            "(5, 'a')\n",
            "(6, 'm')\n",
            "(7, 'm')\n",
            "(8, 'i')\n",
            "(9, 'n')\n",
            "(10, 'g')\n",
            "(11, '.')\n",
            "grammi\n",
            "12\n",
            "3\n",
            "gram\n",
            "ammi\n",
            ".gnimmargorP\n"
          ]
        }
      ],
      "source": [
        "a = \"Programming.\"\n",
        "for i in enumerate(a):\n",
        "    print(i)\n",
        "print(a[3:9])\n",
        "print(len(a))\n",
        "print(len(a[2:5]))\n",
        "print(a[3:-5])\n",
        "print(a[5:-3])\n",
        "print(a[::-1])"
      ]
    },
    {
      "cell_type": "code",
      "execution_count": null,
      "metadata": {
        "id": "d3a324db-32d8-4c83-a9f4-b59e18185c35",
        "outputId": "836fbf6b-7e94-4c9d-be3c-881d1e18d6a6"
      },
      "outputs": [
        {
          "name": "stdout",
          "output_type": "stream",
          "text": [
            "Artific\n",
            "The length of the string is: 10\n",
            "The length of b is: 12\n",
            "Intell\n",
            "ligenc\n",
            "Intellige\n",
            "Intellige\n",
            "en \n",
            "\n",
            "\n",
            "Intelligence\n",
            "\n",
            "e\n"
          ]
        }
      ],
      "source": [
        "a = \"Artificial\"\n",
        "print(a[0:7])\n",
        "print(\"The length of the string is:\",len(a))\n",
        "\n",
        "b = \"Intelligence\"\n",
        "\n",
        "print(\"The length of b is:\",len(b))\n",
        "\n",
        "print(b[0:6])\n",
        "\n",
        "print(b[5:11])\n",
        "#NEGATIVE INDEXING\n",
        "print(b[0:len(b)-3])\n",
        "\n",
        "print(b[0:-3]) #same as abv (KNOWN AS NEGATIVE SLICING)\n",
        "\n",
        "print(b[-4:-2],\"\\n\\n\") #11-4 = 7\n",
        "\n",
        "print(b)\n",
        "print(b[-4:-5]) #this will not print due to wrogn assignment of slicing\n",
        "\n",
        "print(b[-4:-3]) #The 2nd no should always be smaller than the firstone.\n"
      ]
    },
    {
      "cell_type": "markdown",
      "metadata": {
        "id": "2822a4ff-58c2-4bb3-b05d-815236f96b67"
      },
      "source": [
        "* Some Functions of String"
      ]
    },
    {
      "cell_type": "code",
      "execution_count": null,
      "metadata": {
        "id": "c40e6b0a-08e0-4017-9c56-028534903887",
        "outputId": "a8058f79-5abe-4e9a-d45c-8b70378e6964"
      },
      "outputs": [
        {
          "name": "stdout",
          "output_type": "stream",
          "text": [
            "abc def    hg; assgsdf\n"
          ]
        }
      ],
      "source": [
        "a = \"   abc def    hg; assgsdf    \"\n",
        "b = a.strip()\n",
        "print(b)"
      ]
    },
    {
      "cell_type": "code",
      "execution_count": null,
      "metadata": {
        "id": "cc771995-6c5e-4b6c-af9f-f3fa145ec60c",
        "outputId": "ab4057a0-0337-40ea-c929-3036a592843c"
      },
      "outputs": [
        {
          "name": "stdout",
          "output_type": "stream",
          "text": [
            "fjroirjeijroiejfdsfjv\n"
          ]
        }
      ],
      "source": [
        "a = \"   fjroirjeijroiejfdsfjv      \"  #removes the spaces before and after the string ends and prints the actual string\n",
        "print(a.strip())"
      ]
    },
    {
      "cell_type": "code",
      "execution_count": null,
      "metadata": {
        "id": "22441d63-285f-496e-adc1-523da2d8ce8a",
        "outputId": "f86cffb2-dd0b-429e-87a4-b157e4e97edf"
      },
      "outputs": [
        {
          "name": "stdout",
          "output_type": "stream",
          "text": [
            "jatinpasijfeoifjeoijfoerijfoierjf\n"
          ]
        }
      ],
      "source": [
        "a = \"JATINPASIJFEOIFJEOIJFOERIJFOIERJF\"\n",
        "'''converts all the upper case characters into Lowercase characters.'''\n",
        "print(a.lower())"
      ]
    },
    {
      "cell_type": "code",
      "execution_count": null,
      "metadata": {
        "id": "12e3e1d4-4974-43a1-a842-230390112130",
        "outputId": "4adfba16-d923-4468-da72-d5df862e9d79"
      },
      "outputs": [
        {
          "name": "stdout",
          "output_type": "stream",
          "text": [
            "HEREWEARELEARNINGPYTHONBASICS\n"
          ]
        }
      ],
      "source": [
        "a = \"herewearelearningpythonbasics\"\n",
        "'''converts all the lowercase characters into upper case characters.'''\n",
        "print(a.upper())"
      ]
    },
    {
      "cell_type": "code",
      "execution_count": null,
      "metadata": {
        "id": "3e65a5e0-bfed-401c-861b-9e30e554a053",
        "outputId": "ea6e8885-a8ea-4f65-c146-faf7b07efc01"
      },
      "outputs": [
        {
          "name": "stdout",
          "output_type": "stream",
          "text": [
            "False\n",
            "Here were we.\n",
            "Here are we sitting.\n"
          ]
        }
      ],
      "source": [
        "a = \"Here are we.\"\n",
        "print(a.istitle())\n",
        "print(a.replace(\"are\",\"were\"))\n",
        "print(a.replace('.',\" sitting.\"))"
      ]
    },
    {
      "cell_type": "code",
      "execution_count": null,
      "metadata": {
        "id": "e8a9c6b5-d6ee-4343-a511-c336498c2f61",
        "outputId": "15f83d65-bfaf-42d0-b180-9339757489d1"
      },
      "outputs": [
        {
          "name": "stdout",
          "output_type": "stream",
          "text": [
            "7\n",
            "False\n",
            "False\n",
            "MACHINE\n",
            "machine\n",
            "C++ is an easy language!!!\n",
            "Learning\n",
            "['python', 'is', 'an', 'easy', 'language!!!']\n",
            "easy\n",
            "4\n",
            "python is an easy language\n",
            "True\n",
            "False\n",
            "True\n",
            "True\n",
            "False\n",
            "7\n",
            "13\n",
            "True\n",
            "False\n",
            "True\n",
            "True\n",
            "False\n",
            "True\n",
            "False\n",
            "True\n",
            "Pandas Is A Library\n",
            "mACHINE\n",
            "LEARNING\n"
          ]
        }
      ],
      "source": [
        "a = \"Machine\"\n",
        "b = \"learning\"\n",
        "c = \"python is an easy language!!!\"\n",
        "d = \"Dsa Is The Foundational Subject\\n\"\n",
        "e = \"pandas is a library\"\n",
        "f = \" \"\n",
        "\n",
        "print(len(a))\n",
        "print(a.islower())#checks whether the string is in lower-case.\n",
        "print(a.isupper())\n",
        "print(a.upper()) #converts string into upper case\n",
        "print(a.lower())\n",
        "\n",
        "print(c.replace(\"python\",\"C++\")) #used to replace the string by the new one(modification).\n",
        "\n",
        "print(b.capitalize()) #used to capitalize the first letter of the string.\n",
        "\n",
        "print(c.split()) #Creates a list of the given string if spaces are available.\n",
        "print(c.split()[-2]) #Creates a list of the given string if spaces are available.\n",
        "\n",
        "print(c.count(\"a\")) #counts the freq of the given args in a string.\n",
        "\n",
        "print(c.rstrip(\"!\")) #removes the character present at the end of string.(post only)\n",
        "\n",
        "print(c.endswith(\"!\")) #checks whether the sentence or string ends with the same input.\n",
        "\n",
        "print(c.endswith(\"is\",4,29)) #same function but checks using slicing.\n",
        "\n",
        "print(c.endswith(\"!\",4,29)) #same function but checks using slicing.\n",
        "\n",
        "print(c.startswith(\"python\"))#case-sensative (checks the starting string comparing to input value.)\n",
        "\n",
        "print(c.startswith(\"C++\"))\n",
        "\n",
        "print(c.find(\"is\"))#calculates the first occurance of the string and returns the index value where it is stored.\n",
        "\n",
        "print(c.find(\"easy\"))\n",
        "\n",
        "print(b.isalnum())#checks whether the string is alphanumeric or not.\n",
        "\n",
        "print(c.isalnum())#c is not alphanumeric as it contains spaces btw it.\n",
        "\n",
        "print(b.isalpha()) #determines only alphabets(a-z) [Non case-sensative].\n",
        "\n",
        "print(c.isprintable())#determines whether the string can be printed or not.\n",
        "#i.e if any specifier would be present it'll be considered as non-printable.\n",
        "\n",
        "print(d.isprintable())#is non printable due to the presence of specifier in it.\n",
        "\n",
        "print(f.isspace()) #checks only n only the space, seems useless.\n",
        "\n",
        "print(e.istitle())#determines whether the first letter of every word is capital or not.\n",
        "\n",
        "print(d.istitle())# since d has each n every word has first letter capital it is considered to be True.\n",
        "\n",
        "print(e.title()) #capitalize first letter of each word.\n",
        "\n",
        "print(a.swapcase())\n",
        "print(b.swapcase()) #these both is used to swap the case.If upper then its converted into lower nd vice-versa.\n",
        "\n"
      ]
    },
    {
      "cell_type": "code",
      "execution_count": null,
      "metadata": {
        "id": "afc11713-36f5-40a7-9962-3b360888709f",
        "outputId": "00ad97ea-b934-4685-be0f-a4b6b739d8ae"
      },
      "outputs": [
        {
          "name": "stdout",
          "output_type": "stream",
          "text": [
            "['today', 'is', 'day', '2', 'of', 'learning', 'python']\n"
          ]
        }
      ],
      "source": [
        "a = \"today is day 2 of learning python\"\n",
        "l = a.split(\" \")\n",
        "print(l)"
      ]
    },
    {
      "cell_type": "code",
      "execution_count": null,
      "metadata": {
        "id": "30634164-03bd-48f4-9324-42e2ed90a948",
        "outputId": "672c63b1-15af-4548-c10f-73073f4e5ed7"
      },
      "outputs": [
        {
          "name": "stdout",
          "output_type": "stream",
          "text": [
            "today is\n"
          ]
        }
      ],
      "source": [
        "print(l[0],l[1])"
      ]
    },
    {
      "cell_type": "code",
      "execution_count": null,
      "metadata": {
        "id": "aace50cf-0315-4236-808d-c2360876b031",
        "outputId": "e43b6e4c-affc-4a9c-e018-4de881697937"
      },
      "outputs": [
        {
          "data": {
            "text/plain": [
              "\u001b[1;31mType:\u001b[0m        str\n",
              "\u001b[1;31mString form:\u001b[0m today is day 2 of learning python\n",
              "\u001b[1;31mLength:\u001b[0m      33\n",
              "\u001b[1;31mDocstring:\u001b[0m  \n",
              "str(object='') -> str\n",
              "str(bytes_or_buffer[, encoding[, errors]]) -> str\n",
              "\n",
              "Create a new string object from the given object. If encoding or\n",
              "errors is specified, then the object must expose a data buffer\n",
              "that will be decoded using the given encoding and error handler.\n",
              "Otherwise, returns the result of object.__str__() (if defined)\n",
              "or repr(object).\n",
              "encoding defaults to sys.getdefaultencoding().\n",
              "errors defaults to 'strict'."
            ]
          },
          "metadata": {},
          "output_type": "display_data"
        }
      ],
      "source": [
        "a??"
      ]
    },
    {
      "cell_type": "code",
      "execution_count": null,
      "metadata": {
        "id": "faa47909-5fd1-4273-ab7b-8009862e3120",
        "outputId": "320df6a4-6a03-41af-eaed-122afd920514"
      },
      "outputs": [
        {
          "data": {
            "text/plain": [
              "\u001b[1;31mSignature:\u001b[0m \u001b[0ma\u001b[0m\u001b[1;33m.\u001b[0m\u001b[0mcapitalize\u001b[0m\u001b[1;33m(\u001b[0m\u001b[1;33m)\u001b[0m\u001b[1;33m\u001b[0m\u001b[1;33m\u001b[0m\u001b[0m\n",
              "\u001b[1;31mDocstring:\u001b[0m\n",
              "Return a capitalized version of the string.\n",
              "\n",
              "More specifically, make the first character have upper case and the rest lower\n",
              "case.\n",
              "\u001b[1;31mType:\u001b[0m      builtin_function_or_method"
            ]
          },
          "metadata": {},
          "output_type": "display_data"
        }
      ],
      "source": [
        "a.capitalize?"
      ]
    },
    {
      "cell_type": "code",
      "execution_count": null,
      "metadata": {
        "id": "e2cc4a06-0b40-4619-b8af-f518f77806d5",
        "outputId": "47ec935b-174b-4003-cc58-17bbe7f1ffe1"
      },
      "outputs": [
        {
          "data": {
            "text/plain": [
              "\u001b[1;31mSignature:\u001b[0m \u001b[0ma\u001b[0m\u001b[1;33m.\u001b[0m\u001b[0mupper\u001b[0m\u001b[1;33m(\u001b[0m\u001b[1;33m)\u001b[0m\u001b[1;33m\u001b[0m\u001b[1;33m\u001b[0m\u001b[0m\n",
              "\u001b[1;31mDocstring:\u001b[0m Return a copy of the string converted to uppercase.\n",
              "\u001b[1;31mType:\u001b[0m      builtin_function_or_method"
            ]
          },
          "metadata": {},
          "output_type": "display_data"
        }
      ],
      "source": [
        "a.upper?"
      ]
    },
    {
      "cell_type": "code",
      "execution_count": null,
      "metadata": {
        "id": "ceb4aa89-1be4-47ee-9fe2-8cbe32b66b0c",
        "outputId": "bb34cd59-d68c-412d-9c00-d6e86f7dd90d"
      },
      "outputs": [
        {
          "data": {
            "text/plain": [
              "'Today is day 2 of learning python'"
            ]
          },
          "execution_count": 35,
          "metadata": {},
          "output_type": "execute_result"
        }
      ],
      "source": [
        "a.capitalize()"
      ]
    },
    {
      "cell_type": "code",
      "execution_count": null,
      "metadata": {
        "id": "a0054230-1da6-4afb-ba77-026466bad927",
        "outputId": "b9b945a1-9e8d-4204-88b6-a1bc20cb3ce5"
      },
      "outputs": [
        {
          "data": {
            "text/plain": [
              "\u001b[1;31mDocstring:\u001b[0m\n",
              "S.count(sub[, start[, end]]) -> int\n",
              "\n",
              "Return the number of non-overlapping occurrences of substring sub in\n",
              "string S[start:end].  Optional arguments start and end are\n",
              "interpreted as in slice notation.\n",
              "\u001b[1;31mType:\u001b[0m      builtin_function_or_method"
            ]
          },
          "metadata": {},
          "output_type": "display_data"
        }
      ],
      "source": [
        "a.count??"
      ]
    },
    {
      "cell_type": "code",
      "execution_count": null,
      "metadata": {
        "id": "5834587b-4e2e-49e1-ba9b-4ab96c5b84d8",
        "outputId": "b8ec60c7-66bb-4ae0-c9b1-372b05049840"
      },
      "outputs": [
        {
          "name": "stdout",
          "output_type": "stream",
          "text": [
            "0\n"
          ]
        }
      ],
      "source": [
        "print(a.count('j'))"
      ]
    },
    {
      "cell_type": "code",
      "execution_count": null,
      "metadata": {
        "id": "b38cb2c0-6b0a-4983-962c-f789eab2c9b4",
        "outputId": "e7a7e37c-8015-4eba-f2ef-03e6bb1e945b"
      },
      "outputs": [
        {
          "name": "stdout",
          "output_type": "stream",
          "text": [
            "False\n",
            "True\n"
          ]
        }
      ],
      "source": [
        "a = \"Today is day 3 of learning python\"\n",
        "print('it' in a)\n",
        "print('is' in a)\n"
      ]
    },
    {
      "cell_type": "code",
      "execution_count": null,
      "metadata": {
        "id": "2746113d-20ad-4016-b588-b0b126a63546",
        "outputId": "5190ee08-13a7-4473-e0bb-1d82a2623f8a"
      },
      "outputs": [
        {
          "data": {
            "text/plain": [
              "True"
            ]
          },
          "execution_count": 45,
          "metadata": {},
          "output_type": "execute_result"
        }
      ],
      "source": [
        "\"abc\" ==\"abc\""
      ]
    },
    {
      "cell_type": "code",
      "execution_count": null,
      "metadata": {
        "id": "9326f62b-d40d-4e89-a3ef-c3847b3ab9b5",
        "outputId": "c51e0769-dc07-4087-c4be-1b8219ed8897"
      },
      "outputs": [
        {
          "data": {
            "text/plain": [
              "True"
            ]
          },
          "execution_count": 49,
          "metadata": {},
          "output_type": "execute_result"
        }
      ],
      "source": [
        "\"abc\"<\"def\""
      ]
    },
    {
      "cell_type": "code",
      "execution_count": null,
      "metadata": {
        "id": "a7353319-d372-4345-89c7-3c9038983014",
        "outputId": "075f8408-245c-49bb-b768-c22c55c6efd8"
      },
      "outputs": [
        {
          "data": {
            "text/plain": [
              "True"
            ]
          },
          "execution_count": 51,
          "metadata": {},
          "output_type": "execute_result"
        }
      ],
      "source": [
        "\"jatin pasi\" not in \"gaurav\""
      ]
    },
    {
      "cell_type": "code",
      "execution_count": null,
      "metadata": {
        "id": "c2888146-aac8-4cb9-9bf0-03020dda5cca",
        "outputId": "a8c8f15a-38d1-4b3b-dfa3-54473d4e916d"
      },
      "outputs": [
        {
          "ename": "SyntaxError",
          "evalue": "invalid syntax. Perhaps you forgot a comma? (1078288962.py, line 1)",
          "output_type": "error",
          "traceback": [
            "\u001b[1;36m  Cell \u001b[1;32mIn[53], line 1\u001b[1;36m\u001b[0m\n\u001b[1;33m    print(\"we are learning \"string\" here\")\u001b[0m\n\u001b[1;37m          ^\u001b[0m\n\u001b[1;31mSyntaxError\u001b[0m\u001b[1;31m:\u001b[0m invalid syntax. Perhaps you forgot a comma?\n"
          ]
        }
      ],
      "source": [
        "print(\"we are learning \"string\" here\")"
      ]
    },
    {
      "cell_type": "markdown",
      "metadata": {
        "id": "ff048f09-2f6c-4d46-b261-3ae26b9afddb"
      },
      "source": [
        "* ESCAPE SEQUENCE."
      ]
    },
    {
      "cell_type": "code",
      "execution_count": null,
      "metadata": {
        "id": "56afd75d-2b63-4120-9282-497d21b81c15",
        "outputId": "73892ffe-c4b8-4c33-9aab-952f09a9960c"
      },
      "outputs": [
        {
          "name": "stdout",
          "output_type": "stream",
          "text": [
            "we are learning \"string\" here\n"
          ]
        }
      ],
      "source": [
        "print(\"we are learning \\\"string\\\" here\")"
      ]
    },
    {
      "cell_type": "code",
      "execution_count": null,
      "metadata": {
        "id": "cfe6829e-5513-4032-9157-203bfd8a0d7c",
        "outputId": "50e3aacf-e720-45b5-c472-66f48f116b49"
      },
      "outputs": [
        {
          "name": "stdout",
          "output_type": "stream",
          "text": [
            "we are learning \"string\" here\n"
          ]
        }
      ],
      "source": [
        "print('we are learning \"string\" here')"
      ]
    },
    {
      "cell_type": "code",
      "execution_count": null,
      "metadata": {
        "id": "d318dccc-cdac-4e28-82dd-aebe14e34008",
        "outputId": "dc636cab-87b5-49ad-bae6-63a39b3bd0cb"
      },
      "outputs": [
        {
          "name": "stdout",
          "output_type": "stream",
          "text": [
            "we are \n",
            "now on another line.\n"
          ]
        }
      ],
      "source": [
        "print(\"we are \\nnow on another line.\")"
      ]
    },
    {
      "cell_type": "code",
      "execution_count": null,
      "metadata": {
        "id": "bd3ff754-331e-4298-8770-eb0df134ef57",
        "outputId": "a8498e5d-dfc4-4c62-a2c9-6e6fdbcad9b5"
      },
      "outputs": [
        {
          "name": "stdout",
          "output_type": "stream",
          "text": [
            "c:\n",
            "ame\\drive\n"
          ]
        }
      ],
      "source": [
        "print(\"c:\\name\\drive\")"
      ]
    },
    {
      "cell_type": "markdown",
      "metadata": {
        "id": "aa328ec0-76c7-445b-8c70-83cd2f34dfea"
      },
      "source": [
        "# Data Structures in Python."
      ]
    },
    {
      "cell_type": "code",
      "execution_count": null,
      "metadata": {
        "id": "02e4c9f5-0ef2-4848-a7fb-dd7a5ef33117"
      },
      "outputs": [],
      "source": [
        "l = [1,2,4,55,'name',34.66,6,7,8]\n",
        "tup= (1,2,4,5,'id',34.433,True)\n",
        "dict = {'name':'jatin','age':20,'Branch':'AIML','sem':5}\n",
        "s  = {1,2,4,5,6}\n",
        "l2 = set(l)\n",
        "print(type(l))\n",
        "print(type(tup))\n",
        "print(type(dict))\n",
        "print(type(s))\n",
        "print(l2)"
      ]
    },
    {
      "cell_type": "code",
      "execution_count": null,
      "metadata": {
        "id": "2ee4fbe3-e6a2-49d1-89e0-bb255b4bbaf9",
        "outputId": "ee5e9fc6-2701-497d-8bf7-68d302a5e54e"
      },
      "outputs": [
        {
          "name": "stdout",
          "output_type": "stream",
          "text": [
            "[2, 4, 5]\n"
          ]
        }
      ],
      "source": [
        "l = [1,2,4,5,'name',6]\n",
        "print(l[1:4])  #SLICING."
      ]
    },
    {
      "cell_type": "markdown",
      "metadata": {
        "id": "66f5d4c4-9461-4bce-a740-9f8dc8ce7eeb"
      },
      "source": [
        "# Some function in list."
      ]
    },
    {
      "cell_type": "code",
      "execution_count": null,
      "metadata": {
        "id": "3d98d510-2727-4585-9d93-93cb66d11754",
        "outputId": "e06234aa-4fa2-4d8a-932c-45e3a4914255"
      },
      "outputs": [
        {
          "name": "stdout",
          "output_type": "stream",
          "text": [
            "[1, 2, 4, 5, 6, 7, 8, 89, 'name', 434]\n",
            "[1, 2, 4, 5, 300, 6, 7, 8, 89, 'name', 434]\n",
            "[1, 2, 4, 5, 300, 6, 7, 8, 89, 'name', 434, 'dict', 'tuple', 'set', 'list']\n"
          ]
        }
      ],
      "source": [
        "#Functions which are used to add an elements in a list.\n",
        "l = [1,2,4,5,6,7,8,89,'name']\n",
        "l.append(434)\n",
        "print(l)\n",
        "l.insert(4,300) #FIRST THE INDEX SHOULD BE MENTIONED.\n",
        "print(l)\n",
        "l2 = ['dict','tuple','set','list']\n",
        "l.extend(l2) #concatinates two lists.\n",
        "print(l)"
      ]
    },
    {
      "cell_type": "code",
      "execution_count": null,
      "metadata": {
        "id": "26b2370c-29dd-4b5c-9147-9c5d9a0cd760",
        "outputId": "887a0b3b-77fa-4c83-83ea-c94c6826ca99"
      },
      "outputs": [
        {
          "name": "stdout",
          "output_type": "stream",
          "text": [
            "[1, 4455, 23, 545, 65, 98]\n",
            "[1, 4455, 23, 545, 65]\n",
            "[]\n"
          ]
        }
      ],
      "source": [
        "# SOME FUNCTIONS TO REMOVE OR DELETE THE ELEMENTS FROM THE LIS.\n",
        "l = [1,2,4455,23,545,65,98]\n",
        "l.remove(2)  #REMOVES THE SPECIFIC ELEMENT FROM THE LIST.\n",
        "print(l)\n",
        "l.pop()  # REMOVES THE TOP ELEMENT FROM THE LIST.\n",
        "print(l)\n",
        "l.clear()  # CLEARS THE WHOLE LIST AND MAKE IT NULL.\n",
        "print(l)"
      ]
    },
    {
      "cell_type": "markdown",
      "metadata": {
        "id": "0f433441-9866-4fd7-bd18-94a3e5d872d7"
      },
      "source": [
        "* More important Functions for arranging the list."
      ]
    },
    {
      "cell_type": "code",
      "execution_count": null,
      "metadata": {
        "id": "1fe6d875-0676-46be-b240-2de49777a747",
        "outputId": "03db5f06-a7e4-4869-898c-7c1faeb9ef9f"
      },
      "outputs": [
        {
          "name": "stdout",
          "output_type": "stream",
          "text": [
            "[1, 2, 2, 2, 2, 23, 65, 65, 98, 98, 545, 545, 4455]\n",
            "[4455, 545, 545, 98, 98, 65, 65, 23, 2, 2, 2, 2, 1]\n",
            "4\n",
            "2\n",
            "2\n",
            "1\n"
          ]
        }
      ],
      "source": [
        "l = [1,2,4455,2,2,2,23,545,65,98,545,65,98]\n",
        "l.sort() #SORTS THE LIST IN ASSENDING ORDER.\n",
        "print(l)\n",
        "l.reverse()  #REVERSES THE LIST.\n",
        "print(l)\n",
        "print(l.count(2))\n",
        "print(l.count(545))\n",
        "print(l.count(98))\n",
        "print(l.count(1))"
      ]
    },
    {
      "cell_type": "code",
      "execution_count": null,
      "metadata": {
        "id": "28ef85cc-f0cf-49bf-b0f2-6d8afd8a8c8f",
        "outputId": "0d7f00f1-4391-4507-88d7-4607c285e2be"
      },
      "outputs": [
        {
          "name": "stdout",
          "output_type": "stream",
          "text": [
            "{'oldkey': 'oldValue', 'name': 'smarath'}\n",
            "{'name': 'smarath'}\n"
          ]
        }
      ],
      "source": [
        "d = {'oldkey':'oldValue','name':'smarath'}\n",
        "print(d)\n",
        "del d['oldkey']  #del IS A DESTRUCTOR IN PYTHON AND INIT IS THE CONSTRUCTOR.\n",
        "print(d)"
      ]
    },
    {
      "cell_type": "markdown",
      "metadata": {
        "id": "1e9d6084-806e-4d13-9b27-c776eb20ef07"
      },
      "source": [
        "* WAP when given 2 lists find the common elements in btw."
      ]
    },
    {
      "cell_type": "code",
      "execution_count": null,
      "metadata": {
        "id": "385c5274-ea8d-4237-9598-9b1807484bb9",
        "outputId": "5529d38d-b0bd-442a-9669-d8aef6a4b1e4"
      },
      "outputs": [
        {
          "name": "stdin",
          "output_type": "stream",
          "text": [
            "Enter the size of the list: 2\n",
            "Enter the 0th element: 1\n",
            "Enter the 1th element: 2\n",
            "Enter the size of the list2: 3\n",
            "Enter the 0th element: 1\n",
            "Enter the 1th element: 2\n",
            "Enter the 2th element: 3\n"
          ]
        },
        {
          "name": "stdout",
          "output_type": "stream",
          "text": [
            "[]\n"
          ]
        }
      ],
      "source": [
        "size = int(input(\"Enter the size of the list:\"))\n",
        "lst = []\n",
        "for i in range(size):\n",
        "    ele = input(f\"Enter the {i}th element:\")\n",
        "    lst.append(ele)\n",
        "size2 = int(input(\"Enter the size of the list2:\"))\n",
        "lst2 = []\n",
        "for j in range(size2):\n",
        "    ele2 = input(f\"Enter the {j}th element:\")\n",
        "    lst.append(ele2)\n",
        "# print(lst)\n",
        "lst3=[]\n",
        "for c in lst:\n",
        "    for d in lst2:\n",
        "        if(d==c):\n",
        "            lst3.append(d)\n",
        "print(lst3)"
      ]
    },
    {
      "cell_type": "code",
      "execution_count": null,
      "metadata": {
        "id": "1d5b5d55-fa29-416a-a2b0-6f6c1a460e8a",
        "outputId": "9bcf86d0-b153-4e79-e54b-abd003e64a2a"
      },
      "outputs": [
        {
          "name": "stdout",
          "output_type": "stream",
          "text": [
            "[2, 4, 6]\n"
          ]
        }
      ],
      "source": [
        "lst = [1,2,3,4,5,6]\n",
        "lst1 = [2,4,6,7,8,9]\n",
        "lst2= []\n",
        "for i in lst:\n",
        "    for j in lst1:\n",
        "        if(i==j):\n",
        "           lst2.append(i)\n",
        "print(lst2)"
      ]
    },
    {
      "cell_type": "code",
      "execution_count": null,
      "metadata": {
        "id": "3b5af955-a2b3-4677-b789-450e32f42d5d"
      },
      "outputs": [],
      "source": []
    },
    {
      "cell_type": "markdown",
      "metadata": {
        "id": "963701ce-b0ad-400d-b402-5aa780b444f3"
      },
      "source": [
        "# Strings"
      ]
    },
    {
      "cell_type": "code",
      "execution_count": null,
      "metadata": {
        "id": "7a5cee3c-7783-4519-8c6f-339f64c87247",
        "outputId": "fc5928a9-36df-4e58-bd3a-8dd7d2b7b593"
      },
      "outputs": [
        {
          "name": "stdout",
          "output_type": "stream",
          "text": [
            "Hello hello hello\n"
          ]
        }
      ],
      "source": [
        "my_str = 'Hello'\n",
        "my_str2 = \"hello\"\n",
        "my_str3 = \"\"\"hello\"\"\"\n",
        "print(my_str,my_str2,my_str3)"
      ]
    },
    {
      "cell_type": "code",
      "execution_count": null,
      "metadata": {
        "id": "26e6d752-b566-4113-81cd-2cc22e02daaa",
        "outputId": "0a55fd1e-9c2a-4218-9873-700388435454"
      },
      "outputs": [
        {
          "name": "stdin",
          "output_type": "stream",
          "text": [
            "Enter your name: jatin asip\n"
          ]
        },
        {
          "name": "stdout",
          "output_type": "stream",
          "text": [
            "jatin asip\n"
          ]
        }
      ],
      "source": [
        "my_str = input(\"Enter your name:\")\n",
        "print(my_str)"
      ]
    },
    {
      "cell_type": "markdown",
      "metadata": {
        "id": "4833edd8-70a7-4854-8318-a1a2ac0ab7f2"
      },
      "source": [
        "# string slicing"
      ]
    },
    {
      "cell_type": "code",
      "execution_count": null,
      "metadata": {
        "id": "a838da1d-05f8-4e5d-8626-b4869dc46939",
        "outputId": "5f4fba71-aef0-47ad-e5ea-29ee7c961956"
      },
      "outputs": [
        {
          "name": "stdout",
          "output_type": "stream",
          "text": [
            "o ed o\n",
            " to explore python\n",
            "hello, rea\n",
            "!!nohtyp erolpxe ot ydaer ,olleh\n",
            "['hello,', 'ready', 'to', 'explore', 'python!!']\n",
            "['hell', ', ready t', ' expl', 're pyth', 'n!!']\n",
            "['he', '', 'o, ready to exp', 'ore python!!']\n"
          ]
        }
      ],
      "source": [
        "my_str = \"hello, ready to explore python!!\"\n",
        "#[starting pnt : ending : step]\n",
        "print(my_str[4:16:2])# o ed o\n",
        "print(my_str[12:30])# to explore python\n",
        "print(my_str[:10])#0-9 index will execute.\n",
        "print(my_str[::-1])\n",
        "print(my_str.split(' '))\n",
        "print(my_str.split('o'))\n",
        "\n",
        "print(my_str.split('l'))"
      ]
    },
    {
      "cell_type": "markdown",
      "metadata": {
        "id": "6aa74f24-9cb5-454b-bad4-d5c9638cb43b"
      },
      "source": [
        "WAP to count the number of words in a given string"
      ]
    },
    {
      "cell_type": "code",
      "execution_count": null,
      "metadata": {
        "id": "24244f49-90b5-4b37-9e1e-77b44b6fd217",
        "outputId": "6df9e5d8-511e-4f22-b56c-98af73f0f193"
      },
      "outputs": [
        {
          "name": "stdout",
          "output_type": "stream",
          "text": [
            "The number of words are:4\n"
          ]
        }
      ],
      "source": [
        "my_str = \"how are you jatin\"\n",
        "space_count = 1\n",
        "for i in my_str:\n",
        "    if (i== \" \"):\n",
        "     space_count +=1\n",
        "print(f\"The number of words are:{space_count}\")\n"
      ]
    },
    {
      "cell_type": "code",
      "execution_count": null,
      "metadata": {
        "id": "33fcbcc9-c39c-4d36-aeb5-96a5688cedd5",
        "outputId": "a66f0cc8-9f9a-4671-a1b6-526055eb9707"
      },
      "outputs": [
        {
          "name": "stdout",
          "output_type": "stream",
          "text": [
            "The number of words are:5\n"
          ]
        }
      ],
      "source": [
        "# my_str = \"how are you jatin\"\n",
        "# my_str2 = my_str.split(' ')\n",
        "# my_set = set(my_str2)\n",
        "# space_count = 1\n",
        "# for i in my_set:\n",
        "\n",
        "#      space_count +=1\n",
        "# print(f\"The number of words are:{space_count}\")\n"
      ]
    },
    {
      "cell_type": "markdown",
      "metadata": {
        "id": "85d2da3b-7dfa-4d27-9e29-1eceb07db5da"
      },
      "source": [
        "2. WAP to reverse a given string withoyut using slicing or inbuilt techniques.\n",
        "3. METHOD =1"
      ]
    },
    {
      "cell_type": "code",
      "execution_count": null,
      "metadata": {
        "id": "5ee0ecb3-99a2-4113-8d9c-ef1fa5cac624",
        "outputId": "894ae570-c55d-46a8-c73a-bf8b40b0e772"
      },
      "outputs": [
        {
          "name": "stdin",
          "output_type": "stream",
          "text": [
            "Enter the string: Jatin\n"
          ]
        },
        {
          "name": "stdout",
          "output_type": "stream",
          "text": [
            "<class 'str'>\n",
            "nitaJ\n",
            "<class 'str'>\n",
            "DONE\n"
          ]
        }
      ],
      "source": [
        "my_str = input(\"Enter the string:\")\n",
        "n = len(my_str)\n",
        "print(type(my_str))\n",
        "rev_str = \"\"\n",
        "for i in range(n-1,-1,-1):\n",
        "    rev_str += my_str[i]\n",
        "print(rev_str)\n",
        "print(type(rev_str))\n",
        "\n",
        "print(\"DONE\")\n"
      ]
    },
    {
      "cell_type": "code",
      "execution_count": null,
      "metadata": {
        "id": "3b053ace-526e-4dcc-8b37-db0bc72d5270",
        "outputId": "81efef14-fa38-439f-c2da-8675f38582f5"
      },
      "outputs": [
        {
          "name": "stdout",
          "output_type": "stream",
          "text": [
            "['n', 'o', 'h', 't', 'y', 'P']\n"
          ]
        }
      ],
      "source": [
        "my_str = \"Python\"\n",
        "my_list = list(my_str)\n",
        "i = 0\n",
        "j = len(my_str)-1\n",
        "while(i<=j):\n",
        "   my_list[i],my_list[j] = my_list[j],my_list[i]\n",
        "   i+=1\n",
        "   j-=1\n",
        "# rev_str = str(my_list)\n",
        "# print(rev_str)\n",
        "print(str(my_list))\n"
      ]
    },
    {
      "cell_type": "markdown",
      "metadata": {
        "id": "531d3a2c-e888-40c4-870a-4036e9a34aab"
      },
      "source": [
        "WAP to count the number of duplicates in a given string.\n"
      ]
    },
    {
      "cell_type": "code",
      "execution_count": null,
      "metadata": {
        "id": "3d997c26-0b89-4c37-b36f-8423bc193bfc",
        "outputId": "e775ebd4-d801-46dd-d8a8-f199e89ce268"
      },
      "outputs": [
        {
          "name": "stdout",
          "output_type": "stream",
          "text": [
            "No. of duplicates:12\n"
          ]
        }
      ],
      "source": [
        "str1 = \"Python Programming\"\n",
        "count = 0\n",
        "for j in str1:\n",
        "    for i in str1:\n",
        "            if(j==i):\n",
        "              count+=1\n",
        "print(f\"No. of duplicates:{count-len(str1)}\")"
      ]
    },
    {
      "cell_type": "code",
      "execution_count": null,
      "metadata": {
        "id": "c80c4928-91f4-4115-8a0c-9d746b3f05ef",
        "outputId": "738f5b7f-73b4-4be4-e7f5-53fee5c08776"
      },
      "outputs": [
        {
          "name": "stdout",
          "output_type": "stream",
          "text": [
            "The no. of duplicates are:12\n"
          ]
        }
      ],
      "source": [
        "str1 = \"Python Programming\"\n",
        "count = 0\n",
        "for i in range(0,len(str1)):\n",
        "    for j in range(0,len(str1)):\n",
        "        if(i==j):\n",
        "            continue\n",
        "        elif(str1[i]==str1[j]):\n",
        "            count +=1\n",
        "print(f\"The no. of duplicates are:{count}\")"
      ]
    },
    {
      "cell_type": "code",
      "execution_count": null,
      "metadata": {
        "id": "7b8c3495-f760-4c64-9a9d-117dedcc2aff",
        "outputId": "388a4da4-6ef2-47e1-e7c2-9ff89ab3f36b"
      },
      "outputs": [
        {
          "name": "stdout",
          "output_type": "stream",
          "text": [
            "6\n"
          ]
        }
      ],
      "source": [
        "str1 = \"python programming\"\n",
        "count = 0\n",
        "for i in range(0,len(str1)):\n",
        "    for j in range(i+1,len(str1)):\n",
        "        if (str1[i]==str1[j]):\n",
        "            count +=1\n",
        "print(count)"
      ]
    },
    {
      "cell_type": "markdown",
      "metadata": {
        "id": "865b75d6-339b-498b-b8ee-1a18644351f9"
      },
      "source": [
        "QUESTIONS:-\n",
        "1. WAP to check a string is palindrome or not\n",
        "2. WAP to check a string is anagram or not."
      ]
    },
    {
      "cell_type": "code",
      "execution_count": null,
      "metadata": {
        "id": "2274f380-7ec1-470d-aed3-4ff35ab680eb",
        "outputId": "147f9f89-9a90-416a-d9d3-35db4d4f7ee3"
      },
      "outputs": [
        {
          "name": "stdout",
          "output_type": "stream",
          "text": [
            "Variable      Type    Data/Info\n",
            "-------------------------------\n",
            "a             int     5\n",
            "count         int     6\n",
            "i             int     17\n",
            "j             int     17\n",
            "list1         list    n=8\n",
            "my_list       list    n=6\n",
            "my_set        set     {'you', 'jatin', 'how', 'are'}\n",
            "my_str        str     Python\n",
            "my_str2       list    n=4\n",
            "my_str3       str     hello\n",
            "n             int     5\n",
            "rev_str       str     ['n', 'o', 'h', 't', 'y', 'P']\n",
            "space_count   int     5\n",
            "str1          str     python programming\n"
          ]
        }
      ],
      "source": [
        "%whos"
      ]
    },
    {
      "cell_type": "markdown",
      "metadata": {
        "id": "74fff06c-f7cc-4342-b71b-cf164180e30f"
      },
      "source": [
        "* Palindrome number"
      ]
    },
    {
      "cell_type": "code",
      "execution_count": null,
      "metadata": {
        "id": "9923edf7-5af1-4866-8a3d-01cce196d481",
        "outputId": "725be6da-c7a6-4668-9842-7a04332659bd"
      },
      "outputs": [
        {
          "name": "stdin",
          "output_type": "stream",
          "text": [
            "Enter the string: madam\n"
          ]
        },
        {
          "name": "stdout",
          "output_type": "stream",
          "text": [
            "The string is Palindrome.\n"
          ]
        }
      ],
      "source": [
        "str = input(\"Enter the string:\")\n",
        "rev_str = \"\"\n",
        "n = len(str)\n",
        "for i in range(n-1,-1,-1):\n",
        "    rev_str += str[i]\n",
        "if(rev_str == str):\n",
        "    print(f\"The string is Palindrome.\")\n",
        "else:\n",
        "    print(f\"The string is not Palindrome.\")"
      ]
    },
    {
      "cell_type": "markdown",
      "metadata": {
        "id": "33e47d6d-7dad-40dc-9a9a-8d667f66d23c"
      },
      "source": [
        "# Lists"
      ]
    },
    {
      "cell_type": "code",
      "execution_count": null,
      "metadata": {
        "id": "4c03ac6c-568c-4c95-9e0f-d32772d1b79d",
        "outputId": "ff520395-3b85-4a1c-c91f-6b02a912cc03"
      },
      "outputs": [
        {
          "name": "stdout",
          "output_type": "stream",
          "text": [
            "[19, 10.5, False, 'python', (4+3j), 45]\n",
            "<class 'list'>\n"
          ]
        }
      ],
      "source": [
        "x = [19,10.5,False,\"python\",(4+3j)]\n",
        "x.append(45)\n",
        "print(x)\n",
        "print(type(x))"
      ]
    },
    {
      "cell_type": "markdown",
      "metadata": {
        "id": "2adc116c-ff94-4ec6-84c4-0e603dbfef50"
      },
      "source": [
        "Functions in List."
      ]
    },
    {
      "cell_type": "code",
      "execution_count": null,
      "metadata": {
        "id": "981df78a-be6f-4077-b6ed-11ab07d4e706",
        "outputId": "161f6be4-7c53-44f4-ead9-11602a1e04ab"
      },
      "outputs": [
        {
          "name": "stdout",
          "output_type": "stream",
          "text": [
            "Before append function: [10, 20, 30]\n",
            "After append function. [10, 20, 30, 40, 50]\n",
            "After insert function. [10, 20, 60, 30, 40, 50]\n",
            "After using extend function. [10, 20, 60, 30, 40, 50, 70, 80, 90]\n"
          ]
        }
      ],
      "source": [
        "#ADDING ELEMENTS IN LIST USING THREE DIFFERENT FUNCTIONS.\n",
        "lst = [10,20,30]\n",
        "#using append function--> add the element at the end of list.\n",
        "print(\"Before append function:\",lst)\n",
        "lst.append(40)\n",
        "lst.append(50)\n",
        "print(\"After append function.\",lst)\n",
        "#using insert function--> add the element at the given position.\n",
        "lst.insert(2,60)\n",
        "print(\"After insert function.\",lst)\n",
        "#using extend function-->adds iterables\n",
        "lst1 = [70,80,90]\n",
        "lst.extend(lst1)\n",
        "print(\"After using extend function.\",lst)"
      ]
    },
    {
      "cell_type": "markdown",
      "metadata": {
        "id": "f75e5908-8cb1-4089-87dd-8ed496bf52fc"
      },
      "source": [
        "Functions to remove the data from list"
      ]
    },
    {
      "cell_type": "code",
      "execution_count": null,
      "metadata": {
        "id": "bd94fe17-f2ec-4333-88ec-f2af2e944fc2",
        "outputId": "ced24255-e556-4fcb-9597-7e4e758a584c"
      },
      "outputs": [
        {
          "name": "stdout",
          "output_type": "stream",
          "text": [
            "Before delete function: [10, 20, 30, 40, 50, 50, 60, 70]\n",
            "After remove function: [10, 20, 30, 40, 50, 60, 70]\n",
            "After pop function: [10, 20, 30, 40, 50, 60]\n",
            "List after clear function []\n"
          ]
        }
      ],
      "source": [
        "lst = [10,20,30,40,50,50,60,70]\n",
        "print(\"Before delete function:\",lst)\n",
        "#using remove function--> Delete the specific element.\n",
        "lst.remove(50)\n",
        "print(\"After remove function:\",lst)\n",
        "\n",
        "#using pop()--> deletes the data from the end.\n",
        "lst.pop()\n",
        "print(\"After pop function:\",lst)\n",
        "\n",
        "#using clear()--> delete all the data from list.\n",
        "lst.clear()\n",
        "print(\"List after clear function\",lst)"
      ]
    },
    {
      "cell_type": "markdown",
      "metadata": {
        "id": "501b9619-2581-401b-8750-162f2349a7fe"
      },
      "source": [
        "More important Functions for arranging the list."
      ]
    },
    {
      "cell_type": "code",
      "execution_count": null,
      "metadata": {
        "id": "1b0a5ec0-a737-4ba4-acfa-6df330728731",
        "outputId": "fc9914d7-91b1-48c3-e81e-e98eb8a2e987"
      },
      "outputs": [
        {
          "name": "stdout",
          "output_type": "stream",
          "text": [
            "Before sorting: [1, 4, 53, 6, 3, 9]\n",
            "After sorting: [1, 3, 4, 6, 9, 53]\n",
            "After reverse function [53, 9, 6, 4, 3, 1]\n"
          ]
        }
      ],
      "source": [
        "lst = [1,4,53,6,3,9]\n",
        "print(\"Before sorting:\",lst)\n",
        "\n",
        "#using sort()--> used to sort the list in increasing order.\n",
        "lst.sort()\n",
        "print(\"After sorting:\",lst)\n",
        "\n",
        "#using reverse ()--> used to reverse the list.\n",
        "lst.reverse()\n",
        "print(\"After reverse function\",lst)"
      ]
    },
    {
      "cell_type": "code",
      "execution_count": null,
      "metadata": {
        "id": "d329edf4-4d1e-49e5-ab5d-16aa8e690fc9",
        "outputId": "c3fa46cc-51b3-4d27-d82a-ab14ccb9d81b"
      },
      "outputs": [
        {
          "name": "stdout",
          "output_type": "stream",
          "text": [
            "7\n",
            "4\n",
            "1\n",
            "1\n",
            "1\n"
          ]
        }
      ],
      "source": [
        "lst = [1,1,1,1,1,1,2,2,2,3,4,5,6,1,2]\n",
        "print(lst.count(1)) # gives the freq of any specific number.\n",
        "print(lst.count(2))\n",
        "print(lst.count(3))\n",
        "print(lst.count(4))\n",
        "print(lst.count(5))"
      ]
    },
    {
      "cell_type": "markdown",
      "metadata": {
        "id": "5414559d-5113-4852-a2a7-4ba968ba1513"
      },
      "source": [
        "Taking list from user"
      ]
    },
    {
      "cell_type": "code",
      "execution_count": null,
      "metadata": {
        "id": "a02f06a7-66f7-4882-b23a-510eece4271a",
        "outputId": "b4ca1aa9-498a-42bb-cff3-a3250a0b88b1"
      },
      "outputs": [
        {
          "name": "stdin",
          "output_type": "stream",
          "text": [
            "Enter the size of the list: 5\n",
            "Enter the element: 1\n",
            "Enter the element: 2\n",
            "Enter the element: 3\n",
            "Enter the element: 4\n",
            "Enter the element: 5\n"
          ]
        },
        {
          "name": "stdout",
          "output_type": "stream",
          "text": [
            "[1, 2, 3, 4, 5]\n"
          ]
        }
      ],
      "source": [
        "#WAP to create a list.\n",
        "size = int(input(\"Enter the size of the list:\"))\n",
        "lst = []\n",
        "for i in range(size):\n",
        "    elem = int(input(\"Enter the element:\"))\n",
        "    lst.append(elem)\n",
        "print(lst)"
      ]
    },
    {
      "cell_type": "code",
      "execution_count": null,
      "metadata": {
        "id": "9c2399dc-8760-4e18-a9c1-f6823dc107e0",
        "outputId": "a2ef24a9-7cd1-4bf0-a0e3-75c583a0fc72"
      },
      "outputs": [
        {
          "name": "stdin",
          "output_type": "stream",
          "text": [
            "Enter the row size: 2\n",
            "Enter the column size: 3\n",
            "Enter the element: 1\n",
            "Enter the element: 2\n",
            "Enter the element: 3\n",
            "Enter the element: 4\n",
            "Enter the element: 5\n",
            "Enter the element: 6\n"
          ]
        },
        {
          "name": "stdout",
          "output_type": "stream",
          "text": [
            "[[0, 1, 2, 3, 4], 1, 2, 3, 4, 5, 6]\n"
          ]
        }
      ],
      "source": [
        "#WAP to create a 2D list.\n",
        "row = int(input(\"Enter the row size:\"))\n",
        "col = int(input(\"Enter the column size:\"))\n",
        "lst = [[i for i in range(5)]]\n",
        "for i in range(row):\n",
        "    for j in range(col):\n",
        "        ele = int(input(\"Enter the element:\"))\n",
        "        lst.append(ele)\n",
        "print(lst)"
      ]
    },
    {
      "cell_type": "markdown",
      "metadata": {
        "id": "b4b22f2f-ff0b-4691-bc7d-595cf1c9d536"
      },
      "source": [
        "1. WAP to FIND THE LENGTH OF THE GIVEN LIST."
      ]
    },
    {
      "cell_type": "code",
      "execution_count": null,
      "metadata": {
        "id": "f0871af4-8567-442e-95bd-e5ae7f543f19",
        "outputId": "71607b7b-b4f5-4903-c693-c9c65a96d162"
      },
      "outputs": [
        {
          "name": "stdout",
          "output_type": "stream",
          "text": [
            "6\n"
          ]
        }
      ],
      "source": [
        "lst = [1,2,3,4,5,6]\n",
        "# n = len(lst)\n",
        "count = 0\n",
        "for i in lst:\n",
        "    count +=1\n",
        "print(count)"
      ]
    },
    {
      "cell_type": "markdown",
      "metadata": {
        "id": "73105f0e-faf5-4e8a-9e49-0ba5ca4cb994"
      },
      "source": [
        "2. WAP to calculate the sum of all the elements in the list.\n"
      ]
    },
    {
      "cell_type": "code",
      "execution_count": null,
      "metadata": {
        "id": "47697f6e-564b-4aab-8f69-0f28b56fb11a",
        "outputId": "5498c5cf-027e-434d-866d-80eba01a3ad2"
      },
      "outputs": [
        {
          "name": "stdin",
          "output_type": "stream",
          "text": [
            "Enter the size of list: 5\n",
            "Enter the elements: 2\n",
            "Enter the elements: 3\n",
            "Enter the elements: 4\n",
            "Enter the elements: 1\n",
            "Enter the elements: 2\n"
          ]
        },
        {
          "name": "stdout",
          "output_type": "stream",
          "text": [
            "12\n"
          ]
        }
      ],
      "source": [
        "size = int(input(\"Enter the size of list:\"))\n",
        "lst =[]\n",
        "sum = 0\n",
        "for i in range(size):\n",
        "    ele = int(input(\"Enter the elements:\"))\n",
        "    lst.append(ele)\n",
        "#Approach 1:\n",
        "for j in lst:\n",
        "    sum = sum + j\n",
        "print(sum)"
      ]
    },
    {
      "cell_type": "markdown",
      "metadata": {
        "id": "fd2334c6-f92d-40c1-b068-a39301127d07"
      },
      "source": [
        "SETS IN PYTHON"
      ]
    },
    {
      "cell_type": "code",
      "execution_count": null,
      "metadata": {
        "id": "13ce3af0-def1-4365-8ad4-1cb1205636b5",
        "outputId": "0ec2a77a-e494-4466-d8d8-045d6c1738d0"
      },
      "outputs": [
        {
          "name": "stdout",
          "output_type": "stream",
          "text": [
            "Before add method: {1, 2, 3, 4, 5, 6}\n",
            "After add method: {1, 2, 3, 4, 5, 6, 10}\n",
            "After update function: {1, 2, 3, 4, 5, 6, 10, 20, 21, 22}\n"
          ]
        }
      ],
      "source": [
        "#ADD AND UPDATE FUNCTION.\n",
        "set1 = {1,2,3,4,5,6}\n",
        "print(\"Before add method:\",set1)\n",
        "#using add method-->\n",
        "set1.add(10)\n",
        "print(\"After add method:\",set1)\n",
        "\n",
        "#Using update()--> adds iterable.\n",
        "set2 = {20,21,22}\n",
        "set1.update(set2)\n",
        "print(\"After update function:\",set1)"
      ]
    },
    {
      "cell_type": "code",
      "execution_count": null,
      "metadata": {
        "id": "5bb89e91-9d04-4913-acb8-f4cd6eecde8c",
        "outputId": "96652061-3342-4702-9a2f-3e62c19b6791"
      },
      "outputs": [
        {
          "name": "stdout",
          "output_type": "stream",
          "text": [
            "{1, 2, 3, 4}\n"
          ]
        }
      ],
      "source": [
        "set1 = {1,1,2,2,3,4,3,1,1,2}\n",
        "print(set1)\n",
        "#there can be no duplicates."
      ]
    },
    {
      "cell_type": "code",
      "execution_count": null,
      "metadata": {
        "id": "4ad28e20-826d-436d-bbd3-cb394cbe73ed",
        "outputId": "9d2bffe6-603d-4bff-fa74-2d72ad12900e"
      },
      "outputs": [
        {
          "name": "stdout",
          "output_type": "stream",
          "text": [
            "{1, 2, 4, 5, 7, 9}\n"
          ]
        }
      ],
      "source": [
        "set1 = {1,4,2,5,7,9}\n",
        "print(set1)\n",
        "#always gives data in sorted order."
      ]
    },
    {
      "cell_type": "code",
      "execution_count": null,
      "metadata": {
        "id": "1e94a6f7-15e6-4fda-8fcc-2722ba0eb234",
        "outputId": "87e0de64-2a91-41a0-c807-4b13cb760164"
      },
      "outputs": [
        {
          "name": "stdout",
          "output_type": "stream",
          "text": [
            "{1, 3, 4, 5, 9}\n",
            "{1, 4, 5, 9}\n",
            "set()\n"
          ]
        }
      ],
      "source": [
        "set1 = {1,5,8,9,3,4}\n",
        "\n",
        "set1.remove(8)\n",
        "print(set1)\n",
        "\n",
        "set1.discard(3)\n",
        "print(set1)\n",
        "\n",
        "set1.clear()\n",
        "print(set1)"
      ]
    },
    {
      "cell_type": "code",
      "execution_count": null,
      "metadata": {
        "id": "a7f3350e-f869-4e5b-a5c0-7831b6b4c2a6",
        "outputId": "280211b8-243a-442e-a66e-70bb3b6f5709"
      },
      "outputs": [
        {
          "data": {
            "text/plain": [
              "{1, 2, 3, 4, 5, 6, 7}"
            ]
          },
          "execution_count": 92,
          "metadata": {},
          "output_type": "execute_result"
        }
      ],
      "source": [
        "set1 = {1,2,3,4}\n",
        "set2 = {3,4,5,6,7}\n",
        "set1.union(set2)"
      ]
    },
    {
      "cell_type": "code",
      "execution_count": null,
      "metadata": {
        "id": "05c890ce-1827-4a69-9637-81fc7099915a",
        "outputId": "b5272d59-9ab5-4218-cb8a-1f5ad5eb7837"
      },
      "outputs": [
        {
          "data": {
            "text/plain": [
              "{1, 2}"
            ]
          },
          "execution_count": 93,
          "metadata": {},
          "output_type": "execute_result"
        }
      ],
      "source": [
        "set1.difference(set2)"
      ]
    },
    {
      "cell_type": "code",
      "execution_count": null,
      "metadata": {
        "id": "0588800a-daaa-4136-878e-f0cd647af3cf",
        "outputId": "1db26e00-bf0f-480a-a587-440ff69b1960"
      },
      "outputs": [
        {
          "data": {
            "text/plain": [
              "{1, 2, 5, 6, 7}"
            ]
          },
          "execution_count": 94,
          "metadata": {},
          "output_type": "execute_result"
        }
      ],
      "source": [
        "set1.symmetric_difference(set2)"
      ]
    },
    {
      "cell_type": "code",
      "execution_count": null,
      "metadata": {
        "id": "e33a9d54-27fc-4827-adc2-d749ced8fe22",
        "outputId": "9ab77a91-8082-4bb7-8bb7-6b845eac63fe"
      },
      "outputs": [
        {
          "data": {
            "text/plain": [
              "{3, 4}"
            ]
          },
          "execution_count": 95,
          "metadata": {},
          "output_type": "execute_result"
        }
      ],
      "source": [
        "set1.intersection(set2)"
      ]
    },
    {
      "cell_type": "markdown",
      "metadata": {
        "id": "d16b9e6a-b04d-43f5-8e27-fb8195b9a078"
      },
      "source": [
        "1. [ ]--> list\n",
        "2. { }-->Dictionary\n",
        "3. ( )--> tuple"
      ]
    },
    {
      "cell_type": "code",
      "execution_count": null,
      "metadata": {
        "id": "35ee78eb-7753-4df2-9c2a-3e15c513b7b9",
        "outputId": "e13998e9-9c34-4d07-f650-4bf14531ef9d"
      },
      "outputs": [
        {
          "name": "stdin",
          "output_type": "stream",
          "text": [
            "Enter the size: 5\n",
            "Enter the elements : 2\n",
            "Enter the elements : 3\n",
            "Enter the elements : 1\n",
            "Enter the elements : 6\n",
            "Enter the elements : 3\n"
          ]
        },
        {
          "name": "stdout",
          "output_type": "stream",
          "text": [
            "{1, 2, 3, 6}\n"
          ]
        }
      ],
      "source": [
        "size = int(input(\"Enter the size:\"))\n",
        "my_set = set()\n",
        "for i in range(size):\n",
        "    ele = int(input(\"Enter the elements :\"))\n",
        "    my_set.add(ele)\n",
        "print(my_set)"
      ]
    },
    {
      "cell_type": "markdown",
      "metadata": {
        "id": "39ec8d49-371f-49c7-8a7a-68c16a0a19fb"
      },
      "source": [
        "3. WAP to remove all occurance of a specific elements."
      ]
    },
    {
      "cell_type": "code",
      "execution_count": null,
      "metadata": {
        "id": "026e431e-e117-4038-b6c6-15e5fbe0b40b",
        "outputId": "024ecc78-4dc2-469f-ff0d-dbe4a008499a"
      },
      "outputs": [
        {
          "name": "stdin",
          "output_type": "stream",
          "text": [
            "Enter the size: 4\n",
            "Enter the element: 1\n",
            "Enter the element: 2\n",
            "Enter the element: 3\n",
            "Enter the element: 4\n",
            "Enter the element to be removed 3\n"
          ]
        },
        {
          "name": "stdout",
          "output_type": "stream",
          "text": [
            "[1, 2, 4]\n"
          ]
        }
      ],
      "source": [
        "size = int(input(\"Enter the size:\"))\n",
        "\n",
        "lst=[]\n",
        "new_lst=[]\n",
        "for i in range(size):\n",
        "    ele = int(input(\"Enter the element:\"))\n",
        "    lst.append(ele)\n",
        "\n",
        "key = int(input(\"Enter the element to be removed\"))\n",
        "for i in lst:\n",
        "    if (key!=i):\n",
        "        new_lst.append(i)\n",
        "print(new_lst)"
      ]
    },
    {
      "cell_type": "markdown",
      "metadata": {
        "id": "7972e572-2589-4511-a20a-7ac619b426d7"
      },
      "source": [
        "4. WAP when given 2 lists find the common elements in btw."
      ]
    },
    {
      "cell_type": "code",
      "execution_count": null,
      "metadata": {
        "id": "60e63439-bb2b-48bb-9e25-bdc8c9efbbd3",
        "outputId": "ef5a71d5-8626-4011-8d1e-b9621a714b19"
      },
      "outputs": [
        {
          "name": "stdout",
          "output_type": "stream",
          "text": [
            "[2, 3, 4, 6]\n"
          ]
        }
      ],
      "source": [
        "lst1 = [2,3,4,5,6,1]\n",
        "lst2 = [3,4,6,7,9,8,2,10]\n",
        "newlst = []\n",
        "for i in lst1:\n",
        "    for j in lst2:\n",
        "        if(i==j):\n",
        "          newlst.append(j)\n",
        "print(newlst)"
      ]
    },
    {
      "cell_type": "markdown",
      "metadata": {
        "id": "ba2b4950-18b3-4c29-93d1-d88ae7177f62"
      },
      "source": [
        "5. WAP where you have given a list of words count the freq of each word"
      ]
    },
    {
      "cell_type": "code",
      "execution_count": null,
      "metadata": {
        "id": "93ef458c-d94e-4313-8cc3-033c0827e472",
        "outputId": "d64f68e4-e976-4549-e08f-c7d1216b0279"
      },
      "outputs": [
        {
          "name": "stdout",
          "output_type": "stream",
          "text": [
            "is   1\n",
            "red   1\n",
            "an   1\n",
            "apple   1\n",
            "a   1\n",
            "day   1\n",
            "keeps   1\n",
            "doctor   1\n",
            "away   1\n"
          ]
        }
      ],
      "source": [
        "lst = [\"apple\",\"is\",\"red\",\"an\",\"apple\",\"a\",\"day\",\"keeps\",\"doctor\",\"away\"]\n",
        "j=1\n",
        "while(j<len(lst)):\n",
        "    count = 1\n",
        "\n",
        "    for i in range(j+1,len(lst)):\n",
        "      if(lst[j]==lst[i]):\n",
        "         count += 1\n",
        "    print(lst[j],\" \",count)\n",
        "    j+=1\n"
      ]
    },
    {
      "cell_type": "markdown",
      "metadata": {
        "id": "d429c2b0-9815-4d7e-933b-ebd1ae228fb8"
      },
      "source": [
        "* ANAGRAM PROBLEM"
      ]
    },
    {
      "cell_type": "code",
      "execution_count": null,
      "metadata": {
        "id": "0398e108-a52c-40e3-999a-505e9b56972c",
        "outputId": "cb26a18e-3dc0-495e-df33-2f4738a63353"
      },
      "outputs": [
        {
          "name": "stdin",
          "output_type": "stream",
          "text": [
            "Enter the first word:  ujra\n",
            "Enter the second word:  uajr\n"
          ]
        },
        {
          "name": "stdout",
          "output_type": "stream",
          "text": [
            "The words ujra and uajr are anagrams.\n"
          ]
        }
      ],
      "source": [
        "#USING LIST METHOD.\n",
        "word1 = input(\"Enter the first word: \")\n",
        "word2 = input(\"Enter the second word: \")\n",
        "\n",
        "\n",
        "new1 = list(word1)\n",
        "new2 = list(word2)\n",
        "new1.sort()\n",
        "new2.sort()\n",
        "\n",
        "# print(new1)\n",
        "# print(new2)\n",
        "if new1 == new2:\n",
        "\n",
        "    print(f\"The words {word1} and {word2} are anagrams.\")\n",
        "else:\n",
        "     print(f\"The words {word1} and {word2} are not anagrams.\")\n"
      ]
    },
    {
      "cell_type": "code",
      "execution_count": null,
      "metadata": {
        "id": "e5a76a1e-8d6e-4980-a954-8de7fb8e68cc",
        "outputId": "f2667a01-949f-4043-bcf8-e1abddab548b"
      },
      "outputs": [
        {
          "name": "stdin",
          "output_type": "stream",
          "text": [
            "Enter the first word: urja\n",
            "Enter the second word: raju\n"
          ]
        },
        {
          "name": "stdout",
          "output_type": "stream",
          "text": [
            "The words urja and raju are anagrams.\n"
          ]
        }
      ],
      "source": [
        "word1 = input(\"Enter the first word:\")\n",
        "word2 = input(\"Enter the second word:\")\n",
        "newWord1 = sorted(word1)\n",
        "newWord2 = sorted(word2)\n",
        "if newWord1 == newWord2:\n",
        "    print(f\"The words {word1} and {word2} are anagrams.\")\n",
        "else:\n",
        "\n",
        "    print(f\"The words {word1} and {word2} are not anagrams.\")"
      ]
    },
    {
      "cell_type": "markdown",
      "metadata": {
        "id": "67d9e6a3-0e12-47ea-9568-cbf5d2623b18"
      },
      "source": [
        "# OOP's in Python"
      ]
    },
    {
      "cell_type": "code",
      "execution_count": null,
      "metadata": {
        "id": "d6691de4-625f-4e74-8349-a6ccab78bec4"
      },
      "outputs": [],
      "source": [
        "#Rule for defining a class.\n",
        "#class ClassName:\n",
        "class Student:\n",
        "     clg = \"Global\"\n"
      ]
    },
    {
      "cell_type": "code",
      "execution_count": null,
      "metadata": {
        "id": "fe7767dd-e7da-4518-9284-f61afd9a7293",
        "outputId": "b8d309b1-33ca-456a-add2-1da5ee2464fd"
      },
      "outputs": [
        {
          "name": "stdout",
          "output_type": "stream",
          "text": [
            "The address from self: <__main__.Car object at 0x0000022D3D76F950>\n",
            "Address from object <__main__.Car object at 0x0000022D3D76F950>\n",
            "The address from self: <__main__.Car object at 0x0000022D3D76FDD0>\n",
            "Address from <__main__.Car object at 0x0000022D3D76FDD0>\n",
            "4\n",
            "black\n",
            "4\n",
            "Chocolate\n"
          ]
        }
      ],
      "source": [
        "class Car:\n",
        "    wheels = 4\n",
        "\n",
        "    def __init__(self,color):\n",
        "      print(\"The address from self:\",self)\n",
        "      self.color = color\n",
        "    def disp(self):\n",
        "        print(self.color)\n",
        "\n",
        "c1 = Car(\"black\")\n",
        "print(\"Address from object\",c1)\n",
        "c2 = Car(\"Chocolate\")\n",
        "print(\"Address from\",c2)\n",
        "print(c1.wheels)\n",
        "c1.disp()\n",
        "print(c2.wheels)\n",
        "c2.disp()"
      ]
    },
    {
      "cell_type": "markdown",
      "metadata": {
        "id": "e472bfa0-0c12-47ac-82cd-5de38dc794d8"
      },
      "source": [
        "* WAP to create a class student with attributes id,name,college and display all the attributes of the particular student details."
      ]
    },
    {
      "cell_type": "code",
      "execution_count": null,
      "metadata": {
        "id": "c6fa9032-6196-46a7-b48d-c7a864dda109",
        "outputId": "63d47efd-4d56-4c13-c5ec-e7e930b0005a"
      },
      "outputs": [
        {
          "name": "stdout",
          "output_type": "stream",
          "text": [
            "The name of student is: Raju\n",
            "The id of student is: 2\n",
            "The college of student is: global\n",
            "The name of student is: shubhi\n",
            "The id of student is: 3\n",
            "The college of student is: global\n",
            "The name of student is: vedant\n",
            "The id of student is: 4\n",
            "The college of student is: global\n",
            "The name of student is: cheenu\n",
            "The id of student is: 5\n",
            "The college of student is: global\n",
            "The name of student is: jatin\n",
            "The id of student is: 6\n",
            "The college of student is: global\n"
          ]
        }
      ],
      "source": [
        "class Student:\n",
        "    def __init__(self,name,id,clg):\n",
        "        self.name = name\n",
        "        self.id = id\n",
        "        self.clg = clg\n",
        "\n",
        "    def disp(self):\n",
        "            print(\"The name of student is:\",self.name)\n",
        "            print(\"The id of student is:\",self.id)\n",
        "            print(\"The college of student is:\",self.clg)\n",
        "s1 = Student(\"Raju\",2,\"global\")\n",
        "s2 = Student(\"shubhi\",3,\"global\")\n",
        "s3 = Student(\"vedant\",4,\"global\")\n",
        "s4 = Student(\"cheenu\",5,\"global\")\n",
        "s5 = Student(\"jatin\",6,\"global\")\n",
        "s1.disp()\n",
        "s2.disp()\n",
        "s3.disp()\n",
        "s4.disp()\n",
        "s5.disp()"
      ]
    },
    {
      "cell_type": "markdown",
      "metadata": {
        "id": "be44640f-e109-404c-ac35-a744b0aa1428"
      },
      "source": [
        "WAP to create a class Animal with properties type,color,num of legs,to disp its behaviour eats,walk,sleep"
      ]
    },
    {
      "cell_type": "code",
      "execution_count": null,
      "metadata": {
        "id": "5bd7927a-e760-40a1-a242-b0d721d0f3a2",
        "outputId": "15c84968-c3df-422a-de12-28add59868c1"
      },
      "outputs": [
        {
          "name": "stdout",
          "output_type": "stream",
          "text": [
            "The type is: Omnivores\n",
            "The color is: white\n",
            "The type is: Carnivore\n",
            "The color is: yellow\n"
          ]
        }
      ],
      "source": [
        "class Animal:\n",
        "    def __init__(self,type,color):\n",
        "        self.type = type\n",
        "        self.color = color\n",
        "\n",
        "    def disp(self):\n",
        "        print(\"The type is:\",self.type)\n",
        "        print(\"The color is:\",self.color)\n",
        "\n",
        "tiger = Animal(\"Carnivore\",\"yellow\")\n",
        "dog = Animal(\"Omnivores\",\"white\")\n",
        "dog.disp()\n",
        "tiger.disp()"
      ]
    },
    {
      "cell_type": "markdown",
      "metadata": {
        "id": "7284f8a1-cf6f-4c12-8bfa-9641b6d57d3b"
      },
      "source": [
        "Inheritence in python"
      ]
    },
    {
      "cell_type": "code",
      "execution_count": null,
      "metadata": {
        "id": "2baa3571-04ac-42f0-8615-4d6c9c36e759",
        "outputId": "ab6b9d16-95d5-4acf-d520-e8b7e371012a"
      },
      "outputs": [
        {
          "name": "stdout",
          "output_type": "stream",
          "text": [
            "Display A\n",
            "Display A\n"
          ]
        }
      ],
      "source": [
        "class A:\n",
        "    def disp(self):\n",
        "        print(\"Display A\")\n",
        "\n",
        "class B(A):\n",
        "\n",
        "    pass\n",
        "\n",
        "objB = B()\n",
        "objB.disp()\n",
        "objA = A()\n",
        "objA.disp()"
      ]
    },
    {
      "cell_type": "code",
      "execution_count": null,
      "metadata": {
        "id": "7bd8aa3f-cd10-483b-ab5d-736ee9a85246",
        "outputId": "ffe26a1e-ada7-4607-fd1d-a43cc201e8ca"
      },
      "outputs": [
        {
          "name": "stdout",
          "output_type": "stream",
          "text": [
            "cash+land+gold\n",
            "cash+land+gold\n",
            "cash+land+gold\n"
          ]
        }
      ],
      "source": [
        "class GrandFather:\n",
        "    def property(self):\n",
        "        print(\"cash+land+gold\")\n",
        "\n",
        "class Father(GrandFather):\n",
        "    pass\n",
        "\n",
        "\n",
        "class Son(Father):\n",
        "    pass\n",
        "\n",
        "\n",
        "class GrandSon():\n",
        "    pass\n",
        "\n",
        "s = Son()\n",
        "s.property()\n",
        "f = Father()\n",
        "f.property()\n",
        "gf = GrandFather()\n",
        "gf.property()\n",
        "gs = GrandSon()\n",
        "gs.property()"
      ]
    },
    {
      "cell_type": "markdown",
      "metadata": {
        "id": "31d6219b-a521-4377-88fa-55577a40c394"
      },
      "source": [
        "* Multilevel Inheritence"
      ]
    },
    {
      "cell_type": "code",
      "execution_count": null,
      "metadata": {
        "id": "61498245-e333-4825-acbe-cc344df3aaee",
        "outputId": "73ea6d46-b503-40e7-e551-2cfbeb63b48f"
      },
      "outputs": [
        {
          "name": "stdout",
          "output_type": "stream",
          "text": [
            "Eating\n",
            "Cow is walking\n"
          ]
        }
      ],
      "source": [
        "class Animal:\n",
        "    def eat(self):\n",
        "        print(\"Eating\")\n",
        "class Cow(Animal):\n",
        "    def walk(self):\n",
        "        print(\"Cow is walking\")\n",
        "class Tiger(Animal):\n",
        "    def run(self):\n",
        "        print(\"Tiger Running\")\n",
        "\n",
        "class Bear(Animal):\n",
        "    def sleep(self):\n",
        "        print(\"Bear sleeping\")\n",
        "c = Cow()\n",
        "c.eat()\n",
        "c.walk()"
      ]
    },
    {
      "cell_type": "markdown",
      "metadata": {
        "id": "0890823f-35d4-4679-af7f-091199f0a26f"
      },
      "source": [
        "* Multiple Inheritence"
      ]
    },
    {
      "cell_type": "code",
      "execution_count": null,
      "metadata": {
        "id": "ed42e813-30bc-4760-b99a-69dca5c167f8",
        "outputId": "78d37c9e-0ba3-44ad-9a4b-6de7e7836a41"
      },
      "outputs": [
        {
          "name": "stdout",
          "output_type": "stream",
          "text": [
            "Flying\n",
            "Eating\n"
          ]
        }
      ],
      "source": [
        "class Animal:\n",
        "    def eat(self):\n",
        "        print(\"Eating\")\n",
        "\n",
        "class Bird:\n",
        "    def fly(self):\n",
        "        print(\"Flying\")\n",
        "\n",
        "class X(Animal,Bird):\n",
        "    pass\n",
        "\n",
        "x1 = X()\n",
        "x1.fly()\n",
        "x1.eat()\n"
      ]
    },
    {
      "cell_type": "markdown",
      "metadata": {
        "id": "bda7dbe7-b6d4-4ff3-ab75-7477826fbbf5"
      },
      "source": [
        "* Method OverRiding"
      ]
    },
    {
      "cell_type": "code",
      "execution_count": null,
      "metadata": {
        "id": "d6223e76-5b81-45ca-aa85-a48f80017450",
        "outputId": "8dbf069c-ab5f-439b-d5ac-2c1a432e91bb"
      },
      "outputs": [
        {
          "name": "stdout",
          "output_type": "stream",
          "text": [
            "cash+land+gold\n",
            "Sam\n"
          ]
        }
      ],
      "source": [
        "class Parent:\n",
        "    def property(self):\n",
        "        print(\"cash+land+gold\")\n",
        "    def marry(self):\n",
        "        print(\"Trisha\")\n",
        "\n",
        "class Child(Parent):\n",
        "    def marry(self):\n",
        "        print(\"Sam\")\n",
        "\n",
        "c = Child()\n",
        "c.property()\n",
        "c.marry()"
      ]
    },
    {
      "cell_type": "markdown",
      "metadata": {
        "id": "d2672d2f-ee66-40d5-a8e9-18b3a1e74f5a"
      },
      "source": [
        "* Encapsulation"
      ]
    },
    {
      "cell_type": "code",
      "execution_count": null,
      "metadata": {
        "id": "0cc35f24-6006-4b83-b5be-117f90b6c5b6",
        "outputId": "e2f89588-ade8-45a7-c6f9-682df9ae2abf"
      },
      "outputs": [
        {
          "ename": "AttributeError",
          "evalue": "'Bank' object has no attribute 'balance'",
          "output_type": "error",
          "traceback": [
            "\u001b[1;31m---------------------------------------------------------------------------\u001b[0m",
            "\u001b[1;31mAttributeError\u001b[0m                            Traceback (most recent call last)",
            "Cell \u001b[1;32mIn[63], line 7\u001b[0m\n\u001b[0;32m      4\u001b[0m         \u001b[38;5;66;03m#__ defines private.\u001b[39;00m\n\u001b[0;32m      6\u001b[0m objBank \u001b[38;5;241m=\u001b[39m Bank(\u001b[38;5;241m1000\u001b[39m)\n\u001b[1;32m----> 7\u001b[0m \u001b[38;5;28mprint\u001b[39m(objBank\u001b[38;5;241m.\u001b[39mbalance)\n",
            "\u001b[1;31mAttributeError\u001b[0m: 'Bank' object has no attribute 'balance'"
          ]
        }
      ],
      "source": [
        "class Bank:\n",
        "    def __init__(self,balance):\n",
        "        self.__balance = balance  #_ using this it became protected.\n",
        "        #__ defines private.\n",
        "\n",
        "objBank = Bank(1000)\n",
        "print(objBank.balance)"
      ]
    },
    {
      "cell_type": "code",
      "execution_count": null,
      "metadata": {
        "id": "f93f084d-11b6-40f1-80d3-ded9b604c3ed"
      },
      "outputs": [],
      "source": [
        "def disp(x):\n",
        "    for i in range(x):\n",
        "        return i\n",
        "\n",
        "print(disp(5))"
      ]
    },
    {
      "cell_type": "code",
      "execution_count": null,
      "metadata": {
        "id": "51ba91ad-205b-4e76-b701-206220af93a1",
        "outputId": "59821784-f06c-4513-85b4-a7448e68c5a6"
      },
      "outputs": [
        {
          "name": "stdout",
          "output_type": "stream",
          "text": [
            "11\n",
            "12\n",
            "13\n",
            "14\n",
            "15\n",
            "16\n"
          ]
        }
      ],
      "source": [
        "def disp(start,end):\n",
        "    for i in range(start,end+1):\n",
        "        print(i)\n",
        "    pass\n",
        "disp(11,16)"
      ]
    },
    {
      "cell_type": "code",
      "execution_count": null,
      "metadata": {
        "id": "f61c0742-f671-4a66-beac-f1f490d05763"
      },
      "outputs": [],
      "source": [
        "# def disp(*args)\n",
        "#taking multiple args as input.\n",
        "#def __del__() destructor"
      ]
    },
    {
      "cell_type": "markdown",
      "metadata": {
        "id": "9f550410-433f-4639-9501-333c3b0c27aa"
      },
      "source": [
        "WAP to create a class Animal with properties type,color,num of legs,to disp its behaviour eats,walk,sleep"
      ]
    },
    {
      "cell_type": "code",
      "execution_count": null,
      "metadata": {
        "id": "c6d69e71-6b76-4c5d-9a74-2b6a2146acb5",
        "outputId": "cf017c21-5733-4eda-c197-628cd83796d8"
      },
      "outputs": [
        {
          "name": "stdout",
          "output_type": "stream",
          "text": [
            "The type is: <class '__main__.Animal'>\n",
            "The color is: Yellow\n",
            "the tiger Is eating Flesh.\n",
            "The tiger is running\n",
            "The type is: <class '__main__.Animal'>\n",
            "The color is: White\n",
            "the dog Is eating Biscuit.\n",
            "The dog is walking.\n"
          ]
        }
      ],
      "source": [
        "class Animal:\n",
        "    def __init__(self,type,color):\n",
        "        self.type = type\n",
        "        self.color = color\n",
        "\n",
        "    def disp(self):\n",
        "        print(\"The type is:\",self.type)\n",
        "        print(\"The color is:\",self.color)\n",
        "\n",
        "class Dog(Animal):\n",
        "    def eat(self):\n",
        "     print(\"the dog Is eating Biscuit.\")\n",
        "    def walk(self):\n",
        "        print(\"The dog is walking.\")\n",
        "\n",
        "class tiger(Animal):\n",
        "    def eat(self):\n",
        "     print(\"the tiger Is eating Flesh.\")\n",
        "    def run(self):\n",
        "        print(\"The tiger is running\")\n",
        "\n",
        "t = tiger(Animal,'Yellow')\n",
        "t.disp()\n",
        "t.eat()\n",
        "t.run()\n",
        "d = Dog(Animal,'White')\n",
        "d.disp()\n",
        "d.eat()\n",
        "d.walk()\n"
      ]
    },
    {
      "cell_type": "markdown",
      "metadata": {
        "id": "14e25f8f-52ed-40bf-98ae-1d4451a45884"
      },
      "source": [
        "1. Bank Account System - You are designing a bank account management system. Each account has an account holder's name,balance, and account type (Savings/Current)\n",
        "2. Use inheritance to create a SavingsAccount and CurrentAccount class from a common BankAccount class.\n",
        "Implement polymorphism for a method calculate_interest() that computes interest differently for savings and current accounts.\n",
        "Ensure account numbers are unique for each object using a class attribute.\n",
        "Can you write a program to demonstrate this?"
      ]
    },
    {
      "cell_type": "code",
      "execution_count": null,
      "metadata": {
        "id": "80d30bde-598d-4ff8-a79a-0ea5e891fe9b",
        "outputId": "55db1ce3-7aec-481b-a643-f1ae2b04c528"
      },
      "outputs": [
        {
          "name": "stdout",
          "output_type": "stream",
          "text": [
            "The name of candidate is: Jatin\n",
            "The Balance of candidate is: 45700000\n",
            "The Account Type of candidate is: Savings\n"
          ]
        },
        {
          "ename": "UnboundLocalError",
          "evalue": "cannot access local variable 'Int' where it is not associated with a value",
          "output_type": "error",
          "traceback": [
            "\u001b[1;31m---------------------------------------------------------------------------\u001b[0m",
            "\u001b[1;31mUnboundLocalError\u001b[0m                         Traceback (most recent call last)",
            "Cell \u001b[1;32mIn[12], line 23\u001b[0m\n\u001b[0;32m     21\u001b[0m c1 \u001b[38;5;241m=\u001b[39m Bank(\u001b[38;5;124m\"\u001b[39m\u001b[38;5;124mJatin\u001b[39m\u001b[38;5;124m\"\u001b[39m,\u001b[38;5;241m45700000\u001b[39m,\u001b[38;5;124m\"\u001b[39m\u001b[38;5;124mSavings\u001b[39m\u001b[38;5;124m\"\u001b[39m)\n\u001b[0;32m     22\u001b[0m c1\u001b[38;5;241m.\u001b[39mdisp()\n\u001b[1;32m---> 23\u001b[0m c1\u001b[38;5;241m.\u001b[39mCalculate_Interest(\u001b[38;5;241m1000\u001b[39m,\u001b[38;5;241m5\u001b[39m,\u001b[38;5;241m4\u001b[39m)\n",
            "Cell \u001b[1;32mIn[12], line 18\u001b[0m, in \u001b[0;36mBank.Calculate_Interest\u001b[1;34m(self, prin, time, rate)\u001b[0m\n\u001b[0;32m     16\u001b[0m \u001b[38;5;28mself\u001b[39m\u001b[38;5;241m.\u001b[39mtime \u001b[38;5;241m=\u001b[39m time\n\u001b[0;32m     17\u001b[0m \u001b[38;5;28mself\u001b[39m\u001b[38;5;241m.\u001b[39mrate \u001b[38;5;241m=\u001b[39m rate\n\u001b[1;32m---> 18\u001b[0m \u001b[38;5;28mself\u001b[39m\u001b[38;5;241m.\u001b[39mInt \u001b[38;5;241m=\u001b[39m Int\n\u001b[0;32m     19\u001b[0m Int \u001b[38;5;241m=\u001b[39m \u001b[38;5;241m5\u001b[39m\n\u001b[0;32m     20\u001b[0m \u001b[38;5;28mprint\u001b[39m(\u001b[38;5;124mf\u001b[39m\u001b[38;5;124m\"\u001b[39m\u001b[38;5;124mThe Interest calculated is:\u001b[39m\u001b[38;5;132;01m{\u001b[39;00mInt\u001b[38;5;132;01m}\u001b[39;00m\u001b[38;5;124m\"\u001b[39m)\n",
            "\u001b[1;31mUnboundLocalError\u001b[0m: cannot access local variable 'Int' where it is not associated with a value"
          ]
        }
      ],
      "source": [
        "class Bank:\n",
        "\n",
        "    def __init__(self,name,bal,accType):\n",
        "        self.name = name\n",
        "        self.bal = bal\n",
        "        self.accType = accType\n",
        "\n",
        "    def disp(self):\n",
        "        print(f\"The name of candidate is:\",self.name)\n",
        "        print(f\"The Balance of candidate is:\",self.bal)\n",
        "        print(f\"The Account Type of candidate is:\",self.accType)\n",
        "\n",
        "    def Calculate_Interest(self,prin,time,rate):\n",
        "           # Interest = P * R * T,\n",
        "            self.prin = prin\n",
        "            self.time = time\n",
        "            self.rate = rate\n",
        "            self.Int = Int\n",
        "            Int = prin*rate*time\n",
        "            print(f\"The Interest calculated is:{Int}\")\n",
        "c1 = Bank(\"Jatin\",45700000,\"Savings\")\n",
        "c1.disp()\n",
        "c1.Calculate_Interest(1000,5,4)"
      ]
    },
    {
      "cell_type": "code",
      "execution_count": null,
      "metadata": {
        "id": "3e7211a6-521d-4268-91ea-24bb24d81a4c",
        "outputId": "4f1e3ef1-030c-46eb-cb03-0cd9099e9cb1"
      },
      "outputs": [
        {
          "name": "stdout",
          "output_type": "stream",
          "text": [
            "12\n"
          ]
        }
      ],
      "source": [
        "def add(x,y):\n",
        "    return x+y\n",
        "def add(x,y,z):\n",
        "    return x+y+z\n",
        "res = add(5,6,1)\n",
        "print(res)"
      ]
    },
    {
      "cell_type": "code",
      "execution_count": null,
      "metadata": {
        "id": "b86f3830-82bc-4cc1-bd73-847ecd541cb6",
        "outputId": "ceb6d226-e93f-4f0e-8c95-d56c5c440acb"
      },
      "outputs": [
        {
          "name": "stdout",
          "output_type": "stream",
          "text": [
            "19\n"
          ]
        }
      ],
      "source": [
        "def add(*args):\n",
        "    res = 0\n",
        "    for i in args:\n",
        "        res += i\n",
        "    return res\n",
        "\n",
        "finalValue = add(3,4,5,6,1)\n",
        "print(finalValue)"
      ]
    },
    {
      "cell_type": "code",
      "execution_count": null,
      "metadata": {
        "id": "ad909e9c-08cc-434c-917d-26072cf1ab57",
        "outputId": "19e501b6-28b7-4dc3-9907-ebb6d0c00ef1"
      },
      "outputs": [
        {
          "name": "stdout",
          "output_type": "stream",
          "text": [
            "19\n"
          ]
        }
      ],
      "source": [
        "def add(*args):\n",
        "    res = 0\n",
        "    for i in args:\n",
        "        res += i\n",
        "    return res\n",
        "\n",
        "finalValue = add(3,4,5,6,1)\n",
        "print(finalValue)"
      ]
    },
    {
      "cell_type": "code",
      "execution_count": null,
      "metadata": {
        "id": "81f01702-7304-4770-9544-feda0e4761dc",
        "outputId": "9b3e6fd9-38d3-4fc4-dda3-05a8bc9ac08f"
      },
      "outputs": [
        {
          "name": "stdout",
          "output_type": "stream",
          "text": [
            "name:Ramu\n",
            "id:4\n",
            "id:5\n",
            "name:Raj\n"
          ]
        }
      ],
      "source": [
        "def Student(**kwargs):\n",
        "    for name,id in kwargs.items():\n",
        "      print(f\"{name}:{id}\")\n",
        "\n",
        "s1 = Student(name = \"Ramu\",id = 4)\n",
        "s2 = Student(id = 5,name = \"Raj\")\n",
        "# s3 = Student(\"uvaish\",8)"
      ]
    },
    {
      "cell_type": "markdown",
      "metadata": {
        "id": "19ed5387-a66d-4f0d-9ab4-1d817b656583"
      },
      "source": [
        "# Lambda Function"
      ]
    },
    {
      "cell_type": "code",
      "execution_count": null,
      "metadata": {
        "id": "c1906b10-cfb6-4b75-b322-48e86e4b712a",
        "outputId": "4a02dc70-fa61-42a9-c039-e5c713ede883"
      },
      "outputs": [
        {
          "name": "stdout",
          "output_type": "stream",
          "text": [
            "12\n"
          ]
        }
      ],
      "source": [
        "res = lambda x,y:x*y\n",
        "print(res(3,4))"
      ]
    },
    {
      "cell_type": "code",
      "execution_count": null,
      "metadata": {
        "id": "709025bc-aa78-4c3c-a606-7b4b268c487f",
        "outputId": "88c89ba8-bb54-4a92-8be6-5f7886b399ee"
      },
      "outputs": [
        {
          "name": "stdout",
          "output_type": "stream",
          "text": [
            "False\n"
          ]
        }
      ],
      "source": [
        "even = lambda num:num%2 == 0\n",
        "print(even(23))"
      ]
    },
    {
      "cell_type": "markdown",
      "metadata": {
        "id": "c9a4b125-e027-42c8-9c8d-78edb2768372"
      },
      "source": [
        "WAP to find product of 4 numbers and check whether the result is multiple of 5 or not."
      ]
    },
    {
      "cell_type": "code",
      "execution_count": null,
      "metadata": {
        "id": "c73a2272-15c6-4ed9-abdb-861f4e5c31f5",
        "outputId": "0c9344d9-b7a5-4512-ffeb-973acd9e8185"
      },
      "outputs": [
        {
          "name": "stdout",
          "output_type": "stream",
          "text": [
            "10\n",
            "True\n"
          ]
        }
      ],
      "source": [
        "pro = lambda a,b,c,d:a*b*c*d\n",
        "d = pro(1,5,2,1)\n",
        "chk = lambda d:d%5==0\n",
        "print(d)\n",
        "print(chk(d))"
      ]
    },
    {
      "cell_type": "code",
      "execution_count": null,
      "metadata": {
        "id": "51bb580e-5a2a-413d-966e-6b4fd86c2fb7",
        "outputId": "ec3e6d3b-87b1-4bd0-b245-581164618d60"
      },
      "outputs": [
        {
          "name": "stdout",
          "output_type": "stream",
          "text": [
            "11\n"
          ]
        }
      ],
      "source": [
        "def add(x,y,operation):\n",
        "    return operation(x,y)\n",
        "\n",
        "res = add(5,6,lambda x,y:x+y)\n",
        "print(res)\n"
      ]
    },
    {
      "cell_type": "code",
      "execution_count": null,
      "metadata": {
        "id": "a66011e8-fcb8-4154-8763-8d50f0d736a6",
        "outputId": "6ae6c493-b816-4afe-97c8-0d69dcfc76f8"
      },
      "outputs": [
        {
          "name": "stdout",
          "output_type": "stream",
          "text": [
            "(11, 30)\n"
          ]
        }
      ],
      "source": [
        "def add(x,y,operation1,operation2):\n",
        "    return operation1(x,y),operation2(x,y)\n",
        "\n",
        "res = add(5,6,lambda x,y:x+y,lambda x,y:x*y)\n",
        "print(res)\n"
      ]
    },
    {
      "cell_type": "markdown",
      "metadata": {
        "id": "806676d1-b10e-423f-83af-faa1cf67d210"
      },
      "source": [
        "create a function that has 2 function in it even and odd return the o/p for a number in form of tuples."
      ]
    },
    {
      "cell_type": "code",
      "execution_count": null,
      "metadata": {
        "id": "12e0400b-c4ca-440c-8f9a-507e1492de3d",
        "outputId": "a648c53c-6de6-46cc-8651-bd1a3fc43455"
      },
      "outputs": [
        {
          "name": "stdout",
          "output_type": "stream",
          "text": [
            "(True, False)\n"
          ]
        }
      ],
      "source": [
        "def Number(x,even,odd):\n",
        "    return even(x),odd(x)\n",
        "\n",
        "res = Number(24,lambda x:x%2==0,lambda x:x%2!=0)\n",
        "print(res)"
      ]
    },
    {
      "cell_type": "code",
      "execution_count": null,
      "metadata": {
        "id": "600785fb-d997-4290-96ff-ea41e3e11ad7",
        "outputId": "04fc15b2-8bb5-462a-c768-80ac32d0c427"
      },
      "outputs": [
        {
          "name": "stdout",
          "output_type": "stream",
          "text": [
            "[1, 4, 9, 16]\n"
          ]
        }
      ],
      "source": [
        "my_lst = [1,2,3,4]\n",
        "my_lst2 = list(map(lambda x:x**2,my_lst))\n",
        "print(my_lst2)"
      ]
    },
    {
      "cell_type": "markdown",
      "metadata": {
        "id": "3157a790-251e-42fe-be77-b0d4c3758f70"
      },
      "source": [
        "WAP a program to create a list of 5 numbers and return their remainders after dividing it by 2 in form of list."
      ]
    },
    {
      "cell_type": "code",
      "execution_count": null,
      "metadata": {
        "id": "2e3439b6-a746-4620-9173-2b4870fad2d8",
        "outputId": "3836c589-c5c3-4b34-8003-17eac9cdda41"
      },
      "outputs": [
        {
          "name": "stdin",
          "output_type": "stream",
          "text": [
            "Enter the size of list: 2\n",
            "Enter the 0th elements of list: 23\n",
            "Enter the 1th elements of list: 45\n"
          ]
        },
        {
          "name": "stdout",
          "output_type": "stream",
          "text": [
            "[1, 1]\n"
          ]
        }
      ],
      "source": [
        "size = int(input(\"Enter the size of list:\"))\n",
        "lst = []\n",
        "for i in range(size):\n",
        "    ele = int(input(f\"Enter the {i}th elements of list:\"))\n",
        "    lst.append(ele)\n",
        "\n",
        "lst2 = list(map(lambda x:x%2,lst))\n",
        "print(lst2)"
      ]
    },
    {
      "cell_type": "code",
      "execution_count": null,
      "metadata": {
        "id": "aa1c9cfb-c72c-479b-87d4-6b6888638cc1",
        "outputId": "70cef20c-04b1-4f29-86a8-f63651fc3edf"
      },
      "outputs": [
        {
          "data": {
            "text/plain": [
              "[2, 4]"
            ]
          },
          "execution_count": 54,
          "metadata": {},
          "output_type": "execute_result"
        }
      ],
      "source": [
        "lst = [1,2,3,4]\n",
        "lst2 = list(filter(lambda x:x%2==0,lst))\n",
        "lst2"
      ]
    },
    {
      "cell_type": "code",
      "execution_count": null,
      "metadata": {
        "id": "ba7dbc13-5490-4e4e-a630-0cfb3a0255bb",
        "outputId": "45543de0-0982-4a59-ce78-0f0efa8ed4ca"
      },
      "outputs": [
        {
          "name": "stdin",
          "output_type": "stream",
          "text": [
            "Enter the size of list: 5\n",
            "Enter the 0th elements of list: 12\n",
            "Enter the 1th elements of list: 23\n",
            "Enter the 2th elements of list: 33\n",
            "Enter the 3th elements of list: 42\n",
            "Enter the 4th elements of list: 66\n"
          ]
        },
        {
          "data": {
            "text/plain": [
              "[12, 33, 42, 66]"
            ]
          },
          "execution_count": 55,
          "metadata": {},
          "output_type": "execute_result"
        }
      ],
      "source": [
        "size = int(input(\"Enter the size of list:\"))\n",
        "lst = []\n",
        "for i in range(size):\n",
        "    ele = int(input(f\"Enter the {i}th elements of list:\"))\n",
        "    lst.append(ele)\n",
        "\n",
        "lst2 = list(filter(lambda x:x%3==0,lst))\n",
        "lst2"
      ]
    },
    {
      "cell_type": "code",
      "execution_count": null,
      "metadata": {
        "id": "1f82fa20-06ef-494b-b377-9607ee176353",
        "outputId": "9fa2cdcf-08e5-44da-8ae7-d95a96e9ab75"
      },
      "outputs": [
        {
          "data": {
            "text/plain": [
              "120"
            ]
          },
          "execution_count": 58,
          "metadata": {},
          "output_type": "execute_result"
        }
      ],
      "source": [
        "from functools import reduce\n",
        "lst = [1,2,3,4,5]\n",
        "lst2 = reduce(lambda x,y:x*y,lst)\n",
        "lst2"
      ]
    },
    {
      "cell_type": "markdown",
      "metadata": {
        "id": "03bea6f5-6458-40bc-8123-0fad45803125"
      },
      "source": [
        "# Generator in python\n"
      ]
    },
    {
      "cell_type": "code",
      "execution_count": null,
      "metadata": {
        "id": "588159f1-fe22-4b1c-b3b8-cf5530d6f1cc",
        "outputId": "c980712d-4541-451f-ab27-97f8d5d727ff"
      },
      "outputs": [
        {
          "name": "stdout",
          "output_type": "stream",
          "text": [
            "1\n",
            "2\n",
            "3\n",
            "4\n"
          ]
        }
      ],
      "source": [
        "def disp(x):\n",
        "    for i in range(1,x+1):\n",
        "        yield i\n",
        "\n",
        "res = disp(5)\n",
        "print(next(res))\n",
        "print(next(res))\n",
        "print(next(res))\n",
        "print(next(res))"
      ]
    },
    {
      "cell_type": "code",
      "execution_count": null,
      "metadata": {
        "id": "95acfc1e-7f95-4ae1-a6a3-46710cfe6ac5",
        "outputId": "f5a7ab9e-8854-4209-f89c-d198fbee918e"
      },
      "outputs": [
        {
          "name": "stdout",
          "output_type": "stream",
          "text": [
            "2\n",
            "4\n",
            "6\n",
            "8\n",
            "10\n"
          ]
        }
      ],
      "source": [
        "def even(n):\n",
        "    for i in range(1,n+1):\n",
        "        if(i%2==0):\n",
        "            yield i\n",
        "res = even(10)\n",
        "\n",
        "for i in even(10):\n",
        "    print(i)"
      ]
    },
    {
      "cell_type": "markdown",
      "metadata": {
        "id": "13532e67-f938-4d5c-8361-79dfe99a7871"
      },
      "source": [
        "# Most important concept of python Regular Expression Regex"
      ]
    },
    {
      "cell_type": "markdown",
      "metadata": {
        "id": "04228b77-552d-4577-8b8a-9d90b1a7056e"
      },
      "source": [
        "* wap to check characters starting from a ending with b."
      ]
    },
    {
      "cell_type": "code",
      "execution_count": null,
      "metadata": {
        "id": "3e754275-5f2d-4da2-8e2d-55a25c996b4e",
        "outputId": "6ffd8597-e010-45e9-b3ef-5444982e58a0"
      },
      "outputs": [
        {
          "name": "stdout",
          "output_type": "stream",
          "text": [
            "['adb', 'aeb']\n"
          ]
        }
      ],
      "source": [
        "# . used to ignore the btw characters.\n",
        "import re\n",
        "res = re.findall(r'a.b','abc adb cvb aeb abcdefb')\n",
        "print(res)"
      ]
    },
    {
      "cell_type": "code",
      "execution_count": null,
      "metadata": {
        "id": "0b8ce1a9-f765-4f98-a4f0-3e9c3d015c2c",
        "outputId": "64b9173b-1b25-4586-f3bd-5fdf392324bb"
      },
      "outputs": [
        {
          "name": "stdout",
          "output_type": "stream",
          "text": [
            "['Hello']\n"
          ]
        }
      ],
      "source": [
        "\"^ checks whether the str contains the starting word as given in function.\"\n",
        "import re\n",
        "res = re.findall(r'^Hello','Hello worldHello hi hiworld Hello World')\n",
        "print(res)"
      ]
    },
    {
      "cell_type": "code",
      "execution_count": null,
      "metadata": {
        "id": "dc10d35d-96f7-4583-81d6-21aa4d98f2be",
        "outputId": "c7dfdee4-9ae6-429d-b069-694f023d47d2"
      },
      "outputs": [
        {
          "name": "stdout",
          "output_type": "stream",
          "text": [
            "['Hello']\n"
          ]
        }
      ],
      "source": [
        "\"$ checks whether the str contains the starting word as given in function.\"\n",
        "import re\n",
        "res = re.findall(r'Hello$','Hello worldHello hi hiworld Hello')\n",
        "print(res)"
      ]
    },
    {
      "cell_type": "code",
      "execution_count": null,
      "metadata": {
        "id": "968f6d9f-d2f9-43ad-8aff-016776d6434b",
        "outputId": "842fe790-0d64-4d37-9c52-a8a80216cbf5"
      },
      "outputs": [
        {
          "name": "stdout",
          "output_type": "stream",
          "text": [
            "['cat', 'caaat', 'caat', 'ct']\n"
          ]
        }
      ],
      "source": [
        "'*'\n",
        "import re\n",
        "res = re.findall(r'ca*t','cat caaat caat cbt taac,ct')\n",
        "print(res)"
      ]
    },
    {
      "cell_type": "code",
      "execution_count": null,
      "metadata": {
        "id": "f56e6848-f1fc-4cce-8daa-fe320947ef83",
        "outputId": "eca6f409-d6cb-4a58-d2c1-a0c194753b9a"
      },
      "outputs": [
        {
          "name": "stdout",
          "output_type": "stream",
          "text": [
            "['cat']\n"
          ]
        }
      ],
      "source": [
        "'+'\n",
        "import re\n",
        "res = re.findall(r'cat','cat caaat caat cbt taac,ct')\n",
        "print(res)"
      ]
    },
    {
      "cell_type": "code",
      "execution_count": null,
      "metadata": {
        "id": "0a1ee415-72e3-487d-b1e8-90a16c4a0cca",
        "outputId": "ebd4ed39-e5a6-4f1e-f33c-b935c2a5f0d3"
      },
      "outputs": [
        {
          "name": "stdout",
          "output_type": "stream",
          "text": [
            "['cat', 'ct']\n"
          ]
        }
      ],
      "source": [
        "'?'\n",
        "import re\n",
        "res = re.findall(r'ca?t','cat caaat caat cbt taac,ct')\n",
        "print(res)"
      ]
    },
    {
      "cell_type": "code",
      "execution_count": null,
      "metadata": {
        "id": "e2a077ab-28f3-4edf-b45d-8cb203d20120",
        "outputId": "2a40bb66-b408-4bb7-8415-c726ac33b655"
      },
      "outputs": [
        {
          "name": "stdout",
          "output_type": "stream",
          "text": [
            "['a', 'a', 'a', 'a', 'a', 'a', 'a', 'a']\n"
          ]
        }
      ],
      "source": [
        "'{n}'\n",
        "import re\n",
        "res = re.findall(r'a{1}','cat caaat caat cbt taac,ct')\n",
        "print(res)"
      ]
    },
    {
      "cell_type": "code",
      "execution_count": null,
      "metadata": {
        "id": "3fbacebb-ac69-45f0-8964-13debff7c72e",
        "outputId": "1d456abe-f50b-40e9-a068-65d81c740fe4"
      },
      "outputs": [
        {
          "name": "stdout",
          "output_type": "stream",
          "text": [
            "['aaa', 'aa', 'aa']\n"
          ]
        }
      ],
      "source": [
        "'{n,}'\n",
        "import re\n",
        "res = re.findall(r'a{2,}','cat caaat caat cbt taac,ct')\n",
        "print(res)"
      ]
    },
    {
      "cell_type": "code",
      "execution_count": null,
      "metadata": {
        "id": "329ae936-5bf3-444e-b567-aeab2aff7ff7",
        "outputId": "cd56787e-e152-434e-ace6-4c96cace8de9"
      },
      "outputs": [
        {
          "name": "stdout",
          "output_type": "stream",
          "text": [
            "['a', 'aaa', 'aa', 'aa']\n"
          ]
        }
      ],
      "source": [
        "'{n,m}'\n",
        "import re\n",
        "res = re.findall(r'a{1,3}','cat caaat caat cbt taac,ct')\n",
        "print(res)"
      ]
    },
    {
      "cell_type": "code",
      "execution_count": null,
      "metadata": {
        "id": "a640dd64-1a13-4260-878c-c27bbd60d8a8",
        "outputId": "c3ccafe5-9d68-426b-e879-dd2dbce7ff8e"
      },
      "outputs": [
        {
          "name": "stdout",
          "output_type": "stream",
          "text": [
            "['c', 'a', 'c', 'a', 'a', 'a', 'c', 'a', 'a', 'c', 'a', 'a', 'c', 'c']\n"
          ]
        }
      ],
      "source": [
        "'[]'\n",
        "import re\n",
        "res = re.findall(r'[caa]','cat caaat caat cbt taac,ct')\n",
        "print(res)"
      ]
    },
    {
      "cell_type": "code",
      "execution_count": null,
      "metadata": {
        "id": "adb909ff-ec31-4dfe-b064-4f253a5a7221",
        "outputId": "da5080d9-2c28-4186-8992-c2becbb04af6"
      },
      "outputs": [
        {
          "name": "stdout",
          "output_type": "stream",
          "text": [
            "['124', '45']\n"
          ]
        }
      ],
      "source": [
        "'\\d'\n",
        "import re\n",
        "res = re.findall(r'\\d+','124 cat caaat caat cbt 45 taac,ct')\n",
        "print(res)"
      ]
    },
    {
      "cell_type": "markdown",
      "metadata": {
        "id": "bf21a9b6-0d9a-4668-802d-aefde7a49a49"
      },
      "source": [
        "# Dictionary\n"
      ]
    },
    {
      "cell_type": "code",
      "execution_count": null,
      "metadata": {
        "id": "b20bdfea-d7f4-4006-b01d-19addad78086"
      },
      "outputs": [],
      "source": [
        "#syntax\n",
        "#dict = {key1:value1,key2:value2:key3:value3......,keyN:valueN}\n"
      ]
    },
    {
      "cell_type": "code",
      "execution_count": null,
      "metadata": {
        "id": "54a4f9be-7280-4fd5-a9dd-6f2268a4b2cc",
        "outputId": "f321646f-9cbe-49b3-882d-ad57949dab4a"
      },
      "outputs": [
        {
          "name": "stdout",
          "output_type": "stream",
          "text": [
            "{'name': 'aman', 'age': 16, 'course': 'AI/ML'}\n",
            "aman\n",
            "aman\n",
            "None\n",
            "not\n",
            "aman\n"
          ]
        }
      ],
      "source": [
        "student = {\n",
        "    \"name\":\"aman\",\n",
        "    \"age\":21,\n",
        "    \"course\":\"AI/ML\"\n",
        "}\n",
        "# student[\"address\"]=\"Jabalpur\"\n",
        "student[\"age\"]=16\n",
        "print(student)\n",
        "print(student[\"name\"])\n",
        "print(student.get(\"name\"))\n",
        "#print(student[\"address\"])\n",
        "print(student.get(\"address\"))\n",
        "print(student.get(\"address\",\"not\")) #most Preferable.\n",
        "print(student.get(\"name\",\"Not Available\")) #most Preferable."
      ]
    },
    {
      "cell_type": "code",
      "execution_count": null,
      "metadata": {
        "id": "a28f026a-0dd9-42b2-b879-0ce594a4d0dd",
        "outputId": "2a318e8f-7d7a-4c1d-cba6-98491bf0c996"
      },
      "outputs": [
        {
          "data": {
            "text/plain": [
              "'AI/ML'"
            ]
          },
          "execution_count": 32,
          "metadata": {},
          "output_type": "execute_result"
        }
      ],
      "source": [
        "student.pop(\"course\")"
      ]
    },
    {
      "cell_type": "code",
      "execution_count": null,
      "metadata": {
        "id": "9ac42a1b-3a71-490e-aafc-ec0da0feeb90",
        "outputId": "47d3eae7-4537-4c39-fc40-5cdc09f1bc7b"
      },
      "outputs": [
        {
          "name": "stdout",
          "output_type": "stream",
          "text": [
            "{'name': 'aman', 'age': 16, 'address': 'Jabalpur'}\n"
          ]
        }
      ],
      "source": [
        "print(student)"
      ]
    },
    {
      "cell_type": "code",
      "execution_count": null,
      "metadata": {
        "id": "3ed3d5d0-a9ee-4101-af6b-91d64eda318b",
        "outputId": "8896696c-918f-4f96-8ea5-a0026410d9f0"
      },
      "outputs": [
        {
          "name": "stdout",
          "output_type": "stream",
          "text": [
            "{'name': 'aman', 'address': 'Jabalpur'}\n"
          ]
        }
      ],
      "source": [
        "del student[\"age\"]\n",
        "print(student)"
      ]
    },
    {
      "cell_type": "code",
      "execution_count": null,
      "metadata": {
        "id": "23275f15-4c81-4aa0-bf33-e3459f231c52",
        "outputId": "8396a543-6ad2-47c3-f747-1cea43635927"
      },
      "outputs": [
        {
          "name": "stdout",
          "output_type": "stream",
          "text": [
            "{}\n"
          ]
        }
      ],
      "source": [
        "student.popitem()\n",
        "student.clear()\n",
        "print(student)"
      ]
    },
    {
      "cell_type": "code",
      "execution_count": null,
      "metadata": {
        "id": "11e4a583-ba7c-40c4-9b2f-8dcd381538e7",
        "outputId": "aef7ced2-7bb7-46b0-9eb2-b12fb0a3dee2"
      },
      "outputs": [
        {
          "name": "stdout",
          "output_type": "stream",
          "text": [
            "a\n",
            "b\n",
            "c\n",
            "d\n",
            "e\n",
            "1\n",
            "6\n",
            "3\n",
            "4\n",
            "5\n",
            "a:1\n",
            "b:6\n",
            "c:3\n",
            "d:4\n",
            "e:5\n"
          ]
        }
      ],
      "source": [
        "dict = {'a':1,'b':2,'a':1,'c':3,'d':4,'e':5,'b':6}\n",
        "for key in dict:\n",
        "    print(key)\n",
        "\n",
        "for value in dict.values():\n",
        "    print(value)\n",
        "\n",
        "for key,value in dict.items():\n",
        "    print(f\"{key}:{value}\")"
      ]
    },
    {
      "cell_type": "markdown",
      "metadata": {
        "id": "a2286311-7f8e-40f5-973c-dddd09a338d8"
      },
      "source": [
        "* WAP to count te frequency of word?"
      ]
    },
    {
      "cell_type": "code",
      "execution_count": null,
      "metadata": {
        "id": "20ffc34f-213b-4805-98e5-a85d1615b9dc",
        "outputId": "d179ac0e-c78e-4d0e-99c1-c190343f262a"
      },
      "outputs": [
        {
          "name": "stdout",
          "output_type": "stream",
          "text": [
            "{'Hello': 2, 'Java': 1, 'Python': 1}\n"
          ]
        }
      ],
      "source": [
        "word = \"Hello Java Hello Python\"\n",
        "word_count ={}\n",
        "\n",
        "for words in word.split():\n",
        "    word_count[words] = word_count.get(words,0)+1\n",
        "\n",
        "print(word_count)"
      ]
    },
    {
      "cell_type": "code",
      "execution_count": null,
      "metadata": {
        "id": "febf12f0-5a91-4c05-b2a7-51c07405a0d2",
        "outputId": "aa3a965d-823b-4fe3-d248-9c7766f9b8ec"
      },
      "outputs": [
        {
          "name": "stdout",
          "output_type": "stream",
          "text": [
            "{'a': 3, 'b': 2, 'c': 1, 'd': 1}\n",
            "3\n"
          ]
        }
      ],
      "source": [
        "str = \"a,b,a,c,b,d,a\"\n",
        "dict = {}\n",
        "for i in str.split(\",\"):\n",
        "    dict[i] = dict.get(i,0)+1\n",
        "\n",
        "print(dict)\n",
        "print(dict['a'])"
      ]
    },
    {
      "cell_type": "markdown",
      "metadata": {
        "id": "6a031d91-d70d-4b9e-98f9-4b99951e1822"
      },
      "source": [
        "* WAP to print the majority element in the list."
      ]
    },
    {
      "cell_type": "code",
      "execution_count": null,
      "metadata": {
        "id": "a1caa151-368f-4ac0-8717-bf7ef7ef80a8",
        "outputId": "3e98a060-01ce-4609-ac29-d6b31ff05dd1"
      },
      "outputs": [
        {
          "name": "stdout",
          "output_type": "stream",
          "text": [
            "2\n"
          ]
        }
      ],
      "source": [
        "lst = [1,2,3,2,2,2,2,1,3,4,1,2,2,2,2,2,2]\n",
        "n = len(lst)\n",
        "dict = {}\n",
        "\n",
        "for i in lst:\n",
        "    dict[i]=dict.get(i,0)+1\n",
        "for key,value in dict.items():\n",
        "    if(value>n//2):\n",
        "        print(key)\n",
        "        break"
      ]
    },
    {
      "cell_type": "markdown",
      "metadata": {
        "id": "c1310f13-7954-496d-96c7-043274253798"
      },
      "source": [
        "* majority 2 = WAP to find the majority element."
      ]
    },
    {
      "cell_type": "code",
      "execution_count": null,
      "metadata": {
        "id": "f168c8ba-bfcb-4ec2-bc54-a445e516e956",
        "outputId": "5fc0c36d-cb99-4394-9d98-d4cea96f9e23"
      },
      "outputs": [
        {
          "name": "stdout",
          "output_type": "stream",
          "text": [
            "[2, 4]\n"
          ]
        }
      ],
      "source": [
        "lst = [1,2,3,2,2,2,2,2,2,2,2,2,2,1,3,4,1,2,2,2,2,2,2,4,4,4,4,4,4,4,4,4,4,4,4,4,4,44,4,4,4,4]\n",
        "n = len(lst)\n",
        "dict = {}\n",
        "lst1 =[]\n",
        "\n",
        "for i in lst:\n",
        "    dict[i] = dict.get(i,0)+1\n",
        "\n",
        "for key,value in dict.items():\n",
        "    if(value>n//3):\n",
        "        lst1.append(key)\n",
        "\n",
        "\n",
        "print(lst1)\n"
      ]
    },
    {
      "cell_type": "markdown",
      "metadata": {
        "id": "3243b425-fee9-499f-9f0a-69bfcebeebdd"
      },
      "source": [
        "* WAP to count the frequency of characters in a given string"
      ]
    },
    {
      "cell_type": "code",
      "execution_count": null,
      "metadata": {
        "id": "772f99bc-5235-4ac6-8759-02ce11bcdd15",
        "outputId": "7e8527c9-dfc8-4d7c-c339-e0a6f43d0c69"
      },
      "outputs": [
        {
          "name": "stdout",
          "output_type": "stream",
          "text": [
            "{'r': 2, 'e': 3, 'm': 3, 'b': 1}\n"
          ]
        }
      ],
      "source": [
        "word = \"remmember\"\n",
        "word_count ={}\n",
        "\n",
        "for words in word:\n",
        "    word_count[words] = word_count.get(words,0)+1\n",
        "\n",
        "print(word_count)"
      ]
    },
    {
      "cell_type": "markdown",
      "metadata": {
        "id": "11fdb878-a8b6-4f59-988b-d82180334a8c"
      },
      "source": [
        "# Dictionary Comprehension"
      ]
    },
    {
      "cell_type": "code",
      "execution_count": null,
      "metadata": {
        "id": "52fe3474-1fe1-4c83-9153-ad825854e088",
        "outputId": "69c4d7b4-4925-42dd-aa2d-56539fa16c8b"
      },
      "outputs": [
        {
          "name": "stdout",
          "output_type": "stream",
          "text": [
            "1:1\n",
            "2:4\n",
            "3:9\n",
            "4:16\n"
          ]
        }
      ],
      "source": [
        "dict = {1:1,2:2,3:3,4:4}\n",
        "for key,value in dict.items():\n",
        "    dict[key] = value**2\n",
        "\n",
        "for key,value in dict.items():\n",
        "    print(f\"{key}:{value}\")"
      ]
    },
    {
      "cell_type": "code",
      "execution_count": null,
      "metadata": {
        "id": "8c0651b0-e2cc-46a1-a418-7e23fda7b37b",
        "outputId": "b9af1d9e-095a-4b1f-bbb0-fac649c8c878"
      },
      "outputs": [
        {
          "name": "stdout",
          "output_type": "stream",
          "text": [
            "{1: 1, 2: 4, 3: 9, 4: 16}\n"
          ]
        }
      ],
      "source": [
        "dict = {x:x**2 for x in range(1,5)}\n",
        "print(dict)"
      ]
    },
    {
      "cell_type": "markdown",
      "metadata": {
        "id": "5ffb7dfe-687d-4f3a-858a-62de8832a4b6"
      },
      "source": [
        "* WAP to swap key and values"
      ]
    },
    {
      "cell_type": "code",
      "execution_count": null,
      "metadata": {
        "id": "2e9f7868-8d19-48e6-b9c5-d0d65eb17348",
        "outputId": "119c0a5e-badf-45c0-a541-e97a0a7ee241"
      },
      "outputs": [
        {
          "name": "stdout",
          "output_type": "stream",
          "text": [
            "1:a\n",
            "2:b\n",
            "3:c\n",
            "4:d\n",
            "{'a': 1, 'b': 2, 'c': 3, 'd': 4}\n"
          ]
        }
      ],
      "source": [
        "dict = {'a':1,'b':2,'c':3,'d':4}\n",
        "dict1 ={}\n",
        "for key,value in dict.items():\n",
        "     print(f\"{value}:{key}\")\n",
        "print(dict)"
      ]
    },
    {
      "cell_type": "code",
      "execution_count": null,
      "metadata": {
        "id": "3fd2132c-ff92-40bd-80d3-f576c2ca5a98",
        "outputId": "0f201c1b-fbe3-4a0a-ac46-a70d29dbb089"
      },
      "outputs": [
        {
          "name": "stdout",
          "output_type": "stream",
          "text": [
            "{1: 'a', 2: 'b', 3: 'c', 4: 'd'}\n"
          ]
        }
      ],
      "source": [
        "dict = {'a':1,'b':2,'c':3,'d':4}\n",
        "dict1 ={}\n",
        "\n",
        "for key,value in dict.items():\n",
        "    dict1[value]=key\n",
        "\n",
        "print(dict1)"
      ]
    },
    {
      "cell_type": "markdown",
      "metadata": {
        "id": "e3a303b2-0d53-4d52-afb2-1a88786ca6ea"
      },
      "source": [
        "* WAP to find common keys into two dictionaries"
      ]
    },
    {
      "cell_type": "code",
      "execution_count": null,
      "metadata": {
        "id": "3cf320de-c7ce-47b6-84c7-dacb9ac6ba5a",
        "outputId": "c597ccbb-e539-42b7-b86c-f882121ff9e9"
      },
      "outputs": [
        {
          "name": "stdout",
          "output_type": "stream",
          "text": [
            "['b', 'd', 'e']\n"
          ]
        }
      ],
      "source": [
        "a = {'a':1,'b':2,'c':3,'d':4,'e':5,'f':6}\n",
        "b = {'abc':454,'b':343,'cds':342,'d':454,'ewe':523,'fhg':611,'e':21}\n",
        "lst = []\n",
        "for keys,value in a.items():\n",
        "    for i,j in b.items():\n",
        "        if(keys==i):\n",
        "         lst.append(keys)\n",
        "print(lst)"
      ]
    },
    {
      "cell_type": "markdown",
      "metadata": {
        "id": "c25b45e3-83c4-4f64-86af-d14b3da56536"
      },
      "source": [
        "# List Comprehension"
      ]
    },
    {
      "cell_type": "code",
      "execution_count": null,
      "metadata": {
        "id": "b9046d86-ae87-43e7-9b03-91db6d5730d3",
        "outputId": "6d50c8cd-6c9a-4325-ca3b-21f7b8b5862a"
      },
      "outputs": [
        {
          "name": "stdin",
          "output_type": "stream",
          "text": [
            "Enter the size of list: 4\n",
            "Enter the element: 12\n",
            "Enter the element: 32\n",
            "Enter the element: 22\n",
            "Enter the element: 1\n"
          ]
        },
        {
          "name": "stdout",
          "output_type": "stream",
          "text": [
            "[12, 32, 22, 1]\n"
          ]
        }
      ],
      "source": [
        "n = int(input(\"Enter the size of list:\"))\n",
        "lst = [int(input(\"Enter the element:\")) for i in range(n)]\n",
        "print(lst)"
      ]
    },
    {
      "cell_type": "code",
      "execution_count": null,
      "metadata": {
        "id": "9bbe8528-f6e0-42e9-a51e-cc4bad9efd86",
        "outputId": "11a7b2fc-a501-49d6-ddd6-ca0e40495184"
      },
      "outputs": [
        {
          "name": "stdin",
          "output_type": "stream",
          "text": [
            "Enter the number of rows: 2\n",
            "Enter the number of columns: 2\n",
            "Enter the element: 1\n",
            "Enter the element: 3\n",
            "Enter the element: 4\n",
            "Enter the element: 5\n"
          ]
        },
        {
          "name": "stdout",
          "output_type": "stream",
          "text": [
            "[[1, 3], [4, 5]]\n"
          ]
        }
      ],
      "source": [
        "row = int(input(\"Enter the number of rows:\"))\n",
        "col = int(input(\"Enter the number of columns:\"))\n",
        "lst = [[int(input(\"Enter the element:\")) for i in range(col)]for j in range(row)]\n",
        "print(lst)"
      ]
    },
    {
      "cell_type": "markdown",
      "metadata": {
        "id": "b792a50a-3b58-44b1-a4c4-e925646ee3ec"
      },
      "source": [
        "* WAP to create two matrix and find the addition of the matrix."
      ]
    },
    {
      "cell_type": "code",
      "execution_count": null,
      "metadata": {
        "id": "653eba1d-dd65-476b-af11-5a014dc3ded3",
        "outputId": "1752766f-20a4-4e1a-8ddd-e4cc757d8fb2"
      },
      "outputs": [
        {
          "name": "stdin",
          "output_type": "stream",
          "text": [
            "Enter the number of rows1: 2\n",
            "Enter the number of columns1: 2\n",
            "Enter the element: 1\n",
            "Enter the element: 2\n",
            "Enter the element: 3\n",
            "Enter the element: 4\n"
          ]
        },
        {
          "name": "stdout",
          "output_type": "stream",
          "text": [
            "[[1, 2], [3, 4]]\n"
          ]
        },
        {
          "name": "stdin",
          "output_type": "stream",
          "text": [
            "Enter the number of rows2: 2\n",
            "Enter the number of columns2: 2\n",
            "Enter the element: 6\n",
            "Enter the element: 6\n",
            "Enter the element: 5\n",
            "Enter the element: 6\n"
          ]
        },
        {
          "name": "stdout",
          "output_type": "stream",
          "text": [
            "[[6, 6], [5, 6]]\n",
            "The sum of two lists are: [[7, 8], [8, 10]]\n"
          ]
        }
      ],
      "source": [
        "row1 = int(input(\"Enter the number of rows1:\"))\n",
        "col1 = int(input(\"Enter the number of columns1:\"))\n",
        "lst1 = [[int(input(\"Enter the element:\")) for i in range(col1)]for j in range(row1)]\n",
        "print(lst1)\n",
        "row2 = int(input(\"Enter the number of rows2:\"))\n",
        "col2 = int(input(\"Enter the number of columns2:\"))\n",
        "lst2= [[int(input(\"Enter the element:\")) for i in range(col2)]for j in range(row2)]\n",
        "print(lst2)\n",
        "lst = [[lst1[i][j] + lst2[i][j] for j in range(len(lst1[0]))]for i in range(len(lst1))]\n",
        "print(\"The sum of two lists are:\",lst)\n"
      ]
    },
    {
      "cell_type": "markdown",
      "metadata": {
        "id": "8801b9a1-29c1-4dfc-8efd-f5b2d88caa28"
      },
      "source": [
        "# Join Function\n",
        "->To convert the list into the string."
      ]
    },
    {
      "cell_type": "code",
      "execution_count": null,
      "metadata": {
        "id": "f667b07f-2f16-4a39-9e61-fc49a2628a01",
        "outputId": "25f1907c-62df-4838-e379-820c021309a5"
      },
      "outputs": [
        {
          "name": "stdout",
          "output_type": "stream",
          "text": [
            "['classes', 'python', 'the', 'to', 'welcome', 'Hi,']\n",
            "classes python the to welcome Hi,\n"
          ]
        }
      ],
      "source": [
        "str = \"Hi, welcome to the python classes\"\n",
        "lst = str.split()\n",
        "lst.reverse()\n",
        "str2= \" \".join(lst)\n",
        "print(lst)\n",
        "print(str2)"
      ]
    },
    {
      "cell_type": "markdown",
      "metadata": {
        "id": "1b4bf85d-6608-4a45-b927-4ebfb24bcdc6"
      },
      "source": [
        "# *Introduction to Pandas and Numpy*"
      ]
    },
    {
      "cell_type": "code",
      "execution_count": null,
      "metadata": {
        "id": "876f9780-9035-46bc-aa59-da1bf778e276",
        "outputId": "9bd20866-b812-4456-adca-5f65f60833db"
      },
      "outputs": [
        {
          "name": "stdout",
          "output_type": "stream",
          "text": [
            "1.26.4\n",
            "2.1.4\n"
          ]
        }
      ],
      "source": [
        "import numpy as np\n",
        "import pandas as pd\n",
        "print(numpy.__version__)\n",
        "print(pandas.__version__)\n"
      ]
    },
    {
      "cell_type": "code",
      "execution_count": null,
      "metadata": {
        "id": "24280b4d-7ee9-471a-96cd-899313687525",
        "outputId": "2aedb56f-13f4-456d-fea4-d67dadaa1827"
      },
      "outputs": [
        {
          "name": "stdout",
          "output_type": "stream",
          "text": [
            "[1 2 3 4 5]\n"
          ]
        }
      ],
      "source": [
        "import numpy as np\n",
        "lst = np.array([1,2,3,4,5])\n",
        "print(lst)"
      ]
    },
    {
      "cell_type": "code",
      "execution_count": null,
      "metadata": {
        "id": "d714be63-287a-4533-bd72-6d9530283484",
        "outputId": "af44255f-6915-4814-b236-7002c5d16f7d"
      },
      "outputs": [
        {
          "name": "stdin",
          "output_type": "stream",
          "text": [
            "Enter the number of rows: 3\n",
            "Enter the number of columns: 3\n",
            "Enter the element: 1\n",
            "Enter the element: 2\n",
            "Enter the element: 3\n",
            "Enter the element: 4\n",
            "Enter the element: 5\n",
            "Enter the element: 6\n",
            "Enter the element: 7\n",
            "Enter the element: 8\n",
            "Enter the element: 9\n"
          ]
        },
        {
          "name": "stdout",
          "output_type": "stream",
          "text": [
            "[[1 2 3]\n",
            " [4 5 6]\n",
            " [7 8 9]]\n"
          ]
        }
      ],
      "source": [
        "row = int(input(\"Enter the number of rows:\"))\n",
        "col = int(input(\"Enter the number of columns:\"))\n",
        "lst = [[int(input(\"Enter the element:\")) for i in range(col)]for j in range(row)]\n",
        "arr = np.array(lst)\n",
        "print(arr)"
      ]
    },
    {
      "cell_type": "code",
      "execution_count": null,
      "metadata": {
        "id": "af9f5099-1bc1-4c42-ac60-8ae26647ffa1",
        "outputId": "c1ae60e3-679a-4e34-eb66-ff2ee9b0625f"
      },
      "outputs": [
        {
          "name": "stdout",
          "output_type": "stream",
          "text": [
            "[[0. 0.]\n",
            " [0. 0.]]\n",
            "[[1. 1.]\n",
            " [1. 1.]]\n",
            "[[0.27918113 0.75124792]\n",
            " [0.56296558 0.83629147]]\n"
          ]
        }
      ],
      "source": [
        "import random\n",
        "arr = np.zeros((2,2))\n",
        "print(arr)\n",
        "arr2 = np.ones((2,2))\n",
        "print(arr2)\n",
        "\n",
        "arr3 = np.random.rand(2,2)\n",
        "print(arr3)"
      ]
    },
    {
      "cell_type": "code",
      "execution_count": null,
      "metadata": {
        "id": "b1239880-83c3-4043-a0cc-528a4081256c",
        "outputId": "315498a0-0aed-4d7e-a8cd-82c0029256e9"
      },
      "outputs": [
        {
          "name": "stdout",
          "output_type": "stream",
          "text": [
            "[ 1  3  5  7  9 11 13 15]\n"
          ]
        }
      ],
      "source": [
        "arr = np.arange(1,16,2)\n",
        "print(arr)"
      ]
    },
    {
      "cell_type": "code",
      "execution_count": null,
      "metadata": {
        "id": "560ea2b5-6883-48a5-8825-bef9ef1b2bbe",
        "outputId": "b4a474ca-420b-466c-a0a3-351ea50ec9d1"
      },
      "outputs": [
        {
          "name": "stdout",
          "output_type": "stream",
          "text": [
            "[1.  1.2 1.4 1.6 1.8 2. ]\n"
          ]
        }
      ],
      "source": [
        "arr = np.linspace(1,2,6) #Takes in 6 equal fragments.\n",
        "print(arr)"
      ]
    },
    {
      "cell_type": "code",
      "execution_count": null,
      "metadata": {
        "id": "94848e55-9721-4d1d-94d9-007cc701f62d",
        "outputId": "8c80f567-4c11-4593-adbe-0b470c8b8a00"
      },
      "outputs": [
        {
          "name": "stdout",
          "output_type": "stream",
          "text": [
            "[1.  1.5 2. ]\n"
          ]
        }
      ],
      "source": [
        "arr = np.linspace(1,2,3) #Takes in 6 equal fragments.\n",
        "print(arr)"
      ]
    },
    {
      "cell_type": "code",
      "execution_count": null,
      "metadata": {
        "id": "a63675ab-90cd-44d6-8c32-4a7e126a936f",
        "outputId": "8d2d577a-ffbe-41ac-d12d-706ebc4c5b84"
      },
      "outputs": [
        {
          "name": "stdout",
          "output_type": "stream",
          "text": [
            "[ 6  7  8  9 10]\n",
            "[ 2  4  6  8 10]\n"
          ]
        }
      ],
      "source": [
        "arr = np.array([1,2,3,4,5])\n",
        "print(arr+5)\n",
        "print(arr*2)"
      ]
    },
    {
      "cell_type": "code",
      "execution_count": null,
      "metadata": {
        "id": "03fa149a-a3fc-4bff-bab7-0d885cbd4bbc",
        "outputId": "dabd680b-8802-41f8-989b-583d72b7738f"
      },
      "outputs": [
        {
          "name": "stdout",
          "output_type": "stream",
          "text": [
            "The sum of two arrays: [ 7  8 10 12]\n",
            "The product of two arrays: [ 6 12 21 32]\n"
          ]
        }
      ],
      "source": [
        "arr = np.array([1,2,3,4])\n",
        "arr1 = np.array([6,6,7,8])\n",
        "print(\"The sum of two arrays:\",arr+arr1)\n",
        "print(\"The product of two arrays:\",arr*arr1)"
      ]
    },
    {
      "cell_type": "code",
      "execution_count": null,
      "metadata": {
        "id": "aed31204-272c-45c0-b36a-0c943cc4c631",
        "outputId": "719deb36-5d7b-451b-e906-efe281a40c5a"
      },
      "outputs": [
        {
          "name": "stdin",
          "output_type": "stream",
          "text": [
            "Enter the number of columns1: 1\n",
            "Enter the element: 1\n",
            "Enter the element: 1\n"
          ]
        },
        {
          "name": "stdout",
          "output_type": "stream",
          "text": [
            "[[1], [1]]\n"
          ]
        },
        {
          "name": "stdin",
          "output_type": "stream",
          "text": [
            "Enter the number of rows2: 1\n",
            "Enter the number of columns2: 1\n",
            "Enter the element: 1\n"
          ]
        },
        {
          "name": "stdout",
          "output_type": "stream",
          "text": [
            "[[1]]\n",
            "The sum of 2 arrays are: [[2]\n",
            " [2]]\n",
            "The sum of 2 arrays are: [[1]\n",
            " [1]]\n"
          ]
        }
      ],
      "source": [
        "# row1 = int(input(\"Enter the number of rows1:\"))\n",
        "col1 = int(input(\"Enter the number of columns1:\"))\n",
        "lst1 = [[int(input(\"Enter the element:\")) for i in range(col1)]for j in range(row1)]\n",
        "print(lst1)\n",
        "row2 = int(input(\"Enter the number of rows2:\"))\n",
        "col2 = int(input(\"Enter the number of columns2:\"))\n",
        "lst2= [[int(input(\"Enter the element:\")) for i in range(col2)]for j in range(row2)]\n",
        "arr = np.array(lst1)\n",
        "arr1 = np.array(lst2)\n",
        "print(lst2)\n",
        "print(\"The sum of 2 arrays are:\",arr+arr1)\n",
        "print(\"The sum of 2 arrays are:\",arr*arr1)"
      ]
    },
    {
      "cell_type": "code",
      "execution_count": null,
      "metadata": {
        "id": "7a969875-fbeb-4838-913b-369fba2ed46c",
        "outputId": "2875c274-2293-4197-f670-f155cc573416"
      },
      "outputs": [
        {
          "name": "stdout",
          "output_type": "stream",
          "text": [
            "[ 3.16227766 10.         31.6227766 ]\n",
            "[-0.54402111 -0.50636564  0.82687954]\n",
            "[2.30258509 4.60517019 6.90775528]\n"
          ]
        }
      ],
      "source": [
        "arr = np.array([10,100,1000])\n",
        "print(np.sqrt(arr))\n",
        "print(np.sin(arr))\n",
        "print(np.log(arr)) #Base 2(natura log)"
      ]
    },
    {
      "cell_type": "code",
      "execution_count": null,
      "metadata": {
        "id": "de0eab08-b822-433a-98f7-0866aac67e7b",
        "outputId": "2c995400-d0a7-4b8a-815b-716a09340e9d"
      },
      "outputs": [
        {
          "name": "stdout",
          "output_type": "stream",
          "text": [
            "4.0\n",
            "2.0\n",
            "28\n",
            "[4 5 6 7]\n"
          ]
        }
      ],
      "source": [
        "arr = np.array([1,2,3,4,5,6,7])\n",
        "print(np.mean(arr))\n",
        "print(np.std(arr)) #mean/2.\n",
        "print(np.sum(arr))\n",
        "print(arr[arr>3])"
      ]
    },
    {
      "cell_type": "markdown",
      "metadata": {
        "id": "29c08062-ef30-4020-864b-94c27d359d29"
      },
      "source": [
        "* WAP to create a numpy array of numbers from 1-9 and reshape it into a 3X3 matrix"
      ]
    },
    {
      "cell_type": "code",
      "execution_count": null,
      "metadata": {
        "id": "06d3546b-499a-40f9-a196-e550f435768e",
        "outputId": "4568f79b-e846-4230-91b7-c5bcc704de24"
      },
      "outputs": [
        {
          "name": "stdout",
          "output_type": "stream",
          "text": [
            "[1 2 3 4 5 6 7 8 9]\n"
          ]
        }
      ],
      "source": [
        "# col1 = int(input(\"Enter the number of columns1:\"))\n",
        "# lst1 = [[int(input(\"Enter the element:\")) for i in range(col1)]for j in range(row1)]\n",
        "# print(lst1)\n",
        "# row2 = int(input(\"Enter the number of rows2:\"))\n",
        "# col2 = int(input(\"Enter the number of columns2:\"))\n",
        "# lst2= [[int(input(\"Enter the element:\")) for i in range(col2)]for j in range(row2)]"
      ]
    },
    {
      "cell_type": "code",
      "execution_count": null,
      "metadata": {
        "id": "a1962638-f06c-4f3f-82b3-9115e9105600",
        "outputId": "8c058b3c-aacf-460d-9fc9-cec02bf03956"
      },
      "outputs": [
        {
          "name": "stdout",
          "output_type": "stream",
          "text": [
            "[[1 2 3]\n",
            " [4 5 6]\n",
            " [7 8 9]]\n"
          ]
        }
      ],
      "source": [
        "#1st Approach.\n",
        "# lst = [x for x in range(1,10)]\n",
        "arr = np.arange(1,10).reshape(3,3)\n",
        "print(arr)\n"
      ]
    },
    {
      "cell_type": "code",
      "execution_count": null,
      "metadata": {
        "id": "b466f50b-e657-4363-98b6-b19f47223e2f",
        "outputId": "9378d675-6203-49ef-aa74-40e8504568b4"
      },
      "outputs": [
        {
          "name": "stdout",
          "output_type": "stream",
          "text": [
            "[[1 2 3]\n",
            " [4 5 6]\n",
            " [7 8 9]]\n"
          ]
        }
      ],
      "source": [
        "#2nd approach.\n",
        "lst = [x for x in range(1,10)]\n",
        "arr = np.array(lst).reshape(3,3)\n",
        "print(arr)\n"
      ]
    },
    {
      "cell_type": "markdown",
      "metadata": {
        "id": "b830a0b0-492c-42e9-87d5-14716f917366"
      },
      "source": [
        "* WAP to find the max and min value in an array.\n",
        "  "
      ]
    },
    {
      "cell_type": "code",
      "execution_count": null,
      "metadata": {
        "id": "e6569661-b698-4563-82dc-c0ec19c70edc",
        "outputId": "5f649aa5-b0f9-4007-e32d-5acc6149cce3"
      },
      "outputs": [
        {
          "name": "stdout",
          "output_type": "stream",
          "text": [
            "The minimum element is: 1\n",
            "The maximum array is 9\n"
          ]
        }
      ],
      "source": [
        "lst = [x for x in range(1,10)]\n",
        "# arr = np.min(lst)\n",
        "# arr1 = np.max(lst)\n",
        "print(\"The minimum element is:\",np.min(lst))\n",
        "print(\"The maximum array is\",np.max(lst))"
      ]
    },
    {
      "cell_type": "markdown",
      "metadata": {
        "id": "c233fde3-4fae-4b17-96b1-6146990cee38"
      },
      "source": [
        "* WAP to find the transpose of the matrix and inverse."
      ]
    },
    {
      "cell_type": "code",
      "execution_count": null,
      "metadata": {
        "id": "1896e7cf-0b76-46a2-b550-0d829d9a15d9",
        "outputId": "f6f2990e-3c09-4885-d353-ef8b05cb88c0"
      },
      "outputs": [
        {
          "name": "stdout",
          "output_type": "stream",
          "text": [
            "[[1 3]\n",
            " [2 4]]\n",
            "-2.0000000000000004\n",
            "[[-2.   1. ]\n",
            " [ 1.5 -0.5]]\n"
          ]
        }
      ],
      "source": [
        "arr = np.array([[1,2],[3,4]])\n",
        "print(np.transpose(arr))\n",
        "det = np.linalg.det(arr)\n",
        "print(det)\n",
        "if(det!=0):\n",
        "    inv = np.linalg.inv(arr)\n",
        "    print(inv)\n",
        "else:\n",
        "    print(\"Inverse is not possible\")\n",
        "# print(np.linalg.inv(arr))"
      ]
    },
    {
      "cell_type": "markdown",
      "metadata": {
        "id": "a9419621-f39e-4a97-aa11-5865b9b38588"
      },
      "source": [
        "* WAP to convert 2X2 matrix into 1d)"
      ]
    },
    {
      "cell_type": "code",
      "execution_count": null,
      "metadata": {
        "id": "db3fdf23-7f7d-4c4e-ba2a-eb7cdb42152b",
        "outputId": "7a07714b-9deb-4454-b875-e4572b303af0"
      },
      "outputs": [
        {
          "name": "stdout",
          "output_type": "stream",
          "text": [
            "[1 2 3 4]\n"
          ]
        }
      ],
      "source": [
        "arr = np.array([[1,2],[3,4]])\n",
        "arr1 = np.array(arr).flatten()\n",
        "print(arr1)"
      ]
    },
    {
      "cell_type": "markdown",
      "metadata": {
        "id": "e06b823c-23ca-442e-b9f7-964947a9c969"
      },
      "source": [
        "* Split a 1D array in 3 parts."
      ]
    },
    {
      "cell_type": "code",
      "execution_count": null,
      "metadata": {
        "id": "67367a3a-0cea-450e-82e9-7af61e89ac83",
        "outputId": "8314c537-6baa-4f78-b4f1-893d455649ea"
      },
      "outputs": [
        {
          "name": "stdout",
          "output_type": "stream",
          "text": [
            "[array([1, 2, 3, 4]), array([5, 6, 7, 8]), array([ 9, 10, 11])]\n",
            "part 1: [1 2 3 4]\n",
            "part 2: [5 6 7 8]\n",
            "part 3: [ 9 10 11]\n"
          ]
        }
      ],
      "source": [
        "arr = [i for i in range(1,12)]\n",
        "parts = np.array_split(arr,3)\n",
        "print(parts)\n",
        "for i,j in enumerate(parts,1):\n",
        "    print(f\"part {i}:\",j)"
      ]
    },
    {
      "cell_type": "code",
      "execution_count": null,
      "metadata": {
        "id": "bfe92e82-591b-409c-bd22-ffff0e2e0279",
        "outputId": "ce9585b5-45a5-49a8-b035-d89e51889323"
      },
      "outputs": [
        {
          "name": "stdout",
          "output_type": "stream",
          "text": [
            "0    1\n",
            "1    2\n",
            "2    3\n",
            "3    4\n",
            "4    5\n",
            "5    6\n",
            "6    7\n",
            "dtype: int64\n"
          ]
        }
      ],
      "source": [
        "import pandas as pd\n",
        "data = pd.Series([1,2,3,4,5,6,7])\n",
        "print(data)\n"
      ]
    },
    {
      "cell_type": "code",
      "execution_count": null,
      "metadata": {
        "id": "f6fe1d54-1437-4682-830a-dd4fa5d93290",
        "outputId": "cb96326b-51a3-4340-e7a8-c044d1437def"
      },
      "outputs": [
        {
          "name": "stdout",
          "output_type": "stream",
          "text": [
            "       Name  Age  Salary\n",
            "0      Aman   25   30000\n",
            "1    Prince   24   50000\n",
            "2  Priyanka   25   25000\n",
            "3     Rohit   26   40000\n"
          ]
        }
      ],
      "source": [
        "data = pd.DataFrame({\n",
        "    \"Name\":[\"Aman\",\"Prince\",\"Priyanka\",\"Rohit\"],\n",
        "     \"Age\":[25,24,25,26],\n",
        "     \"Salary\" :[30000,50000,25000,40000]\n",
        "})\n",
        "print(data)"
      ]
    },
    {
      "cell_type": "code",
      "execution_count": null,
      "metadata": {
        "id": "7d8eb3ae-9331-4f81-8ef2-43f3d7c6ff9f",
        "outputId": "19ad2691-a915-4996-a13f-1972896ed7ca"
      },
      "outputs": [
        {
          "name": "stdout",
          "output_type": "stream",
          "text": [
            "       Name   Age Branch  SGPA  CGPA      Address\n",
            "0     Vedant   20  AI/ML  7.77  7.75      Tilheri\n",
            "1      Jatin   20  AI/ML  7.10  7.20  Madan Mahal\n",
            "2  Shambhavi   21  AI/ML  7.75  7.45         RDVV\n",
            "3       Urja   21  AI/ML  7.58  7.68        Ukhri\n",
            "4       Yash   20    IOT  7.50  7.46   Aaga chowk\n"
          ]
        }
      ],
      "source": [
        "data = pd.read_csv(r'C:\\Users\\DELL\\Downloads\\Student_details.csv - Sheet1.csv')\n",
        "print(data)"
      ]
    },
    {
      "cell_type": "code",
      "execution_count": null,
      "metadata": {
        "id": "cd7f1025-a3ef-4519-908a-d7c68360f3d2",
        "outputId": "244f106a-6a4a-4896-ed46-2802bfc9a03f"
      },
      "outputs": [
        {
          "name": "stdout",
          "output_type": "stream",
          "text": [
            "       Name   Age Branch  SGPA  CGPA      Address\n",
            "0     Vedant   20  AI/ML  7.77  7.75      Tilheri\n",
            "1      Jatin   20  AI/ML  7.10  7.20  Madan Mahal\n",
            "2  Shambhavi   21  AI/ML  7.75  7.45         RDVV\n",
            "3       Urja   21  AI/ML  7.58  7.68        Ukhri\n",
            "4       Yash   20    IOT  7.50  7.46   Aaga chowk\n"
          ]
        }
      ],
      "source": [
        "print(data.head())"
      ]
    },
    {
      "cell_type": "code",
      "execution_count": null,
      "metadata": {
        "id": "98485cca-b396-429a-8d0c-8e44eb97496b",
        "outputId": "d4f18a07-3a32-45a2-c088-9731863fb8de"
      },
      "outputs": [
        {
          "name": "stdout",
          "output_type": "stream",
          "text": [
            "       Name   Age Branch  SGPA  CGPA      Address\n",
            "0     Vedant   20  AI/ML  7.77  7.75      Tilheri\n",
            "1      Jatin   20  AI/ML  7.10  7.20  Madan Mahal\n",
            "2  Shambhavi   21  AI/ML  7.75  7.45         RDVV\n",
            "3       Urja   21  AI/ML  7.58  7.68        Ukhri\n",
            "4       Yash   20    IOT  7.50  7.46   Aaga chowk\n"
          ]
        }
      ],
      "source": [
        "print(data.tail())"
      ]
    },
    {
      "cell_type": "code",
      "execution_count": null,
      "metadata": {
        "id": "2ce15532-73a0-4e02-83f8-60e6b64f2159",
        "outputId": "cfc35cfa-e42e-4e3b-a0ef-b862dbd46200"
      },
      "outputs": [
        {
          "name": "stdout",
          "output_type": "stream",
          "text": [
            "       Name   Age Branch  SGPA  CGPA Address\n",
            "2  Shambhavi   21  AI/ML  7.75  7.45    RDVV\n",
            "3       Urja   21  AI/ML  7.58  7.68   Ukhri\n"
          ]
        }
      ],
      "source": [
        "print(data[data[\"Age\"]>20])"
      ]
    },
    {
      "cell_type": "code",
      "execution_count": null,
      "metadata": {
        "id": "bf93d90f-666f-4fc7-aa75-9959b6cefefa",
        "outputId": "6d54eb15-db1c-4ecb-871d-e21b0d2d108d"
      },
      "outputs": [
        {
          "name": "stdout",
          "output_type": "stream",
          "text": [
            "       Name   Age Branch  CGPA      Address\n",
            "0     Vedant   20  AI/ML  7.75      Tilheri\n",
            "1      Jatin   20  AI/ML  7.20  Madan Mahal\n",
            "2  Shambhavi   21  AI/ML  7.45         RDVV\n",
            "3       Urja   21  AI/ML  7.68        Ukhri\n",
            "4       Yash   20    IOT  7.46   Aaga chowk\n"
          ]
        }
      ],
      "source": [
        "data.drop(\"SGPA\",axis=1,inplace=True)\n",
        "print(data)"
      ]
    },
    {
      "cell_type": "code",
      "execution_count": null,
      "metadata": {
        "id": "966b8c61-4de5-40dd-acbd-f87e0e8f6200",
        "outputId": "728a25f4-4ece-4f2d-ab33-b7327a463d5f"
      },
      "outputs": [
        {
          "name": "stdout",
          "output_type": "stream",
          "text": [
            "             Age      CGPA\n",
            "count   5.000000  5.000000\n",
            "mean   20.400000  7.508000\n",
            "std     0.547723  0.217187\n",
            "min    20.000000  7.200000\n",
            "25%    20.000000  7.450000\n",
            "50%    20.000000  7.460000\n",
            "75%    21.000000  7.680000\n",
            "max    21.000000  7.750000\n"
          ]
        }
      ],
      "source": [
        "print(data.describe())"
      ]
    },
    {
      "cell_type": "code",
      "execution_count": null,
      "metadata": {
        "id": "9627f0aa-2fd8-40c1-b476-d54d769561fb",
        "outputId": "9b6b277c-1bce-44c5-aa3e-ef84427fe390"
      },
      "outputs": [
        {
          "name": "stdout",
          "output_type": "stream",
          "text": [
            "<class 'pandas.core.frame.DataFrame'>\n",
            "RangeIndex: 5 entries, 0 to 4\n",
            "Data columns (total 5 columns):\n",
            " #   Column   Non-Null Count  Dtype  \n",
            "---  ------   --------------  -----  \n",
            " 0   Name     5 non-null      object \n",
            " 1   Age      5 non-null      int64  \n",
            " 2   Branch   5 non-null      object \n",
            " 3   CGPA     5 non-null      float64\n",
            " 4   Address  5 non-null      object \n",
            "dtypes: float64(1), int64(1), object(3)\n",
            "memory usage: 332.0+ bytes\n",
            "None\n"
          ]
        }
      ],
      "source": [
        "print(data.info())"
      ]
    },
    {
      "cell_type": "code",
      "execution_count": null,
      "metadata": {
        "id": "56d73ee2-dbf6-4a46-99b9-88d35b9ff254",
        "outputId": "7d0a7ad8-48a8-44de-d476-8716b9ed7e49"
      },
      "outputs": [
        {
          "name": "stdout",
          "output_type": "stream",
          "text": [
            "Index(['Name ', 'Age', 'Branch', 'CGPA', 'Address'], dtype='object')\n"
          ]
        }
      ],
      "source": [
        "print(data.columns)"
      ]
    },
    {
      "cell_type": "code",
      "execution_count": null,
      "metadata": {
        "id": "502ee85a-7008-4142-9a3a-fa0742e0ff23",
        "outputId": "e1825b77-4120-4538-d6a4-424d83b944f8"
      },
      "outputs": [
        {
          "name": "stdout",
          "output_type": "stream",
          "text": [
            "      CGPA\n",
            "Age       \n",
            "20   7.470\n",
            "21   7.565\n"
          ]
        }
      ],
      "source": [
        "x=data.groupby(\"Age\").mean(\"Age\")\n",
        "print(x)"
      ]
    },
    {
      "cell_type": "code",
      "execution_count": null,
      "metadata": {
        "id": "7a17786a-c121-4a0a-bcbc-0f4779a43646"
      },
      "outputs": [],
      "source": [
        "# merge = pd.merge(data1,data2,on = 'key_column')\n",
        "# concat = pd.concat([data1,data2],axis=0)"
      ]
    },
    {
      "cell_type": "code",
      "execution_count": null,
      "metadata": {
        "id": "233b9982-3024-49a3-ad72-177681663ad3",
        "outputId": "a2626847-2beb-42ad-dda9-9dad559c1b36"
      },
      "outputs": [
        {
          "ename": "NameError",
          "evalue": "name 'pd' is not defined",
          "output_type": "error",
          "traceback": [
            "\u001b[1;31m---------------------------------------------------------------------------\u001b[0m",
            "\u001b[1;31mNameError\u001b[0m                                 Traceback (most recent call last)",
            "Cell \u001b[1;32mIn[4], line 1\u001b[0m\n\u001b[1;32m----> 1\u001b[0m df \u001b[38;5;241m=\u001b[39m pd\u001b[38;5;241m.\u001b[39mread_csv(\u001b[38;5;124mr\u001b[39m\u001b[38;5;124m'\u001b[39m\u001b[38;5;124mC:\u001b[39m\u001b[38;5;124m\\\u001b[39m\u001b[38;5;124mUsers\u001b[39m\u001b[38;5;124m\\\u001b[39m\u001b[38;5;124mDELL\u001b[39m\u001b[38;5;124m\\\u001b[39m\u001b[38;5;124mDownloads\u001b[39m\u001b[38;5;124m\\\u001b[39m\u001b[38;5;124mBook(Sheet1).csv\u001b[39m\u001b[38;5;124m'\u001b[39m)\n\u001b[0;32m      2\u001b[0m \u001b[38;5;28mprint\u001b[39m(df)\n",
            "\u001b[1;31mNameError\u001b[0m: name 'pd' is not defined"
          ]
        }
      ],
      "source": [
        "df = pd.read_csv(r'C:\\Users\\DELL\\Downloads\\Book(Sheet1).csv')\n",
        "print(df)"
      ]
    },
    {
      "cell_type": "code",
      "execution_count": null,
      "metadata": {
        "id": "1babdb43-f913-43a4-8115-233853f6192b",
        "outputId": "144c8638-b53b-450e-8994-7c8719b9f29a"
      },
      "outputs": [
        {
          "ename": "NameError",
          "evalue": "name 'df' is not defined",
          "output_type": "error",
          "traceback": [
            "\u001b[1;31m---------------------------------------------------------------------------\u001b[0m",
            "\u001b[1;31mNameError\u001b[0m                                 Traceback (most recent call last)",
            "Cell \u001b[1;32mIn[1], line 1\u001b[0m\n\u001b[1;32m----> 1\u001b[0m df\u001b[38;5;241m.\u001b[39mcolumns\n",
            "\u001b[1;31mNameError\u001b[0m: name 'df' is not defined"
          ]
        }
      ],
      "source": [
        "df.columns"
      ]
    },
    {
      "cell_type": "code",
      "execution_count": null,
      "metadata": {
        "id": "b7cc44c4-bcd3-4a5c-95e0-d7e20ac7bb60",
        "outputId": "94647fde-7041-41ba-b59a-f835a6e031a9"
      },
      "outputs": [
        {
          "name": "stdout",
          "output_type": "stream",
          "text": [
            "<class 'pandas.core.frame.DataFrame'>\n",
            "RangeIndex: 9 entries, 0 to 8\n",
            "Data columns (total 6 columns):\n",
            " #   Column    Non-Null Count  Dtype  \n",
            "---  ------    --------------  -----  \n",
            " 0   Name      9 non-null      object \n",
            " 1   Age       9 non-null      int64  \n",
            " 2   Roll no.  9 non-null      int64  \n",
            " 3   CGPA      9 non-null      float64\n",
            " 4   Address   9 non-null      object \n",
            " 5   Branch    9 non-null      object \n",
            "dtypes: float64(1), int64(2), object(3)\n",
            "memory usage: 564.0+ bytes\n"
          ]
        }
      ],
      "source": [
        "df.info()"
      ]
    },
    {
      "cell_type": "code",
      "execution_count": null,
      "metadata": {
        "id": "79b2c2af-8d15-4c27-8c6b-0a25e6400c8c",
        "outputId": "f17d6290-5fa2-4902-cede-082ab4cef910"
      },
      "outputs": [
        {
          "data": {
            "text/html": [
              "<div>\n",
              "<style scoped>\n",
              "    .dataframe tbody tr th:only-of-type {\n",
              "        vertical-align: middle;\n",
              "    }\n",
              "\n",
              "    .dataframe tbody tr th {\n",
              "        vertical-align: top;\n",
              "    }\n",
              "\n",
              "    .dataframe thead th {\n",
              "        text-align: right;\n",
              "    }\n",
              "</style>\n",
              "<table border=\"1\" class=\"dataframe\">\n",
              "  <thead>\n",
              "    <tr style=\"text-align: right;\">\n",
              "      <th></th>\n",
              "      <th>Age</th>\n",
              "      <th>Roll no.</th>\n",
              "      <th>CGPA</th>\n",
              "    </tr>\n",
              "  </thead>\n",
              "  <tbody>\n",
              "    <tr>\n",
              "      <th>count</th>\n",
              "      <td>9.000000</td>\n",
              "      <td>9.000000</td>\n",
              "      <td>9.000000</td>\n",
              "    </tr>\n",
              "    <tr>\n",
              "      <th>mean</th>\n",
              "      <td>20.555556</td>\n",
              "      <td>51.444444</td>\n",
              "      <td>7.227778</td>\n",
              "    </tr>\n",
              "    <tr>\n",
              "      <th>std</th>\n",
              "      <td>0.726483</td>\n",
              "      <td>20.952990</td>\n",
              "      <td>0.383333</td>\n",
              "    </tr>\n",
              "    <tr>\n",
              "      <th>min</th>\n",
              "      <td>20.000000</td>\n",
              "      <td>20.000000</td>\n",
              "      <td>6.700000</td>\n",
              "    </tr>\n",
              "    <tr>\n",
              "      <th>25%</th>\n",
              "      <td>20.000000</td>\n",
              "      <td>33.000000</td>\n",
              "      <td>6.900000</td>\n",
              "    </tr>\n",
              "    <tr>\n",
              "      <th>50%</th>\n",
              "      <td>20.000000</td>\n",
              "      <td>60.000000</td>\n",
              "      <td>7.200000</td>\n",
              "    </tr>\n",
              "    <tr>\n",
              "      <th>75%</th>\n",
              "      <td>21.000000</td>\n",
              "      <td>70.000000</td>\n",
              "      <td>7.500000</td>\n",
              "    </tr>\n",
              "    <tr>\n",
              "      <th>max</th>\n",
              "      <td>22.000000</td>\n",
              "      <td>72.000000</td>\n",
              "      <td>7.800000</td>\n",
              "    </tr>\n",
              "  </tbody>\n",
              "</table>\n",
              "</div>"
            ],
            "text/plain": [
              "             Age   Roll no.      CGPA\n",
              "count   9.000000   9.000000  9.000000\n",
              "mean   20.555556  51.444444  7.227778\n",
              "std     0.726483  20.952990  0.383333\n",
              "min    20.000000  20.000000  6.700000\n",
              "25%    20.000000  33.000000  6.900000\n",
              "50%    20.000000  60.000000  7.200000\n",
              "75%    21.000000  70.000000  7.500000\n",
              "max    22.000000  72.000000  7.800000"
            ]
          },
          "execution_count": 54,
          "metadata": {},
          "output_type": "execute_result"
        }
      ],
      "source": [
        "df.describe()"
      ]
    },
    {
      "cell_type": "code",
      "execution_count": null,
      "metadata": {
        "id": "cd1acf10-8c8a-486d-8c9a-46b8d27a7bb7",
        "outputId": "ff3c467f-3d12-41af-a771-ac93d1a4904e"
      },
      "outputs": [
        {
          "data": {
            "text/html": [
              "<div>\n",
              "<style scoped>\n",
              "    .dataframe tbody tr th:only-of-type {\n",
              "        vertical-align: middle;\n",
              "    }\n",
              "\n",
              "    .dataframe tbody tr th {\n",
              "        vertical-align: top;\n",
              "    }\n",
              "\n",
              "    .dataframe thead th {\n",
              "        text-align: right;\n",
              "    }\n",
              "</style>\n",
              "<table border=\"1\" class=\"dataframe\">\n",
              "  <thead>\n",
              "    <tr style=\"text-align: right;\">\n",
              "      <th></th>\n",
              "      <th>Name</th>\n",
              "      <th>Age</th>\n",
              "      <th>Roll no.</th>\n",
              "      <th>CGPA</th>\n",
              "      <th>Address</th>\n",
              "      <th>Branch</th>\n",
              "    </tr>\n",
              "  </thead>\n",
              "  <tbody>\n",
              "    <tr>\n",
              "      <th>0</th>\n",
              "      <td>Jatin</td>\n",
              "      <td>20</td>\n",
              "      <td>27</td>\n",
              "      <td>7.20</td>\n",
              "      <td>Madan Mahal</td>\n",
              "      <td>AIML</td>\n",
              "    </tr>\n",
              "    <tr>\n",
              "      <th>1</th>\n",
              "      <td>Shambhavi</td>\n",
              "      <td>21</td>\n",
              "      <td>60</td>\n",
              "      <td>7.45</td>\n",
              "      <td>RDVV</td>\n",
              "      <td>AIML</td>\n",
              "    </tr>\n",
              "    <tr>\n",
              "      <th>2</th>\n",
              "      <td>Vedant</td>\n",
              "      <td>20</td>\n",
              "      <td>70</td>\n",
              "      <td>7.60</td>\n",
              "      <td>Tilheri</td>\n",
              "      <td>AIML</td>\n",
              "    </tr>\n",
              "    <tr>\n",
              "      <th>3</th>\n",
              "      <td>Urja</td>\n",
              "      <td>21</td>\n",
              "      <td>68</td>\n",
              "      <td>7.50</td>\n",
              "      <td>Ukhri</td>\n",
              "      <td>AIML</td>\n",
              "    </tr>\n",
              "    <tr>\n",
              "      <th>4</th>\n",
              "      <td>Yash</td>\n",
              "      <td>20</td>\n",
              "      <td>72</td>\n",
              "      <td>7.10</td>\n",
              "      <td>Aaga Chowk</td>\n",
              "      <td>IOT</td>\n",
              "    </tr>\n",
              "  </tbody>\n",
              "</table>\n",
              "</div>"
            ],
            "text/plain": [
              "        Name  Age  Roll no.  CGPA      Address Branch\n",
              "0     Jatin    20        27  7.20  Madan Mahal   AIML\n",
              "1  Shambhavi   21        60  7.45         RDVV   AIML\n",
              "2     Vedant   20        70  7.60      Tilheri   AIML\n",
              "3       Urja   21        68  7.50        Ukhri   AIML\n",
              "4       Yash   20        72  7.10   Aaga Chowk    IOT"
            ]
          },
          "execution_count": 55,
          "metadata": {},
          "output_type": "execute_result"
        }
      ],
      "source": [
        "df.head()"
      ]
    },
    {
      "cell_type": "code",
      "execution_count": null,
      "metadata": {
        "id": "71e7027c-3c9f-4ec2-bb6a-c7a3ddb5a169",
        "outputId": "81516f4b-477c-47d9-fa9d-a036fe346fbd"
      },
      "outputs": [
        {
          "data": {
            "text/html": [
              "<div>\n",
              "<style scoped>\n",
              "    .dataframe tbody tr th:only-of-type {\n",
              "        vertical-align: middle;\n",
              "    }\n",
              "\n",
              "    .dataframe tbody tr th {\n",
              "        vertical-align: top;\n",
              "    }\n",
              "\n",
              "    .dataframe thead th {\n",
              "        text-align: right;\n",
              "    }\n",
              "</style>\n",
              "<table border=\"1\" class=\"dataframe\">\n",
              "  <thead>\n",
              "    <tr style=\"text-align: right;\">\n",
              "      <th></th>\n",
              "      <th>Name</th>\n",
              "      <th>Age</th>\n",
              "      <th>Branch</th>\n",
              "      <th>CGPA</th>\n",
              "      <th>Address</th>\n",
              "    </tr>\n",
              "  </thead>\n",
              "  <tbody>\n",
              "    <tr>\n",
              "      <th>2</th>\n",
              "      <td>Shambhavi</td>\n",
              "      <td>21</td>\n",
              "      <td>AI/ML</td>\n",
              "      <td>7.45</td>\n",
              "      <td>RDVV</td>\n",
              "    </tr>\n",
              "    <tr>\n",
              "      <th>3</th>\n",
              "      <td>Urja</td>\n",
              "      <td>21</td>\n",
              "      <td>AI/ML</td>\n",
              "      <td>7.68</td>\n",
              "      <td>Ukhri</td>\n",
              "    </tr>\n",
              "  </tbody>\n",
              "</table>\n",
              "</div>"
            ],
            "text/plain": [
              "       Name   Age Branch  CGPA Address\n",
              "2  Shambhavi   21  AI/ML  7.45    RDVV\n",
              "3       Urja   21  AI/ML  7.68   Ukhri"
            ]
          },
          "execution_count": 56,
          "metadata": {},
          "output_type": "execute_result"
        }
      ],
      "source": [
        "data[data['Age']>20]"
      ]
    },
    {
      "cell_type": "code",
      "execution_count": null,
      "metadata": {
        "id": "4e089d8d-2473-4c6c-a9dc-53409e32ad05",
        "outputId": "f4f3db8f-c33d-491b-c7a1-0af3218d2ec3"
      },
      "outputs": [
        {
          "data": {
            "text/html": [
              "<div>\n",
              "<style scoped>\n",
              "    .dataframe tbody tr th:only-of-type {\n",
              "        vertical-align: middle;\n",
              "    }\n",
              "\n",
              "    .dataframe tbody tr th {\n",
              "        vertical-align: top;\n",
              "    }\n",
              "\n",
              "    .dataframe thead th {\n",
              "        text-align: right;\n",
              "    }\n",
              "</style>\n",
              "<table border=\"1\" class=\"dataframe\">\n",
              "  <thead>\n",
              "    <tr style=\"text-align: right;\">\n",
              "      <th></th>\n",
              "      <th>Name</th>\n",
              "      <th>Age</th>\n",
              "      <th>Branch</th>\n",
              "      <th>CGPA</th>\n",
              "      <th>Address</th>\n",
              "    </tr>\n",
              "  </thead>\n",
              "  <tbody>\n",
              "    <tr>\n",
              "      <th>4</th>\n",
              "      <td>Yash</td>\n",
              "      <td>20</td>\n",
              "      <td>IOT</td>\n",
              "      <td>7.46</td>\n",
              "      <td>Aaga chowk</td>\n",
              "    </tr>\n",
              "  </tbody>\n",
              "</table>\n",
              "</div>"
            ],
            "text/plain": [
              "  Name   Age Branch  CGPA     Address\n",
              "4  Yash   20    IOT  7.46  Aaga chowk"
            ]
          },
          "execution_count": 58,
          "metadata": {},
          "output_type": "execute_result"
        }
      ],
      "source": [
        "data[data['Branch']!='AI/ML']"
      ]
    }
  ],
  "metadata": {
    "colab": {
      "provenance": [],
      "toc_visible": true,
      "include_colab_link": true
    },
    "kernelspec": {
      "display_name": "Python 3",
      "name": "python3"
    },
    "language_info": {
      "name": "python"
    }
  },
  "nbformat": 4,
  "nbformat_minor": 0
}