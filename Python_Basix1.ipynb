{
  "nbformat": 4,
  "nbformat_minor": 0,
  "metadata": {
    "colab": {
      "provenance": [],
      "toc_visible": true
    },
    "kernelspec": {
      "name": "python3",
      "display_name": "Python 3"
    },
    "language_info": {
      "name": "python"
    }
  },
  "cells": [
    {
      "cell_type": "markdown",
      "source": [
        "#**Print Statement.**#"
      ],
      "metadata": {
        "id": "zrtp_j0s-CNr"
      }
    },
    {
      "cell_type": "code",
      "source": [
        "print(\"Here we are starting with python.\")\n",
        "\n",
        "print(\"Hello World!\")\n",
        "print(\"Python\",\"is\",\"an\",\"interpreted\",sep = \"~\",end = \" Language\")#sep is used to add a sign to seperate the words.\n"
      ],
      "metadata": {
        "colab": {
          "base_uri": "https://localhost:8080/"
        },
        "id": "RuWzkEEr-BLw",
        "outputId": "2f4cf4b3-ecc6-489f-8834-326c489ca686"
      },
      "execution_count": null,
      "outputs": [
        {
          "output_type": "stream",
          "name": "stdout",
          "text": [
            "Here we are starting with python.\n",
            "Hello World!\n",
            "Python~is~an~interpreted Language"
          ]
        }
      ]
    },
    {
      "cell_type": "markdown",
      "source": [
        "#**Variables**#"
      ],
      "metadata": {
        "id": "j7x_8nOoZ-6T"
      }
    },
    {
      "cell_type": "code",
      "execution_count": null,
      "metadata": {
        "colab": {
          "base_uri": "https://localhost:8080/"
        },
        "id": "aelTtBD_HN9v",
        "outputId": "1f1d1ca7-e213-4f27-fb7f-bd351066e5f7"
      },
      "outputs": [
        {
          "output_type": "stream",
          "name": "stdout",
          "text": [
            "21\n",
            "2.43\n"
          ]
        }
      ],
      "source": [
        "a = 21 # here a & b are variables which store some type of values in it.\n",
        "print(a)\n",
        "b = 2.43\n",
        "print(b)"
      ]
    },
    {
      "cell_type": "markdown",
      "source": [
        "#**Data types**#"
      ],
      "metadata": {
        "id": "Frcj2b76aTWb"
      }
    },
    {
      "cell_type": "markdown",
      "source": [
        "Data types can be refered to as varibles which store different types of values in it."
      ],
      "metadata": {
        "id": "dea12yjcabTs"
      }
    },
    {
      "cell_type": "code",
      "source": [
        "from os import get_blocking\n",
        "#Typecheck\n",
        "a = 23\n",
        "b = 34.54\n",
        "c = \"Machine learning\"\n",
        "d = True\n",
        "e = 4.5454545454545545454\n",
        "f = [5,64,3,6,26,2]\n",
        "g = (\"jatin\",\"gaurav\",\"nanu\",\"bhoomi\",\"shanvi\",\"pihu\")\n",
        "h = {23,43,5,6,55,98}\n",
        "print(type(a))\n",
        "print(type(b))\n",
        "print(type(c))\n",
        "print(type(d))\n",
        "print(type(e))\n",
        "print(type(f))\n",
        "print(type(g))\n",
        "print(type(h))\n"
      ],
      "metadata": {
        "colab": {
          "base_uri": "https://localhost:8080/"
        },
        "id": "_T8wGPYRaMh3",
        "outputId": "3cc8a8be-9dbe-437c-ff50-45e5e5831072"
      },
      "execution_count": null,
      "outputs": [
        {
          "output_type": "stream",
          "name": "stdout",
          "text": [
            "<class 'int'>\n",
            "<class 'float'>\n",
            "<class 'str'>\n",
            "<class 'bool'>\n",
            "<class 'float'>\n",
            "<class 'list'>\n",
            "<class 'tuple'>\n",
            "<class 'set'>\n"
          ]
        }
      ]
    },
    {
      "cell_type": "markdown",
      "source": [
        "#**Calculator**#"
      ],
      "metadata": {
        "id": "02ZMDYKP0hqH"
      }
    },
    {
      "cell_type": "code",
      "source": [
        "a = 12\n",
        "b = 3\n",
        "print(\"The addition of a & b are:\",a+b)\n",
        "print(\"The subtraction of a & b are:\",a-b)\n",
        "print(\"The multiplication of a & b are:\",a*b)\n",
        "print(\"The division of a & b are:\",a/b)\n",
        "print(\"The modulus of a & b are:\",a%b)\n",
        "print(\"The Floor division of a & b are:\",a//b)"
      ],
      "metadata": {
        "colab": {
          "base_uri": "https://localhost:8080/"
        },
        "id": "GprHlOrk0kkW",
        "outputId": "6d7c2cfd-faa1-4c79-c651-c0080c8587f0"
      },
      "execution_count": null,
      "outputs": [
        {
          "output_type": "stream",
          "name": "stdout",
          "text": [
            "The addition of a & b are: 15\n",
            "The subtraction of a & b are: 9\n",
            "The multiplication of a & b are: 36\n",
            "The division of a & b are: 4.0\n",
            "The modulus of a & b are: 0\n",
            "The Floor division of a & b are: 4\n"
          ]
        }
      ]
    },
    {
      "cell_type": "markdown",
      "source": [
        "##**Type Conversion**##"
      ],
      "metadata": {
        "id": "Uhj24xO5YRJ_"
      }
    },
    {
      "cell_type": "code",
      "source": [
        "a = 18\n",
        "print(a)\n",
        "print(float(a))\n"
      ],
      "metadata": {
        "colab": {
          "base_uri": "https://localhost:8080/"
        },
        "id": "4kw6tDj1YU_m",
        "outputId": "70eac3b5-62f3-4f62-d7f6-e34b6210199a"
      },
      "execution_count": null,
      "outputs": [
        {
          "output_type": "stream",
          "name": "stdout",
          "text": [
            "18\n",
            "18.0\n"
          ]
        }
      ]
    },
    {
      "cell_type": "markdown",
      "source": [
        "#**Escape Sequence**#"
      ],
      "metadata": {
        "id": "R3UbyumvaoFi"
      }
    },
    {
      "cell_type": "code",
      "source": [
        "print(\"This is google colab\") #here we are printing this sentence in one line.\n",
        "\n",
        "print(\"This is google \\ncolab\") #here we are printing similar sentence in two diff lines using escape sequence.\n",
        "\n",
        "print(\"This is google \\tcolab\") #here we are printing similar sentence by providing space using \\t seq.\n",
        "\n",
        "print(\"This is google \\bcolab\") #here we are printing similar sentence by del the space btw google and colab using \\b sequence.\n",
        "\n",
        "print(\"This is google \\\\colab\") #here we are printing similar sentence by del the space btw google and colab using \\b sequence.\n",
        "\n",
        "print(\"This is google \\\"colab\\\"\") #here we are printing similar sentence by del the space btw google and colab using \\b sequence.\n"
      ],
      "metadata": {
        "id": "-YCSRO-2ah3u",
        "colab": {
          "base_uri": "https://localhost:8080/"
        },
        "outputId": "a8af6ab8-a407-49ff-81b0-621b6c661ad4"
      },
      "execution_count": null,
      "outputs": [
        {
          "output_type": "stream",
          "name": "stdout",
          "text": [
            "This is google colab\n",
            "This is google \n",
            "colab\n",
            "This is google \tcolab\n",
            "This is google \bcolab\n",
            "This is google \\colab\n",
            "This is google \"colab\"\n"
          ]
        }
      ]
    },
    {
      "cell_type": "markdown",
      "source": [
        "#**Control Statements**#"
      ],
      "metadata": {
        "id": "ErrIKrYj6D0_"
      }
    },
    {
      "cell_type": "markdown",
      "source": [
        "#**If else statement(Even odd)**#"
      ],
      "metadata": {
        "id": "OEOnYojia5m4"
      }
    },
    {
      "cell_type": "code",
      "source": [
        "a =24\n",
        "if(a%2==0):#Intendation should be kept in mind.\n",
        "  print(\"a is an Even number.\")\n",
        "else:\n",
        "  print(\"a is an Odd number.\")"
      ],
      "metadata": {
        "colab": {
          "base_uri": "https://localhost:8080/"
        },
        "id": "XbRgPjXpa27E",
        "outputId": "bb034564-3444-41c5-c39f-bc15272ee274"
      },
      "execution_count": null,
      "outputs": [
        {
          "output_type": "stream",
          "name": "stdout",
          "text": [
            "a is an Even number.\n"
          ]
        }
      ]
    },
    {
      "cell_type": "markdown",
      "source": [
        "**Wap to check whether the number is greater than 50 or not and if greater then check whether it is even or not also check the same for odd number too.**"
      ],
      "metadata": {
        "id": "R6DIviuP6JYi"
      }
    },
    {
      "cell_type": "code",
      "source": [
        "# num = 55\n",
        "# if num > 50 :\n",
        "#   print(\"The number is greater than 50.\")\n",
        "# else:\n",
        "#   print(\"The number is smaller than 50\")\n",
        "num = 55\n",
        "if num>50:\n",
        "   if num %2==0:\n",
        "    print(\"The number is greater than 50 and is even.\")\n",
        "   else:\n",
        "    print(\"The number is greater but not even.\")\n",
        "else:\n",
        "   if num %2!=0:\n",
        "    print(\"The number is less than 50 and is odd.\")\n",
        "   else:\n",
        "    print(\"The number is less than 50 but not odd.\")"
      ],
      "metadata": {
        "colab": {
          "base_uri": "https://localhost:8080/"
        },
        "id": "PYZ_oZWj6XWP",
        "outputId": "44a41b94-4eae-4cba-82ec-21e0f32d2ff2"
      },
      "execution_count": null,
      "outputs": [
        {
          "output_type": "stream",
          "name": "stdout",
          "text": [
            "The number is greater but not even.\n"
          ]
        }
      ]
    },
    {
      "cell_type": "code",
      "source": [
        "age = 34\n",
        "if(age>=18):\n",
        "  print(\"Candidate is eligible to vote.\")\n",
        "else:\n",
        "  print(\"Candidate is not eligible to vote.\")"
      ],
      "metadata": {
        "colab": {
          "base_uri": "https://localhost:8080/"
        },
        "id": "X3MudklQa-pR",
        "outputId": "8f0b8064-2b1d-4bb4-994a-eeaa1912d71e"
      },
      "execution_count": null,
      "outputs": [
        {
          "output_type": "stream",
          "name": "stdout",
          "text": [
            "Candidate is eligible to vote.\n"
          ]
        }
      ]
    },
    {
      "cell_type": "markdown",
      "source": [
        "**Adding elif statement in this.**\n",
        "\n",
        "\n",
        "\n"
      ],
      "metadata": {
        "id": "NO7Tf3VabHAO"
      }
    },
    {
      "cell_type": "code",
      "source": [
        "a = 34\n",
        "b = 34\n",
        "if(a > b):\n",
        "  print(\"A is greater than B.\")\n",
        "\n",
        "elif(b>a):\n",
        "  print(\"B is greater than A.\") #This is used to create a ladder of if-else statement.\n",
        "\n",
        "else:\n",
        "  print(\"Both are equal to each other.\")"
      ],
      "metadata": {
        "colab": {
          "base_uri": "https://localhost:8080/"
        },
        "id": "z31DZy8rbDEm",
        "outputId": "a2fd0bff-2888-4b21-daac-fce5466038c4"
      },
      "execution_count": null,
      "outputs": [
        {
          "output_type": "stream",
          "name": "stdout",
          "text": [
            "Both are equal to each other.\n"
          ]
        }
      ]
    },
    {
      "cell_type": "markdown",
      "source": [
        "#**Area of a cube**"
      ],
      "metadata": {
        "id": "Mol9Ali5bMi-"
      }
    },
    {
      "cell_type": "code",
      "source": [
        "side = 25\n",
        "area = side**2\n",
        "print(\"The area of cube is:\",area)"
      ],
      "metadata": {
        "colab": {
          "base_uri": "https://localhost:8080/"
        },
        "id": "y-UVGHMsn5l9",
        "outputId": "4b3999cb-e5e5-43ee-b4ea-db15f3924cdf"
      },
      "execution_count": null,
      "outputs": [
        {
          "output_type": "stream",
          "name": "stdout",
          "text": [
            "The area of cube is: 625\n"
          ]
        }
      ]
    },
    {
      "cell_type": "markdown",
      "source": [
        "#**Taking input from user**#"
      ],
      "metadata": {
        "id": "IJ6HEmNgbmWT"
      }
    },
    {
      "cell_type": "code",
      "source": [
        "a = input(\"Enter the number:\") #here,its considering input as string by default, to avoid this we have to\n",
        "print(a) #typecast it by int datatype so as to make it int input.\n",
        "\n",
        "b = a+'4'#Here,Concatenation is helding to this o/p.\n",
        "print(b)"
      ],
      "metadata": {
        "colab": {
          "base_uri": "https://localhost:8080/"
        },
        "id": "Gk80XCbIbUKK",
        "outputId": "2dd8c6b5-e8a3-4626-b153-91cfb5aa8095"
      },
      "execution_count": null,
      "outputs": [
        {
          "output_type": "stream",
          "name": "stdout",
          "text": [
            "Enter the number:34\n",
            "34\n",
            "344\n"
          ]
        }
      ]
    },
    {
      "cell_type": "markdown",
      "source": [
        "##**Project 1**##"
      ],
      "metadata": {
        "id": "FPVPRFhDRwAt"
      }
    },
    {
      "cell_type": "code",
      "source": [
        "import time\n",
        "time = time.strftime('%H:%M:%S')\n",
        "print(time)\n"
      ],
      "metadata": {
        "colab": {
          "base_uri": "https://localhost:8080/"
        },
        "id": "H1WHFQmcLwP2",
        "outputId": "247ea240-4b5b-4ed5-c60e-6b16ec5bbcd5"
      },
      "execution_count": null,
      "outputs": [
        {
          "output_type": "stream",
          "name": "stdout",
          "text": [
            "14:04:55\n"
          ]
        }
      ]
    },
    {
      "cell_type": "code",
      "source": [
        "a = int(input(\"Enter the number:\")) #here,its considering input as string by default, to avoid this we have to\n",
        "print(a) #typecast it by int datatype so as to make it int input.\n",
        "b = a+4\n",
        "print(b)"
      ],
      "metadata": {
        "colab": {
          "base_uri": "https://localhost:8080/"
        },
        "id": "ZlnlB4sIbtVV",
        "outputId": "367b2152-1587-4fce-eefa-d7fda1a30485"
      },
      "execution_count": null,
      "outputs": [
        {
          "output_type": "stream",
          "name": "stdout",
          "text": [
            "Enter the number:5\n",
            "5\n",
            "9\n"
          ]
        }
      ]
    },
    {
      "cell_type": "code",
      "source": [
        "a = int(input(\"Enter the num:\"))\n",
        "print(float(a)) #TYPE-CASTING"
      ],
      "metadata": {
        "colab": {
          "base_uri": "https://localhost:8080/"
        },
        "id": "Mym_ag1tbtxU",
        "outputId": "c4d45960-3893-455c-fce5-f0c5c0e5e591"
      },
      "execution_count": null,
      "outputs": [
        {
          "output_type": "stream",
          "name": "stdout",
          "text": [
            "Enter the num:56\n",
            "56.0\n"
          ]
        }
      ]
    },
    {
      "cell_type": "markdown",
      "source": [
        "#**Swapping 2 numbers**#"
      ],
      "metadata": {
        "id": "knDlMtXyb30A"
      }
    },
    {
      "cell_type": "code",
      "source": [
        "num1 = int(input(\"Enter First number:\"))\n",
        "num2 = int(input(\"Enter second number:\"))\n",
        "temp = num1\n",
        "num1 = num2\n",
        "num2 = temp\n",
        "print(\"The value of num1 is :\",num1)\n",
        "print(\"The value of num2 is :\",num2)\n"
      ],
      "metadata": {
        "id": "CDQyhFZYbzhO",
        "colab": {
          "base_uri": "https://localhost:8080/"
        },
        "outputId": "771b1c78-1eee-4fc3-ff0a-10078f76e56c"
      },
      "execution_count": null,
      "outputs": [
        {
          "output_type": "stream",
          "name": "stdout",
          "text": [
            "Enter First number:43\n",
            "Enter second number:66\n",
            "The value of num1 is : 66\n",
            "The value of num2 is : 43\n"
          ]
        }
      ]
    },
    {
      "cell_type": "markdown",
      "source": [
        "#**Now, we'll learn about Strings.**#"
      ],
      "metadata": {
        "id": "PFUpSp02cBrz"
      }
    },
    {
      "cell_type": "code",
      "source": [
        "n = \"Hello Jatin\"\n",
        "print(n)\n",
        "print(\"hello,\"+n) #This is known as Concatenation.Where 2 strings are combined together.\n"
      ],
      "metadata": {
        "colab": {
          "base_uri": "https://localhost:8080/"
        },
        "id": "UdPcg8ORb7gq",
        "outputId": "c2e5894f-6926-4c40-e0fc-54d6529c1b8f"
      },
      "execution_count": null,
      "outputs": [
        {
          "output_type": "stream",
          "name": "stdout",
          "text": [
            "Hello Jatin\n",
            "hello,Hello Jatin\n"
          ]
        }
      ]
    },
    {
      "cell_type": "code",
      "source": [
        "lang = \"cpp is an essential language for DSA.\"\n",
        "for i in lang:\n",
        "  print(i)"
      ],
      "metadata": {
        "colab": {
          "base_uri": "https://localhost:8080/"
        },
        "id": "MEsVyqVmcEt3",
        "outputId": "48f2ed8d-80ff-4c2b-b4b3-a36dea90f7a2"
      },
      "execution_count": null,
      "outputs": [
        {
          "output_type": "stream",
          "name": "stdout",
          "text": [
            "c\n",
            "p\n",
            "p\n",
            " \n",
            "i\n",
            "s\n",
            " \n",
            "a\n",
            "n\n",
            " \n",
            "e\n",
            "s\n",
            "s\n",
            "e\n",
            "n\n",
            "t\n",
            "i\n",
            "a\n",
            "l\n",
            " \n",
            "l\n",
            "a\n",
            "n\n",
            "g\n",
            "u\n",
            "a\n",
            "g\n",
            "e\n",
            " \n",
            "f\n",
            "o\n",
            "r\n",
            " \n",
            "D\n",
            "S\n",
            "A\n",
            ".\n"
          ]
        }
      ]
    },
    {
      "cell_type": "markdown",
      "source": [
        "#**Some Operations on strings!**#"
      ],
      "metadata": {
        "id": "0aVBp8cacL4L"
      }
    },
    {
      "cell_type": "code",
      "source": [
        "a = \"Machine\"\n",
        "b = \"learning\"\n",
        "c = \"python is an easy language!!!\"\n",
        "d = \"Dsa Is The Foundational Subject\\n\"\n",
        "e = \"pandas is a library\"\n",
        "f = \" \"\n",
        "\n",
        "print(len(a))\n",
        "print(a.islower())#checks whether the string is in lower-case.\n",
        "print(a.isupper())\n",
        "print(a.upper()) #converts string into upper case\n",
        "print(a.lower())\n",
        "\n",
        "print(c.replace(\"python\",\"C++\")) #used to replace the string by the new one(modification).\n",
        "\n",
        "print(b.capitalize()) #used to capitalize the first letter of the string.\n",
        "\n",
        "print(c.split()) #Creates a list of the given string if spaces are available.\n",
        "print(c.split()[-2]) #Creates a list of the given string if spaces are available.\n",
        "\n",
        "print(c.count(\"a\")) #counts the freq of the given args in a string.\n",
        "\n",
        "print(c.rstrip(\"!\")) #removes the character present at the end of string.(post only)\n",
        "\n",
        "print(c.endswith(\"!\")) #checks whether the sentence or string ends with the same input.\n",
        "\n",
        "print(c.endswith(\"is\",4,29)) #same function but checks using slicing.\n",
        "\n",
        "print(c.endswith(\"!\",4,29)) #same function but checks using slicing.\n",
        "\n",
        "print(c.startswith(\"python\"))#case-sensative (checks the starting string comparing to input value.)\n",
        "\n",
        "print(c.startswith(\"C++\"))\n",
        "\n",
        "print(c.find(\"is\"))#calculates the first occurance of the string and returns the index value where it is stored.\n",
        "\n",
        "print(c.find(\"easy\"))\n",
        "\n",
        "print(b.isalnum())#checks whether the string is alphanumeric or not.\n",
        "\n",
        "print(c.isalnum())#c is not alphanumeric as it contains spaces btw it.\n",
        "\n",
        "print(b.isalpha()) #determines only alphabets(a-z) [Non case-sensative].\n",
        "\n",
        "print(c.isprintable())#determines whether the string can be printed or not.\n",
        "#i.e if any specifier would be present it'll be considered as non-printable.\n",
        "\n",
        "print(d.isprintable())#is non printable due to the presence of specifier in it.\n",
        "\n",
        "print(f.isspace()) #checks only n only the space, seems useless.\n",
        "\n",
        "print(e.istitle())#determines whether the first letter of every word is capital or not.\n",
        "\n",
        "print(d.istitle())# since d has each n every word has first letter capital it is considered to be True.\n",
        "\n",
        "print(e.title()) #capitalize first letter of each word.\n",
        "\n",
        "print(a.swapcase())\n",
        "print(b.swapcase()) #these both is used to swap the case.If upper then its converted into lower nd vice-versa.\n",
        "\n"
      ],
      "metadata": {
        "colab": {
          "base_uri": "https://localhost:8080/"
        },
        "id": "3LHa0PsVcHii",
        "outputId": "d0cf825d-073f-450e-d620-12af3e256bb6"
      },
      "execution_count": null,
      "outputs": [
        {
          "output_type": "stream",
          "name": "stdout",
          "text": [
            "7\n",
            "False\n",
            "False\n",
            "MACHINE\n",
            "machine\n",
            "C++ is an easy language!!!\n",
            "Learning\n",
            "['python', 'is', 'an', 'easy', 'language!!!']\n",
            "easy\n",
            "4\n",
            "python is an easy language\n",
            "True\n",
            "False\n",
            "True\n",
            "True\n",
            "False\n",
            "7\n",
            "13\n",
            "True\n",
            "False\n",
            "True\n",
            "True\n",
            "False\n",
            "True\n",
            "False\n",
            "True\n",
            "Pandas Is A Library\n",
            "mACHINE\n",
            "LEARNING\n"
          ]
        }
      ]
    },
    {
      "cell_type": "markdown",
      "source": [
        "##**Project 2: Building a Marksheet of 12th class Student.**##"
      ],
      "metadata": {
        "id": "o7YE-LFZBUhh"
      }
    },
    {
      "cell_type": "code",
      "source": [
        "name = input(\"Enter the name of the student:\")\n",
        "mat = int(input(\"Enter the marks in Maths:\"))\n",
        "phy = int(input(\"Enter the marks in Physics:\"))\n",
        "chem = int(input(\"Enter the marks in Chemistry:\"))\n",
        "eng = int(input(\"Enter the marks in English:\"))\n",
        "PE = int(input(\"Enter the marks in Physical Education:\"))\n",
        "total = mat+phy+chem+eng+PE\n",
        "percentage = total/5\n",
        "if(percentage<=100 and percentage>=90):\n",
        " print(name, \"scored\",percentage,\" Grade and secured 1st Division.\")\n",
        "elif(percentage>=60 and percentage<=89):\n",
        "   print(name, \"scored\",percentage,\" Grade and secured 1st Division.\")\n",
        "elif(percentage>=50 and percentage<=59):\n",
        "   print(name, \"scored\",percentage,\" Grade and secured 2nd Division.\")\n",
        "else:\n",
        "   print(name, \"Failed in examination.\")\n"
      ],
      "metadata": {
        "colab": {
          "base_uri": "https://localhost:8080/"
        },
        "id": "dhgIiGYxBn5E",
        "outputId": "609f934c-d7ad-449c-f31d-c5f4165c8e93"
      },
      "execution_count": null,
      "outputs": [
        {
          "output_type": "stream",
          "name": "stdout",
          "text": [
            "Enter the name of the student:Chamarkant\n",
            "Enter the marks in Maths:80\n",
            "Enter the marks in Physics:67\n",
            "Enter the marks in Chemistry:98\n",
            "Enter the marks in English:56\n",
            "Enter the marks in Physical Education:77\n",
            "Chamarkant scored 75.6  Grade and secured 1st Division.\n"
          ]
        }
      ]
    },
    {
      "cell_type": "markdown",
      "source": [
        "#**String Slicing**#"
      ],
      "metadata": {
        "id": "zv_I9bcapneC"
      }
    },
    {
      "cell_type": "code",
      "source": [
        "a = \"Artificial\"\n",
        "print(a[0:7])\n",
        "print(\"The length of the string is:\",len(a))\n",
        "\n",
        "b = \"Intelligence\"\n",
        "\n",
        "print(\"The length of b is:\",len(b))\n",
        "\n",
        "print(b[0:6])\n",
        "\n",
        "print(b[5:11])\n",
        "\n",
        "print(b[0:len(b)-3])\n",
        "\n",
        "print(b[0:-3]) #same as abv (KNOWN AS NEGATIVE SLICING)\n",
        "\n",
        "print(b[-4:-2],\"\\n\\n\") #11-4 = 7\n",
        "\n",
        "print(b)\n",
        "print(b[-4:-5]) #this will not print due to wrogn assignment of slicing\n",
        "\n",
        "print(b[-4:-3]) #The 2nd no should always be smaller than the firstone.\n"
      ],
      "metadata": {
        "colab": {
          "base_uri": "https://localhost:8080/"
        },
        "id": "kDovxRpZzxzz",
        "outputId": "14d7e057-056a-4252-8939-b1906d2e5314"
      },
      "execution_count": null,
      "outputs": [
        {
          "output_type": "stream",
          "name": "stdout",
          "text": [
            "Artific\n",
            "The length of the string is: 10\n",
            "The length of b is: 12\n",
            "Intell\n",
            "ligenc\n",
            "Intellige\n",
            "Intellige\n",
            "en \n",
            "\n",
            "\n",
            "Intelligence\n",
            "\n",
            "e\n"
          ]
        }
      ]
    },
    {
      "cell_type": "markdown",
      "source": [
        "#**Control Statements**#"
      ],
      "metadata": {
        "id": "YI0Uzl4Uci4U"
      }
    },
    {
      "cell_type": "markdown",
      "source": [
        "There are 3 types of control statements\n",
        "* Looping = These statements allow a program to execute a block of code repeatedly.\n",
        "->For loop=This comprises of initialization,condition and then termination(increment/decrement).\n",
        "->While loop=This comprises of the initialization beforehand and then condition termination at the last of loop.\n",
        "->Do-While loop=This is used to execute the loop at least once.\n",
        "\n",
        "\n",
        "* Switch Case\n",
        "\n"
      ],
      "metadata": {
        "id": "24K3IUq5cnKe"
      }
    },
    {
      "cell_type": "markdown",
      "source": [
        "#**FOR LOOP.**#"
      ],
      "metadata": {
        "id": "yo2ahNSm1QKd"
      }
    },
    {
      "cell_type": "code",
      "source": [
        "#FOR LOOP.\n",
        "a = 5\n",
        "for i in range(1,a+1):\n",
        "  print(i)\n"
      ],
      "metadata": {
        "id": "b41bplX2cRWv"
      },
      "execution_count": null,
      "outputs": []
    },
    {
      "cell_type": "code",
      "source": [
        "#Printing even num.\n",
        "a = int(input(\"Enter the number:\"))\n",
        "for i in range(1,a+1):\n",
        "  if(i%2==0):\n",
        "    print(i)  #Intendation.\n"
      ],
      "metadata": {
        "collapsed": true,
        "id": "RIeE5R2Acr6k",
        "colab": {
          "base_uri": "https://localhost:8080/"
        },
        "outputId": "f4944b09-5c2c-4825-8747-12a10040cbc3"
      },
      "execution_count": null,
      "outputs": [
        {
          "output_type": "stream",
          "name": "stdout",
          "text": [
            "Enter the number:5\n",
            "2\n",
            "4\n"
          ]
        }
      ]
    },
    {
      "cell_type": "code",
      "source": [
        "#For odd numbers:\n",
        "a = int(input(\"Enter the num:\"))\n",
        "for i in range(1,a+1):\n",
        "  if(i%2==1):\n",
        "   print(i)  #Intendation.\n"
      ],
      "metadata": {
        "collapsed": true,
        "id": "BtE_crcrcu9L",
        "colab": {
          "base_uri": "https://localhost:8080/"
        },
        "outputId": "59d8ff74-bd30-44a3-ccfe-92de8e9cba00"
      },
      "execution_count": null,
      "outputs": [
        {
          "output_type": "stream",
          "name": "stdout",
          "text": [
            "Enter the num:4\n",
            "1\n",
            "3\n"
          ]
        }
      ]
    },
    {
      "cell_type": "code",
      "source": [
        "#Printing numbers by jumping through addition of some specific number using third block of loop.\n",
        "for i in range(1,20+1):\n",
        "  print(i)\n",
        "\n"
      ],
      "metadata": {
        "id": "rggSXZlocz_n",
        "colab": {
          "base_uri": "https://localhost:8080/"
        },
        "outputId": "25efd232-90e3-4f6f-d965-10212abee301"
      },
      "execution_count": null,
      "outputs": [
        {
          "output_type": "stream",
          "name": "stdout",
          "text": [
            "1\n",
            "2\n",
            "3\n",
            "4\n",
            "5\n",
            "6\n",
            "7\n",
            "8\n",
            "9\n",
            "10\n",
            "11\n",
            "12\n",
            "13\n",
            "14\n",
            "15\n",
            "16\n",
            "17\n",
            "18\n",
            "19\n",
            "20\n"
          ]
        }
      ]
    },
    {
      "cell_type": "markdown",
      "source": [
        "#**Table of any number.**#"
      ],
      "metadata": {
        "id": "dsERTW7b1XXl"
      }
    },
    {
      "cell_type": "code",
      "source": [
        "#printing table of any number.\n",
        "n = int(input(\"Enter the number:\"))\n",
        "for i in range(1,11):\n",
        "  print(n,\"x\",i,\"=\",n*i)"
      ],
      "metadata": {
        "id": "gljdHVMjc3ip",
        "colab": {
          "base_uri": "https://localhost:8080/"
        },
        "outputId": "698c44ec-8b2c-4a6c-fde3-aaa02b67ac96"
      },
      "execution_count": null,
      "outputs": [
        {
          "output_type": "stream",
          "name": "stdout",
          "text": [
            "Enter the number:5\n",
            "5 x 1 = 5\n",
            "5 x 2 = 10\n",
            "5 x 3 = 15\n",
            "5 x 4 = 20\n",
            "5 x 5 = 25\n",
            "5 x 6 = 30\n",
            "5 x 7 = 35\n",
            "5 x 8 = 40\n",
            "5 x 9 = 45\n",
            "5 x 10 = 50\n"
          ]
        }
      ]
    },
    {
      "cell_type": "markdown",
      "source": [
        "#**WAP to swap two numbers if the first number is greater than the second number.**#"
      ],
      "metadata": {
        "id": "pRsS06oodaU_"
      }
    },
    {
      "cell_type": "code",
      "source": [
        "a = int (input ('Enter 1st number:'))\n",
        "b = int (input ('Enter 1st number:'))\n",
        "if(a>b):\n",
        "  temp = a\n",
        "  a = b\n",
        "  b = temp\n",
        "  print(\"The value of a is:\",a)\n",
        "  print(\"The value of b is:\",b)\n",
        "\n",
        "else:\n",
        "  print(\"The value of a is:\",a)\n",
        "  print(\"The value of b is:\",b)"
      ],
      "metadata": {
        "colab": {
          "base_uri": "https://localhost:8080/"
        },
        "id": "UnjQt-ZUc_pU",
        "outputId": "6461f63b-26f9-47e6-a594-0f9303e7cf27"
      },
      "execution_count": null,
      "outputs": [
        {
          "output_type": "stream",
          "name": "stdout",
          "text": [
            "Enter 1st number:98\n",
            "Enter 1st number:78\n",
            "The value of a is: 78\n",
            "The value of b is: 98\n"
          ]
        }
      ]
    },
    {
      "cell_type": "markdown",
      "source": [
        "#**Same values will have same memory location**#"
      ],
      "metadata": {
        "id": "bbNPP_UBs7bM"
      }
    },
    {
      "cell_type": "code",
      "source": [
        "a = 2\n",
        "b = 4\n",
        "c = 343\n",
        "d = 343\n",
        "print(c==d)\n",
        "print(a is not b)  #Need to ask about it later onn...\n",
        "print(c is not d)\n",
        "print(c is  d)"
      ],
      "metadata": {
        "colab": {
          "base_uri": "https://localhost:8080/"
        },
        "id": "XvKPJ4qqtC2O",
        "outputId": "3aa9a33c-8b43-43b6-e00f-cc1a372793b6"
      },
      "execution_count": null,
      "outputs": [
        {
          "output_type": "stream",
          "name": "stdout",
          "text": [
            "True\n",
            "True\n",
            "True\n",
            "False\n"
          ]
        }
      ]
    },
    {
      "cell_type": "code",
      "source": [
        "a = 34\n",
        "b = 33+1\n",
        "print(a==b)\n",
        "print(a is b)\n",
        "print(hex(id(a)))  #Used for knowing memory location.\n",
        "print(hex(id(b)))  #hexadecimal address"
      ],
      "metadata": {
        "colab": {
          "base_uri": "https://localhost:8080/"
        },
        "id": "f0mdHEZUtGTM",
        "outputId": "028753b7-499d-4b7a-f64a-8f1335cc1ef8"
      },
      "execution_count": null,
      "outputs": [
        {
          "output_type": "stream",
          "name": "stdout",
          "text": [
            "True\n",
            "True\n",
            "0x7d2b85060510\n",
            "0x7d2b85060510\n"
          ]
        }
      ]
    },
    {
      "cell_type": "markdown",
      "source": [
        "# Loop in strings"
      ],
      "metadata": {
        "id": "1GWZL9HE26zn"
      }
    },
    {
      "cell_type": "code",
      "source": [
        "a = \"Python\"\n",
        "for i in a:\n",
        "  print(i)\n",
        "  if(i=='t'):\n",
        "    continue\n",
        "\n"
      ],
      "metadata": {
        "id": "SWg6JY3u3EfW"
      },
      "execution_count": null,
      "outputs": []
    },
    {
      "cell_type": "markdown",
      "source": [
        "#**Prime number**#"
      ],
      "metadata": {
        "id": "h7Ew8s9OuYhn"
      }
    },
    {
      "cell_type": "code",
      "source": [
        "a = int(input(\"Enter the number:\"))\n",
        "for i in range(2,a):\n",
        "  if(a%i==0):\n",
        "    print(\"Not a Prime number\")\n",
        "    break\n",
        "else:\n",
        "  print(\"Prime Number\")"
      ],
      "metadata": {
        "colab": {
          "base_uri": "https://localhost:8080/"
        },
        "id": "ZNncHQqntut8",
        "outputId": "ab415aee-5b53-4146-f735-72099bb4f848"
      },
      "execution_count": null,
      "outputs": [
        {
          "output_type": "stream",
          "name": "stdout",
          "text": [
            "Enter the number:4\n",
            "Not a Prime number\n"
          ]
        }
      ]
    },
    {
      "cell_type": "markdown",
      "source": [
        "#**Factorial**#"
      ],
      "metadata": {
        "id": "uAZtQOFSvIRS"
      }
    },
    {
      "cell_type": "code",
      "source": [
        "a = int(input(\"Enter the number:\"))\n",
        "fact = 1\n",
        "for i in range(1,a+1):\n",
        "  fact = fact*i\n",
        "print(\"The factorial of\",a,\"is\",fact)"
      ],
      "metadata": {
        "colab": {
          "base_uri": "https://localhost:8080/"
        },
        "id": "19tWMy4DuxVE",
        "outputId": "a7904a7e-9f1f-44bd-8ef8-bf123486b033"
      },
      "execution_count": null,
      "outputs": [
        {
          "output_type": "stream",
          "name": "stdout",
          "text": [
            "Enter the number:5\n",
            "The factorial of 5 is 120\n"
          ]
        }
      ]
    },
    {
      "cell_type": "markdown",
      "source": [
        "**While Factorial**"
      ],
      "metadata": {
        "id": "v-WQcvN6FVql"
      }
    },
    {
      "cell_type": "code",
      "source": [
        "n = int(input(\"Enter the number:\"))\n",
        "fact = 1\n",
        "i = 1\n",
        "while(i<=n):\n",
        "  fact = fact*i\n",
        "  i=i+1\n",
        "print(\"The value of factorial\",n,\"is\",fact)\n"
      ],
      "metadata": {
        "colab": {
          "base_uri": "https://localhost:8080/"
        },
        "id": "z_Y4QftMGBfU",
        "outputId": "5dcd719f-6f0d-4384-a4d9-7dfeecf85006"
      },
      "execution_count": null,
      "outputs": [
        {
          "output_type": "stream",
          "name": "stdout",
          "text": [
            "Enter the number:5\n",
            "The value of factorial 5 is 120\n"
          ]
        }
      ]
    },
    {
      "cell_type": "markdown",
      "source": [
        "#**Sum of Natural numbers.**#"
      ],
      "metadata": {
        "id": "Ij_kWuu3wK-5"
      }
    },
    {
      "cell_type": "code",
      "source": [
        "from re import I\n",
        "n= int(input(\"Enter the number till where you want the sum of natural no's:\"))\n",
        "sum = 0\n",
        "for i in range(1,n+1):\n",
        "  sum = sum+i\n",
        "print(\"The sum of\",n,\"natural numbers are:\",sum)\n"
      ],
      "metadata": {
        "colab": {
          "base_uri": "https://localhost:8080/"
        },
        "id": "hzMQeNh4vZqb",
        "outputId": "df350d8e-ec27-4f96-d8dd-e5fa8477e519"
      },
      "execution_count": null,
      "outputs": [
        {
          "output_type": "stream",
          "name": "stdout",
          "text": [
            "Enter the number till where you want the sum of natural no's:10\n",
            "The sum of 10 natural numbers are: 55\n"
          ]
        }
      ]
    },
    {
      "cell_type": "markdown",
      "source": [
        "#**Multiplying 2 no's nd decrementing them untill 0 arises.**#"
      ],
      "metadata": {
        "id": "msUfffoew5yN"
      }
    },
    {
      "cell_type": "code",
      "source": [
        "a = int(input(\"Enter the number:\"))\n",
        "b = int(input(\"Enter the number:\"))\n",
        "for i in range(a,1,-1):\n",
        "  c = a*b\n",
        "  print(a,'x',b,'=',c)\n",
        "  a = a-1\n",
        "  b = b-1"
      ],
      "metadata": {
        "colab": {
          "base_uri": "https://localhost:8080/"
        },
        "id": "zNM3UisgwXDO",
        "outputId": "ff0239c9-2252-4c02-a637-64b0dccdc95d"
      },
      "execution_count": null,
      "outputs": [
        {
          "output_type": "stream",
          "name": "stdout",
          "text": [
            "Enter the number:10\n",
            "Enter the number:9\n",
            "10 x 9 = 90\n",
            "9 x 8 = 72\n",
            "8 x 7 = 56\n",
            "7 x 6 = 42\n",
            "6 x 5 = 30\n",
            "5 x 4 = 20\n",
            "4 x 3 = 12\n",
            "3 x 2 = 6\n",
            "2 x 1 = 2\n"
          ]
        }
      ]
    },
    {
      "cell_type": "code",
      "source": [
        "i= 1\n",
        "while True:\n",
        "  print(i)\n",
        "  i +=1\n",
        "  if(i%50==0):\n",
        "    break"
      ],
      "metadata": {
        "id": "UqBcGH67vx6H",
        "colab": {
          "base_uri": "https://localhost:8080/"
        },
        "outputId": "2150206c-5b5f-49c3-e87a-2f63a70f4489"
      },
      "execution_count": null,
      "outputs": [
        {
          "output_type": "stream",
          "name": "stdout",
          "text": [
            "1\n",
            "2\n",
            "3\n",
            "4\n",
            "5\n",
            "6\n",
            "7\n",
            "8\n",
            "9\n",
            "10\n",
            "11\n",
            "12\n",
            "13\n",
            "14\n",
            "15\n",
            "16\n",
            "17\n",
            "18\n",
            "19\n",
            "20\n",
            "21\n",
            "22\n",
            "23\n",
            "24\n",
            "25\n",
            "26\n",
            "27\n",
            "28\n",
            "29\n",
            "30\n",
            "31\n",
            "32\n",
            "33\n",
            "34\n",
            "35\n",
            "36\n",
            "37\n",
            "38\n",
            "39\n",
            "40\n",
            "41\n",
            "42\n",
            "43\n",
            "44\n",
            "45\n",
            "46\n",
            "47\n",
            "48\n",
            "49\n"
          ]
        }
      ]
    },
    {
      "cell_type": "code",
      "source": [
        "a = int(input(\"Enter the number:\"))\n",
        "b = int(input(\"Enter the number:\"))\n",
        "while(a and b>0):\n",
        "  c = a*b\n",
        "  print(a,'x',b,'=',c)\n",
        "  a = a-1\n",
        "  b = b-1"
      ],
      "metadata": {
        "colab": {
          "base_uri": "https://localhost:8080/"
        },
        "id": "5EKXV5daxyFk",
        "outputId": "c5c955e2-58bd-49b1-f68f-e08b709ff5fa"
      },
      "execution_count": null,
      "outputs": [
        {
          "output_type": "stream",
          "name": "stdout",
          "text": [
            "Enter the number:6\n",
            "Enter the number:4\n",
            "6 x 4 = 24\n",
            "5 x 3 = 15\n",
            "4 x 2 = 8\n",
            "3 x 1 = 3\n"
          ]
        }
      ]
    },
    {
      "cell_type": "markdown",
      "source": [
        "#**Prime number using while loop**#"
      ],
      "metadata": {
        "id": "0O6WWaAH0pBX"
      }
    },
    {
      "cell_type": "code",
      "source": [
        "a = int(input(\"Enter the number:\"))\n",
        "i=2\n",
        "while(i!=a):\n",
        "  if(a%i==0):\n",
        "    print(\"Not a prime number..\")\n",
        "    break\n",
        "  else:\n",
        "    print(\"Is a prime number.\")\n",
        "    break\n"
      ],
      "metadata": {
        "id": "KEMLocog2Yv7",
        "colab": {
          "base_uri": "https://localhost:8080/"
        },
        "outputId": "523075da-5082-4e07-b5e3-6b114df45273"
      },
      "execution_count": null,
      "outputs": [
        {
          "output_type": "stream",
          "name": "stdout",
          "text": [
            "Enter the number:4\n",
            "Not a prime number..\n"
          ]
        }
      ]
    },
    {
      "cell_type": "markdown",
      "source": [
        "#**Sum of natural numbers using while loop**#"
      ],
      "metadata": {
        "id": "qSia42Qs2wmm"
      }
    },
    {
      "cell_type": "code",
      "source": [
        "a = int(input(\"Enter the number:\"))\n",
        "i = 0\n",
        "sum = 0\n",
        "while(i!=a+1):\n",
        "  sum = sum+i\n",
        "  i += 1\n",
        "print(\"The sum of\",a,\"natural no.s are\",sum)"
      ],
      "metadata": {
        "id": "CZ7W7eFE2miT"
      },
      "execution_count": null,
      "outputs": []
    },
    {
      "cell_type": "markdown",
      "source": [
        "#**Factorial using while loop**#"
      ],
      "metadata": {
        "id": "_Ud_AE6m4gPs"
      }
    },
    {
      "cell_type": "code",
      "source": [
        "a = int(input(\"Enter the number:\"))\n",
        "fact = 1\n",
        "i = 1\n",
        "while(i<=a):\n",
        "  fact = fact*i\n",
        "  i+=1\n",
        "print(\"The factorial of\",a,\"is\",fact)"
      ],
      "metadata": {
        "id": "CjEJN2du3RLh"
      },
      "execution_count": null,
      "outputs": []
    },
    {
      "cell_type": "markdown",
      "source": [
        "#**WAP to check which number is greater**#"
      ],
      "metadata": {
        "id": "Y2zLRsi3ent2"
      }
    },
    {
      "cell_type": "code",
      "source": [
        "a = int(input(\"Enter the number a:\"))\n",
        "b = int(input(\"Enter the number b:\"))\n",
        "c = int(input(\"Enter the number c:\"))\n",
        "\n",
        "if(a > (b and c)):\n",
        "  print(\"a is greatest number of all\")\n",
        "elif(b > (a and c)):\n",
        "  print(\"b is greatest number of all\")\n",
        "else:\n",
        "  print(\"c is greatest number of all\")\n"
      ],
      "metadata": {
        "id": "xcFmxoE-42UE"
      },
      "execution_count": null,
      "outputs": []
    },
    {
      "cell_type": "markdown",
      "source": [
        "##**Functions in Python**##"
      ],
      "metadata": {
        "id": "1bnHpSgCg7Rm"
      }
    },
    {
      "cell_type": "markdown",
      "source": [
        "**using libraries**"
      ],
      "metadata": {
        "id": "7MwdltZpHu4h"
      }
    },
    {
      "cell_type": "code",
      "source": [
        "import pandas as pd\n",
        "import numpy as np\n",
        "a = [1,2,3,4,5,6,7,8,9,10]\n",
        "print(type(a))\n",
        "print(np.max(a))\n",
        "print(np.sum(a))\n",
        "print(np.min(a))"
      ],
      "metadata": {
        "colab": {
          "base_uri": "https://localhost:8080/"
        },
        "id": "97vJ4lCkHytp",
        "outputId": "7142bac8-a3c7-4eac-902b-187fc044ce99"
      },
      "execution_count": null,
      "outputs": [
        {
          "output_type": "stream",
          "name": "stdout",
          "text": [
            "<class 'list'>\n",
            "10\n",
            "55\n",
            "1\n"
          ]
        }
      ]
    },
    {
      "cell_type": "code",
      "source": [
        "def square(a):\n",
        "  sq = a*a\n",
        "  return sq\n",
        "b = square(2)\n",
        "print(b)"
      ],
      "metadata": {
        "colab": {
          "base_uri": "https://localhost:8080/"
        },
        "id": "jz0gHwSwIUqm",
        "outputId": "cd8904e1-b92e-4870-ccf9-ddae5c554b0b"
      },
      "execution_count": null,
      "outputs": [
        {
          "output_type": "stream",
          "name": "stdout",
          "text": [
            "4\n"
          ]
        }
      ]
    },
    {
      "cell_type": "code",
      "source": [
        "def add(a,b): #function prototype!\n",
        "  c = a + b\n",
        "  print(c)     #function defination!\n",
        "\n",
        "add(5,3)   #function call.\n"
      ],
      "metadata": {
        "id": "tgYR_25oguwO"
      },
      "execution_count": null,
      "outputs": []
    },
    {
      "cell_type": "code",
      "source": [
        "def islesser(a,b):\n",
        "  if(a<b):\n",
        "    print(a,\"a is lesser.\")\n",
        "  else:\n",
        "    print(b,\"b is lesser.\")\n",
        "islesser(4,45)\n"
      ],
      "metadata": {
        "colab": {
          "base_uri": "https://localhost:8080/"
        },
        "id": "ioZOz-a5hDAo",
        "outputId": "fc3536c9-726f-4521-c242-47365bfa5bd9"
      },
      "execution_count": null,
      "outputs": [
        {
          "output_type": "stream",
          "name": "stdout",
          "text": [
            "4 a is lesser.\n"
          ]
        }
      ]
    },
    {
      "cell_type": "code",
      "source": [
        "def isgreater(j,k):\n",
        "  pass\n",
        "\n",
        "def isgreater(j,k):\n",
        "  if(j>k):\n",
        "   print(j,\"j is greater.\")\n",
        "  else:\n",
        "   print(k,\"k is greater.\")\n",
        "isgreater(45654,4343)"
      ],
      "metadata": {
        "colab": {
          "base_uri": "https://localhost:8080/"
        },
        "id": "QU2sHr5ZiX-4",
        "outputId": "5fe6e3c9-0f09-4e6d-b349-6117595d9c99"
      },
      "execution_count": null,
      "outputs": [
        {
          "output_type": "stream",
          "name": "stdout",
          "text": [
            "45654 j is greater.\n"
          ]
        }
      ]
    },
    {
      "cell_type": "code",
      "source": [
        "def avg(a,b):   #Here, we are taking only 2 args.\n",
        "  print(\"The avg is:\",(a+b)/2)\n",
        "avg(49,3)\n",
        "\n",
        "def average(a =2 , b =4 ):    #These are required args.\n",
        "  print(\"The avg is:\",(a+b)/2)\n",
        "average(5,10)   #ALSO CALLED DEFAULT ARGS.\n",
        "#The output here is of 15 as the modified value is considered.\n"
      ],
      "metadata": {
        "colab": {
          "base_uri": "https://localhost:8080/"
        },
        "id": "pija-6MgioJd",
        "outputId": "b8c22759-76d4-43ca-dc87-ed123e34a94f"
      },
      "execution_count": null,
      "outputs": [
        {
          "output_type": "stream",
          "name": "stdout",
          "text": [
            "The avg is: 26.0\n",
            "The avg is: 7.5\n"
          ]
        }
      ]
    },
    {
      "cell_type": "code",
      "source": [
        "def avg(*num):#Here we can take multiple args nd accordingly it will ans the correct average of the given nums.\n",
        "  sum = 0\n",
        "  for i in num:\n",
        "    sum = sum + i\n",
        "    print(\"The avg is:\",sum/len(num))\n",
        "avg(4,3,12,1)\n"
      ],
      "metadata": {
        "colab": {
          "base_uri": "https://localhost:8080/"
        },
        "id": "KchzLHwcj5H2",
        "outputId": "cb44834d-f9c0-4bc9-b075-f61061ac817d"
      },
      "execution_count": null,
      "outputs": [
        {
          "output_type": "stream",
          "name": "stdout",
          "text": [
            "The avg is: 1.0\n",
            "The avg is: 1.75\n",
            "The avg is: 4.75\n",
            "The avg is: 5.0\n"
          ]
        }
      ]
    },
    {
      "cell_type": "code",
      "source": [
        "#Keyword args\n",
        "def name(fname,mname,lname):\n",
        " print(type(name))\n",
        " print(\"HELLO!\",fname,mname,lname)\n",
        "name(mname = \"shivaji\", lname = \"Maharaj\",fname=\"Chattrapati\")"
      ],
      "metadata": {
        "colab": {
          "base_uri": "https://localhost:8080/"
        },
        "id": "OYohoyqElhL-",
        "outputId": "661cf6ef-3812-4d0d-ce55-b4bafc4db73f"
      },
      "execution_count": null,
      "outputs": [
        {
          "output_type": "stream",
          "name": "stdout",
          "text": [
            "<class 'function'>\n",
            "HELLO! Chattrapati shivaji Maharaj\n"
          ]
        }
      ]
    },
    {
      "cell_type": "code",
      "source": [
        "def name(*name):\n",
        "  print(type(name))\n",
        "  print(\"Hello!\",name[0],name[1],name[2])\n",
        "name(\"Subhash\",\"Chandra\",\"Bose\")"
      ],
      "metadata": {
        "colab": {
          "base_uri": "https://localhost:8080/"
        },
        "id": "6yv10iKQnypR",
        "outputId": "3d7d96ef-462b-4e53-8e5e-5df174793d71"
      },
      "execution_count": null,
      "outputs": [
        {
          "output_type": "stream",
          "name": "stdout",
          "text": [
            "<class 'tuple'>\n",
            "Hello! Subhash Chandra Bose\n"
          ]
        }
      ]
    },
    {
      "cell_type": "markdown",
      "source": [
        "Keyword arbitrary arguments."
      ],
      "metadata": {
        "id": "2OzHcWnEoO_h"
      }
    },
    {
      "cell_type": "code",
      "source": [
        "def name(**name):\n",
        "  print(type(name))\n",
        "  print(\"Hello!\",name[\"fname\"],name[\"mname\"],name[\"lname\"])\n",
        "name(mname = \"Abdul\",fname = \"APJ\",lname = \"Kalam\")"
      ],
      "metadata": {
        "colab": {
          "base_uri": "https://localhost:8080/"
        },
        "id": "BvaBwpVwoSnQ",
        "outputId": "090f5a3e-1061-4c18-83b7-c537abd5a8bd"
      },
      "execution_count": null,
      "outputs": [
        {
          "output_type": "stream",
          "name": "stdout",
          "text": [
            "<class 'dict'>\n",
            "Hello! APJ Abdul Kalam\n"
          ]
        }
      ]
    },
    {
      "cell_type": "code",
      "source": [
        "i = 0\n",
        "while True:\n",
        "  print(i)\n",
        "  i = i+1\n",
        "  if(i%50==0):\n",
        "    break\n",
        "  if(i==45):\n",
        "    continue"
      ],
      "metadata": {
        "id": "VdE3RyiWo6o9",
        "colab": {
          "base_uri": "https://localhost:8080/"
        },
        "outputId": "3db85cca-a46a-457d-bbc7-468287831ca4"
      },
      "execution_count": null,
      "outputs": [
        {
          "output_type": "stream",
          "name": "stdout",
          "text": [
            "0\n",
            "1\n",
            "2\n",
            "3\n",
            "4\n",
            "5\n",
            "6\n",
            "7\n",
            "8\n",
            "9\n",
            "10\n",
            "11\n",
            "12\n",
            "13\n",
            "14\n",
            "15\n",
            "16\n",
            "17\n",
            "18\n",
            "19\n",
            "20\n",
            "21\n",
            "22\n",
            "23\n",
            "24\n",
            "25\n",
            "26\n",
            "27\n",
            "28\n",
            "29\n",
            "30\n",
            "31\n",
            "32\n",
            "33\n",
            "34\n",
            "35\n",
            "36\n",
            "37\n",
            "38\n",
            "39\n",
            "40\n",
            "41\n",
            "42\n",
            "43\n",
            "44\n",
            "45\n",
            "46\n",
            "47\n",
            "48\n",
            "49\n"
          ]
        }
      ]
    },
    {
      "cell_type": "markdown",
      "source": [
        "#**Questions**#"
      ],
      "metadata": {
        "id": "gGn6-fbODS1K"
      }
    },
    {
      "cell_type": "markdown",
      "source": [],
      "metadata": {
        "id": "s7lJn8YQE8YS"
      }
    },
    {
      "cell_type": "code",
      "source": [
        "def fun(n,l=[]):\n",
        "  for i in range(n):\n",
        "    l.append(i*i)\n",
        "  print(l)\n",
        "fun(2)"
      ],
      "metadata": {
        "id": "IAJfg4Uz2kwT",
        "colab": {
          "base_uri": "https://localhost:8080/"
        },
        "outputId": "ccc41631-2ed6-4ddd-c3fb-0047487f378c"
      },
      "execution_count": null,
      "outputs": [
        {
          "output_type": "stream",
          "name": "stdout",
          "text": [
            "[0, 1]\n"
          ]
        }
      ]
    },
    {
      "cell_type": "code",
      "source": [
        "from google.colab import drive\n",
        "drive.mount('/content/drive')"
      ],
      "metadata": {
        "id": "Juvw5Q2jllHp"
      },
      "execution_count": null,
      "outputs": []
    },
    {
      "cell_type": "code",
      "source": [
        "i =1\n",
        "while True:\n",
        "  if i%9==0:\n",
        "    break\n",
        "  print(i+4)\n",
        "  i +=2"
      ],
      "metadata": {
        "colab": {
          "base_uri": "https://localhost:8080/"
        },
        "id": "i7VrYjTuDZhF",
        "outputId": "5be8b065-3bfc-425b-b4d0-91f5d2ee9c9e"
      },
      "execution_count": null,
      "outputs": [
        {
          "output_type": "stream",
          "name": "stdout",
          "text": [
            "5\n",
            "7\n",
            "9\n",
            "11\n"
          ]
        }
      ]
    },
    {
      "cell_type": "code",
      "source": [
        "a = 'internshala'\n",
        "print(len(a))\n",
        "for i in range(len(a)):\n",
        "  print(a)\n",
        "  # a = 'z'"
      ],
      "metadata": {
        "colab": {
          "base_uri": "https://localhost:8080/"
        },
        "id": "q_nqXLNoFMZl",
        "outputId": "0bc4fda5-a405-4def-e387-67e709c8de9f"
      },
      "execution_count": null,
      "outputs": [
        {
          "output_type": "stream",
          "name": "stdout",
          "text": [
            "11\n",
            "internshala\n",
            "internshala\n",
            "internshala\n",
            "internshala\n",
            "internshala\n",
            "internshala\n",
            "internshala\n",
            "internshala\n",
            "internshala\n",
            "internshala\n",
            "internshala\n"
          ]
        }
      ]
    },
    {
      "cell_type": "markdown",
      "source": [
        "#**Wap to check whether the number is greater than 50 or not and if greater then check whether it is even or not also check the same for odd number too.**#"
      ],
      "metadata": {
        "id": "5z99jNVrG84Q"
      }
    },
    {
      "cell_type": "code",
      "source": [
        "# num = 55\n",
        "# if num > 50 :\n",
        "#   print(\"The number is greater than 50.\")\n",
        "# else:\n",
        "#   print(\"The number is smaller than 50\")\n",
        "num = 55\n",
        "if num>50:\n",
        "   if num %2==0:\n",
        "    print(\"The number is greater than 50 and is even.\")\n",
        "   else:\n",
        "    print(\"The number is greater but not even.\")\n",
        "else:\n",
        "   if num %2!=0:\n",
        "    print(\"The number is less than 50 and is odd.\")\n",
        "   else:\n",
        "    print(\"The number is less than 50 but not odd.\")"
      ],
      "metadata": {
        "colab": {
          "base_uri": "https://localhost:8080/"
        },
        "id": "u0hwwaurF_69",
        "outputId": "86fa4a03-4273-4398-f822-c451d69f65c7"
      },
      "execution_count": null,
      "outputs": [
        {
          "output_type": "stream",
          "name": "stdout",
          "text": [
            "The number is greater but not even.\n"
          ]
        }
      ]
    },
    {
      "cell_type": "code",
      "source": [
        "def fun(x,y):\n",
        "  if x>y:\n",
        "    return x\n",
        "  elif x==y:\n",
        "    return x,y\n",
        "  else:\n",
        "    return y\n",
        "print(fun(20,30))"
      ],
      "metadata": {
        "colab": {
          "base_uri": "https://localhost:8080/"
        },
        "id": "6tt1uRt7HK-8",
        "outputId": "5a82b3e3-a4cb-47d6-de6e-2310e81b2d12"
      },
      "execution_count": null,
      "outputs": [
        {
          "output_type": "stream",
          "name": "stdout",
          "text": [
            "30\n"
          ]
        }
      ]
    },
    {
      "cell_type": "markdown",
      "source": [
        "#**Finding out number of combination using simple method and then using functions**#"
      ],
      "metadata": {
        "id": "ais5dWBLIjI6"
      }
    },
    {
      "cell_type": "code",
      "source": [
        "n =10\n",
        "r =6\n",
        "\n",
        "fact_n =1\n",
        "for i in range(1,n+1):\n",
        "  fact_n = fact_n*i\n",
        "\n",
        "fact_r =1\n",
        "for i in range(1,r+1):\n",
        "  fact_r = fact_r*i\n",
        "\n",
        "fact_n_r =1\n",
        "for i in range(1,(n-r)+1):\n",
        "  fact_n_r = fact_n_r*i\n",
        "\n",
        "result = fact_n/(fact_r * (fact_n_r))\n",
        "print(\"Number of combination:\",result)\n"
      ],
      "metadata": {
        "colab": {
          "base_uri": "https://localhost:8080/"
        },
        "id": "UKdQFU6zHat7",
        "outputId": "5fbac476-604d-448b-eaa8-99d7066ded13"
      },
      "execution_count": null,
      "outputs": [
        {
          "output_type": "stream",
          "name": "stdout",
          "text": [
            "Number of combination: 210.0\n"
          ]
        }
      ]
    },
    {
      "cell_type": "markdown",
      "source": [
        "*Using function*"
      ],
      "metadata": {
        "id": "hB7WZDdn-k4P"
      }
    },
    {
      "cell_type": "code",
      "source": [
        "#NOW USING FUNCTION\n",
        "def factorial(para):\n",
        "  fact = 1\n",
        "  for i in range(1,para + 1):\n",
        "    fact = fact * i\n",
        "  return fact #Intendation should be followed to get the desired output.\n",
        "n = 10\n",
        "r = 6\n",
        "result = factorial(n)/(factorial(r)*(factorial(n-r)))\n",
        "print(\"Number of combination\",result)"
      ],
      "metadata": {
        "colab": {
          "base_uri": "https://localhost:8080/"
        },
        "id": "JFb1DwSYJn3D",
        "outputId": "9cb298f8-97e7-4dbb-cc40-6c4a5b81ed5f"
      },
      "execution_count": null,
      "outputs": [
        {
          "output_type": "stream",
          "name": "stdout",
          "text": [
            "Number of combination 210.0\n"
          ]
        }
      ]
    },
    {
      "cell_type": "markdown",
      "source": [
        "#**List in Python**#"
      ],
      "metadata": {
        "id": "nO0huk4U1cOl"
      }
    },
    {
      "cell_type": "code",
      "source": [
        "l = [2,3,4,45,34,'college','school','industry',34]\n",
        "\n",
        "print(l) #1st method of printing list.\n",
        "\n",
        "print(l[:]) #consider index 0 on the left side of the colon. And prints the whole list.\n",
        "\n",
        "print(l[0:9]) #slicing.\n",
        "\n",
        "print(len(l)) #Finds out the size of list.\n",
        "\n",
        "print(type(l))\n",
        "#SINCE LISTS ARE MUTABLE IN NATURE WHICH MEANS WE CAN MODIFY IT.\n",
        "\n",
        "l.append(23) #Modification.\n",
        "print(l)"
      ],
      "metadata": {
        "colab": {
          "base_uri": "https://localhost:8080/"
        },
        "id": "PAHNknxQ4YU8",
        "outputId": "0c3b670b-03e6-43ba-b2f4-b24ec5fb1f56"
      },
      "execution_count": null,
      "outputs": [
        {
          "output_type": "stream",
          "name": "stdout",
          "text": [
            "[2, 3, 4, 45, 34, 'college', 'school', 'industry', 34]\n",
            "[2, 3, 4, 45, 34, 'college', 'school', 'industry', 34]\n",
            "[2, 3, 4, 45, 34, 'college', 'school', 'industry', 34]\n",
            "9\n",
            "<class 'list'>\n",
            "[2, 3, 4, 45, 34, 'college', 'school', 'industry', 34, 23]\n"
          ]
        }
      ]
    },
    {
      "cell_type": "markdown",
      "source": [
        "*Negative Indexing.*"
      ],
      "metadata": {
        "id": "a4f2Dgp96Qow"
      }
    },
    {
      "cell_type": "code",
      "source": [
        "print(l[:])\n",
        "print(len(l))\n",
        "print(l[0:-3])\n",
        "print(l[1:-3])\n",
        "print(l[-6:-3]) #Negative Indexing.\n",
        "\n",
        "print(l[len(l)-6:len(l)-3]) #Easier representation.\n",
        "\n",
        "print(l[4:7])  #Conversion into Positive Indexing."
      ],
      "metadata": {
        "colab": {
          "base_uri": "https://localhost:8080/"
        },
        "id": "bogRWgfW6ccQ",
        "outputId": "e5879c10-d5dc-485d-b614-6a128bf6f592"
      },
      "execution_count": null,
      "outputs": [
        {
          "output_type": "stream",
          "name": "stdout",
          "text": [
            "[2, 3, 4, 45, 34, 'college', 'school', 'industry', 34, 23]\n",
            "10\n",
            "[2, 3, 4, 45, 34, 'college', 'school']\n",
            "[3, 4, 45, 34, 'college', 'school']\n",
            "[34, 'college', 'school']\n",
            "[34, 'college', 'school']\n",
            "[34, 'college', 'school']\n"
          ]
        }
      ]
    },
    {
      "cell_type": "markdown",
      "source": [
        "*CHECKING ELEMENTS IN A LIST.*"
      ],
      "metadata": {
        "id": "m9OKi3zI7mdi"
      }
    },
    {
      "cell_type": "code",
      "source": [
        "#CONSIDERING THE SAME LIST GIVEN AVB.\n",
        "if 3 in l:      #This is how we can easily check whether the element is present in the list or  not.\n",
        "  print(\"Yes\")\n",
        "else:\n",
        "  print(\"No\")\n",
        "\n",
        "\n",
        "if 7 in l:\n",
        "  print('Yes')\n",
        "else:\n",
        "  print('No')\n",
        "\n",
        "if 'school' in l:  #Same appraoch is used in string element as well.\n",
        "  print('Yes')\n",
        "else:\n",
        "  print('No')\n",
        "\n",
        "if 'chool' in 'school':\n",
        "  print('yes')\n",
        "else:\n",
        "  print('No')\n",
        "\n",
        "if 'chol' in 'school':\n",
        "  print('yes')\n",
        "else:\n",
        "  print('No')"
      ],
      "metadata": {
        "colab": {
          "base_uri": "https://localhost:8080/"
        },
        "id": "2E3QBwpT7t0n",
        "outputId": "2fdf4646-b324-4862-b9d6-8942f6793872"
      },
      "execution_count": null,
      "outputs": [
        {
          "output_type": "stream",
          "name": "stdout",
          "text": [
            "Yes\n",
            "No\n",
            "Yes\n",
            "yes\n",
            "No\n"
          ]
        }
      ]
    },
    {
      "cell_type": "markdown",
      "source": [
        "**JumpIndexing in list**"
      ],
      "metadata": {
        "id": "DfxkHFvO8xW9"
      }
    },
    {
      "cell_type": "code",
      "source": [
        "list = [23,54,'DataScience','MachineLearning',34,56,77,88,44,98]\n",
        "print(list)\n",
        "print(len(list))\n",
        "print(list[0:9:2])\n",
        "print(list[0:10:5]) #Using the 3rd block of slicing brackets we can jumpover the certain numbers through which we wish to."
      ],
      "metadata": {
        "colab": {
          "base_uri": "https://localhost:8080/"
        },
        "id": "KfJaGAkt84KH",
        "outputId": "1810aa47-591e-4a89-9559-eb0c712af427"
      },
      "execution_count": null,
      "outputs": [
        {
          "output_type": "stream",
          "name": "stdout",
          "text": [
            "[23, 54, 'DataScience', 'MachineLearning', 34, 56, 77, 88, 44, 98]\n",
            "10\n",
            "[23, 'DataScience', 34, 77, 44]\n",
            "[23, 56]\n"
          ]
        }
      ]
    },
    {
      "cell_type": "markdown",
      "source": [
        "#**List Comprehension**#"
      ],
      "metadata": {
        "id": "x2EO2yXB4Sbx"
      }
    },
    {
      "cell_type": "code",
      "source": [
        "#LIST COMPREHENSION\n",
        "lst = [i for i in range(4)]\n",
        "print(lst)\n",
        "\n",
        "list = [i*i for i in range(10)] #Here the seq is till 10 excluding 10. and the squares of the numbers are printed.\n",
        "print(list[1:])\n",
        "\n",
        "list1 = [i*i for i in range(10) if i%2==0 ]\n",
        "print(list1)\n",
        "print(list1[1:]) #list slicing is used to initiate from the 1st index.\n"
      ],
      "metadata": {
        "colab": {
          "base_uri": "https://localhost:8080/"
        },
        "id": "tqT7qCp11jZr",
        "outputId": "d0508001-af42-4f03-f7e5-404ee016ab63"
      },
      "execution_count": null,
      "outputs": [
        {
          "output_type": "stream",
          "name": "stdout",
          "text": [
            "[0, 1, 2, 3]\n",
            "[1, 4, 9, 16, 25, 36, 49, 64, 81]\n",
            "[0, 4, 16, 36, 64]\n",
            "[4, 16, 36, 64]\n"
          ]
        }
      ]
    },
    {
      "cell_type": "markdown",
      "source": [
        "**List Manipulation Methods**"
      ],
      "metadata": {
        "id": "lKIgUWJDEAUH"
      }
    },
    {
      "cell_type": "code",
      "source": [
        "a = [1,332,443,34,23,1,8]\n",
        "print(len(a))\n",
        "print(a)\n",
        "\n",
        "a.append(65)  #Adds an element in the list.\n",
        "\n",
        "print(a)\n",
        "\n",
        "a.sort()  #Used to sort the elements in a list.\n",
        "\n",
        "print(a)\n",
        "\n",
        "a.sort(reverse= True ) #Sort the list in descending order.\n",
        "\n",
        "print(a)\n",
        "\n",
        "a.reverse()  #reverses the elements of the list\n",
        "\n",
        "print(a)\n",
        "\n",
        "#As the operations are held in a list the updation takes place on each operation.\n",
        "\n",
        "\n",
        "print(a.index(332)) #Tells about the index no of the particular value.\n",
        "\n",
        "print(a.index(8))\n",
        "\n",
        "print(a.count(1)) #calculates the freq of the element in a list.\n",
        "#SUPPOSE A NEW LIST.\n",
        "\n",
        "# m = a\n",
        "# m[0] = 0  #This changes the element of list a too.\n",
        "# print(a)\n",
        "\n",
        "m = a.copy() #generated a copy of the list.\n",
        "\n",
        "print(m)\n",
        "\n",
        "a.insert(5,566) #inserts 566 to the 5th index and shifts the other towards right side.\n",
        "\n",
        "print(a)\n",
        "\n",
        "list1 = [400,5000,6500]\n",
        "\n",
        "a.extend(list1)  #This adds the elements of new list in the earlier list.\n",
        "\n",
        "print(a)\n"
      ],
      "metadata": {
        "colab": {
          "base_uri": "https://localhost:8080/"
        },
        "id": "xUvmtJoOEEvC",
        "outputId": "64bbf3a8-38a0-4b7f-d84c-71f89d5a19f9"
      },
      "execution_count": null,
      "outputs": [
        {
          "output_type": "stream",
          "name": "stdout",
          "text": [
            "7\n",
            "[1, 332, 443, 34, 23, 1, 8]\n",
            "[1, 332, 443, 34, 23, 1, 8, 65]\n",
            "[1, 1, 8, 23, 34, 65, 332, 443]\n",
            "[443, 332, 65, 34, 23, 8, 1, 1]\n",
            "[1, 1, 8, 23, 34, 65, 332, 443]\n",
            "6\n",
            "2\n",
            "2\n",
            "[1, 1, 8, 23, 34, 65, 332, 443]\n",
            "[1, 1, 8, 23, 34, 566, 65, 332, 443]\n",
            "[1, 1, 8, 23, 34, 566, 65, 332, 443, 400, 5000, 6500]\n"
          ]
        }
      ]
    },
    {
      "cell_type": "markdown",
      "source": [
        "**List Concatenation**"
      ],
      "metadata": {
        "id": "G_OAAEG0H8Nn"
      }
    },
    {
      "cell_type": "code",
      "source": [
        "m = a + list1\n",
        "print(m)\n",
        "#THIS IS HOW LIST CONCATENATION IS DONE."
      ],
      "metadata": {
        "colab": {
          "base_uri": "https://localhost:8080/"
        },
        "id": "2C_ObiRoIA-y",
        "outputId": "7002e763-dd53-4f8b-84e1-6d385eadc235"
      },
      "execution_count": null,
      "outputs": [
        {
          "output_type": "stream",
          "name": "stdout",
          "text": [
            "[1, 1, 8, 23, 34, 566, 65, 332, 443, 400, 5000, 6500, 400, 5000, 6500]\n"
          ]
        }
      ]
    },
    {
      "cell_type": "markdown",
      "source": [
        "#**Tuples**#\n",
        "**Tuples are similar to list.The only difference is that tuples are non-mutable.**"
      ],
      "metadata": {
        "id": "mQQjrVlFSrWV"
      }
    },
    {
      "cell_type": "code",
      "source": [
        "t = (1,2,43,54,655,66,'orange','mango')\n",
        "tup = (2)\n",
        "print(type(tup))\n",
        "print(type(t))\n",
        "print(t)\n",
        "print(len(t))\n",
        "\n",
        "#Slicing in tuple\n",
        "print(t[:])\n",
        "print(t[0:5])\n",
        "\n",
        "print(t[len(t)-3:len(t)-1])\n",
        "print(t[-3:-1])\n",
        "\n",
        "#Checking\n",
        "if 655 in t:\n",
        "  print(\"yes\")\n",
        "else:\n",
        "  print(\"no\")\n",
        "\n",
        "if 55 in t:\n",
        "  print(\"yes\")\n",
        "else:\n",
        "  print(\"no\")"
      ],
      "metadata": {
        "colab": {
          "base_uri": "https://localhost:8080/"
        },
        "id": "GKVHHhcBSwP9",
        "outputId": "7ebe4561-aa2e-4195-c8c4-526011209399"
      },
      "execution_count": null,
      "outputs": [
        {
          "output_type": "stream",
          "name": "stdout",
          "text": [
            "<class 'int'>\n",
            "<class 'tuple'>\n",
            "(1, 2, 43, 54, 655, 66, 'orange', 'mango')\n",
            "8\n",
            "(1, 2, 43, 54, 655, 66, 'orange', 'mango')\n",
            "(1, 2, 43, 54, 655)\n",
            "(66, 'orange')\n",
            "(66, 'orange')\n",
            "yes\n",
            "no\n"
          ]
        }
      ]
    },
    {
      "cell_type": "markdown",
      "source": [
        "**Methods in tuple**\n",
        "\n",
        "->Tuple are immutable in nature.So, if we want to modify them there is only one way (i.e indirect) to do so and that is copying the elements of tuple in the list and then modify it."
      ],
      "metadata": {
        "id": "uY6GHJxH6fV9"
      }
    },
    {
      "cell_type": "code",
      "source": [
        "fruits = ('Mango','Banana','Litchi','Guava')\n",
        "temp = list(fruits)\n",
        "#Since, the tuple is converted into list.Hence, all the operations of the list can be performed here.\n",
        "print(temp)\n",
        "temp.append(34)\n",
        "temp.append('Grapes')\n",
        "print(temp)\n",
        "temp.pop(3) #The element in index number 3 is removed from the list.\n",
        "print(temp)\n",
        "temp[2] = 'Dolphin'\n",
        "print(temp)\n"
      ],
      "metadata": {
        "collapsed": true,
        "id": "PoWhlS1K6e34",
        "colab": {
          "base_uri": "https://localhost:8080/"
        },
        "outputId": "a30a329e-b37c-404b-d101-78dfa7dff090"
      },
      "execution_count": null,
      "outputs": [
        {
          "output_type": "stream",
          "name": "stdout",
          "text": [
            "['Mango', 'Banana', 'Litchi', 'Guava']\n",
            "['Mango', 'Banana', 'Litchi', 'Guava', 34, 'Grapes']\n",
            "['Mango', 'Banana', 'Litchi', 34, 'Grapes']\n",
            "['Mango', 'Banana', 'Dolphin', 34, 'Grapes']\n"
          ]
        }
      ]
    },
    {
      "cell_type": "markdown",
      "source": [
        "**Sorting list using loops**"
      ],
      "metadata": {
        "id": "ahqMOAsIKj6h"
      }
    }
  ]
}